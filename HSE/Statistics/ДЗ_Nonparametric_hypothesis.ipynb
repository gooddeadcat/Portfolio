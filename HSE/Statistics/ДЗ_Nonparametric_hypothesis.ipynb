{
 "cells": [
  {
   "cell_type": "markdown",
   "metadata": {
    "id": "U4NtSGexJUXD"
   },
   "source": [
    "# Продолжаем проверять гипотезы\n"
   ]
  },
  {
   "cell_type": "markdown",
   "metadata": {
    "id": "XKI79mGOM65a"
   },
   "source": [
    "В этом домашнем задании нужно снова проверить много гипотез\n",
    "\n",
    "Каждая задание дает 5 баллов\n",
    "\n",
    "| Задание            | Датасет         | Баллы |\n",
    "|--------------------|-----------------|-------|\n",
    "| Однородная игра    | killer_time     |     5 |\n",
    "| Мыши и зеркало     | mouses_mirror   |     5 |\n",
    "| Энергетик          | energy drink    |     5 |\n",
    "| Бомбардировки      | london          |     5 |\n",
    "| Анорексия          | anorexia        |     5 |\n",
    "| Метилфенидат       | methylphenidate |     5 |\n",
    "| Сиэтл              | seattle         |     5 |\n",
    "| Расход топлива - 1 | mtcars: vs mpg  |     5 |\n",
    "| Расход топлива - 2 | mtcars: am mpg  |     5 |\n",
    "| Расход топлива - 3 | mtcars: am vs   |     5 |\n",
    "|                    | Всего           |    50 |"
   ]
  },
  {
   "cell_type": "code",
   "execution_count": 218,
   "metadata": {
    "id": "gSzRQeg3JUXH"
   },
   "outputs": [],
   "source": [
    "import numpy as np\n",
    "import pandas as pd\n",
    "\n",
    "from scipy import stats as sts\n",
    "\n",
    "import seaborn as sns\n",
    "import matplotlib.pyplot as plt\n",
    "\n",
    "from IPython.display import Latex\n",
    "\n",
    "plt.style.use('ggplot')"
   ]
  },
  {
   "cell_type": "code",
   "execution_count": 219,
   "metadata": {
    "id": "Bm_B6rBwm0b9"
   },
   "outputs": [],
   "source": [
    "# это на всякий случай для маков, чтобы скачался датасет\n",
    "import ssl\n",
    "ssl._create_default_https_context = ssl._create_unverified_context\n",
    "\n",
    "# тут лежат все датасеты\n",
    "ROOT = 'https://raw.githubusercontent.com/ilyaaaaaaaa/datasets_for_ds/main/data/'\n",
    "# ROOT = '../data/'\n"
   ]
  },
  {
   "cell_type": "code",
   "execution_count": 220,
   "metadata": {
    "colab": {
     "base_uri": "https://localhost:8080/"
    },
    "id": "QTJUbKSrJUXI",
    "outputId": "282c8bf1-36bc-4297-c210-c9f21d5a9a29"
   },
   "outputs": [
    {
     "name": "stdout",
     "output_type": "stream",
     "text": [
      "1.6.2\n"
     ]
    }
   ],
   "source": [
    "import scipy\n",
    "print(scipy.__version__)"
   ]
  },
  {
   "cell_type": "markdown",
   "metadata": {
    "id": "bvr1yy3JJUXI"
   },
   "source": [
    "## Однородная игра\n",
    "\n",
    "Киллер - это весёлая лагерная игра. Краткие правила игры:\n",
    "\n",
    "- Игроки пишут свои имена на карточках и кладут их в шляпу\n",
    "- Игроки рандомно вытаскивают карточки из шляпы \n",
    "- Полученное имя - имя жертвы\n",
    "- Каждый игрок одновременно и убийца и жертва\n",
    "- Чтобы убить другого игрока, надо оказаться с ним наедине и застрелить из пальца\n",
    "- Жертва убитого становится новой жертвой игрока\n",
    "- Побеждает тот, кто совершит наибольшее число убийств\n",
    "\n",
    "На экономическом факультете было два раунда игры в киллера. Все убийства регистрировались в гугл-форме. В табличках `killer_time1.csv` и `killer_time2.csv` лежит время в часах, которое проходило между убийствами."
   ]
  },
  {
   "cell_type": "code",
   "execution_count": 221,
   "metadata": {
    "id": "kYfvEaT_JUXJ"
   },
   "outputs": [],
   "source": [
    "killer1 = pd.read_csv(ROOT+\"killer_time1.csv\").hours_between_kill.values\n",
    "killer2 = pd.read_csv(ROOT+\"killer_time2.csv\").hours_between_kill.values"
   ]
  },
  {
   "cell_type": "code",
   "execution_count": 222,
   "metadata": {
    "colab": {
     "base_uri": "https://localhost:8080/",
     "height": 265
    },
    "id": "1krzIKHHJUXJ",
    "outputId": "539b856f-6072-4a9f-bc68-983b00357b35"
   },
   "outputs": [
    {
     "data": {
      "image/png": "[encoded data removed]",
      "text/plain": [
       "<Figure size 432x288 with 1 Axes>"
      ]
     },
     "metadata": {},
     "output_type": "display_data"
    }
   ],
   "source": [
    "plt.hist(killer1, bins=20);"
   ]
  },
  {
   "cell_type": "code",
   "execution_count": 223,
   "metadata": {
    "colab": {
     "base_uri": "https://localhost:8080/",
     "height": 265
    },
    "id": "WQyAo8dOJUXK",
    "outputId": "80aa38e2-965f-4e38-a6f4-d6debe07cae1"
   },
   "outputs": [
    {
     "data": {
      "image/png": "[encoded data removed]",
      "text/plain": [
       "<Figure size 432x288 with 1 Axes>"
      ]
     },
     "metadata": {},
     "output_type": "display_data"
    }
   ],
   "source": [
    "plt.hist(killer2, bins=20);"
   ]
  },
  {
   "cell_type": "markdown",
   "metadata": {
    "id": "nfpZHp6iJUXL"
   },
   "source": [
    "Распределение выглядит, как экспоненциальное. Более того, по гистограммам возникает ощущение, что это одинаковое распределение. С помощью теста Колмогорова-Смирнова проверьте гипотезу о том, что обе выборки пришли из одного и того же распределения, $p$-значение, полученное при проверке запишите в переменную `pvalue1`. "
   ]
  },
  {
   "cell_type": "code",
   "execution_count": 224,
   "metadata": {
    "deletable": false,
    "id": "IX7DAn9UJUXL",
    "nbgrader": {
     "cell_type": "code",
     "checksum": "44fb3b5304225f3947fbd73bc67a3d44",
     "grade": false,
     "grade_id": "cell-f8134e5d39cba5cd",
     "locked": false,
     "schema_version": 3,
     "solution": true,
     "task": false
    }
   },
   "outputs": [
    {
     "data": {
      "text/latex": [
       "$H_0: \\hspace{2mm} F_X(x) = F_Y(x)$"
      ],
      "text/plain": [
       "<IPython.core.display.Latex object>"
      ]
     },
     "metadata": {},
     "output_type": "display_data"
    },
    {
     "data": {
      "text/latex": [
       "$H_1: \\hspace{2mm} F_X(x) \\neq F_Y(x)$"
      ],
      "text/plain": [
       "<IPython.core.display.Latex object>"
      ]
     },
     "metadata": {},
     "output_type": "display_data"
    },
    {
     "name": "stdout",
     "output_type": "stream",
     "text": [
      "P-значение: 0.55\n",
      "Нулевая гипотеза не отвергается на уровне значимости 0.05\n"
     ]
    },
    {
     "data": {
      "image/png": "[encoded data removed]",
      "text/plain": [
       "<Figure size 432x288 with 1 Axes>"
      ]
     },
     "metadata": {},
     "output_type": "display_data"
    }
   ],
   "source": [
    "### ╰( ͡° ͜ʖ ͡° )つ▬▬ι═══════  bzzzzzzzzzz\n",
    "# your code below\n",
    "\n",
    "sns.ecdfplot(killer1, label='killer1')\n",
    "sns.ecdfplot(killer2, label='killer2')\n",
    "plt.legend();\n",
    "\n",
    "pvalue1 = sts.ks_2samp(killer1, killer2)[1]\n",
    "alpha = 0.05\n",
    "\n",
    "display(Latex('$H_0: \\hspace{2mm} F_X(x) = F_Y(x)$'))\n",
    "display(Latex('$H_1: \\hspace{2mm} F_X(x) \\\\neq F_Y(x)$'))\n",
    "print(f'P-значение: {pvalue1:.2}') \n",
    "print('Нулевая гипотеза {} на уровне значимости {}'.format('отвергается' if pvalue1 < alpha else 'не отвергается', alpha))"
   ]
  },
  {
   "cell_type": "markdown",
   "metadata": {
    "id": "M5R8h3YsJUXM"
   },
   "source": [
    "С помощью теста Колмогорова проверьте гипотезу о том, что время для первой игры имеет экспоненциальное распределение с параметром $\\lambda = 0.026$, $p$-значение, полученное при проверке запишите в переменную `pvalue2`. "
   ]
  },
  {
   "cell_type": "code",
   "execution_count": 225,
   "metadata": {
    "deletable": false,
    "id": "XAgaSG7fJUXM",
    "nbgrader": {
     "cell_type": "code",
     "checksum": "b4e27fa1c6f0366a2e938430173a15b3",
     "grade": false,
     "grade_id": "cell-da5a87e744840bab",
     "locked": false,
     "schema_version": 3,
     "solution": true,
     "task": false
    }
   },
   "outputs": [
    {
     "data": {
      "text/latex": [
       "$H_0: \\hspace{2mm} F_X(x) \\sim Exp(0.026)$"
      ],
      "text/plain": [
       "<IPython.core.display.Latex object>"
      ]
     },
     "metadata": {},
     "output_type": "display_data"
    },
    {
     "data": {
      "text/latex": [
       "$H_1: \\hspace{2mm} F_X(x) \\nsim Exp(0.026)$"
      ],
      "text/plain": [
       "<IPython.core.display.Latex object>"
      ]
     },
     "metadata": {},
     "output_type": "display_data"
    },
    {
     "name": "stdout",
     "output_type": "stream",
     "text": [
      "P-значение: 0.057\n",
      "Нулевая гипотеза не отвергается на уровне значимости 0.05\n"
     ]
    },
    {
     "data": {
      "image/png": "[encoded data removed]",
      "text/plain": [
       "<Figure size 432x288 with 1 Axes>"
      ]
     },
     "metadata": {},
     "output_type": "display_data"
    }
   ],
   "source": [
    "### ╰( ͡° ͜ʖ ͡° )つ▬▬ι═══════  bzzzzzzzzzz\n",
    "# your code below\n",
    "\n",
    "lam = 0.026\n",
    "\n",
    "sns.ecdfplot(killer1, label='observed')\n",
    "xs = np.arange(0, 200, 0.1)\n",
    "cdf = sts.expon.cdf(xs, scale=1/lam)\n",
    "plt.plot(xs, cdf, label='theoretical')\n",
    "\n",
    "plt.legend();\n",
    "\n",
    "pvalue2 = sts.kstest(killer1, 'expon', args=(0, 1/lam))[1]\n",
    "alpha = 0.05\n",
    "\n",
    "display(Latex('$H_0: \\hspace{2mm} F_X(x) \\sim Exp(0.026)$'))\n",
    "display(Latex('$H_1: \\hspace{2mm} F_X(x) \\\\nsim Exp(0.026)$'))\n",
    "print(f'P-значение: {pvalue2:.2}') \n",
    "print('Нулевая гипотеза {} на уровне значимости {}'.format('отвергается' if pvalue2 < alpha else 'не отвергается', alpha))"
   ]
  },
  {
   "cell_type": "code",
   "execution_count": 226,
   "metadata": {
    "deletable": false,
    "editable": false,
    "id": "-9CSLG6yJUXN",
    "nbgrader": {
     "cell_type": "code",
     "checksum": "92729497f6a2fc0d98bc3610e4f4c72d",
     "grade": true,
     "grade_id": "cell-be55b7fce581170d",
     "locked": true,
     "points": 2,
     "schema_version": 3,
     "solution": false,
     "task": false
    }
   },
   "outputs": [],
   "source": [
    "# проверка того, что задание решено верно\n",
    "assert pvalue1 > 0.5\n"
   ]
  },
  {
   "cell_type": "markdown",
   "metadata": {
    "id": "Y7bd0DTQJUXN"
   },
   "source": [
    "## Мыши и зеркало\n",
    "\n",
    "$16$ лабораторных мышей были помещены в двухкомнатные клетки, в одной из комнат висело зеркало. С целью установить, есть ли у мышей какие-то предпочтения насчет зеркал, измерялась доля времени, которое каждая мышь проводила в каждой из своих двух клеток.\n",
    "\n",
    "![](https://ars.els-cdn.com/content/image/1-s2.0-S0168159104000061-gr1.gif)\n",
    "\n",
    "В файле `mouses_mirror.txt` лежит информация о том, какую долю времени мышка проводила в клетке с зеркалом. "
   ]
  },
  {
   "cell_type": "code",
   "execution_count": 227,
   "metadata": {
    "colab": {
     "base_uri": "https://localhost:8080/",
     "height": 265
    },
    "id": "UV1syPNPJUXN",
    "outputId": "570e0b2e-4b54-44bc-a851-7793e4c6abdc"
   },
   "outputs": [
    {
     "data": {
      "image/png": "[encoded data removed]",
      "text/plain": [
       "<Figure size 432x288 with 1 Axes>"
      ]
     },
     "metadata": {},
     "output_type": "display_data"
    }
   ],
   "source": [
    "x = pd.read_csv(ROOT+'mouses_mirror.txt', header = None)[0].values\n",
    "plt.hist(x, density=True);"
   ]
  },
  {
   "cell_type": "markdown",
   "metadata": {
    "id": "bmLSU-CTJUXO"
   },
   "source": [
    "Проверьте гипотезу о том, что мышкам безразлично в какой комнате проводить время с помощью критерия знаков. Сформулируйте нулевую гипотезу, перечислите основные особенности этого критерия. Запишите в переменную `pvalue_1` получившееся в результате этого $p$-значение. "
   ]
  },
  {
   "cell_type": "code",
   "execution_count": 228,
   "metadata": {
    "deletable": false,
    "id": "7Z5XesobJUXO",
    "nbgrader": {
     "cell_type": "code",
     "checksum": "69c18cd39cdcc6708cc99b3d2034796a",
     "grade": false,
     "grade_id": "cell-6b6cc3cc3f9d2e2d",
     "locked": false,
     "schema_version": 3,
     "solution": true,
     "task": false
    }
   },
   "outputs": [
    {
     "data": {
      "text/latex": [
       "$H_0: \\hspace{2mm} Med(x) = 0.5$"
      ],
      "text/plain": [
       "<IPython.core.display.Latex object>"
      ]
     },
     "metadata": {},
     "output_type": "display_data"
    },
    {
     "data": {
      "text/latex": [
       "$H_1: \\hspace{2mm} Med(x) \\neq 0.5$"
      ],
      "text/plain": [
       "<IPython.core.display.Latex object>"
      ]
     },
     "metadata": {},
     "output_type": "display_data"
    },
    {
     "name": "stdout",
     "output_type": "stream",
     "text": [
      "P-значение: 0.021\n",
      "Нулевая гипотеза отвергается на уровне значимости 0.05\n",
      "\n",
      "Критерий знаков учитывает только знак отклонения, поэтому часть информации теряется.\n"
     ]
    }
   ],
   "source": [
    "### ╰( ͡° ͜ʖ ͡° )つ▬▬ι═══════  bzzzzzzzzzz\n",
    "# your code below\n",
    "\n",
    "from statsmodels.stats.descriptivestats import sign_test\n",
    "\n",
    "med0 = 0.5\n",
    "\n",
    "pvalue_1 = sign_test(x, mu0=med0)[1]\n",
    "\n",
    "alpha = 0.05\n",
    "\n",
    "display(Latex('$H_0: \\hspace{2mm} Med(x) = 0.5$'))\n",
    "display(Latex('$H_1: \\hspace{2mm} Med(x) \\\\neq 0.5$'))\n",
    "print(f'P-значение: {pvalue_1:.2}') \n",
    "print('Нулевая гипотеза {} на уровне значимости {}'.format('отвергается' if pvalue_1 < alpha else 'не отвергается', alpha))\n",
    "print()\n",
    "print('Критерий знаков учитывает только знак отклонения, поэтому часть информации теряется.')"
   ]
  },
  {
   "cell_type": "markdown",
   "metadata": {
    "id": "Zej2AKWRJUXO"
   },
   "source": [
    "Проверьте гипотезу о том, что мышкам безразлично в какой комнате проводить время с помощью теста Вилкоксона. Сформулируйте нулевую гипотезу, перечислите основные особенности этого критерия.  Запишите в переменную `pvalue_2` получившееся в результате этого $p$-значение. "
   ]
  },
  {
   "cell_type": "code",
   "execution_count": 229,
   "metadata": {
    "deletable": false,
    "id": "Awlj-VqcJUXO",
    "nbgrader": {
     "cell_type": "code",
     "checksum": "810237e6b508833ff45a566c9122dc2d",
     "grade": false,
     "grade_id": "cell-689716dd8c46567c",
     "locked": false,
     "schema_version": 3,
     "solution": true,
     "task": false
    }
   },
   "outputs": [
    {
     "data": {
      "text/latex": [
       "$H_0: \\hspace{2mm} Med(x) = 0.5$"
      ],
      "text/plain": [
       "<IPython.core.display.Latex object>"
      ]
     },
     "metadata": {},
     "output_type": "display_data"
    },
    {
     "data": {
      "text/latex": [
       "$H_1: \\hspace{2mm} Med(x) \\neq 0.5$"
      ],
      "text/plain": [
       "<IPython.core.display.Latex object>"
      ]
     },
     "metadata": {},
     "output_type": "display_data"
    },
    {
     "name": "stdout",
     "output_type": "stream",
     "text": [
      "P-значение: 0.093\n",
      "Нулевая гипотеза не отвергается на уровне значимости 0.05\n",
      "\n",
      "Критерий Уилкоксона использует ранги наблюдений, поэтому позволяет сохранить больше информации, чем критерий знаков.\n"
     ]
    }
   ],
   "source": [
    "### ╰( ͡° ͜ʖ ͡° )つ▬▬ι═══════  bzzzzzzzzzz\n",
    "# your code below\n",
    "\n",
    "pvalue_2 = sts.wilcoxon(x - med0)[1]\n",
    "\n",
    "display(Latex('$H_0: \\hspace{2mm} Med(x) = 0.5$'))\n",
    "display(Latex('$H_1: \\hspace{2mm} Med(x) \\\\neq 0.5$'))\n",
    "print(f'P-значение: {pvalue_2:.2}') \n",
    "print('Нулевая гипотеза {} на уровне значимости {}'.format('отвергается' if pvalue_2 < alpha else 'не отвергается', alpha))\n",
    "print()\n",
    "print('Критерий Уилкоксона использует ранги наблюдений, поэтому позволяет сохранить \\\n",
    "больше информации, чем критерий знаков.')"
   ]
  },
  {
   "cell_type": "markdown",
   "metadata": {
    "id": "fwaS3s5gJUXP"
   },
   "source": [
    "Проверьте гипотезу о том, что мышкам безразлично в какой комнате проводить время с помощью асимптотического $z$-теста. Сформулируйте нулевую гипотезу, перечислите основные особенности этого критерия.  Запишите в переменную `pvalue_3` получившееся в результате этого $p$-значение. "
   ]
  },
  {
   "cell_type": "code",
   "execution_count": 230,
   "metadata": {
    "deletable": false,
    "id": "u5HlNpxiJUXP",
    "nbgrader": {
     "cell_type": "code",
     "checksum": "b55c22e6795228bd3d57ea5a1e98c49a",
     "grade": false,
     "grade_id": "cell-4ce505503163ae74",
     "locked": false,
     "schema_version": 3,
     "solution": true,
     "task": false
    }
   },
   "outputs": [
    {
     "data": {
      "text/latex": [
       "$H_0: \\hspace{2mm} \\mu_x = 0.5$"
      ],
      "text/plain": [
       "<IPython.core.display.Latex object>"
      ]
     },
     "metadata": {},
     "output_type": "display_data"
    },
    {
     "data": {
      "text/latex": [
       "$H_1: \\hspace{2mm} \\mu_x \\neq 0.5$"
      ],
      "text/plain": [
       "<IPython.core.display.Latex object>"
      ]
     },
     "metadata": {},
     "output_type": "display_data"
    },
    {
     "name": "stdout",
     "output_type": "stream",
     "text": [
      "P-значение: 0.13\n",
      "Нулевая гипотеза не отвергается на уровне значимости 0.05\n",
      "\n",
      "Асимптотический z-тест основывается на ЦПТ и предполагает большое число наблюдений.\n"
     ]
    }
   ],
   "source": [
    "from statsmodels.stats.weightstats import ztest,zconfint\n",
    "\n",
    "### ╰( ͡° ͜ʖ ͡° )つ▬▬ι═══════  bzzzzzzzzzz\n",
    "# your code below\n",
    "\n",
    "pvalue_3 = ztest(x, value=0.5)[1]\n",
    "\n",
    "display(Latex('$H_0: \\hspace{2mm} \\mu_x = 0.5$'))\n",
    "display(Latex('$H_1: \\hspace{2mm} \\mu_x \\\\neq 0.5$'))\n",
    "print(f'P-значение: {pvalue_3:.2}') \n",
    "print('Нулевая гипотеза {} на уровне значимости {}'.format('отвергается' if pvalue_3 < alpha else 'не отвергается', alpha))\n",
    "print()\n",
    "print('Асимптотический z-тест основывается на ЦПТ и предполагает большое число наблюдений.')"
   ]
  },
  {
   "cell_type": "code",
   "execution_count": 231,
   "metadata": {
    "deletable": false,
    "editable": false,
    "id": "2hHW3dxXJUXP",
    "nbgrader": {
     "cell_type": "code",
     "checksum": "73290f06f31fe8c145c864dae9c02101",
     "grade": true,
     "grade_id": "cell-2f9dfc7c1834c8a5",
     "locked": true,
     "points": 2,
     "schema_version": 3,
     "solution": false,
     "task": false
    }
   },
   "outputs": [],
   "source": [
    "# проверка того, что задание решено верно\n",
    "assert pvalue_1 < 0.05\n",
    "assert pvalue_2 > 0.05\n",
    "assert pvalue_3 > 0.05\n"
   ]
  },
  {
   "cell_type": "markdown",
   "metadata": {
    "id": "le-4YyzmJUXP"
   },
   "source": [
    "Объясните, почему `pvalue` от теста к тесту ведёт себя именно так. Подробнее про опыт с мышками читайте [в оригинальном исследовании.](https://www.sciencedirect.com/science/article/abs/pii/S0168159104000061)"
   ]
  },
  {
   "cell_type": "markdown",
   "metadata": {},
   "source": [
    "- Критерий знаков показал, что большинство мышек провели больше времени в комнате без зеркала. Поэтому нулевая\n",
    "гипотеза о равенстве предпочтений была отвергнута.\n",
    "- Критерий Уилкоксона, с другой стороны, учёл ранги отклонений, вследствие чего мы не отвергли нулевую гипотезу.\n",
    "- Z-тест учёл уже не ранги, а выборочную дисперсию, что дало ещё более высокое pvalue \n",
    "и не позволило отвергнуть нулевую гипотезу.\n",
    "Однако значение 0.5 находится на самой границе 95% доверительного интервала, что возвращает нас к результату критерия знаков:\n",
    "выборочная средняя довольно сильно отличается от 0.5."
   ]
  },
  {
   "cell_type": "code",
   "execution_count": 232,
   "metadata": {},
   "outputs": [
    {
     "data": {
      "text/plain": [
       "(0.44291783217355185, 0.5076599553264481)"
      ]
     },
     "execution_count": 232,
     "metadata": {},
     "output_type": "execute_result"
    }
   ],
   "source": [
    "zconfint(x)"
   ]
  },
  {
   "cell_type": "markdown",
   "metadata": {
    "id": "cP9JajAQJUXP"
   },
   "source": [
    "## Энергетик\n",
    "\n",
    "Исследовательница Глафира считает, что любовь к энергетическим напиткам и успешность сдачи экзамена по математической статистике должны быть как-то связаны. Опросив $200$ своих однокурсников, она получила следующие результаты:\n",
    "\n",
    "- Сдал, пьёт энергетик: 20\n",
    "- Сдал, не пьёт энергетик: 120\n",
    "- Завалил, пьёт энергетик: 40\n",
    "- Завалил, не пьёт энергетик: 20\n",
    "\n",
    "Правда ли, что энергетик оказывает на успешность сдачи экзамена какое-то влияние? Проверьте гипотезу с помощью критерия Пирсона. В качестве ответа запишите в переменную `pvalue` получившееся $p$-значение."
   ]
  },
  {
   "cell_type": "code",
   "execution_count": 233,
   "metadata": {
    "deletable": false,
    "id": "66VFtzaoJUXP",
    "nbgrader": {
     "cell_type": "code",
     "checksum": "11b701a76c7cad856b9a90da5179b7fe",
     "grade": false,
     "grade_id": "cell-8806588bc0865379",
     "locked": false,
     "schema_version": 3,
     "solution": true,
     "task": false
    }
   },
   "outputs": [
    {
     "name": "stdout",
     "output_type": "stream",
     "text": [
      "                   Pass  Fail\n",
      "Energy Drink: YES    20    40\n",
      "Energy Drink: NO    120    20\n"
     ]
    },
    {
     "data": {
      "text/latex": [
       "$H_0: \\hspace{2mm} \\text{X и Y независимы}$"
      ],
      "text/plain": [
       "<IPython.core.display.Latex object>"
      ]
     },
     "metadata": {},
     "output_type": "display_data"
    },
    {
     "data": {
      "text/latex": [
       "$H_1: \\hspace{2mm} \\text{X и Y зависимы}$"
      ],
      "text/plain": [
       "<IPython.core.display.Latex object>"
      ]
     },
     "metadata": {},
     "output_type": "display_data"
    },
    {
     "name": "stdout",
     "output_type": "stream",
     "text": [
      "P-значение: 4.5e-13\n",
      "Нулевая гипотеза отвергается на уровне значимости 0.05\n"
     ]
    }
   ],
   "source": [
    "### ╰( ͡° ͜ʖ ͡° )つ▬▬ι═══════  bzzzzzzzzzz\n",
    "# your code below\n",
    "\n",
    "from scipy.stats import chi2_contingency\n",
    "\n",
    "df = pd.DataFrame([[20, 40],[120, 20]])\n",
    "df.columns = [\"Pass\",\"Fail\"]\n",
    "df.index = [\"Energy Drink: YES\", \"Energy Drink: NO\"]\n",
    "print(df)\n",
    "\n",
    "pvalue = chi2_contingency(df.values)[1]\n",
    "\n",
    "display(Latex('$H_0: \\hspace{2mm} \\\\text{X и Y независимы}$'))\n",
    "display(Latex('$H_1: \\hspace{2mm} \\\\text{X и Y зависимы}$'))\n",
    "print(f'P-значение: {pvalue:.2}') \n",
    "print('Нулевая гипотеза {} на уровне значимости {}'.format('отвергается' if pvalue < alpha else 'не отвергается', alpha))"
   ]
  },
  {
   "cell_type": "code",
   "execution_count": 234,
   "metadata": {
    "deletable": false,
    "editable": false,
    "id": "UcMfPHBnJUXP",
    "nbgrader": {
     "cell_type": "code",
     "checksum": "da1fdd962d58f234934cc003b1d90290",
     "grade": true,
     "grade_id": "cell-920f09f17b0aafde",
     "locked": true,
     "points": 2,
     "schema_version": 3,
     "solution": false,
     "task": false
    }
   },
   "outputs": [],
   "source": [
    "# проверка того, что задание решено верно\n",
    "assert pvalue < 0.05\n"
   ]
  },
  {
   "cell_type": "markdown",
   "metadata": {
    "id": "Fh5Cl9MHJUXQ"
   },
   "source": [
    "## Бомбардировки\n",
    "\n",
    "В таблице `london_07-09-1940.tsv` лежат данные о бомбардировке Лондона 7 сентября 1940 года немецкой авиацией. Интересно выяснить, насколько прицельно велась бомбардировка. Если немецкие войска знали, где именно находятся британские военные объекты, они вели бы бомбардировку пристрельно.  \n",
    "\n",
    "Ещё больше данных о бомбардировке Лондона ищите здесь: http://bombsight.org/data/sources/"
   ]
  },
  {
   "cell_type": "code",
   "execution_count": 235,
   "metadata": {
    "colab": {
     "base_uri": "https://localhost:8080/",
     "height": 223
    },
    "id": "_G-twKngJUXQ",
    "outputId": "8ed0b38a-b5dd-4b44-d8d9-694ad3ac527f"
   },
   "outputs": [
    {
     "name": "stdout",
     "output_type": "stream",
     "text": [
      "(751, 6)\n"
     ]
    },
    {
     "data": {
      "text/html": [
       "<div>\n",
       "<style scoped>\n",
       "    .dataframe tbody tr th:only-of-type {\n",
       "        vertical-align: middle;\n",
       "    }\n",
       "\n",
       "    .dataframe tbody tr th {\n",
       "        vertical-align: top;\n",
       "    }\n",
       "\n",
       "    .dataframe thead th {\n",
       "        text-align: right;\n",
       "    }\n",
       "</style>\n",
       "<table border=\"1\" class=\"dataframe\">\n",
       "  <thead>\n",
       "    <tr style=\"text-align: right;\">\n",
       "      <th></th>\n",
       "      <th>Time</th>\n",
       "      <th>Location</th>\n",
       "      <th>Type_of_bomb</th>\n",
       "      <th>Damage</th>\n",
       "      <th>x</th>\n",
       "      <th>y</th>\n",
       "    </tr>\n",
       "  </thead>\n",
       "  <tbody>\n",
       "    <tr>\n",
       "      <th>0</th>\n",
       "      <td>0:08</td>\n",
       "      <td>43 Southwark Park Road, SE16, London, UK</td>\n",
       "      <td>IB</td>\n",
       "      <td>Grocers: 3x2 roof damaged</td>\n",
       "      <td>-0.127660</td>\n",
       "      <td>51.507351</td>\n",
       "    </tr>\n",
       "    <tr>\n",
       "      <th>1</th>\n",
       "      <td>0:10</td>\n",
       "      <td>49 Southwark Park road, Bermondsey, SE16, Lond...</td>\n",
       "      <td>IB</td>\n",
       "      <td>Bakers: 3x2 roof damaged</td>\n",
       "      <td>-0.054303</td>\n",
       "      <td>51.487794</td>\n",
       "    </tr>\n",
       "    <tr>\n",
       "      <th>2</th>\n",
       "      <td>0:15</td>\n",
       "      <td>84 Southwark Park Road, SE16, London, UK</td>\n",
       "      <td>IB</td>\n",
       "      <td>front room on 1st floor and contents slightly ...</td>\n",
       "      <td>-0.127660</td>\n",
       "      <td>51.507351</td>\n",
       "    </tr>\n",
       "    <tr>\n",
       "      <th>3</th>\n",
       "      <td>0:18</td>\n",
       "      <td>141 Braidwood Road, Catford SE6, London, UK</td>\n",
       "      <td>IB</td>\n",
       "      <td>10x6 roof damage</td>\n",
       "      <td>-0.025584</td>\n",
       "      <td>51.443299</td>\n",
       "    </tr>\n",
       "    <tr>\n",
       "      <th>4</th>\n",
       "      <td>0:20</td>\n",
       "      <td>129 Killearn Road, Catford SE6, London, UK</td>\n",
       "      <td>IB</td>\n",
       "      <td>Front room on 1st floor severely damaged</td>\n",
       "      <td>-0.025584</td>\n",
       "      <td>51.443299</td>\n",
       "    </tr>\n",
       "  </tbody>\n",
       "</table>\n",
       "</div>"
      ],
      "text/plain": [
       "   Time                                           Location Type_of_bomb  \\\n",
       "0  0:08           43 Southwark Park Road, SE16, London, UK           IB   \n",
       "1  0:10  49 Southwark Park road, Bermondsey, SE16, Lond...           IB   \n",
       "2  0:15           84 Southwark Park Road, SE16, London, UK           IB   \n",
       "3  0:18        141 Braidwood Road, Catford SE6, London, UK           IB   \n",
       "4  0:20         129 Killearn Road, Catford SE6, London, UK           IB   \n",
       "\n",
       "                                              Damage         x          y  \n",
       "0                          Grocers: 3x2 roof damaged -0.127660  51.507351  \n",
       "1                           Bakers: 3x2 roof damaged -0.054303  51.487794  \n",
       "2  front room on 1st floor and contents slightly ... -0.127660  51.507351  \n",
       "3                                   10x6 roof damage -0.025584  51.443299  \n",
       "4           Front room on 1st floor severely damaged -0.025584  51.443299  "
      ]
     },
     "execution_count": 235,
     "metadata": {},
     "output_type": "execute_result"
    }
   ],
   "source": [
    "df = pd.read_csv(ROOT+'london_07-09-1940.tsv', sep='\\t')\n",
    "print(df.shape)\n",
    "df.head()"
   ]
  },
  {
   "cell_type": "code",
   "execution_count": 236,
   "metadata": {
    "colab": {
     "base_uri": "https://localhost:8080/",
     "height": 265
    },
    "id": "rxdSRKjvJUXQ",
    "outputId": "277d42aa-0812-4822-c8bc-0d8ce7eeb68c"
   },
   "outputs": [
    {
     "data": {
      "image/png": "[encoded data removed]",
      "text/plain": [
       "<Figure size 432x288 with 1 Axes>"
      ]
     },
     "metadata": {},
     "output_type": "display_data"
    }
   ],
   "source": [
    "plt.scatter(df.x, df.y);"
   ]
  },
  {
   "cell_type": "markdown",
   "metadata": {
    "id": "vE8e6UDHJUXQ"
   },
   "source": [
    "В колонках $x$ и $y$ лежат координаты точки, куда упала бомба. Разбейте Лондон решёткой размера $30 \\times 30$ на $900$ небольших квадратных участков. С помощью функции `binned_statistic_2d` из пакета `scipy.stats`, подсчитайте как часто снаряд попадал на какой из участков. Поместите информацию об этом в переменную `ret`. "
   ]
  },
  {
   "cell_type": "code",
   "execution_count": 237,
   "metadata": {
    "deletable": false,
    "id": "hQUr_igwJUXQ",
    "nbgrader": {
     "cell_type": "code",
     "checksum": "3d8e8a1156fdd06c8ae186fb41313b02",
     "grade": false,
     "grade_id": "cell-2a06adb25a0b5542",
     "locked": false,
     "schema_version": 3,
     "solution": true,
     "task": false
    }
   },
   "outputs": [
    {
     "data": {
      "image/png": "[encoded data removed]",
      "text/plain": [
       "<Figure size 432x288 with 2 Axes>"
      ]
     },
     "metadata": {},
     "output_type": "display_data"
    }
   ],
   "source": [
    "binx = np.linspace(df.x.min(), df.x.max(), 31)\n",
    "biny = np.linspace(df.y.min(), df.y.max(), 31)\n",
    "\n",
    "### ╰( ͡° ͜ʖ ͡° )つ▬▬ι═══════  bzzzzzzzzzz\n",
    "# your code below\n",
    "\n",
    "from scipy.stats import binned_statistic_2d\n",
    "\n",
    "ret = binned_statistic_2d(df.x, df.y, None, 'count', bins=[binx, biny])\n",
    "\n",
    "sns.heatmap(ret.statistic);"
   ]
  },
  {
   "cell_type": "markdown",
   "metadata": {
    "id": "BsYE5VbiJUXQ"
   },
   "source": [
    "Распакуйте информацию о попаданиях в участки в вектор `z`. Нарисуте гистограмму для получившегося распределения. "
   ]
  },
  {
   "cell_type": "code",
   "execution_count": 238,
   "metadata": {
    "deletable": false,
    "id": "5cLVqdedJUXQ",
    "nbgrader": {
     "cell_type": "code",
     "checksum": "3fbbdfb1fc38caf7a66e28a32e3d5cd5",
     "grade": false,
     "grade_id": "cell-1b692a90383e2eff",
     "locked": false,
     "schema_version": 3,
     "solution": true,
     "task": false
    }
   },
   "outputs": [
    {
     "data": {
      "image/png": "[encoded data removed]",
      "text/plain": [
       "<Figure size 432x288 with 1 Axes>"
      ]
     },
     "metadata": {},
     "output_type": "display_data"
    }
   ],
   "source": [
    "### ╰( ͡° ͜ʖ ͡° )つ▬▬ι═══════  bzzzzzzzzzz\n",
    "# your code below\n",
    "\n",
    "z = ret.statistic.flatten()\n",
    "plt.hist(z, density=True);"
   ]
  },
  {
   "cell_type": "markdown",
   "metadata": {
    "id": "EvSfTHgjJUXQ"
   },
   "source": [
    "Участков много, а вероятность попадания на отдельный участок мала. При справедливости гипотезы о низкой точности стрельбы мы можем воспользоваться законом редких событий:\n",
    "\n",
    "> Если в схеме испытаний Бернулли $p \\to 0$, а $n \\to \\infty$, оно сходится к распределению Пуассона. \n",
    "\n",
    "Получается, что __при верности гипотезы о низкой точности стрельбы,__ число попаданий в квадрат имеет распределение Пуассона. Дополнительно будем предполагать, что попадания на разные участки независимы друг от друга. \n",
    "\n",
    "C помощью критерия Пирсона проверьте гипотезу о том, что число попаданий на участок имеет распределение Пуассона. Прежде, чем вычислять статистику, объедините все наблюдения из хвоста в одно по аналогии с лекцией. Хвостом будем считать все наблюдения $\\ge 9$. Получившуюся в результате расчётов статистику запишите в переменную `T`."
   ]
  },
  {
   "cell_type": "code",
   "execution_count": 239,
   "metadata": {
    "deletable": false,
    "id": "Ry0mhX_GJUXQ",
    "nbgrader": {
     "cell_type": "code",
     "checksum": "27458dfda82dafb25009a2fa92b137b2",
     "grade": false,
     "grade_id": "cell-ae799b5490316110",
     "locked": false,
     "schema_version": 3,
     "solution": true,
     "task": false
    }
   },
   "outputs": [
    {
     "data": {
      "text/latex": [
       "$H_0: \\hspace{2mm} X \\sim Poiss(\\lambda)$"
      ],
      "text/plain": [
       "<IPython.core.display.Latex object>"
      ]
     },
     "metadata": {},
     "output_type": "display_data"
    },
    {
     "data": {
      "text/latex": [
       "$H_1: \\hspace{2mm} X \\nsim Poiss(\\lambda)$"
      ],
      "text/plain": [
       "<IPython.core.display.Latex object>"
      ]
     },
     "metadata": {},
     "output_type": "display_data"
    },
    {
     "name": "stdout",
     "output_type": "stream",
     "text": [
      "T: 2506879.8\n",
      "Критическое значение: 15.5\n",
      "P-значение: 0.0\n",
      "Нулевая гипотеза отвергается на уровне значимости 0.05\n"
     ]
    }
   ],
   "source": [
    "### ╰( ͡° ͜ʖ ͡° )つ▬▬ι═══════  bzzzzzzzzzz\n",
    "# your code below\n",
    "\n",
    "c = np.array(['9+' if i >= 9 else i for i in z])\n",
    "\n",
    "obs = {}\n",
    "for i in range(len(c)):\n",
    "    if c[i] in obs:\n",
    "        obs[c[i]] += 1\n",
    "    else:\n",
    "        obs[c[i]] = 1        \n",
    "obs_q = np.array(list(obs.values()))\n",
    "\n",
    "exp = {}\n",
    "for i in obs:\n",
    "    if i != '9+':\n",
    "        exp[i] = sts.poisson(z.mean()).pmf(float(i))\n",
    "    else:\n",
    "        exp[i] = 1 - sts.poisson(z.mean()).cdf(8)\n",
    "exp_p = np.array(list(exp.values()))\n",
    "\n",
    "n = len(z)\n",
    "\n",
    "T = np.sum((obs_q - n*exp_p)**2 / (n*exp_p))\n",
    "\n",
    "alpha = 0.05\n",
    "df = len(obs) - 1 - 1\n",
    "chi2_crit = sts.chi2.ppf(1-alpha,df)\n",
    "P = 1 - sts.chi2.cdf(T, df)\n",
    "\n",
    "display(Latex('$H_0: \\hspace{2mm} X \\sim Poiss(\\lambda)$'))\n",
    "display(Latex('$H_1: \\hspace{2mm} X \\\\nsim Poiss(\\lambda)$'))\n",
    "print(f'T: {T:.8}')\n",
    "print(f'Критическое значение: {chi2_crit:.3}')\n",
    "print(f'P-значение: {P}')\n",
    "print('Нулевая гипотеза {} на уровне значимости {}'.format('не отвергается' if P > alpha else 'отвергается', alpha))"
   ]
  },
  {
   "cell_type": "code",
   "execution_count": 240,
   "metadata": {
    "deletable": false,
    "editable": false,
    "id": "yednYOD3JUXQ",
    "nbgrader": {
     "cell_type": "code",
     "checksum": "04a992cbb78c1776904005722f0fad09",
     "grade": true,
     "grade_id": "cell-2986a877274d9a7e",
     "locked": true,
     "points": 2,
     "schema_version": 3,
     "solution": false,
     "task": false
    }
   },
   "outputs": [],
   "source": [
    "# проверка того, что задание решено верно\n",
    "assert T > 6000\n"
   ]
  },
  {
   "cell_type": "markdown",
   "metadata": {
    "id": "vtHNYBcoJUXR"
   },
   "source": [
    "Какой вывод мы можем из этого сделать? Правда ли, что бомбардировка осуществлялась прицельно? "
   ]
  },
  {
   "cell_type": "markdown",
   "metadata": {},
   "source": [
    "Гипотеза о принадлежности координат обстрела распределению Пуассона отвергается. Следовательно, отвергается гипотеза о низкой точности стрельбы. Это позволяет предположить, что обстрел вёлся прицельно."
   ]
  },
  {
   "cell_type": "markdown",
   "metadata": {
    "id": "Tuwc0JwfMRyM"
   },
   "source": [
    "# Еще больше гипотез"
   ]
  },
  {
   "cell_type": "markdown",
   "metadata": {
    "id": "HALykPFtX3yt"
   },
   "source": [
    "- Ниже приведены несколько датасетов, их необходимо самостоятельно проанализировать и ответить на определенные вопросы\n",
    "- Для ответа на эти вопросы нужно сделать следующее\n",
    "    - Сделать хорошую визуализацию исследуемых переменных\n",
    "    - Для каждой из задач подобрать **все подходящие** параметрические и непараметрические критерии, проанализировать результаты этих критериев (тут имеет смысл обернуть все критерии в фунцию или словарь - как удобно)\n",
    "- Для каждого набора данных проверьте нормальность выборки и допустимость использования параметрических критериев (можно прокомментировать гистограмму и воспользоваться соответствующими критериями согласия)\n",
    "- Не забудьте оставить краткие комментарии к вашим действиям и сформулировать выводы, которые вы сделали в ходе анализа\n"
   ]
  },
  {
   "cell_type": "markdown",
   "metadata": {
    "id": "nbHK4unpW5Js"
   },
   "source": [
    "## Анорексия\n",
    "\n",
    "В файле anorexia.txt записан вес пациентов до начала терапии анорексии и после ее окончания. Была ли терапия в эффективна?\n"
   ]
  },
  {
   "cell_type": "code",
   "execution_count": 241,
   "metadata": {
    "colab": {
     "base_uri": "https://localhost:8080/",
     "height": 206
    },
    "id": "Cyt0g08jhKNC",
    "outputId": "1911aea7-7101-46b1-de0b-edc326efdc9c"
   },
   "outputs": [
    {
     "data": {
      "text/html": [
       "<div>\n",
       "<style scoped>\n",
       "    .dataframe tbody tr th:only-of-type {\n",
       "        vertical-align: middle;\n",
       "    }\n",
       "\n",
       "    .dataframe tbody tr th {\n",
       "        vertical-align: top;\n",
       "    }\n",
       "\n",
       "    .dataframe thead th {\n",
       "        text-align: right;\n",
       "    }\n",
       "</style>\n",
       "<table border=\"1\" class=\"dataframe\">\n",
       "  <thead>\n",
       "    <tr style=\"text-align: right;\">\n",
       "      <th></th>\n",
       "      <th>Before</th>\n",
       "      <th>After</th>\n",
       "    </tr>\n",
       "  </thead>\n",
       "  <tbody>\n",
       "    <tr>\n",
       "      <th>0</th>\n",
       "      <td>80.5</td>\n",
       "      <td>82.2</td>\n",
       "    </tr>\n",
       "    <tr>\n",
       "      <th>1</th>\n",
       "      <td>84.9</td>\n",
       "      <td>85.6</td>\n",
       "    </tr>\n",
       "    <tr>\n",
       "      <th>2</th>\n",
       "      <td>81.5</td>\n",
       "      <td>81.4</td>\n",
       "    </tr>\n",
       "    <tr>\n",
       "      <th>3</th>\n",
       "      <td>82.6</td>\n",
       "      <td>81.9</td>\n",
       "    </tr>\n",
       "    <tr>\n",
       "      <th>4</th>\n",
       "      <td>79.9</td>\n",
       "      <td>76.4</td>\n",
       "    </tr>\n",
       "  </tbody>\n",
       "</table>\n",
       "</div>"
      ],
      "text/plain": [
       "   Before  After\n",
       "0    80.5   82.2\n",
       "1    84.9   85.6\n",
       "2    81.5   81.4\n",
       "3    82.6   81.9\n",
       "4    79.9   76.4"
      ]
     },
     "execution_count": 241,
     "metadata": {},
     "output_type": "execute_result"
    }
   ],
   "source": [
    "df = pd.read_csv(ROOT+'anorexia.txt', sep='\\t')\n",
    "df.head()"
   ]
  },
  {
   "cell_type": "markdown",
   "metadata": {},
   "source": [
    "**Перед нами задача на разницу средней в связных выборках.**\n",
    "- Подходящие непараметрические критерии:\n",
    "    - критерий знаков,\n",
    "    - критерий Уилкоксона;\n",
    "- Подходящие параметрические критерии:\n",
    "    - критерий Стьюдента на разницу средних в зависимых выборках, в случае нормального распределения;\n",
    "- Подходящие критерии согласия:\n",
    "    - критерий Колмогорова, так как проверяется гипотеза о происхождении выборки из непрерывного распределения."
   ]
  },
  {
   "cell_type": "code",
   "execution_count": 242,
   "metadata": {},
   "outputs": [
    {
     "data": {
      "text/plain": [
       "count    29.000000\n",
       "mean      3.006897\n",
       "std       7.308504\n",
       "min      -9.100000\n",
       "25%      -0.700000\n",
       "50%       1.400000\n",
       "75%       3.900000\n",
       "max      20.900000\n",
       "dtype: float64"
      ]
     },
     "execution_count": 242,
     "metadata": {},
     "output_type": "execute_result"
    }
   ],
   "source": [
    "d = df.After - df.Before\n",
    "d.describe()"
   ]
  },
  {
   "cell_type": "code",
   "execution_count": 243,
   "metadata": {},
   "outputs": [
    {
     "data": {
      "image/png": "[encoded data removed]",
      "text/plain": [
       "<Figure size 432x288 with 1 Axes>"
      ]
     },
     "metadata": {},
     "output_type": "display_data"
    }
   ],
   "source": [
    "mean = d.mean()\n",
    "std = d.std(ddof=1)\n",
    "n = d.count()\n",
    "alpha = 0.05\n",
    "\n",
    "plt.hist(d, bins=20, density=True)\n",
    "\n",
    "xs = np.linspace(-15, 25, 300)\n",
    "ys = sts.norm(loc=mean, scale=std).pdf(xs)\n",
    "plt.plot(xs, ys, color=\"black\");"
   ]
  },
  {
   "cell_type": "markdown",
   "metadata": {},
   "source": [
    "Из графика можно сделать предположения:\n",
    "- разница средних равна нулю;\n",
    "- распределение ненормальное.\n",
    "\n",
    "Проверим это тестами."
   ]
  },
  {
   "cell_type": "markdown",
   "metadata": {},
   "source": [
    "### НЕПАРАМЕТРИЧЕСКИЕ КРИТЕРИИ"
   ]
  },
  {
   "cell_type": "markdown",
   "metadata": {
    "id": "zqBEHmhZJu56"
   },
   "source": [
    "### Критерий знаков\n",
    "\n",
    "$H_0\\colon P(X > Y) = 0.5$\n",
    "\n",
    "$H_1\\colon P(X > Y) \\ne 0.5$"
   ]
  },
  {
   "cell_type": "code",
   "execution_count": 244,
   "metadata": {
    "id": "Z50_SQovJu56",
    "outputId": "e29f191c-36be-4287-de16-2791048be53f"
   },
   "outputs": [
    {
     "name": "stdout",
     "output_type": "stream",
     "text": [
      "T: 3.5\n",
      "Критическое значение: 20.0\n",
      "P-значение: 0.26\n",
      "Нулевая гипотеза не отвергается на уровне значимости 0.05\n"
     ]
    }
   ],
   "source": [
    "from statsmodels.stats.descriptivestats import sign_test\n",
    "\n",
    "x = df.After\n",
    "y = df.Before\n",
    "\n",
    "T, P = sign_test(x, y)\n",
    "T_crit = sts.binom(n, 0.5).ppf(1 - alpha/2)\n",
    "\n",
    "print(f'T: {T:.3}')\n",
    "print(f'Критическое значение: {T_crit:.3}')\n",
    "print(f'P-значение: {P:.2}')\n",
    "print('Нулевая гипотеза {} на уровне значимости {}'.format('не отвергается' if P > alpha else 'отвергается', alpha))"
   ]
  },
  {
   "cell_type": "markdown",
   "metadata": {
    "id": "MCLXRbNIJu57"
   },
   "source": [
    "### Критерий Уилкоксона\n",
    "\n",
    "$H_0\\colon Med(X - Y) = 0$\n",
    "\n",
    "$H_1\\colon Med(X - Y) \\ne 0$"
   ]
  },
  {
   "cell_type": "code",
   "execution_count": 245,
   "metadata": {
    "id": "WdCmpFgjJu57",
    "outputId": "bcd4af10-6cec-49c5-bfaf-4997898051ed"
   },
   "outputs": [
    {
     "name": "stdout",
     "output_type": "stream",
     "text": [
      "T: 131.5\n",
      "Критическое значение: 181.2834\n",
      "P-значение: 0.063\n",
      "Нулевая гипотеза не отвергается на уровне значимости 0.05\n"
     ]
    }
   ],
   "source": [
    "T, P = sts.wilcoxon(x, y)\n",
    "T_crit = sts.norm(0, np.sqrt((n * (n + 1) * (2*n + 1)) / 6)).ppf(1 - alpha/2)\n",
    "\n",
    "print(f'T: {T:.4}')\n",
    "print(f'Критическое значение: {T_crit:.7}')\n",
    "print(f'P-значение: {P:.2}')\n",
    "print('Нулевая гипотеза {} на уровне значимости {}'.format('не отвергается' if P > alpha else 'отвергается', alpha))"
   ]
  },
  {
   "cell_type": "markdown",
   "metadata": {},
   "source": [
    "**Непараметрические тесты опровергают гипотезу об эффективности терапии анорексии.\n",
    "Проведём тест Колмогорова для использования параметрического критерия.**"
   ]
  },
  {
   "cell_type": "markdown",
   "metadata": {},
   "source": [
    "### КРИТЕРИИ СОГЛАСИЯ"
   ]
  },
  {
   "cell_type": "markdown",
   "metadata": {},
   "source": [
    "### Q-Q-График"
   ]
  },
  {
   "cell_type": "code",
   "execution_count": 246,
   "metadata": {},
   "outputs": [
    {
     "data": {
      "image/png": "[encoded data removed]",
      "text/plain": [
       "<Figure size 432x288 with 1 Axes>"
      ]
     },
     "metadata": {},
     "output_type": "display_data"
    }
   ],
   "source": [
    "sts.probplot(d, dist=\"norm\", plot=plt);"
   ]
  },
  {
   "cell_type": "markdown",
   "metadata": {},
   "source": [
    "Q-Q-График показывает, что распределение похоже на нормальное."
   ]
  },
  {
   "cell_type": "markdown",
   "metadata": {},
   "source": [
    "### Критерий Колмогорова\n",
    "\n",
    "$$\n",
    "\\begin{aligned}\n",
    "H_0 : X \\sim N(\\mu, \\sigma^2) \\\\\n",
    "H_1 : X \\nsim N(\\mu, \\sigma^2)\n",
    "\\end{aligned}\n",
    "$$"
   ]
  },
  {
   "cell_type": "code",
   "execution_count": 247,
   "metadata": {
    "scrolled": true
   },
   "outputs": [
    {
     "name": "stdout",
     "output_type": "stream",
     "text": [
      "P-значение: 0.096\n",
      "Нулевая гипотеза не отвергается на уровне значимости 0.05\n"
     ]
    },
    {
     "data": {
      "image/png": "[encoded data removed]",
      "text/plain": [
       "<Figure size 432x288 with 1 Axes>"
      ]
     },
     "metadata": {},
     "output_type": "display_data"
    }
   ],
   "source": [
    "sns.ecdfplot(d, label='observed')\n",
    "xs = np.arange(-15, 25, 0.1)\n",
    "cdf = sts.norm.cdf(xs, loc=mean, scale=std)\n",
    "plt.plot(xs, cdf, label='theoretical')\n",
    "\n",
    "plt.legend();\n",
    "\n",
    "P = sts.kstest(d, 'norm', args=(mean, std))[1]\n",
    "\n",
    "print(f'P-значение: {P:.2}')\n",
    "print('Нулевая гипотеза {} на уровне значимости {}'.format('отвергается' if P < alpha else 'не отвергается', alpha))"
   ]
  },
  {
   "cell_type": "markdown",
   "metadata": {},
   "source": [
    "**Критерий Колмогорова не отвергает гипотезу о происхождении выборки из нормального распределения.**"
   ]
  },
  {
   "cell_type": "markdown",
   "metadata": {},
   "source": [
    "### ПАРАМЕТРИЧЕСКИЕ КРИТЕРИИ"
   ]
  },
  {
   "cell_type": "markdown",
   "metadata": {},
   "source": [
    "### Критерий Стьюдента\n",
    "$$\n",
    "\\begin{aligned}\n",
    "&H_0: \\hspace{2mm} \\mu_1-\\mu_2 = 0 \\hspace{2mm}\\\\\n",
    "&H_1: \\hspace{2mm}\\mu_1-\\mu_2  \\ne 0 \\hspace{2mm}\n",
    "\\end{aligned}\n",
    "$$"
   ]
  },
  {
   "cell_type": "code",
   "execution_count": 248,
   "metadata": {},
   "outputs": [
    {
     "name": "stdout",
     "output_type": "stream",
     "text": [
      "T: 2.216\n",
      "Критическое значение: 2.048\n",
      "P-значение: 0.035\n",
      "Нулевая гипотеза отвергается на уровне значимости 0.05\n"
     ]
    }
   ],
   "source": [
    "T, P = sts.ttest_rel(x, y)\n",
    "T_crit = sts.t(n - 1).ppf(1 - alpha/2)\n",
    "\n",
    "print(f'T: {T:.4}')\n",
    "print(f'Критическое значение: {T_crit:.4}')\n",
    "print(f'P-значение: {P:.2}')\n",
    "print('Нулевая гипотеза {} на уровне значимости {}'.format('не отвергается' if P > alpha else 'отвергается', alpha))"
   ]
  },
  {
   "cell_type": "markdown",
   "metadata": {},
   "source": [
    "**Параметрический критерий Стьюдента опровергает гипотезу о неэффективности терапии анорексии на уровне значимости 0.05.\n",
    "Однако уже на уровне < 0.035 нулевая гипотеза опровергаться, исходя из имеющихся данных, не будет.**"
   ]
  },
  {
   "cell_type": "markdown",
   "metadata": {},
   "source": [
    "**На поставленный вопрос, исходя из результатов 3 тестов, я бы ответил, что терапия анорексии эффективной не была.**"
   ]
  },
  {
   "cell_type": "markdown",
   "metadata": {
    "id": "Gl2o-SqZXVl0"
   },
   "source": [
    "## Метилфенидат\n",
    "В рамках исследования эффективности препарата метилфенидат пациенты с синдромом дефицита внимания и гиперактивности в течение недели принимали либо метилфенидат, либо плацебо. В конце недели каждый пациент проходили тест на способность к подавлению импульсивных поведенческих реакций. На втором этапе плацебо и препарат менялись, и после недельного курса каждый испытуемые проходили второй тест. Был ли эффект от применения препарата? Данные находятся в файле methylphenidate.txt.\n",
    "\n"
   ]
  },
  {
   "cell_type": "code",
   "execution_count": 249,
   "metadata": {},
   "outputs": [
    {
     "data": {
      "text/html": [
       "<div>\n",
       "<style scoped>\n",
       "    .dataframe tbody tr th:only-of-type {\n",
       "        vertical-align: middle;\n",
       "    }\n",
       "\n",
       "    .dataframe tbody tr th {\n",
       "        vertical-align: top;\n",
       "    }\n",
       "\n",
       "    .dataframe thead th {\n",
       "        text-align: right;\n",
       "    }\n",
       "</style>\n",
       "<table border=\"1\" class=\"dataframe\">\n",
       "  <thead>\n",
       "    <tr style=\"text-align: right;\">\n",
       "      <th></th>\n",
       "      <th>Placebo</th>\n",
       "      <th>Methylphenidate</th>\n",
       "    </tr>\n",
       "  </thead>\n",
       "  <tbody>\n",
       "    <tr>\n",
       "      <th>0</th>\n",
       "      <td>57</td>\n",
       "      <td>62</td>\n",
       "    </tr>\n",
       "    <tr>\n",
       "      <th>1</th>\n",
       "      <td>27</td>\n",
       "      <td>49</td>\n",
       "    </tr>\n",
       "    <tr>\n",
       "      <th>2</th>\n",
       "      <td>32</td>\n",
       "      <td>30</td>\n",
       "    </tr>\n",
       "    <tr>\n",
       "      <th>3</th>\n",
       "      <td>31</td>\n",
       "      <td>34</td>\n",
       "    </tr>\n",
       "    <tr>\n",
       "      <th>4</th>\n",
       "      <td>34</td>\n",
       "      <td>38</td>\n",
       "    </tr>\n",
       "  </tbody>\n",
       "</table>\n",
       "</div>"
      ],
      "text/plain": [
       "   Placebo  Methylphenidate\n",
       "0       57               62\n",
       "1       27               49\n",
       "2       32               30\n",
       "3       31               34\n",
       "4       34               38"
      ]
     },
     "execution_count": 249,
     "metadata": {},
     "output_type": "execute_result"
    }
   ],
   "source": [
    "df = pd.read_csv(ROOT+'methylphenidate.txt', sep=' ')\n",
    "df.head()"
   ]
  },
  {
   "cell_type": "markdown",
   "metadata": {},
   "source": [
    "**Перед нами задача на разницу средней в связных выборках.**\n",
    "- Подходящие непараметрические критерии:\n",
    "    - критерий знаков,\n",
    "    - критерий Уилкоксона;\n",
    "- Подходящие параметрические критерии:\n",
    "    - критерий Стьюдента на разницу средних в зависимых выборках, в случае нормального распределения;\n",
    "- Подходящие критерии согласия:\n",
    "    - критерий Колмогорова, так как проверяется гипотеза о происхождении выборки из непрерывного распределения."
   ]
  },
  {
   "cell_type": "code",
   "execution_count": 250,
   "metadata": {},
   "outputs": [
    {
     "data": {
      "text/plain": [
       "count    24.000000\n",
       "mean      4.958333\n",
       "std       7.538188\n",
       "min     -11.000000\n",
       "25%      -1.250000\n",
       "50%       5.000000\n",
       "75%       8.500000\n",
       "max      22.000000\n",
       "dtype: float64"
      ]
     },
     "execution_count": 250,
     "metadata": {},
     "output_type": "execute_result"
    }
   ],
   "source": [
    "d = df.Methylphenidate - df.Placebo\n",
    "d.describe()"
   ]
  },
  {
   "cell_type": "code",
   "execution_count": 251,
   "metadata": {},
   "outputs": [
    {
     "data": {
      "image/png": "[encoded data removed]",
      "text/plain": [
       "<Figure size 432x288 with 1 Axes>"
      ]
     },
     "metadata": {},
     "output_type": "display_data"
    }
   ],
   "source": [
    "mean = d.mean()\n",
    "std = d.std(ddof=1)\n",
    "n = d.count()\n",
    "alpha = 0.05\n",
    "\n",
    "plt.hist(d, bins=30, density=True)\n",
    "\n",
    "xs = np.linspace(-15, 25, 300)\n",
    "ys = sts.norm(loc=mean, scale=std).pdf(xs)\n",
    "plt.plot(xs, ys, color=\"black\");"
   ]
  },
  {
   "cell_type": "markdown",
   "metadata": {},
   "source": [
    "Из графика можно сделать предположения:\n",
    "- разница средних не равна нулю;\n",
    "- распределение ненормальное.\n",
    "\n",
    "Проверим это тестами."
   ]
  },
  {
   "cell_type": "markdown",
   "metadata": {},
   "source": [
    "### НЕПАРАМЕТРИЧЕСКИЕ КРИТЕРИИ"
   ]
  },
  {
   "cell_type": "markdown",
   "metadata": {
    "id": "zqBEHmhZJu56"
   },
   "source": [
    "### Критерий знаков\n",
    "\n",
    "$H_0\\colon P(X > Y) = 0.5$\n",
    "\n",
    "$H_1\\colon P(X > Y) \\ne 0.5$"
   ]
  },
  {
   "cell_type": "code",
   "execution_count": 252,
   "metadata": {
    "id": "Z50_SQovJu56",
    "outputId": "e29f191c-36be-4287-de16-2791048be53f"
   },
   "outputs": [
    {
     "name": "stdout",
     "output_type": "stream",
     "text": [
      "T: 5.0\n",
      "Критическое значение: 17.0\n",
      "P-значение: 0.064\n",
      "Нулевая гипотеза не отвергается на уровне значимости 0.05\n"
     ]
    }
   ],
   "source": [
    "from statsmodels.stats.descriptivestats import sign_test\n",
    "\n",
    "x = df.Methylphenidate\n",
    "y = df.Placebo\n",
    "\n",
    "T, P = sign_test(x, y)\n",
    "T_crit = sts.binom(n, 0.5).ppf(1 - alpha/2)\n",
    "\n",
    "print(f'T: {T:.3}')\n",
    "print(f'Критическое значение: {T_crit:.3}')\n",
    "print(f'P-значение: {P:.2}')\n",
    "print('Нулевая гипотеза {} на уровне значимости {}'.format('не отвергается' if P > alpha else 'отвергается', alpha))"
   ]
  },
  {
   "cell_type": "markdown",
   "metadata": {
    "id": "MCLXRbNIJu57"
   },
   "source": [
    "### Критерий Уилкоксона\n",
    "\n",
    "$H_0\\colon Med(X - Y) = 0$\n",
    "\n",
    "$H_1\\colon Med(X - Y) \\ne 0$"
   ]
  },
  {
   "cell_type": "code",
   "execution_count": 253,
   "metadata": {
    "id": "WdCmpFgjJu57",
    "outputId": "bcd4af10-6cec-49c5-bfaf-4997898051ed"
   },
   "outputs": [
    {
     "name": "stdout",
     "output_type": "stream",
     "text": [
      "T: 48.5\n",
      "Критическое значение: 137.1975\n",
      "P-значение: 0.0028\n",
      "Нулевая гипотеза отвергается на уровне значимости 0.05\n"
     ]
    }
   ],
   "source": [
    "T, P = sts.wilcoxon(x, y)\n",
    "T_crit = sts.norm(0, np.sqrt((n * (n + 1) * (2*n + 1)) / 6)).ppf(1 - alpha/2)\n",
    "\n",
    "print(f'T: {T:.4}')\n",
    "print(f'Критическое значение: {T_crit:.7}')\n",
    "print(f'P-значение: {P:.2}')\n",
    "print('Нулевая гипотеза {} на уровне значимости {}'.format('не отвергается' if P > alpha else 'отвергается', alpha))"
   ]
  },
  {
   "cell_type": "markdown",
   "metadata": {},
   "source": [
    "**Критерий знаков опровергают гипотезу об эффективности препарата. Однако критерий Уилкоксона, который собирает больше\n",
    "информации из выборки, гипотезу об эффективности не опровергает.**"
   ]
  },
  {
   "cell_type": "markdown",
   "metadata": {},
   "source": [
    "### КРИТЕРИИ СОГЛАСИЯ"
   ]
  },
  {
   "cell_type": "markdown",
   "metadata": {},
   "source": [
    "### Q-Q-График"
   ]
  },
  {
   "cell_type": "code",
   "execution_count": 254,
   "metadata": {},
   "outputs": [
    {
     "data": {
      "image/png": "[encoded data removed]",
      "text/plain": [
       "<Figure size 432x288 with 1 Axes>"
      ]
     },
     "metadata": {},
     "output_type": "display_data"
    }
   ],
   "source": [
    "sts.probplot(d, dist=\"norm\", plot=plt);"
   ]
  },
  {
   "cell_type": "markdown",
   "metadata": {},
   "source": [
    "Q-Q-График показывает, что распределение похоже на нормальное."
   ]
  },
  {
   "cell_type": "markdown",
   "metadata": {},
   "source": [
    "### Критерий Колмогорова\n",
    "\n",
    "$$\n",
    "\\begin{aligned}\n",
    "H_0 : X \\sim N(\\mu, \\sigma^2) \\\\\n",
    "H_1 : X \\nsim N(\\mu, \\sigma^2)\n",
    "\\end{aligned}\n",
    "$$"
   ]
  },
  {
   "cell_type": "code",
   "execution_count": 255,
   "metadata": {
    "scrolled": true
   },
   "outputs": [
    {
     "name": "stdout",
     "output_type": "stream",
     "text": [
      "P-значение: 0.94\n",
      "Нулевая гипотеза не отвергается на уровне значимости 0.05\n"
     ]
    },
    {
     "data": {
      "image/png": "[encoded data removed]",
      "text/plain": [
       "<Figure size 432x288 with 1 Axes>"
      ]
     },
     "metadata": {},
     "output_type": "display_data"
    }
   ],
   "source": [
    "sns.ecdfplot(d, label='observed')\n",
    "xs = np.arange(-15, 25, 0.1)\n",
    "cdf = sts.norm.cdf(xs, loc=mean, scale=std)\n",
    "plt.plot(xs, cdf, label='theoretical')\n",
    "\n",
    "plt.legend();\n",
    "\n",
    "P = sts.kstest(d, 'norm', args=(mean, std))[1]\n",
    "\n",
    "print(f'P-значение: {P:.2}')\n",
    "print('Нулевая гипотеза {} на уровне значимости {}'.format('отвергается' if P < alpha else 'не отвергается', alpha))"
   ]
  },
  {
   "cell_type": "markdown",
   "metadata": {},
   "source": [
    "**Критерий Колмогорова не отвергает гипотезу о происхождении выборки из нормального распределения.**"
   ]
  },
  {
   "cell_type": "markdown",
   "metadata": {},
   "source": [
    "### ПАРАМЕТРИЧЕСКИЕ КРИТЕРИИ"
   ]
  },
  {
   "cell_type": "markdown",
   "metadata": {},
   "source": [
    "### Критерий Стьюдента\n",
    "$$\n",
    "\\begin{aligned}\n",
    "&H_0: \\hspace{2mm} \\mu_1-\\mu_2 = 0 \\hspace{2mm}\\\\\n",
    "&H_1: \\hspace{2mm}\\mu_1-\\mu_2  \\ne 0 \\hspace{2mm}\n",
    "\\end{aligned}\n",
    "$$"
   ]
  },
  {
   "cell_type": "code",
   "execution_count": 256,
   "metadata": {},
   "outputs": [
    {
     "name": "stdout",
     "output_type": "stream",
     "text": [
      "T: 3.222\n",
      "Критическое значение: 2.069\n",
      "P-значение: 0.0038\n",
      "Нулевая гипотеза отвергается на уровне значимости 0.05\n"
     ]
    }
   ],
   "source": [
    "T, P = sts.ttest_rel(x, y)\n",
    "T_crit = sts.t(n - 1).ppf(1 - alpha/2)\n",
    "\n",
    "print(f'T: {T:.4}')\n",
    "print(f'Критическое значение: {T_crit:.4}')\n",
    "print(f'P-значение: {P:.2}')\n",
    "print('Нулевая гипотеза {} на уровне значимости {}'.format('не отвергается' if P > alpha else 'отвергается', alpha))"
   ]
  },
  {
   "cell_type": "markdown",
   "metadata": {},
   "source": [
    "**Параметрический критерий Стьюдента опровергает гипотезу о неэффективности терапии анорексии на уровне значимости 0.05 и даже на гораздно более низких уровнях.**"
   ]
  },
  {
   "cell_type": "markdown",
   "metadata": {},
   "source": [
    "**На поставленный вопрос, исходя из результатов 3 тестов, я бы ответил, что Метилфенидат эффективен при условии корректности исследования.**"
   ]
  },
  {
   "cell_type": "markdown",
   "metadata": {
    "id": "tRwTUweFXO-F"
   },
   "source": [
    "## Сиэтл\n",
    "В файле seattle.txt записаны цены на недвижимость в одном из районов Сиэтла в 2001 году и в 2002 году (объекты недвижимости выбирались случайно). Изменились ли в среднем цены в этом районе за год?\n"
   ]
  },
  {
   "cell_type": "code",
   "execution_count": 257,
   "metadata": {
    "colab": {
     "base_uri": "https://localhost:8080/",
     "height": 206
    },
    "id": "VOIIliUEeqkE",
    "outputId": "92338f65-a29a-4368-b623-c377d0ad1730"
   },
   "outputs": [
    {
     "data": {
      "text/html": [
       "<div>\n",
       "<style scoped>\n",
       "    .dataframe tbody tr th:only-of-type {\n",
       "        vertical-align: middle;\n",
       "    }\n",
       "\n",
       "    .dataframe tbody tr th {\n",
       "        vertical-align: top;\n",
       "    }\n",
       "\n",
       "    .dataframe thead th {\n",
       "        text-align: right;\n",
       "    }\n",
       "</style>\n",
       "<table border=\"1\" class=\"dataframe\">\n",
       "  <thead>\n",
       "    <tr style=\"text-align: right;\">\n",
       "      <th></th>\n",
       "      <th>Price</th>\n",
       "      <th>Year</th>\n",
       "    </tr>\n",
       "  </thead>\n",
       "  <tbody>\n",
       "    <tr>\n",
       "      <th>0</th>\n",
       "      <td>142.0</td>\n",
       "      <td>2002</td>\n",
       "    </tr>\n",
       "    <tr>\n",
       "      <th>1</th>\n",
       "      <td>232.0</td>\n",
       "      <td>2002</td>\n",
       "    </tr>\n",
       "    <tr>\n",
       "      <th>2</th>\n",
       "      <td>132.5</td>\n",
       "      <td>2002</td>\n",
       "    </tr>\n",
       "    <tr>\n",
       "      <th>3</th>\n",
       "      <td>200.0</td>\n",
       "      <td>2002</td>\n",
       "    </tr>\n",
       "    <tr>\n",
       "      <th>4</th>\n",
       "      <td>362.0</td>\n",
       "      <td>2002</td>\n",
       "    </tr>\n",
       "  </tbody>\n",
       "</table>\n",
       "</div>"
      ],
      "text/plain": [
       "   Price  Year\n",
       "0  142.0  2002\n",
       "1  232.0  2002\n",
       "2  132.5  2002\n",
       "3  200.0  2002\n",
       "4  362.0  2002"
      ]
     },
     "execution_count": 257,
     "metadata": {},
     "output_type": "execute_result"
    }
   ],
   "source": [
    "df = pd.read_csv(ROOT+'seattle.txt', sep='\\t')\n",
    "df.head()"
   ]
  },
  {
   "cell_type": "markdown",
   "metadata": {},
   "source": [
    "**Перед нами задача на разницу средней в независимых выборках.**\n",
    "- Подходящие непараметрические критерии:\n",
    "    - критерий Манна-Уитни, при условии похожести распределения выборок;\n",
    "- Подходящие параметрические критерии:\n",
    "    - Асимптотические:\n",
    "        - z-критерий на разницу средних;\n",
    "    - Точные (при условии нормального распределения):\n",
    "        - t-критерий в случае равных дисперсий или t-критерий Уэлча в случае разных дисперсий;\n",
    "- Подходящие критерии согласия:\n",
    "    - критерий Колмогорова, так как проверяется гипотеза о происхождении выборок из непрерывного распределения;\n",
    "- Дополнительные тесты:\n",
    "    - критерий Фишера на отношение дисперсий (в случае нормальных выборок для определения нужного t-теста)."
   ]
  },
  {
   "cell_type": "code",
   "execution_count": 258,
   "metadata": {},
   "outputs": [
    {
     "data": {
      "image/png": "[encoded data removed]",
      "text/plain": [
       "<Figure size 432x288 with 1 Axes>"
      ]
     },
     "metadata": {},
     "output_type": "display_data"
    }
   ],
   "source": [
    "sns.kdeplot(data=df,\n",
    "             x='Price', hue='Year', \n",
    "             common_norm=False, palette='bright'\n",
    "            );"
   ]
  },
  {
   "cell_type": "markdown",
   "metadata": {},
   "source": [
    "**Выводы из графика:**\n",
    "- Распределения похожи --> можно использовать тест Манна-Уитни;\n",
    "- Распределения куполообразны --> вероятно, нормальные распределения;\n",
    "- Средние на одном уровне, так что скорее всего гипотеза о равенстве средних отвергнута не будет, хотя у цен за 2022 год, очевидно, более сильная дисперсия (к слову о тесте Фишера) и очень тяжёлый правый хвост."
   ]
  },
  {
   "cell_type": "code",
   "execution_count": 295,
   "metadata": {},
   "outputs": [],
   "source": [
    "x = df[df.Year == 2002]['Price'].reset_index(drop=True)\n",
    "y = df[df.Year == 2001]['Price'].reset_index(drop=True)\n",
    "n = x.count()\n",
    "x_mean, y_mean = x.mean(), y.mean()\n",
    "x_std, y_std = x.std(ddof=1), y.std(ddof=1)\n",
    "alpha = 0.05"
   ]
  },
  {
   "cell_type": "markdown",
   "metadata": {},
   "source": [
    "### НЕПАРАМЕТРИЧЕСКИЕ КРИТЕРИИ"
   ]
  },
  {
   "cell_type": "markdown",
   "metadata": {
    "id": "M9WvodoeJu52"
   },
   "source": [
    "### Критерий Манна-Уитни\n",
    "\n",
    "$H_0\\colon f_{X}(x) = f_{Y}(x), \\Delta= 0$\n",
    "\n",
    "$H_1\\colon f_{X}(x) = f_{Y}(x + \\Delta), \\Delta > 0$"
   ]
  },
  {
   "cell_type": "code",
   "execution_count": 311,
   "metadata": {
    "id": "VsqOEwkEJu52",
    "outputId": "0a1878a5-2708-41ff-84f9-9ae55181b5c7"
   },
   "outputs": [
    {
     "name": "stdout",
     "output_type": "stream",
     "text": [
      "T: 1204.5\n",
      "P-значение: 0.62\n",
      "Нулевая гипотеза не отвергается на уровне значимости 0.05\n"
     ]
    }
   ],
   "source": [
    "T, P = sts.mannwhitneyu(x, y, alternative='greater')\n",
    "\n",
    "print(f'T: {T:.5}')\n",
    "print(f'P-значение: {P:.2}')\n",
    "print('Нулевая гипотеза {} на уровне значимости {}'.format('не отвергается' if P > alpha else 'отвергается', alpha))"
   ]
  },
  {
   "cell_type": "markdown",
   "metadata": {},
   "source": [
    "**Критерий Манна-Уитни опровергает гипотезу об изменении средних цен на недвижимость.**"
   ]
  },
  {
   "cell_type": "markdown",
   "metadata": {},
   "source": [
    "### КРИТЕРИИ СОГЛАСИЯ"
   ]
  },
  {
   "cell_type": "markdown",
   "metadata": {},
   "source": [
    "### Q-Q-График"
   ]
  },
  {
   "cell_type": "code",
   "execution_count": 303,
   "metadata": {},
   "outputs": [
    {
     "data": {
      "image/png": "[encoded data removed]",
      "text/plain": [
       "<Figure size 432x288 with 1 Axes>"
      ]
     },
     "metadata": {},
     "output_type": "display_data"
    }
   ],
   "source": [
    "sts.probplot(y, dist=\"norm\", plot=plt);"
   ]
  },
  {
   "cell_type": "markdown",
   "metadata": {},
   "source": [
    "Q-Q-График цен 2021 года показывает, что распределение в целом похоже на нормальное."
   ]
  },
  {
   "cell_type": "code",
   "execution_count": 304,
   "metadata": {},
   "outputs": [
    {
     "data": {
      "image/png": "[encoded data removed]",
      "text/plain": [
       "<Figure size 432x288 with 1 Axes>"
      ]
     },
     "metadata": {},
     "output_type": "display_data"
    }
   ],
   "source": [
    "sts.probplot(x, dist=\"norm\", plot=plt);"
   ]
  },
  {
   "cell_type": "markdown",
   "metadata": {},
   "source": [
    "Q-Q-График цен 2022 года показывает, что правый хвост распределения гораздо тяжелее, чем у нормального."
   ]
  },
  {
   "cell_type": "markdown",
   "metadata": {},
   "source": [
    "### Критерий Колмогорова\n",
    "\n",
    "$$\n",
    "\\begin{aligned}\n",
    "H_0 : Y \\sim N(\\mu, \\sigma^2) \\\\\n",
    "H_1 : Y \\nsim N(\\mu, \\sigma^2)\n",
    "\\end{aligned}\n",
    "$$"
   ]
  },
  {
   "cell_type": "code",
   "execution_count": null,
   "metadata": {},
   "outputs": [],
   "source": [
    "y.describe()"
   ]
  },
  {
   "cell_type": "code",
   "execution_count": 308,
   "metadata": {},
   "outputs": [
    {
     "name": "stdout",
     "output_type": "stream",
     "text": [
      "P-значение: 0.64\n",
      "Нулевая гипотеза не отвергается на уровне значимости 0.05\n"
     ]
    },
    {
     "data": {
      "image/png": "[encoded data removed]",
      "text/plain": [
       "<Figure size 432x288 with 1 Axes>"
      ]
     },
     "metadata": {},
     "output_type": "display_data"
    }
   ],
   "source": [
    "sns.ecdfplot(y, label='observed')\n",
    "xs = np.arange(40, 750, 0.1)\n",
    "cdf = sts.norm.cdf(xs, loc=y_mean, scale=y_std)\n",
    "plt.plot(xs, cdf, label='theoretical')\n",
    "\n",
    "plt.legend();\n",
    "\n",
    "P = sts.kstest(y, 'norm', args=(y_mean, y_std))[1]\n",
    "\n",
    "print(f'P-значение: {P:.2}')\n",
    "print('Нулевая гипотеза {} на уровне значимости {}'.format('отвергается' if P < alpha else 'не отвергается', alpha))"
   ]
  },
  {
   "cell_type": "markdown",
   "metadata": {},
   "source": [
    "$$\n",
    "\\begin{aligned}\n",
    "H_0 : X \\sim N(\\mu, \\sigma^2) \\\\\n",
    "H_1 : X \\nsim N(\\mu, \\sigma^2)\n",
    "\\end{aligned}\n",
    "$$"
   ]
  },
  {
   "cell_type": "code",
   "execution_count": null,
   "metadata": {},
   "outputs": [],
   "source": [
    "x.describe()"
   ]
  },
  {
   "cell_type": "code",
   "execution_count": 315,
   "metadata": {
    "scrolled": true
   },
   "outputs": [
    {
     "name": "stdout",
     "output_type": "stream",
     "text": [
      "P-значение: 0.00027\n",
      "Нулевая гипотеза отвергается на уровне значимости 0.05\n"
     ]
    },
    {
     "data": {
      "image/png": "[encoded data removed]",
      "text/plain": [
       "<Figure size 432x288 with 1 Axes>"
      ]
     },
     "metadata": {},
     "output_type": "display_data"
    }
   ],
   "source": [
    "sns.ecdfplot(x, label='observed')\n",
    "xs = np.arange(40, 1900, 0.1)\n",
    "cdf = sts.norm.cdf(xs, loc=x_mean, scale=x_std)\n",
    "plt.plot(xs, cdf, label='theoretical')\n",
    "\n",
    "plt.legend();\n",
    "\n",
    "P = sts.kstest(x, 'norm', args=(x_mean, x_std))[1]\n",
    "\n",
    "print(f'P-значение: {P:.2}')\n",
    "print('Нулевая гипотеза {} на уровне значимости {}'.format('отвергается' if P < alpha else 'не отвергается', alpha))"
   ]
  },
  {
   "cell_type": "markdown",
   "metadata": {},
   "source": [
    "**Критерий Колмогорова отвергает гипотезу о нормальности распределения одной из выборок, поэтому воспользуемся только\n",
    "асимптотическим критерием.**"
   ]
  },
  {
   "cell_type": "markdown",
   "metadata": {},
   "source": [
    "### Z-тест на разность средних\n",
    "$$\n",
    "\\begin{aligned}\n",
    "&H_0: \\hspace{2mm} \\mu_x-\\mu_y = 0 \\hspace{2mm}\\\\\n",
    "&H_1: \\hspace{2mm}\\mu_x-\\mu_y  \\ne 0 \\hspace{2mm}\n",
    "\\end{aligned}\n",
    "$$"
   ]
  },
  {
   "cell_type": "code",
   "execution_count": 317,
   "metadata": {},
   "outputs": [
    {
     "name": "stdout",
     "output_type": "stream",
     "text": [
      "T: 0.8057\n",
      "Критическое значение: 1.96\n",
      "P-значение: 0.42\n",
      "Нулевая гипотеза не отвергается на уровне значимости 0.05\n"
     ]
    }
   ],
   "source": [
    "d_mean = x_mean - y_mean                                \n",
    "d_std = np.sqrt(x.var(ddof=1)/n + y.var(ddof=1)/n)   \n",
    "\n",
    "T = d_mean/d_std                                           \n",
    "T_crit = sts.norm.ppf(1 - alpha/2)\n",
    "P = (1 - sts.norm.cdf(T)) * 2\n",
    "\n",
    "print(f'T: {T:.4}')\n",
    "print(f'Критическое значение: {T_crit:.4}')\n",
    "print(f'P-значение: {P:.2}')\n",
    "print('Нулевая гипотеза {} на уровне значимости {}'.format('не отвергается' if P > alpha else 'отвергается', alpha))"
   ]
  },
  {
   "cell_type": "markdown",
   "metadata": {},
   "source": [
    "**Параметрический z-тест опровергает гипотезу об изменении средних цен на недвижимость на уровне значимости 0.05.**"
   ]
  },
  {
   "cell_type": "markdown",
   "metadata": {},
   "source": [
    "**На поставленный вопрос, исходя из результатов 2 тестов, я бы ответил, что средние цены на недвижимость не изменились.**"
   ]
  },
  {
   "cell_type": "markdown",
   "metadata": {
    "id": "ew4ByKQOXjyD"
   },
   "source": [
    "## Расход топлива\n",
    "В файле mtcars.csv находятся данные из американского журнала Motor Trend 1974 года. Они описывают расход топлива в зависимости от 10 характеристик автомобиля (все автомобили 1973-1974 года). А именно, в данных вы найдете следующие столбцы:\n",
    "1. mpg — расход топлива (миль/галлон); \n",
    "2. cyl — количество цилиндров мотора; 3) disp — объем мотор (куб. дюйм);\n",
    "4. hp — мощность мотора (в лошадиных силах);\n",
    "5. drat — передаточное число редуктора заднего моста;\n",
    "6. wt — вес (тысяч фунтов);\n",
    "7. qsec — время, за которое автомобиль проезжает 1/4 мили;\n",
    "8. vs — тип двигателя (0 = V-образный, 1 = рядный);\n",
    "9. am — тип коробки передач (0 = автоматическая, 1 = ручная);\n",
    "10. gear — количество передних передач; 11) carb — количество карбюраторов.\n",
    "\n"
   ]
  },
  {
   "cell_type": "markdown",
   "metadata": {
    "id": "nFvA_mW-MVkM"
   },
   "source": [
    "- Влияет ли тип двигателя на расход топлива? \n",
    "- А тип коробки передач?\n",
    "- Взаимосвязаны ли тип двигателя и тип коробки передач?"
   ]
  },
  {
   "cell_type": "code",
   "execution_count": 318,
   "metadata": {
    "colab": {
     "base_uri": "https://localhost:8080/",
     "height": 206
    },
    "id": "OqCi07e-XsGv",
    "outputId": "62a7bf13-eedc-4f64-c64f-cd29bb246e98"
   },
   "outputs": [
    {
     "data": {
      "text/html": [
       "<div>\n",
       "<style scoped>\n",
       "    .dataframe tbody tr th:only-of-type {\n",
       "        vertical-align: middle;\n",
       "    }\n",
       "\n",
       "    .dataframe tbody tr th {\n",
       "        vertical-align: top;\n",
       "    }\n",
       "\n",
       "    .dataframe thead th {\n",
       "        text-align: right;\n",
       "    }\n",
       "</style>\n",
       "<table border=\"1\" class=\"dataframe\">\n",
       "  <thead>\n",
       "    <tr style=\"text-align: right;\">\n",
       "      <th></th>\n",
       "      <th>mpg</th>\n",
       "      <th>cyl</th>\n",
       "      <th>disp</th>\n",
       "      <th>hp</th>\n",
       "      <th>drat</th>\n",
       "      <th>wt</th>\n",
       "      <th>qsec</th>\n",
       "      <th>vs</th>\n",
       "      <th>am</th>\n",
       "      <th>gear</th>\n",
       "      <th>carb</th>\n",
       "    </tr>\n",
       "  </thead>\n",
       "  <tbody>\n",
       "    <tr>\n",
       "      <th>Mazda RX4</th>\n",
       "      <td>21.0</td>\n",
       "      <td>6</td>\n",
       "      <td>160.0</td>\n",
       "      <td>110</td>\n",
       "      <td>3.90</td>\n",
       "      <td>2.620</td>\n",
       "      <td>16.46</td>\n",
       "      <td>0</td>\n",
       "      <td>1</td>\n",
       "      <td>4</td>\n",
       "      <td>4</td>\n",
       "    </tr>\n",
       "    <tr>\n",
       "      <th>Mazda RX4 Wag</th>\n",
       "      <td>21.0</td>\n",
       "      <td>6</td>\n",
       "      <td>160.0</td>\n",
       "      <td>110</td>\n",
       "      <td>3.90</td>\n",
       "      <td>2.875</td>\n",
       "      <td>17.02</td>\n",
       "      <td>0</td>\n",
       "      <td>1</td>\n",
       "      <td>4</td>\n",
       "      <td>4</td>\n",
       "    </tr>\n",
       "    <tr>\n",
       "      <th>Datsun 710</th>\n",
       "      <td>22.8</td>\n",
       "      <td>4</td>\n",
       "      <td>108.0</td>\n",
       "      <td>93</td>\n",
       "      <td>3.85</td>\n",
       "      <td>2.320</td>\n",
       "      <td>18.61</td>\n",
       "      <td>1</td>\n",
       "      <td>1</td>\n",
       "      <td>4</td>\n",
       "      <td>1</td>\n",
       "    </tr>\n",
       "    <tr>\n",
       "      <th>Hornet 4 Drive</th>\n",
       "      <td>21.4</td>\n",
       "      <td>6</td>\n",
       "      <td>258.0</td>\n",
       "      <td>110</td>\n",
       "      <td>3.08</td>\n",
       "      <td>3.215</td>\n",
       "      <td>19.44</td>\n",
       "      <td>1</td>\n",
       "      <td>0</td>\n",
       "      <td>3</td>\n",
       "      <td>1</td>\n",
       "    </tr>\n",
       "    <tr>\n",
       "      <th>Hornet Sportabout</th>\n",
       "      <td>18.7</td>\n",
       "      <td>8</td>\n",
       "      <td>360.0</td>\n",
       "      <td>175</td>\n",
       "      <td>3.15</td>\n",
       "      <td>3.440</td>\n",
       "      <td>17.02</td>\n",
       "      <td>0</td>\n",
       "      <td>0</td>\n",
       "      <td>3</td>\n",
       "      <td>2</td>\n",
       "    </tr>\n",
       "  </tbody>\n",
       "</table>\n",
       "</div>"
      ],
      "text/plain": [
       "                    mpg  cyl   disp   hp  drat     wt   qsec  vs  am  gear  \\\n",
       "Mazda RX4          21.0    6  160.0  110  3.90  2.620  16.46   0   1     4   \n",
       "Mazda RX4 Wag      21.0    6  160.0  110  3.90  2.875  17.02   0   1     4   \n",
       "Datsun 710         22.8    4  108.0   93  3.85  2.320  18.61   1   1     4   \n",
       "Hornet 4 Drive     21.4    6  258.0  110  3.08  3.215  19.44   1   0     3   \n",
       "Hornet Sportabout  18.7    8  360.0  175  3.15  3.440  17.02   0   0     3   \n",
       "\n",
       "                   carb  \n",
       "Mazda RX4             4  \n",
       "Mazda RX4 Wag         4  \n",
       "Datsun 710            1  \n",
       "Hornet 4 Drive        1  \n",
       "Hornet Sportabout     2  "
      ]
     },
     "execution_count": 318,
     "metadata": {},
     "output_type": "execute_result"
    }
   ],
   "source": [
    "df = pd.read_csv(ROOT+'mtcars.csv', index_col=0)\n",
    "df.head()"
   ]
  },
  {
   "cell_type": "code",
   "execution_count": 321,
   "metadata": {},
   "outputs": [
    {
     "data": {
      "text/plain": [
       "count    32.000000\n",
       "mean     20.090625\n",
       "std       6.026948\n",
       "min      10.400000\n",
       "25%      15.425000\n",
       "50%      19.200000\n",
       "75%      22.800000\n",
       "max      33.900000\n",
       "Name: mpg, dtype: float64"
      ]
     },
     "execution_count": 321,
     "metadata": {},
     "output_type": "execute_result"
    }
   ],
   "source": [
    "df.mpg.describe()"
   ]
  },
  {
   "cell_type": "code",
   "execution_count": 319,
   "metadata": {},
   "outputs": [
    {
     "data": {
      "text/html": [
       "<div>\n",
       "<style scoped>\n",
       "    .dataframe tbody tr th:only-of-type {\n",
       "        vertical-align: middle;\n",
       "    }\n",
       "\n",
       "    .dataframe tbody tr th {\n",
       "        vertical-align: top;\n",
       "    }\n",
       "\n",
       "    .dataframe thead th {\n",
       "        text-align: right;\n",
       "    }\n",
       "</style>\n",
       "<table border=\"1\" class=\"dataframe\">\n",
       "  <thead>\n",
       "    <tr style=\"text-align: right;\">\n",
       "      <th></th>\n",
       "      <th>mpg</th>\n",
       "      <th>vs</th>\n",
       "      <th>am</th>\n",
       "    </tr>\n",
       "  </thead>\n",
       "  <tbody>\n",
       "    <tr>\n",
       "      <th>mpg</th>\n",
       "      <td>1.000000</td>\n",
       "      <td>0.664039</td>\n",
       "      <td>0.599832</td>\n",
       "    </tr>\n",
       "    <tr>\n",
       "      <th>vs</th>\n",
       "      <td>0.664039</td>\n",
       "      <td>1.000000</td>\n",
       "      <td>0.168345</td>\n",
       "    </tr>\n",
       "    <tr>\n",
       "      <th>am</th>\n",
       "      <td>0.599832</td>\n",
       "      <td>0.168345</td>\n",
       "      <td>1.000000</td>\n",
       "    </tr>\n",
       "  </tbody>\n",
       "</table>\n",
       "</div>"
      ],
      "text/plain": [
       "          mpg        vs        am\n",
       "mpg  1.000000  0.664039  0.599832\n",
       "vs   0.664039  1.000000  0.168345\n",
       "am   0.599832  0.168345  1.000000"
      ]
     },
     "execution_count": 319,
     "metadata": {},
     "output_type": "execute_result"
    }
   ],
   "source": [
    "cols = ['mpg', 'vs', 'am']\n",
    "corr = df[cols].corr()\n",
    "\n",
    "corr"
   ]
  },
  {
   "cell_type": "code",
   "execution_count": 320,
   "metadata": {},
   "outputs": [
    {
     "data": {
      "image/png": "[encoded data removed]",
      "text/plain": [
       "<Figure size 720x720 with 2 Axes>"
      ]
     },
     "metadata": {},
     "output_type": "display_data"
    }
   ],
   "source": [
    "mask = np.triu(np.ones_like(corr, dtype=bool))\n",
    "\n",
    "plt.subplots(figsize=(10, 10))\n",
    "sns.heatmap(corr, mask=mask, square=True,\n",
    "            annot=True, fmt=\".2f\", \n",
    "            linewidths=0.2, cmap=\"RdBu_r\",\n",
    "            vmin=-1, vmax=1, center=0\n",
    "           );"
   ]
  },
  {
   "cell_type": "markdown",
   "metadata": {},
   "source": [
    "**Исходя из проведённого корреляционного анализа, расход тполива довольно сильно зависит и от типа двигателя, и от типа коробки передач. А вот тип двигателя и тип коробки передач связаны между собой слабо.**"
   ]
  },
  {
   "cell_type": "markdown",
   "metadata": {},
   "source": [
    "#### Попарный анализ\n",
    "Так как тип двигателя и тип коробки передач - булевы переменные, мы можем разбить по этим критериям автомобили на 2 выборки и провести сравнение средних и долей."
   ]
  },
  {
   "cell_type": "markdown",
   "metadata": {
    "id": "9Zz_I5TeMVkM"
   },
   "source": [
    "### vs, mpg"
   ]
  },
  {
   "cell_type": "markdown",
   "metadata": {},
   "source": [
    "**Перед нами задача на разницу средней в независимых выборках.**\n",
    "- Подходящие непараметрические критерии:\n",
    "    - критерий Манна-Уитни, при условии похожести распределения выборок;\n",
    "- Подходящие параметрические критерии:\n",
    "    - Асимптотические:\n",
    "        - z-критерий на разницу средних;\n",
    "    - Точные (при условии нормального распределения):\n",
    "        - t-критерий в случае равных дисперсий или t-критерий Уэлча в случае разных дисперсий;\n",
    "- Подходящие критерии согласия:\n",
    "    - критерий Колмогорова, так как проверяется гипотеза о происхождении выборок из непрерывного распределения;\n",
    "- Дополнительные тесты:\n",
    "    - критерий Фишера на отношение дисперсий (в случае нормальных выборок для определения нужного t-теста)."
   ]
  },
  {
   "cell_type": "code",
   "execution_count": 324,
   "metadata": {},
   "outputs": [
    {
     "data": {
      "image/png": "[encoded data removed]",
      "text/plain": [
       "<Figure size 432x288 with 1 Axes>"
      ]
     },
     "metadata": {},
     "output_type": "display_data"
    }
   ],
   "source": [
    "sns.kdeplot(data=df,\n",
    "             x='mpg', hue='vs', \n",
    "             common_norm=False, palette='bright'\n",
    "            );"
   ]
  },
  {
   "cell_type": "markdown",
   "metadata": {},
   "source": [
    "**Выводы из графика:**\n",
    "- Распределения похожи --> можно использовать тест Манна-Уитни;\n",
    "- Распределения куполообразны --> вероятно, нормальные распределения;\n",
    "- Средние на разных уровнях, так что скорее всего гипотеза о равенстве средних будет отвергнута;\n",
    "- Дисперсии скорее всего различаются."
   ]
  },
  {
   "cell_type": "code",
   "execution_count": 328,
   "metadata": {},
   "outputs": [],
   "source": [
    "x = df[df.vs == 1]['mpg'].reset_index(drop=True)\n",
    "y = df[df.vs == 0]['mpg'].reset_index(drop=True)\n",
    "x_n, y_n = x.count(), y.count()\n",
    "x_mean, y_mean = x.mean(), y.mean()\n",
    "x_std, y_std = x.std(ddof=1), y.std(ddof=1)\n",
    "alpha = 0.05"
   ]
  },
  {
   "cell_type": "markdown",
   "metadata": {},
   "source": [
    "### НЕПАРАМЕТРИЧЕСКИЕ КРИТЕРИИ"
   ]
  },
  {
   "cell_type": "markdown",
   "metadata": {
    "id": "M9WvodoeJu52"
   },
   "source": [
    "### Критерий Манна-Уитни\n",
    "\n",
    "$H_0\\colon f_{X}(x) = f_{Y}(x), \\Delta= 0$\n",
    "\n",
    "$H_1\\colon f_{X}(x) = f_{Y}(x + \\Delta), \\Delta > 0$"
   ]
  },
  {
   "cell_type": "code",
   "execution_count": 335,
   "metadata": {
    "id": "VsqOEwkEJu52",
    "outputId": "0a1878a5-2708-41ff-84f9-9ae55181b5c7"
   },
   "outputs": [
    {
     "name": "stdout",
     "output_type": "stream",
     "text": [
      "T: 229.5\n",
      "P-значение: 4.5172e-05\n",
      "Нулевая гипотеза отвергается на уровне значимости 0.05\n"
     ]
    }
   ],
   "source": [
    "T, P = sts.mannwhitneyu(x, y, alternative='greater')\n",
    "\n",
    "print(f'T: {T:.5}')\n",
    "print(f'P-значение: {P:.5}')\n",
    "print('Нулевая гипотеза {} на уровне значимости {}'.format('не отвергается' if P > alpha else 'отвергается', alpha))"
   ]
  },
  {
   "cell_type": "markdown",
   "metadata": {},
   "source": [
    "**Критерий Манна-Уитни опровергает гипотезу о равенстве среднего расхода топлива для разных типов двигателя.**"
   ]
  },
  {
   "cell_type": "markdown",
   "metadata": {},
   "source": [
    "### КРИТЕРИИ СОГЛАСИЯ"
   ]
  },
  {
   "cell_type": "markdown",
   "metadata": {},
   "source": [
    "### Q-Q-График"
   ]
  },
  {
   "cell_type": "code",
   "execution_count": 336,
   "metadata": {},
   "outputs": [
    {
     "data": {
      "image/png": "[encoded data removed]",
      "text/plain": [
       "<Figure size 432x288 with 1 Axes>"
      ]
     },
     "metadata": {},
     "output_type": "display_data"
    }
   ],
   "source": [
    "sts.probplot(y, dist=\"norm\", plot=plt);"
   ]
  },
  {
   "cell_type": "markdown",
   "metadata": {},
   "source": [
    "Q-Q-График расхода топлива для V-образных двигателей показывает, что распределение в целом похоже на нормальное."
   ]
  },
  {
   "cell_type": "code",
   "execution_count": 337,
   "metadata": {},
   "outputs": [
    {
     "data": {
      "image/png": "[encoded data removed]",
      "text/plain": [
       "<Figure size 432x288 with 1 Axes>"
      ]
     },
     "metadata": {},
     "output_type": "display_data"
    }
   ],
   "source": [
    "sts.probplot(x, dist=\"norm\", plot=plt);"
   ]
  },
  {
   "cell_type": "markdown",
   "metadata": {},
   "source": [
    "Q-Q-График расхода топлива для рядных двигателей показывает, что распределение в целом похоже на нормальное."
   ]
  },
  {
   "cell_type": "markdown",
   "metadata": {},
   "source": [
    "### Критерий Колмогорова\n",
    "\n",
    "$$\n",
    "\\begin{aligned}\n",
    "H_0 : Y \\sim N(\\mu, \\sigma^2) \\\\\n",
    "H_1 : Y \\nsim N(\\mu, \\sigma^2)\n",
    "\\end{aligned}\n",
    "$$"
   ]
  },
  {
   "cell_type": "code",
   "execution_count": 338,
   "metadata": {},
   "outputs": [
    {
     "data": {
      "text/plain": [
       "count    18.000000\n",
       "mean     16.616667\n",
       "std       3.860699\n",
       "min      10.400000\n",
       "25%      14.775000\n",
       "50%      15.650000\n",
       "75%      19.075000\n",
       "max      26.000000\n",
       "Name: mpg, dtype: float64"
      ]
     },
     "execution_count": 338,
     "metadata": {},
     "output_type": "execute_result"
    }
   ],
   "source": [
    "y.describe()"
   ]
  },
  {
   "cell_type": "code",
   "execution_count": 339,
   "metadata": {},
   "outputs": [
    {
     "name": "stdout",
     "output_type": "stream",
     "text": [
      "P-значение: 0.83\n",
      "Нулевая гипотеза не отвергается на уровне значимости 0.05\n"
     ]
    },
    {
     "data": {
      "image/png": "[encoded data removed]",
      "text/plain": [
       "<Figure size 432x288 with 1 Axes>"
      ]
     },
     "metadata": {},
     "output_type": "display_data"
    }
   ],
   "source": [
    "sns.ecdfplot(y, label='observed')\n",
    "xs = np.arange(7, 30, 0.1)\n",
    "cdf = sts.norm.cdf(xs, loc=y_mean, scale=y_std)\n",
    "plt.plot(xs, cdf, label='theoretical')\n",
    "\n",
    "plt.legend();\n",
    "\n",
    "P = sts.kstest(y, 'norm', args=(y_mean, y_std))[1]\n",
    "\n",
    "print(f'P-значение: {P:.2}')\n",
    "print('Нулевая гипотеза {} на уровне значимости {}'.format('отвергается' if P < alpha else 'не отвергается', alpha))"
   ]
  },
  {
   "cell_type": "markdown",
   "metadata": {},
   "source": [
    "$$\n",
    "\\begin{aligned}\n",
    "H_0 : X \\sim N(\\mu, \\sigma^2) \\\\\n",
    "H_1 : X \\nsim N(\\mu, \\sigma^2)\n",
    "\\end{aligned}\n",
    "$$"
   ]
  },
  {
   "cell_type": "code",
   "execution_count": 340,
   "metadata": {},
   "outputs": [
    {
     "data": {
      "text/plain": [
       "count    14.000000\n",
       "mean     24.557143\n",
       "std       5.378978\n",
       "min      17.800000\n",
       "25%      21.400000\n",
       "50%      22.800000\n",
       "75%      29.625000\n",
       "max      33.900000\n",
       "Name: mpg, dtype: float64"
      ]
     },
     "execution_count": 340,
     "metadata": {},
     "output_type": "execute_result"
    }
   ],
   "source": [
    "x.describe()"
   ]
  },
  {
   "cell_type": "code",
   "execution_count": 341,
   "metadata": {
    "scrolled": true
   },
   "outputs": [
    {
     "name": "stdout",
     "output_type": "stream",
     "text": [
      "P-значение: 0.57\n",
      "Нулевая гипотеза не отвергается на уровне значимости 0.05\n"
     ]
    },
    {
     "data": {
      "image/png": "[encoded data removed]",
      "text/plain": [
       "<Figure size 432x288 with 1 Axes>"
      ]
     },
     "metadata": {},
     "output_type": "display_data"
    }
   ],
   "source": [
    "sns.ecdfplot(x, label='observed')\n",
    "xs = np.arange(14, 36, 0.1)\n",
    "cdf = sts.norm.cdf(xs, loc=x_mean, scale=x_std)\n",
    "plt.plot(xs, cdf, label='theoretical')\n",
    "\n",
    "plt.legend();\n",
    "\n",
    "P = sts.kstest(x, 'norm', args=(x_mean, x_std))[1]\n",
    "\n",
    "print(f'P-значение: {P:.2}')\n",
    "print('Нулевая гипотеза {} на уровне значимости {}'.format('отвергается' if P < alpha else 'не отвергается', alpha))"
   ]
  },
  {
   "cell_type": "markdown",
   "metadata": {},
   "source": [
    "**Критерий Колмогорова не отвергает гипотезу о нормальности распределений, поэтому воспользуемся всеми параметрическими критериями.**"
   ]
  },
  {
   "cell_type": "markdown",
   "metadata": {},
   "source": [
    "### ПАРАМЕТРИЧЕСКИЕ КРИТЕРИИ"
   ]
  },
  {
   "cell_type": "markdown",
   "metadata": {},
   "source": [
    "### Z-тест на разность средних\n",
    "$$\n",
    "\\begin{aligned}\n",
    "&H_0: \\hspace{2mm} \\mu_x-\\mu_y = 0 \\hspace{2mm}\\\\\n",
    "&H_1: \\hspace{2mm}\\mu_x-\\mu_y  \\ne 0 \\hspace{2mm}\n",
    "\\end{aligned}\n",
    "$$"
   ]
  },
  {
   "cell_type": "code",
   "execution_count": 344,
   "metadata": {},
   "outputs": [
    {
     "name": "stdout",
     "output_type": "stream",
     "text": [
      "T: 4.487\n",
      "Критическое значение: 1.96\n",
      "P-значение: 7.2e-06\n",
      "Нулевая гипотеза отвергается на уровне значимости 0.05\n"
     ]
    }
   ],
   "source": [
    "d_mean = x_mean - y_mean                                \n",
    "d_std = np.sqrt(x.var(ddof=1)/n + y.var(ddof=1)/n)   \n",
    "\n",
    "T = d_mean/d_std                                           \n",
    "T_crit = sts.norm.ppf(1 - alpha/2)\n",
    "P = (1 - sts.norm.cdf(T)) * 2\n",
    "\n",
    "print(f'T: {T:.4}')\n",
    "print(f'Критическое значение: {T_crit:.4}')\n",
    "print(f'P-значение: {P:.2}')\n",
    "print('Нулевая гипотеза {} на уровне значимости {}'.format('не отвергается' if P > alpha else 'отвергается', alpha))"
   ]
  },
  {
   "cell_type": "markdown",
   "metadata": {},
   "source": [
    "### Критерий Фишера\n",
    "$$\n",
    "\\begin{aligned}\n",
    "&H_0: \\hspace{2mm} \\sigma^2_x = \\sigma^2_y \\hspace{2mm} \\\\\n",
    "&H_1: \\hspace{2mm} \\sigma^2_x \\neq \\sigma^2_y  \\hspace{2mm}\n",
    "\\end{aligned}\n",
    "$$"
   ]
  },
  {
   "cell_type": "code",
   "execution_count": 345,
   "metadata": {},
   "outputs": [
    {
     "name": "stdout",
     "output_type": "stream",
     "text": [
      "T: 1.941\n",
      "Критическое значение: 2.786\n",
      "P-значение: 0.2\n",
      "Нулевая гипотеза не отвергается на уровне значимости 0.05\n"
     ]
    }
   ],
   "source": [
    "T = x.var()/y.var()\n",
    "f = sts.f(x_n - 1, y_n - 1) \n",
    "T_crit = f.ppf(1 - alpha/2)\n",
    "P = (1 - f.cdf(T)) * 2\n",
    "\n",
    "print(f'T: {T:.4}')\n",
    "print(f'Критическое значение: {T_crit:.4}')\n",
    "print(f'P-значение: {P:.2}')\n",
    "print('Нулевая гипотеза {} на уровне значимости {}'.format('не отвергается' if P > alpha else 'отвергается', alpha))"
   ]
  },
  {
   "cell_type": "markdown",
   "metadata": {},
   "source": [
    "**Тест Фишера не отвергает гипотезу о равенстве дисперсий на уровне значимости 0.05.\n",
    "Следовательно, выбираем t-тест на разницу средних для одинаковых дисперсий.**"
   ]
  },
  {
   "cell_type": "markdown",
   "metadata": {},
   "source": [
    "### Тест Стьюдента на разность средних для одинаковых дисперсий\n",
    "$$\n",
    "\\begin{aligned}\n",
    "&H_0: \\hspace{2mm} \\mu_x-\\mu_y = 0 \\hspace{2mm}\\\\\n",
    "&H_1: \\hspace{2mm}\\mu_x-\\mu_y  \\ne 0 \\hspace{2mm}\n",
    "\\end{aligned}\n",
    "$$"
   ]
  },
  {
   "cell_type": "code",
   "execution_count": 347,
   "metadata": {},
   "outputs": [
    {
     "name": "stdout",
     "output_type": "stream",
     "text": [
      "T: 4.864\n",
      "Критическое значение: 2.042\n",
      "P-значение: 3.4e-05\n",
      "Нулевая гипотеза отвергается на уровне значимости 0.05\n"
     ]
    }
   ],
   "source": [
    "d = x_mean - y_mean                               \n",
    "d_var = ((x_n - 1)*x.var(ddof=1) + (y_n - 1)*y.var(ddof=1))/(x_n + y_n - 2)\n",
    "d_std = np.sqrt(d_var/x_n + d_var/y_n)                  \n",
    "\n",
    "T = d/d_std\n",
    "t = sts.t(df = x_n + y_n - 2)\n",
    "T_crit = t.ppf(1 - alpha/2)\n",
    "P = (1 - t.cdf(T)) * 2\n",
    "\n",
    "print(f'T: {T:.4}')\n",
    "print(f'Критическое значение: {T_crit:.4}')\n",
    "print(f'P-значение: {P:.2}')\n",
    "print('Нулевая гипотеза {} на уровне значимости {}'.format('не отвергается' if P > alpha else 'отвергается', alpha))"
   ]
  },
  {
   "cell_type": "markdown",
   "metadata": {},
   "source": [
    "**На поставленный вопрос, исходя из результатов 2 тестов, я бы ответил, что средний расход топлива различается в зависимости от типа двигателя.**"
   ]
  },
  {
   "cell_type": "markdown",
   "metadata": {
    "id": "gaZ6XmvuexzG"
   },
   "source": [
    "### am, mpg"
   ]
  },
  {
   "cell_type": "markdown",
   "metadata": {},
   "source": [
    "**Перед нами задача на разницу средней в независимых выборках.**\n",
    "- Подходящие непараметрические критерии:\n",
    "    - критерий Манна-Уитни, при условии похожести распределения выборок;\n",
    "- Подходящие параметрические критерии:\n",
    "    - Асимптотические:\n",
    "        - z-критерий на разницу средних;\n",
    "    - Точные (при условии нормального распределения):\n",
    "        - t-критерий в случае равных дисперсий или t-критерий Уэлча в случае разных дисперсий;\n",
    "- Подходящие критерии согласия:\n",
    "    - критерий Колмогорова, так как проверяется гипотеза о происхождении выборок из непрерывного распределения;\n",
    "- Дополнительные тесты:\n",
    "    - критерий Фишера на отношение дисперсий (в случае нормальных выборок для определения нужного t-теста)."
   ]
  },
  {
   "cell_type": "code",
   "execution_count": 348,
   "metadata": {},
   "outputs": [
    {
     "data": {
      "image/png": "[encoded data removed]",
      "text/plain": [
       "<Figure size 432x288 with 1 Axes>"
      ]
     },
     "metadata": {},
     "output_type": "display_data"
    }
   ],
   "source": [
    "sns.kdeplot(data=df,\n",
    "             x='mpg', hue='am', \n",
    "             common_norm=False, palette='bright'\n",
    "            );"
   ]
  },
  {
   "cell_type": "markdown",
   "metadata": {},
   "source": [
    "**Выводы из графика:**\n",
    "- Распределения в целом похожи --> можно использовать тест Манна-Уитни;\n",
    "- Распределения куполообразны --> вероятно, нормальные распределения;\n",
    "- Средние на разных уровнях, так что скорее всего гипотеза о равенстве средних будет отвергнута;\n",
    "- Дисперсии скорее всего различаются."
   ]
  },
  {
   "cell_type": "code",
   "execution_count": 349,
   "metadata": {},
   "outputs": [],
   "source": [
    "x = df[df.am == 1]['mpg'].reset_index(drop=True)\n",
    "y = df[df.am == 0]['mpg'].reset_index(drop=True)\n",
    "x_n, y_n = x.count(), y.count()\n",
    "x_mean, y_mean = x.mean(), y.mean()\n",
    "x_std, y_std = x.std(ddof=1), y.std(ddof=1)\n",
    "alpha = 0.05"
   ]
  },
  {
   "cell_type": "markdown",
   "metadata": {},
   "source": [
    "### НЕПАРАМЕТРИЧЕСКИЕ КРИТЕРИИ"
   ]
  },
  {
   "cell_type": "markdown",
   "metadata": {
    "id": "M9WvodoeJu52"
   },
   "source": [
    "### Критерий Манна-Уитни\n",
    "\n",
    "$H_0\\colon f_{X}(x) = f_{Y}(x), \\Delta= 0$\n",
    "\n",
    "$H_1\\colon f_{X}(x) = f_{Y}(x + \\Delta), \\Delta > 0$"
   ]
  },
  {
   "cell_type": "code",
   "execution_count": 352,
   "metadata": {
    "id": "VsqOEwkEJu52",
    "outputId": "0a1878a5-2708-41ff-84f9-9ae55181b5c7"
   },
   "outputs": [
    {
     "name": "stdout",
     "output_type": "stream",
     "text": [
      "T: 205.0\n",
      "P-значение: 0.000936\n",
      "Нулевая гипотеза отвергается на уровне значимости 0.05\n"
     ]
    }
   ],
   "source": [
    "T, P = sts.mannwhitneyu(x, y, alternative='greater')\n",
    "\n",
    "print(f'T: {T:.5}')\n",
    "print(f'P-значение: {P:.3}')\n",
    "print('Нулевая гипотеза {} на уровне значимости {}'.format('не отвергается' if P > alpha else 'отвергается', alpha))"
   ]
  },
  {
   "cell_type": "markdown",
   "metadata": {},
   "source": [
    "**Критерий Манна-Уитни опровергает гипотезу о равенстве среднего расхода топлива для разных типов коробки передач.**"
   ]
  },
  {
   "cell_type": "markdown",
   "metadata": {},
   "source": [
    "### КРИТЕРИИ СОГЛАСИЯ"
   ]
  },
  {
   "cell_type": "markdown",
   "metadata": {},
   "source": [
    "### Q-Q-График"
   ]
  },
  {
   "cell_type": "code",
   "execution_count": 353,
   "metadata": {},
   "outputs": [
    {
     "data": {
      "image/png": "[encoded data removed]",
      "text/plain": [
       "<Figure size 432x288 with 1 Axes>"
      ]
     },
     "metadata": {},
     "output_type": "display_data"
    }
   ],
   "source": [
    "sts.probplot(y, dist=\"norm\", plot=plt);"
   ]
  },
  {
   "cell_type": "markdown",
   "metadata": {},
   "source": [
    "Q-Q-График расхода топлива для автоматической коробки передач показывает, что распределение в целом похоже на нормальное."
   ]
  },
  {
   "cell_type": "code",
   "execution_count": 354,
   "metadata": {},
   "outputs": [
    {
     "data": {
      "image/png": "[encoded data removed]",
      "text/plain": [
       "<Figure size 432x288 with 1 Axes>"
      ]
     },
     "metadata": {},
     "output_type": "display_data"
    }
   ],
   "source": [
    "sts.probplot(x, dist=\"norm\", plot=plt);"
   ]
  },
  {
   "cell_type": "markdown",
   "metadata": {},
   "source": [
    "Q-Q-График расхода топлива для ручной коробки передач показывает, что распределение в целом похоже на нормальное."
   ]
  },
  {
   "cell_type": "markdown",
   "metadata": {},
   "source": [
    "### Критерий Колмогорова\n",
    "\n",
    "$$\n",
    "\\begin{aligned}\n",
    "H_0 : Y \\sim N(\\mu, \\sigma^2) \\\\\n",
    "H_1 : Y \\nsim N(\\mu, \\sigma^2)\n",
    "\\end{aligned}\n",
    "$$"
   ]
  },
  {
   "cell_type": "code",
   "execution_count": 355,
   "metadata": {},
   "outputs": [
    {
     "data": {
      "text/plain": [
       "count    19.000000\n",
       "mean     17.147368\n",
       "std       3.833966\n",
       "min      10.400000\n",
       "25%      14.950000\n",
       "50%      17.300000\n",
       "75%      19.200000\n",
       "max      24.400000\n",
       "Name: mpg, dtype: float64"
      ]
     },
     "execution_count": 355,
     "metadata": {},
     "output_type": "execute_result"
    }
   ],
   "source": [
    "y.describe()"
   ]
  },
  {
   "cell_type": "code",
   "execution_count": 356,
   "metadata": {},
   "outputs": [
    {
     "name": "stdout",
     "output_type": "stream",
     "text": [
      "P-значение: 1.0\n",
      "Нулевая гипотеза не отвергается на уровне значимости 0.05\n"
     ]
    },
    {
     "data": {
      "image/png": "[encoded data removed]",
      "text/plain": [
       "<Figure size 432x288 with 1 Axes>"
      ]
     },
     "metadata": {},
     "output_type": "display_data"
    }
   ],
   "source": [
    "sns.ecdfplot(y, label='observed')\n",
    "xs = np.arange(8, 26, 0.1)\n",
    "cdf = sts.norm.cdf(xs, loc=y_mean, scale=y_std)\n",
    "plt.plot(xs, cdf, label='theoretical')\n",
    "\n",
    "plt.legend();\n",
    "\n",
    "P = sts.kstest(y, 'norm', args=(y_mean, y_std))[1]\n",
    "\n",
    "print(f'P-значение: {P:.2}')\n",
    "print('Нулевая гипотеза {} на уровне значимости {}'.format('отвергается' if P < alpha else 'не отвергается', alpha))"
   ]
  },
  {
   "cell_type": "markdown",
   "metadata": {},
   "source": [
    "$$\n",
    "\\begin{aligned}\n",
    "H_0 : X \\sim N(\\mu, \\sigma^2) \\\\\n",
    "H_1 : X \\nsim N(\\mu, \\sigma^2)\n",
    "\\end{aligned}\n",
    "$$"
   ]
  },
  {
   "cell_type": "code",
   "execution_count": 357,
   "metadata": {},
   "outputs": [
    {
     "data": {
      "text/plain": [
       "count    13.000000\n",
       "mean     24.392308\n",
       "std       6.166504\n",
       "min      15.000000\n",
       "25%      21.000000\n",
       "50%      22.800000\n",
       "75%      30.400000\n",
       "max      33.900000\n",
       "Name: mpg, dtype: float64"
      ]
     },
     "execution_count": 357,
     "metadata": {},
     "output_type": "execute_result"
    }
   ],
   "source": [
    "x.describe()"
   ]
  },
  {
   "cell_type": "code",
   "execution_count": 358,
   "metadata": {
    "scrolled": true
   },
   "outputs": [
    {
     "name": "stdout",
     "output_type": "stream",
     "text": [
      "P-значение: 0.9\n",
      "Нулевая гипотеза не отвергается на уровне значимости 0.05\n"
     ]
    },
    {
     "data": {
      "image/png": "[encoded data removed]",
      "text/plain": [
       "<Figure size 432x288 with 1 Axes>"
      ]
     },
     "metadata": {},
     "output_type": "display_data"
    }
   ],
   "source": [
    "sns.ecdfplot(x, label='observed')\n",
    "xs = np.arange(14, 35, 0.1)\n",
    "cdf = sts.norm.cdf(xs, loc=x_mean, scale=x_std)\n",
    "plt.plot(xs, cdf, label='theoretical')\n",
    "\n",
    "plt.legend();\n",
    "\n",
    "P = sts.kstest(x, 'norm', args=(x_mean, x_std))[1]\n",
    "\n",
    "print(f'P-значение: {P:.2}')\n",
    "print('Нулевая гипотеза {} на уровне значимости {}'.format('отвергается' if P < alpha else 'не отвергается', alpha))"
   ]
  },
  {
   "cell_type": "markdown",
   "metadata": {},
   "source": [
    "**Критерий Колмогорова не отвергает гипотезу о нормальности распределений, поэтому воспользуемся всеми параметрическими критериями.**"
   ]
  },
  {
   "cell_type": "markdown",
   "metadata": {},
   "source": [
    "### ПАРАМЕТРИЧЕСКИЕ КРИТЕРИИ"
   ]
  },
  {
   "cell_type": "markdown",
   "metadata": {},
   "source": [
    "### Z-тест на разность средних\n",
    "$$\n",
    "\\begin{aligned}\n",
    "&H_0: \\hspace{2mm} \\mu_x-\\mu_y = 0 \\hspace{2mm}\\\\\n",
    "&H_1: \\hspace{2mm}\\mu_x-\\mu_y  \\ne 0 \\hspace{2mm}\n",
    "\\end{aligned}\n",
    "$$"
   ]
  },
  {
   "cell_type": "code",
   "execution_count": 359,
   "metadata": {},
   "outputs": [
    {
     "name": "stdout",
     "output_type": "stream",
     "text": [
      "T: 3.733\n",
      "Критическое значение: 1.96\n",
      "P-значение: 0.00019\n",
      "Нулевая гипотеза отвергается на уровне значимости 0.05\n"
     ]
    }
   ],
   "source": [
    "d_mean = x_mean - y_mean                                \n",
    "d_std = np.sqrt(x.var(ddof=1)/n + y.var(ddof=1)/n)   \n",
    "\n",
    "T = d_mean/d_std                                           \n",
    "T_crit = sts.norm.ppf(1 - alpha/2)\n",
    "P = (1 - sts.norm.cdf(T)) * 2\n",
    "\n",
    "print(f'T: {T:.4}')\n",
    "print(f'Критическое значение: {T_crit:.4}')\n",
    "print(f'P-значение: {P:.2}')\n",
    "print('Нулевая гипотеза {} на уровне значимости {}'.format('не отвергается' if P > alpha else 'отвергается', alpha))"
   ]
  },
  {
   "cell_type": "markdown",
   "metadata": {},
   "source": [
    "### Критерий Фишера\n",
    "$$\n",
    "\\begin{aligned}\n",
    "&H_0: \\hspace{2mm} \\sigma^2_x = \\sigma^2_y \\hspace{2mm} \\\\\n",
    "&H_1: \\hspace{2mm} \\sigma^2_x \\neq \\sigma^2_y  \\hspace{2mm}\n",
    "\\end{aligned}\n",
    "$$"
   ]
  },
  {
   "cell_type": "code",
   "execution_count": 360,
   "metadata": {},
   "outputs": [
    {
     "name": "stdout",
     "output_type": "stream",
     "text": [
      "T: 2.587\n",
      "Критическое значение: 2.769\n",
      "P-значение: 0.067\n",
      "Нулевая гипотеза не отвергается на уровне значимости 0.05\n"
     ]
    }
   ],
   "source": [
    "T = x.var()/y.var()\n",
    "f = sts.f(x_n - 1, y_n - 1) \n",
    "T_crit = f.ppf(1 - alpha/2)\n",
    "P = (1 - f.cdf(T)) * 2\n",
    "\n",
    "print(f'T: {T:.4}')\n",
    "print(f'Критическое значение: {T_crit:.4}')\n",
    "print(f'P-значение: {P:.2}')\n",
    "print('Нулевая гипотеза {} на уровне значимости {}'.format('не отвергается' if P > alpha else 'отвергается', alpha))"
   ]
  },
  {
   "cell_type": "markdown",
   "metadata": {},
   "source": [
    "**Тест Фишера не отвергает гипотезу о равенстве дисперсий на уровне значимости 0.05.\n",
    "Следовательно, выбираем t-тест на разницу средних для одинаковых дисперсий.**"
   ]
  },
  {
   "cell_type": "markdown",
   "metadata": {},
   "source": [
    "### Тест Стьюдента на разность средних для одинаковых дисперсий\n",
    "$$\n",
    "\\begin{aligned}\n",
    "&H_0: \\hspace{2mm} \\mu_x-\\mu_y = 0 \\hspace{2mm}\\\\\n",
    "&H_1: \\hspace{2mm}\\mu_x-\\mu_y  \\ne 0 \\hspace{2mm}\n",
    "\\end{aligned}\n",
    "$$"
   ]
  },
  {
   "cell_type": "code",
   "execution_count": 361,
   "metadata": {},
   "outputs": [
    {
     "name": "stdout",
     "output_type": "stream",
     "text": [
      "T: 4.106\n",
      "Критическое значение: 2.042\n",
      "P-значение: 0.00029\n",
      "Нулевая гипотеза отвергается на уровне значимости 0.05\n"
     ]
    }
   ],
   "source": [
    "d = x_mean - y_mean                               \n",
    "d_var = ((x_n - 1)*x.var(ddof=1) + (y_n - 1)*y.var(ddof=1))/(x_n + y_n - 2)\n",
    "d_std = np.sqrt(d_var/x_n + d_var/y_n)                  \n",
    "\n",
    "T = d/d_std\n",
    "t = sts.t(df = x_n + y_n - 2)\n",
    "T_crit = t.ppf(1 - alpha/2)\n",
    "P = (1 - t.cdf(T)) * 2\n",
    "\n",
    "print(f'T: {T:.4}')\n",
    "print(f'Критическое значение: {T_crit:.4}')\n",
    "print(f'P-значение: {P:.2}')\n",
    "print('Нулевая гипотеза {} на уровне значимости {}'.format('не отвергается' if P > alpha else 'отвергается', alpha))"
   ]
  },
  {
   "cell_type": "markdown",
   "metadata": {},
   "source": [
    "**На поставленный вопрос, исходя из результатов 2 тестов, я бы ответил, что средний расход топлива различается в зависимости от типа коробки передач.**"
   ]
  },
  {
   "cell_type": "markdown",
   "metadata": {
    "id": "kCLFYqFzMVkN"
   },
   "source": [
    "### vs, am"
   ]
  },
  {
   "cell_type": "markdown",
   "metadata": {},
   "source": [
    "**Перед нами задача на разницу долей в независимых выборках.**\n",
    "- Подходящие непараметрические критерии:\n",
    "    - критерий Манна-Уитни;\n",
    "- Подходящие параметрические критерии:\n",
    "    - Асимптотические:\n",
    "        - z-критерий на разницу долей;\n",
    "- Подходящие критерии согласия:\n",
    "    - критерии согласия не нужны, так как асимптотический критерий не требует нормального распределения выборок."
   ]
  },
  {
   "cell_type": "code",
   "execution_count": 375,
   "metadata": {},
   "outputs": [],
   "source": [
    "x = df[df.vs == 1]['am'].reset_index(drop=True)\n",
    "y = df[df.vs == 0]['am'].reset_index(drop=True)\n",
    "x_n, y_n = x.count(), y.count()\n",
    "x_m, y_m = x.sum(), y.sum()\n",
    "x_mean, y_mean = x.mean(), y.mean()\n",
    "x_std, y_std = x.std(ddof=1), y.std(ddof=1)\n",
    "alpha = 0.05"
   ]
  },
  {
   "cell_type": "markdown",
   "metadata": {},
   "source": [
    "### НЕПАРАМЕТРИЧЕСКИЕ КРИТЕРИИ"
   ]
  },
  {
   "cell_type": "markdown",
   "metadata": {
    "id": "M9WvodoeJu52"
   },
   "source": [
    "### Критерий Манна-Уитни\n",
    "\n",
    "$H_0\\colon f_{X}(x) = f_{Y}(x), \\Delta= 0$\n",
    "\n",
    "$H_1\\colon f_{X}(x) = f_{Y}(x + \\Delta), \\Delta > 0$"
   ]
  },
  {
   "cell_type": "code",
   "execution_count": 368,
   "metadata": {
    "id": "VsqOEwkEJu52",
    "outputId": "0a1878a5-2708-41ff-84f9-9ae55181b5c7"
   },
   "outputs": [
    {
     "name": "stdout",
     "output_type": "stream",
     "text": [
      "T: 147.0\n",
      "P-значение: 0.1801\n",
      "Нулевая гипотеза не отвергается на уровне значимости 0.05\n"
     ]
    }
   ],
   "source": [
    "T, P = sts.mannwhitneyu(x, y, alternative='greater')\n",
    "\n",
    "print(f'T: {T:.5}')\n",
    "print(f'P-значение: {P:.5}')\n",
    "print('Нулевая гипотеза {} на уровне значимости {}'.format('не отвергается' if P > alpha else 'отвергается', alpha))"
   ]
  },
  {
   "cell_type": "markdown",
   "metadata": {},
   "source": [
    "**Критерий Манна-Уитни не опровергает гипотезу о равенстве доли автомобилей с разным типом коробки передач для разных типов двигателя.**"
   ]
  },
  {
   "cell_type": "markdown",
   "metadata": {},
   "source": [
    "### ПАРАМЕТРИЧЕСКИЕ КРИТЕРИИ"
   ]
  },
  {
   "cell_type": "markdown",
   "metadata": {},
   "source": [
    "### Z-тест на разность долей\n",
    "$$\n",
    "\\begin{aligned}\n",
    "&H_0: \\hspace{2mm} p_x = p_y \\hspace{2mm} \\\\\n",
    "&H_1: \\hspace{2mm} p_x \\ne p_y  \\hspace{2mm}\n",
    "\\end{aligned}\n",
    "$$"
   ]
  },
  {
   "cell_type": "code",
   "execution_count": 376,
   "metadata": {},
   "outputs": [
    {
     "name": "stdout",
     "output_type": "stream",
     "text": [
      "T: 0.9523\n",
      "Критическое значение: 1.96\n",
      "P-значение: 0.34\n",
      "Нулевая гипотеза не отвергается на уровне значимости 0.05\n"
     ]
    }
   ],
   "source": [
    "d = x_mean - y_mean                                    \n",
    "\n",
    "P = (x_m + y_m)/(x_n + y_n)          \n",
    "d_std = np.sqrt(P*(1 - P)*(1/x_n + 1/y_n))       \n",
    "                                    \n",
    "T = d/d_std                              \n",
    "T_crit = sts.norm.ppf(1 - alpha/2) \n",
    "P = (1 - sts.norm.cdf(T)) * 2\n",
    "\n",
    "print(f'T: {T:.4}')\n",
    "print(f'Критическое значение: {T_crit:.4}')\n",
    "print(f'P-значение: {P:.2}')\n",
    "print('Нулевая гипотеза {} на уровне значимости {}'.format('не отвергается' if P > alpha else 'отвергается', alpha))"
   ]
  },
  {
   "cell_type": "markdown",
   "metadata": {},
   "source": [
    "**Z-критерий не опровергает гипотезу о равенстве доли автомобилей с разным типом коробки передач для разных типов двигателя.**"
   ]
  },
  {
   "cell_type": "markdown",
   "metadata": {},
   "source": [
    "**На поставленный вопрос, исходя из результатов 2 тестов, я бы ответил, что доля автомобилей с разным типом коробки передач не зависит от типа двигателя.**"
   ]
  }
 ],
 "metadata": {
  "colab": {
   "provenance": [],
   "toc_visible": true
  },
  "kernelspec": {
   "display_name": "Python 3",
   "language": "python",
   "name": "python3"
  },
  "language_info": {
   "codemirror_mode": {
    "name": "ipython",
    "version": 3
   },
   "file_extension": ".py",
   "mimetype": "text/x-python",
   "name": "python",
   "nbconvert_exporter": "python",
   "pygments_lexer": "ipython3",
   "version": "3.8.8"
  },
  "toc": {
   "base_numbering": 1,
   "nav_menu": {},
   "number_sections": true,
   "sideBar": true,
   "skip_h1_title": false,
   "title_cell": "Table of Contents",
   "title_sidebar": "Contents",
   "toc_cell": false,
   "toc_position": {
    "height": "calc(100% - 180px)",
    "left": "10px",
    "top": "150px",
    "width": "287.841px"
   },
   "toc_section_display": true,
   "toc_window_display": true
  }
 },
 "nbformat": 4,
 "nbformat_minor": 1
}
