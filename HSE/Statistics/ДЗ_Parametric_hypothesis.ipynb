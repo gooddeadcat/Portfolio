{
 "cells": [
  {
   "cell_type": "markdown",
   "metadata": {
    "id": "lQH8gmSWGbDC"
   },
   "source": [
    "# Много гипотез"
   ]
  },
  {
   "cell_type": "markdown",
   "metadata": {
    "id": "oelts-ZPPCpd"
   },
   "source": [
    "В этом домашнем задании нужно проверить 7 гипотез\n",
    "\n",
    "Каждая дает по 5 баллов\n",
    "\n",
    "| Задание              | Баллы |\n",
    "|----------------------|-------|\n",
    "| Мудрость             |     5 |\n",
    "| Тайлер               |     5 |\n",
    "| Рейтинги президентов |     5 |\n",
    "| Сон                  |     5 |\n",
    "| Say my name          |     5 |\n",
    "| Матан                |     5 |\n",
    "| Бутерброд            |     5 |\n",
    "| Всего                |    35 |\n"
   ]
  },
  {
   "cell_type": "code",
   "execution_count": 3,
   "metadata": {
    "id": "v8VHlKCHGbDH"
   },
   "outputs": [],
   "source": [
    "import numpy as np\n",
    "import pandas as pd\n",
    "\n",
    "from scipy import stats as sts\n",
    "\n",
    "import seaborn as sns\n",
    "import matplotlib.pyplot as plt\n",
    "\n",
    "from IPython.display import Latex\n",
    "\n",
    "plt.style.use('ggplot')"
   ]
  },
  {
   "cell_type": "code",
   "execution_count": 4,
   "metadata": {
    "id": "ZD2nEY3kmgZV"
   },
   "outputs": [],
   "source": [
    "# это на всякий случай для маков, чтобы скачался датасет\n",
    "import ssl\n",
    "ssl._create_default_https_context = ssl._create_unverified_context\n",
    "\n",
    "# тут лежат все датасеты\n",
    "ROOT = 'https://raw.githubusercontent.com/ilyaaaaaaaa/datasets_for_ds/main/data/'\n",
    "# ROOT = '../data/'\n"
   ]
  },
  {
   "cell_type": "markdown",
   "metadata": {
    "id": "N61MUFtnGbDI"
   },
   "source": [
    "## Мудрость\n",
    "\n",
    "> Помните, что для человека звук его имени является самым сладким и самым важным звуком человеческой речи. (Дейл Карнеги)\n",
    "\n",
    "Доверяй, но проверяй. Решим задачку по психологии! Все цитаты в пабликах вконтакте делятся на два вида: мудрые и недостаточно мудрые. Если цитата мудрая, то её можно лайкнуть. Поговаривают, что если в цитате есть личные местоимения, то пользователь автоматически сопоставляет себя автору этой цитаты и вероятность того, что она будет лайкнута, повышается. Например, цитату \n",
    "\n",
    "> Можно простить человеку все, кроме отсутствия. (Экзюпери) \n",
    "\n",
    "мне не очень хотелось бы лайкать. А вот цитата \n",
    "\n",
    "> Мне наплевать, что вы обо мне думаете. Я о вас вообще не думаю. (Булгаков) \n",
    "\n",
    "совершенно другое дело. \n",
    "\n",
    "В табличке `df_vk_wise` лежат данные о мудрых цитатах из [мудрого паблика.](https://vk.com/ooioioioioioo) В колонке `I` находится переменная, которая принимает значение `True`, когда в тексте цитаты было личное местоимение \"Я\".\n",
    "\n",
    "Срежем первые $50$ постов, так как под ними количество репостов и лайков ещё окончательно не выставлено, и будем работать с остатками. "
   ]
  },
  {
   "cell_type": "code",
   "execution_count": 5,
   "metadata": {
    "colab": {
     "base_uri": "https://localhost:8080/",
     "height": 206
    },
    "id": "war-ReUpGbDK",
    "outputId": "d6ae8459-a8ec-45ed-fea5-68fd9eee5a0c"
   },
   "outputs": [
    {
     "data": {
      "text/html": [
       "<div>\n",
       "<style scoped>\n",
       "    .dataframe tbody tr th:only-of-type {\n",
       "        vertical-align: middle;\n",
       "    }\n",
       "\n",
       "    .dataframe tbody tr th {\n",
       "        vertical-align: top;\n",
       "    }\n",
       "\n",
       "    .dataframe thead th {\n",
       "        text-align: right;\n",
       "    }\n",
       "</style>\n",
       "<table border=\"1\" class=\"dataframe\">\n",
       "  <thead>\n",
       "    <tr style=\"text-align: right;\">\n",
       "      <th></th>\n",
       "      <th>likes</th>\n",
       "      <th>reposts</th>\n",
       "      <th>text</th>\n",
       "      <th>I</th>\n",
       "    </tr>\n",
       "  </thead>\n",
       "  <tbody>\n",
       "    <tr>\n",
       "      <th>50</th>\n",
       "      <td>549</td>\n",
       "      <td>25</td>\n",
       "      <td>Я, говорит, люблю человечество, но дивлюсь на ...</td>\n",
       "      <td>True</td>\n",
       "    </tr>\n",
       "    <tr>\n",
       "      <th>51</th>\n",
       "      <td>607</td>\n",
       "      <td>22</td>\n",
       "      <td>Нельзя любить то, что я люблю, да ещё так, как...</td>\n",
       "      <td>True</td>\n",
       "    </tr>\n",
       "    <tr>\n",
       "      <th>52</th>\n",
       "      <td>914</td>\n",
       "      <td>37</td>\n",
       "      <td>Если испытываешь по-настоящему глубокое чувств...</td>\n",
       "      <td>False</td>\n",
       "    </tr>\n",
       "    <tr>\n",
       "      <th>53</th>\n",
       "      <td>989</td>\n",
       "      <td>34</td>\n",
       "      <td>— Я тебя люблю, — сказал я. \\n— Это пройдет, —...</td>\n",
       "      <td>True</td>\n",
       "    </tr>\n",
       "    <tr>\n",
       "      <th>54</th>\n",
       "      <td>1229</td>\n",
       "      <td>32</td>\n",
       "      <td>Он очаровательно рассказывает мне о том, как о...</td>\n",
       "      <td>False</td>\n",
       "    </tr>\n",
       "  </tbody>\n",
       "</table>\n",
       "</div>"
      ],
      "text/plain": [
       "    likes  reposts                                               text      I\n",
       "50    549       25  Я, говорит, люблю человечество, но дивлюсь на ...   True\n",
       "51    607       22  Нельзя любить то, что я люблю, да ещё так, как...   True\n",
       "52    914       37  Если испытываешь по-настоящему глубокое чувств...  False\n",
       "53    989       34  — Я тебя люблю, — сказал я. \\n— Это пройдет, —...   True\n",
       "54   1229       32  Он очаровательно рассказывает мне о том, как о...  False"
      ]
     },
     "execution_count": 5,
     "metadata": {},
     "output_type": "execute_result"
    }
   ],
   "source": [
    "df = pd.read_csv(ROOT+'df_vk_wise.csv')[50:]\n",
    "df.head()"
   ]
  },
  {
   "cell_type": "markdown",
   "metadata": {
    "id": "wXuqQ9ZSGbDK"
   },
   "source": [
    "Постройте гистограмму для числа лайков постов, содержащих личные местоимения и не содержащих. Как думаете, есть ли с распределением лайков какие-то проблемы?"
   ]
  },
  {
   "cell_type": "code",
   "execution_count": 6,
   "metadata": {
    "deletable": false,
    "id": "ZDA_1HIWGbDK",
    "nbgrader": {
     "cell_type": "code",
     "checksum": "3959fa2c8afbb37a435b22f39831c1b4",
     "grade": false,
     "grade_id": "cell-5b1acf05ccd983b3",
     "locked": false,
     "schema_version": 3,
     "solution": true,
     "task": false
    }
   },
   "outputs": [
    {
     "data": {
      "image/png": "[encoded data removed]",
      "text/plain": [
       "<Figure size 432x288 with 1 Axes>"
      ]
     },
     "metadata": {},
     "output_type": "display_data"
    }
   ],
   "source": [
    "### ╰( ͡° ͜ʖ ͡° )つ▬▬ι═══════  bzzzzzzzzzz\n",
    "# your code below\n",
    "\n",
    "sns.histplot(df,\n",
    "             x='likes', hue='I', hue_order=[True, False],\n",
    "             stat='density', common_norm=False\n",
    "            );"
   ]
  },
  {
   "cell_type": "markdown",
   "metadata": {
    "id": "n4N8AsezGbDL"
   },
   "source": [
    "Да, проблемы есть. Это выбросы. Хвосты на гистограммах оказываются очень длинными. Найдите медианы и средние для числа лайков. Сравните их между собой. "
   ]
  },
  {
   "cell_type": "code",
   "execution_count": 7,
   "metadata": {
    "deletable": false,
    "id": "fa-zOO27GbDM",
    "nbgrader": {
     "cell_type": "code",
     "checksum": "920d011f18252d1f5ad8a0acbd77af8b",
     "grade": false,
     "grade_id": "cell-84afb85a40373b11",
     "locked": false,
     "schema_version": 3,
     "solution": true,
     "task": false
    }
   },
   "outputs": [
    {
     "name": "stdout",
     "output_type": "stream",
     "text": [
      "Медиана числа лайков для цитат с \"Я\": 2588.5\n",
      "Среднее числа лайков для цитат с \"Я\": 2879.2\n",
      "Цитаты с \"Я\": среднее минус медиана = 290.7 => тяжёлый правый хвост.\n",
      "\n",
      "Медиана числа лайков для цитат без \"Я\": 2497.0\n",
      "Среднее числа лайков для цитат без \"Я\": 2784.0\n",
      "Цитаты без \"Я\": среднее минус медиана = 287.0 => тяжёлый правый хвост.\n"
     ]
    }
   ],
   "source": [
    "### ╰( ͡° ͜ʖ ͡° )つ▬▬ι═══════  bzzzzzzzzzz\n",
    "# your code below\n",
    "\n",
    "i_likes = df[df.I == True].likes\n",
    "ne_i_likes = df[df.I == False].likes\n",
    "\n",
    "print(f'Медиана числа лайков для цитат с \"Я\": {i_likes.median():.5}')\n",
    "print(f'Среднее числа лайков для цитат с \"Я\": {i_likes.mean():.5}')\n",
    "print(f'Цитаты с \"Я\": среднее минус медиана = {(i_likes.mean() - i_likes.median()):.4} => тяжёлый правый хвост.')\n",
    "print()\n",
    "print(f'Медиана числа лайков для цитат без \"Я\": {ne_i_likes.median():.5}')\n",
    "print(f'Среднее числа лайков для цитат без \"Я\": {ne_i_likes.mean():.5}')\n",
    "print(f'Цитаты без \"Я\": среднее минус медиана = {(ne_i_likes.mean() - ne_i_likes.median()):.4} => тяжёлый правый хвост.')"
   ]
  },
  {
   "cell_type": "markdown",
   "metadata": {
    "id": "r5GY3AfUGbDN"
   },
   "source": [
    "Проверьте гипотезу о равенстве среднего числа лайков. Используйте для этого $z$-тест, основанный на ЦПТ. Дисперсию расчитывайте по выборке, используя несмещённую оценку `(ddof=1)`. Запишите наблюдаемое значение статистики в переменную `z_obs`. "
   ]
  },
  {
   "cell_type": "code",
   "execution_count": 8,
   "metadata": {
    "deletable": false,
    "id": "5H0qKAPQGbDN",
    "nbgrader": {
     "cell_type": "code",
     "checksum": "7f93ee1688388c6a8b8449e05da2fe98",
     "grade": false,
     "grade_id": "cell-1acfb89f07181a0a",
     "locked": false,
     "schema_version": 3,
     "solution": true,
     "task": false
    }
   },
   "outputs": [],
   "source": [
    "### ╰( ͡° ͜ʖ ͡° )つ▬▬ι═══════  bzzzzzzzzzz\n",
    "# your code below\n",
    "\n",
    "x = i_likes\n",
    "y = ne_i_likes\n",
    "\n",
    "xn = len(x)\n",
    "yn = len(y)\n",
    "\n",
    "xmean = x.mean()\n",
    "ymean = y.mean()\n",
    "\n",
    "xvar = x.var()\n",
    "yvar = y.var()\n",
    "\n",
    "alpha = 0.05 \n",
    "\n",
    "z_obs = (xmean - ymean) / np.sqrt(xvar/xn + yvar/yn)"
   ]
  },
  {
   "cell_type": "markdown",
   "metadata": {
    "id": "vbg7UO3bGbDO"
   },
   "source": [
    "Найдите критическое значение статистики. Сравните его с наблюдаемым. Рассчитайте p-value для ситуации с двусторонней альтернативой. Сделайте вывод о выдвинутой гипотезе. Критическое значение статистики запишите в переменную `z_crit`, а p-значение в переменную `pval`. "
   ]
  },
  {
   "cell_type": "code",
   "execution_count": 9,
   "metadata": {
    "deletable": false,
    "id": "05R0EttDGbDO",
    "nbgrader": {
     "cell_type": "code",
     "checksum": "46bd437560b80a2b837cc3e7d7415f62",
     "grade": false,
     "grade_id": "cell-9ebff976022e649a",
     "locked": false,
     "schema_version": 3,
     "solution": true,
     "task": false
    }
   },
   "outputs": [
    {
     "data": {
      "text/latex": [
       "$H_0: \\hspace{2mm} \\mu_x = \\mu_y$"
      ],
      "text/plain": [
       "<IPython.core.display.Latex object>"
      ]
     },
     "metadata": {},
     "output_type": "display_data"
    },
    {
     "data": {
      "text/latex": [
       "$H_1: \\hspace{2mm} \\mu_x \\neq \\mu_y$"
      ],
      "text/plain": [
       "<IPython.core.display.Latex object>"
      ]
     },
     "metadata": {},
     "output_type": "display_data"
    },
    {
     "name": "stdout",
     "output_type": "stream",
     "text": [
      "Наблюдаемое значение: 2.664\n",
      "Критическое значение: 1.96\n",
      "P-значение: 0.0077\n",
      "Нулевая гипотеза отвергается на уровне значимости 0.05\n"
     ]
    }
   ],
   "source": [
    "### ╰( ͡° ͜ʖ ͡° )つ▬▬ι═══════  bzzzzzzzzzz\n",
    "# your code below\n",
    "\n",
    "z_crit = sts.norm().ppf(1 - alpha/2)\n",
    "pval = (1 - sts.norm().cdf(z_obs)) * 2\n",
    "\n",
    "display(Latex('$H_0: \\hspace{2mm} \\mu_x = \\mu_y$'))\n",
    "display(Latex('$H_1: \\hspace{2mm} \\mu_x \\\\neq \\mu_y$'))\n",
    "print(f'Наблюдаемое значение: {z_obs:.4}')\n",
    "print(f'Критическое значение: {z_crit:.4}')\n",
    "print(f'P-значение: {pval:.2}') \n",
    "print('Нулевая гипотеза {} на уровне значимости {}'.format('отвергается' if pval < alpha else 'не отвергается', alpha))"
   ]
  },
  {
   "cell_type": "code",
   "execution_count": 10,
   "metadata": {
    "id": "8wh9Bxr4Hq2_"
   },
   "outputs": [],
   "source": [
    "# проверка того, что задание решено верно\n",
    "assert np.abs(z_obs - 2.6644610922505323) < 1e-5"
   ]
  },
  {
   "cell_type": "markdown",
   "metadata": {
    "id": "s65r_aiUGbDP"
   },
   "source": [
    "Можно заметить, что у распределения числа репостов длинные хвосты. В данных есть выбросы, которые завышают среднее значение. Если выбросы сильные, то ЦПТ может ломаться. Из-за этого имеет смысл в данном случае проверять гипотезу о равенстве медиан, которые устойчивы к выбросам.\n",
    "\n",
    "-------------------"
   ]
  },
  {
   "cell_type": "markdown",
   "metadata": {},
   "source": [
    "## Тайлер\n",
    "\n",
    "__Люди всё время меня спрашивают, знаю ли я Тайлера Дёрдена?__ Да, знаю. Он делает лучшее мыло в стране. \n",
    "\n",
    "__а)__ Тайлер считает партию изделий хорошей, если дисперсия размера не превышает $25$ грамм$^2$. Пока Тайлер летел в самолёте, он измерил $10$ кусков мыла. Выборочная дисперсия оказалась равна $27$ грамм$^2$. Можно ли продавать эту партию или её надо списать в брак? \n",
    "\n",
    "При проверке этой гипотезы найдите $p$-значение и запишите его в переменную `pval1`. Наблюдаемое значение статистики запишите в переменную `chi_obs`. Используйте уровень значимости $1\\%$."
   ]
  },
  {
   "cell_type": "code",
   "execution_count": 11,
   "metadata": {
    "deletable": false,
    "id": "-ZZE8QVVGbDR",
    "nbgrader": {
     "cell_type": "code",
     "checksum": "9b8826d6e3062cc4de98fdd59e1d6ca9",
     "grade": false,
     "grade_id": "cell-2e30e820f90148d5",
     "locked": false,
     "schema_version": 3,
     "solution": true,
     "task": false
    }
   },
   "outputs": [
    {
     "data": {
      "text/latex": [
       "$H_0: \\hspace{2mm} \\sigma^2 \\leq 25 \\hspace{1mm} {грамм}^2$"
      ],
      "text/plain": [
       "<IPython.core.display.Latex object>"
      ]
     },
     "metadata": {},
     "output_type": "display_data"
    },
    {
     "data": {
      "text/latex": [
       "$H_1: \\hspace{2mm} \\sigma^2 > 25 \\hspace{1mm} {грамм}^2$"
      ],
      "text/plain": [
       "<IPython.core.display.Latex object>"
      ]
     },
     "metadata": {},
     "output_type": "display_data"
    },
    {
     "name": "stdout",
     "output_type": "stream",
     "text": [
      "Наблюдаемое значение: 9.72\n",
      "Критическое значение: 21.67\n",
      "P-значение: 0.37\n",
      "Нулевая гипотеза не отвергается на уровне значимости 0.01\n"
     ]
    }
   ],
   "source": [
    "### ╰( ͡° ͜ʖ ͡° )つ▬▬ι═══════  bzzzzzzzzzz\n",
    "# your code below\n",
    "\n",
    "var_obs = 27\n",
    "var_0 = 25\n",
    "n = 10\n",
    "\n",
    "alpha = 0.01\n",
    "\n",
    "chi_obs = (n - 1) * var_obs / var_0\n",
    "chi_crit = sts.chi2(n-1).ppf(1 - alpha)\n",
    "pval1 = 1 - sts.chi2(n-1).cdf(chi_obs)\n",
    "\n",
    "display(Latex('$H_0: \\hspace{2mm} \\sigma^2 \\leq 25 \\hspace{1mm} {грамм}^2$'))\n",
    "display(Latex('$H_1: \\hspace{2mm} \\sigma^2 > 25 \\hspace{1mm} {грамм}^2$'))\n",
    "print(f'Наблюдаемое значение: {chi_obs:.4}')\n",
    "print(f'Критическое значение: {chi_crit:.4}')\n",
    "print(f'P-значение: {pval1:.2}')\n",
    "print('Нулевая гипотеза {} на уровне значимости {}'.format('отвергается' if pval1 < alpha else 'не отвергается', alpha))"
   ]
  },
  {
   "cell_type": "markdown",
   "metadata": {
    "id": "4pOvXASjGbDR"
   },
   "source": [
    "__б)__ Для того, чтобы уменьшить количество бракованного мыла, Тайлер собирается внедрить новую технологию производства. Тайлер произвёл по старой технологии $100$ кусков мыла. Стандартное отклонение этой партии составило $6$ грамм. Для  новой технологии стандартное отклонение, посчитанное по $100$ кускам мыла, составило $5$ грамм. Правда ли, что новая технология обладает меньшей дисперсией и её нужно внедрить на производстве?\n",
    "\n",
    "При проверке этой гипотезы найдите $p$-значение и запишите его в переменную `pval2`. Используйте уровень значимости $1\\%$."
   ]
  },
  {
   "cell_type": "code",
   "execution_count": 12,
   "metadata": {
    "deletable": false,
    "id": "YJkHbgR9GbDR",
    "nbgrader": {
     "cell_type": "code",
     "checksum": "72a130a7ef8f3bae0797aa938d6cfe08",
     "grade": false,
     "grade_id": "cell-88a96be4941d7e62",
     "locked": false,
     "schema_version": 3,
     "solution": true,
     "task": false
    }
   },
   "outputs": [
    {
     "data": {
      "text/latex": [
       "$H_0: \\hspace{2mm} \\sigma_{old}^2 \\leq \\sigma_{new}^2$"
      ],
      "text/plain": [
       "<IPython.core.display.Latex object>"
      ]
     },
     "metadata": {},
     "output_type": "display_data"
    },
    {
     "data": {
      "text/latex": [
       "$H_1: \\hspace{2mm} \\sigma_{old}^2 > \\sigma_{new}^2$"
      ],
      "text/plain": [
       "<IPython.core.display.Latex object>"
      ]
     },
     "metadata": {},
     "output_type": "display_data"
    },
    {
     "name": "stdout",
     "output_type": "stream",
     "text": [
      "Наблюдаемое значение: 1.44\n",
      "Критическое значение: 1.601\n",
      "P-значение: 0.036\n",
      "Нулевая гипотеза не отвергается на уровне значимости 0.01\n"
     ]
    }
   ],
   "source": [
    "### ╰( ͡° ͜ʖ ͡° )つ▬▬ι═══════  bzzzzzzzzzz\n",
    "# your code below\n",
    "\n",
    "std_old = 6\n",
    "std_new = 5\n",
    "\n",
    "n = 100\n",
    "\n",
    "alpha = 0.01\n",
    "\n",
    "F_obs = std_old ** 2 / std_new ** 2\n",
    "F_crit = sts.f(n - 1, n - 1).ppf(1 - alpha)\n",
    "\n",
    "pval2 = 1 - sts.f(n - 1, n - 1).cdf(F_obs)\n",
    "\n",
    "display(Latex('$H_0: \\hspace{2mm} \\sigma_{old}^2 \\leq \\sigma_{new}^2$'))\n",
    "display(Latex('$H_1: \\hspace{2mm} \\sigma_{old}^2 > \\sigma_{new}^2$'))\n",
    "print(f'Наблюдаемое значение: {F_obs:.4}')\n",
    "print(f'Критическое значение: {F_crit:.4}')\n",
    "print(f'P-значение: {pval2:.2}')\n",
    "print('Нулевая гипотеза {} на уровне значимости {}'.format('отвергается' if pval2 < alpha else 'не отвергается', alpha))"
   ]
  },
  {
   "cell_type": "code",
   "execution_count": 13,
   "metadata": {
    "id": "rlB97qGJHTkb"
   },
   "outputs": [],
   "source": [
    "# проверка того, что задание решено верно\n",
    "assert np.abs(chi_obs - 9.72) < 1e-1\n",
    "assert np.abs(F_obs - 1.44) < 1e-1"
   ]
  },
  {
   "cell_type": "markdown",
   "metadata": {
    "id": "rswUMFMDGbDS"
   },
   "source": [
    "## Рейтинги президентов\n",
    "\n",
    "В таблице `presidents.csv` представлены рейтинги различных президентов США. Социальные опросы проводились раз в квартал. Опрашивалась случайная выборка граждан. У каждого спрашивалось одобряет ли он деятельность президента.\n",
    "\n",
    "__Люди всё время меня спрашивают, знаю ли я Никсона.__ Да, Ричард Никсон был президентом США с 20 января 1969 года по 9 августа 1974 года. 17 июня 1972 года произошёл Уотергейтский скандал. Давайте проанализируем, что при этом произошло с его рейтингом."
   ]
  },
  {
   "cell_type": "code",
   "execution_count": 14,
   "metadata": {
    "colab": {
     "base_uri": "https://localhost:8080/",
     "height": 206
    },
    "id": "NVdYFIsqGbDS",
    "outputId": "affa342e-235d-4990-a9fc-fbf63170c781"
   },
   "outputs": [
    {
     "data": {
      "text/html": [
       "<div>\n",
       "<style scoped>\n",
       "    .dataframe tbody tr th:only-of-type {\n",
       "        vertical-align: middle;\n",
       "    }\n",
       "\n",
       "    .dataframe tbody tr th {\n",
       "        vertical-align: top;\n",
       "    }\n",
       "\n",
       "    .dataframe thead th {\n",
       "        text-align: right;\n",
       "    }\n",
       "</style>\n",
       "<table border=\"1\" class=\"dataframe\">\n",
       "  <thead>\n",
       "    <tr style=\"text-align: right;\">\n",
       "      <th></th>\n",
       "      <th>year</th>\n",
       "      <th>Qtr1</th>\n",
       "      <th>Qtr2</th>\n",
       "      <th>Qtr3</th>\n",
       "      <th>Qtr4</th>\n",
       "    </tr>\n",
       "  </thead>\n",
       "  <tbody>\n",
       "    <tr>\n",
       "      <th>0</th>\n",
       "      <td>1945</td>\n",
       "      <td>NaN</td>\n",
       "      <td>87</td>\n",
       "      <td>82.0</td>\n",
       "      <td>75.0</td>\n",
       "    </tr>\n",
       "    <tr>\n",
       "      <th>1</th>\n",
       "      <td>1946</td>\n",
       "      <td>63.0</td>\n",
       "      <td>50</td>\n",
       "      <td>43.0</td>\n",
       "      <td>32.0</td>\n",
       "    </tr>\n",
       "    <tr>\n",
       "      <th>2</th>\n",
       "      <td>1947</td>\n",
       "      <td>35.0</td>\n",
       "      <td>60</td>\n",
       "      <td>54.0</td>\n",
       "      <td>55.0</td>\n",
       "    </tr>\n",
       "    <tr>\n",
       "      <th>3</th>\n",
       "      <td>1948</td>\n",
       "      <td>36.0</td>\n",
       "      <td>39</td>\n",
       "      <td>NaN</td>\n",
       "      <td>NaN</td>\n",
       "    </tr>\n",
       "    <tr>\n",
       "      <th>4</th>\n",
       "      <td>1949</td>\n",
       "      <td>69.0</td>\n",
       "      <td>57</td>\n",
       "      <td>57.0</td>\n",
       "      <td>51.0</td>\n",
       "    </tr>\n",
       "  </tbody>\n",
       "</table>\n",
       "</div>"
      ],
      "text/plain": [
       "   year  Qtr1  Qtr2  Qtr3  Qtr4\n",
       "0  1945   NaN    87  82.0  75.0\n",
       "1  1946  63.0    50  43.0  32.0\n",
       "2  1947  35.0    60  54.0  55.0\n",
       "3  1948  36.0    39   NaN   NaN\n",
       "4  1949  69.0    57  57.0  51.0"
      ]
     },
     "execution_count": 14,
     "metadata": {},
     "output_type": "execute_result"
    }
   ],
   "source": [
    "df = pd.read_csv(ROOT+'presidents.csv')\n",
    "df.head()"
   ]
  },
  {
   "cell_type": "markdown",
   "metadata": {
    "id": "_0ArNzXdGbDS"
   },
   "source": [
    "Чтобы привести таблицу к удобному виду используйте функцию `pd.melt`. Вытащите из таблички рейтинг Никсона с 1 квартала 1969 года по 2 квартал 1972 года (включая его). Запишите эти данные в переменную `x`. Рейтинг с 3 квартала 1972 года по 2 квартал 1974 года поместите в переменную `y`. Пропуски в данных удалите из выборки."
   ]
  },
  {
   "cell_type": "code",
   "execution_count": 15,
   "metadata": {
    "deletable": false,
    "id": "sLB4mxRRGbDS",
    "nbgrader": {
     "cell_type": "code",
     "checksum": "22ec9a50950897f91ca39c4631a6200c",
     "grade": false,
     "grade_id": "cell-0c35f4bdddbb0029",
     "locked": false,
     "schema_version": 3,
     "solution": true,
     "task": false
    }
   },
   "outputs": [],
   "source": [
    "### ╰( ͡° ͜ʖ ͡° )つ▬▬ι═══════  bzzzzzzzzzz\n",
    "# your code below\n",
    "\n",
    "dfm = pd.melt(df, id_vars=['year'], value_vars=['Qtr1', 'Qtr2', 'Qtr3', \n",
    "                                                'Qtr4']).sort_values(['year', 'variable'], ignore_index=True)\n",
    "\n",
    "dfm['obs'] = dfm.year.apply(str) + '_' + dfm.variable\n",
    "\n",
    "x = dfm[(dfm.year.apply(str) + dfm.variable).between('1969Qtr1', '1972Qtr2')].value.dropna()\n",
    "y = dfm[(dfm.year.apply(str) + dfm.variable).between('1972Qtr3', '1974Qtr2')].value.dropna()"
   ]
  },
  {
   "cell_type": "markdown",
   "metadata": {
    "id": "3u4Vm0F0GbDT"
   },
   "source": [
    "Правда ли, что после скандала средний рейтинг Никсона рухнул? Предполагайте, что рейтинг распределён нормально, а также, что дисперсия рейтинга не изменилась из-за скандала. Наблюдаемое значение статистики запишите в переменную `obs`, в переменную `pval` запишите $p$-значение."
   ]
  },
  {
   "cell_type": "code",
   "execution_count": 16,
   "metadata": {
    "deletable": false,
    "id": "aOtIUd2EGbDT",
    "nbgrader": {
     "cell_type": "code",
     "checksum": "2472ad8779c6b2e9af75ad034a8f98ae",
     "grade": false,
     "grade_id": "cell-468606ed00795265",
     "locked": false,
     "schema_version": 3,
     "solution": true,
     "task": false
    }
   },
   "outputs": [
    {
     "data": {
      "text/latex": [
       "$H_0: \\hspace{2mm} \\mu_x = \\mu_y$"
      ],
      "text/plain": [
       "<IPython.core.display.Latex object>"
      ]
     },
     "metadata": {},
     "output_type": "display_data"
    },
    {
     "data": {
      "text/latex": [
       "$H_1: \\hspace{2mm} \\mu_x \\neq \\mu_y$"
      ],
      "text/plain": [
       "<IPython.core.display.Latex object>"
      ]
     },
     "metadata": {},
     "output_type": "display_data"
    },
    {
     "name": "stdout",
     "output_type": "stream",
     "text": [
      "Наблюдаемое значение: 3.564\n",
      "Критическое значение: 2.878\n",
      "P-значение: 0.0022\n",
      "Нулевая гипотеза отвергается на уровне значимости 0.01\n"
     ]
    }
   ],
   "source": [
    "### ╰( ͡° ͜ʖ ͡° )つ▬▬ι═══════  bzzzzzzzzzz\n",
    "# your code below\n",
    "\n",
    "meanx = x.mean()\n",
    "meany = y.mean()\n",
    "\n",
    "varx = x.var()\n",
    "vary = y.var()\n",
    "\n",
    "nx = len(x)\n",
    "ny = len(y)\n",
    "\n",
    "alpha = 0.01\n",
    "\n",
    "var = ((nx - 1) * varx + (ny - 1) * vary) / (nx + ny - 2)\n",
    "\n",
    "obs = (meanx - meany) / np.sqrt(var/nx + var/ny)\n",
    "crit = sts.t(nx + ny - 2).ppf(1 - alpha/2)\n",
    "pval = (1 - sts.t(nx + ny - 2).cdf(obs)) * 2\n",
    "\n",
    "display(Latex('$H_0: \\hspace{2mm} \\mu_x = \\mu_y$'))\n",
    "display(Latex('$H_1: \\hspace{2mm} \\mu_x \\\\neq \\mu_y$'))\n",
    "print(f'Наблюдаемое значение: {obs:.4}')\n",
    "print(f'Критическое значение: {crit:.4}')\n",
    "print(f'P-значение: {pval:.2}')\n",
    "print('Нулевая гипотеза {} на уровне значимости {}'.format('отвергается' if pval < alpha else 'не отвергается', alpha))"
   ]
  },
  {
   "cell_type": "code",
   "execution_count": 17,
   "metadata": {
    "id": "HdDiyn1_HorM"
   },
   "outputs": [],
   "source": [
    "# проверка того, что задание решено верно\n",
    "assert np.abs(obs - 3.5640741313229793) < 1e-5\n"
   ]
  },
  {
   "cell_type": "markdown",
   "metadata": {
    "id": "SfmNR7ZDGbDT"
   },
   "source": [
    "Снова президентом Никсон станет в $3000$ году. \n",
    "\n",
    "![](https://vignette.wikia.nocookie.net/futurama/images/2/2f/Richard_M._Nixon%27s_head.jpg/revision/latest/scale-to-width-down/250?cb=20131123190522&path-prefix=ru)"
   ]
  },
  {
   "cell_type": "markdown",
   "metadata": {
    "id": "79MR-7yzGbDT"
   },
   "source": [
    "## Сон\n",
    "\n",
    "Проводится эксперимент о пользе нового снотворного. Для его проведения используется группа из $10$ студентов. В первый день каждый из них ложится спать. На утро измеряется, сколько он проспал. Из результата вычитают $8$ (нормальное число часов сна). На второй день каждому дают таблетку. Утром снова измеряют сколько человек проспал, и вычитают $8$. Результаты эксперимента записаны в табличку `sleep.csv`."
   ]
  },
  {
   "cell_type": "code",
   "execution_count": 18,
   "metadata": {
    "colab": {
     "base_uri": "https://localhost:8080/",
     "height": 206
    },
    "id": "N-GJLf2BGbDT",
    "outputId": "09269f0e-8f81-4858-9579-62eded1afa24"
   },
   "outputs": [
    {
     "data": {
      "text/html": [
       "<div>\n",
       "<style scoped>\n",
       "    .dataframe tbody tr th:only-of-type {\n",
       "        vertical-align: middle;\n",
       "    }\n",
       "\n",
       "    .dataframe tbody tr th {\n",
       "        vertical-align: top;\n",
       "    }\n",
       "\n",
       "    .dataframe thead th {\n",
       "        text-align: right;\n",
       "    }\n",
       "</style>\n",
       "<table border=\"1\" class=\"dataframe\">\n",
       "  <thead>\n",
       "    <tr style=\"text-align: right;\">\n",
       "      <th></th>\n",
       "      <th>extra</th>\n",
       "      <th>group</th>\n",
       "      <th>ID</th>\n",
       "    </tr>\n",
       "  </thead>\n",
       "  <tbody>\n",
       "    <tr>\n",
       "      <th>0</th>\n",
       "      <td>0.7</td>\n",
       "      <td>1</td>\n",
       "      <td>1</td>\n",
       "    </tr>\n",
       "    <tr>\n",
       "      <th>1</th>\n",
       "      <td>-1.6</td>\n",
       "      <td>1</td>\n",
       "      <td>2</td>\n",
       "    </tr>\n",
       "    <tr>\n",
       "      <th>2</th>\n",
       "      <td>-0.2</td>\n",
       "      <td>1</td>\n",
       "      <td>3</td>\n",
       "    </tr>\n",
       "    <tr>\n",
       "      <th>3</th>\n",
       "      <td>-1.2</td>\n",
       "      <td>1</td>\n",
       "      <td>4</td>\n",
       "    </tr>\n",
       "    <tr>\n",
       "      <th>4</th>\n",
       "      <td>-0.1</td>\n",
       "      <td>1</td>\n",
       "      <td>5</td>\n",
       "    </tr>\n",
       "  </tbody>\n",
       "</table>\n",
       "</div>"
      ],
      "text/plain": [
       "   extra  group  ID\n",
       "0    0.7      1   1\n",
       "1   -1.6      1   2\n",
       "2   -0.2      1   3\n",
       "3   -1.2      1   4\n",
       "4   -0.1      1   5"
      ]
     },
     "execution_count": 18,
     "metadata": {},
     "output_type": "execute_result"
    }
   ],
   "source": [
    "df = pd.read_csv(ROOT+'sleep.csv')\n",
    "df.head()"
   ]
  },
  {
   "cell_type": "markdown",
   "metadata": {
    "id": "3A0ND7dKGbDT"
   },
   "source": [
    "Правда ли, что сон студентов до приёма снотворного не отличается от нормы (отклонение от 8 часов равно нулю). Проверьте эту гипотезу на $5\\%$ уровне значимости, в переменную `pval1` запишите p-значение. "
   ]
  },
  {
   "cell_type": "code",
   "execution_count": 19,
   "metadata": {
    "deletable": false,
    "id": "gjdH45OyGbDT",
    "nbgrader": {
     "cell_type": "code",
     "checksum": "84c67f6747d67cca7633914c28107c96",
     "grade": false,
     "grade_id": "cell-c04ca7c5b2d46f59",
     "locked": false,
     "schema_version": 3,
     "solution": true,
     "task": false
    }
   },
   "outputs": [
    {
     "data": {
      "text/latex": [
       "$H_0: \\hspace{2mm} \\mu_x = 0$"
      ],
      "text/plain": [
       "<IPython.core.display.Latex object>"
      ]
     },
     "metadata": {},
     "output_type": "display_data"
    },
    {
     "data": {
      "text/latex": [
       "$H_1: \\hspace{2mm} \\mu_x \\neq 0$"
      ],
      "text/plain": [
       "<IPython.core.display.Latex object>"
      ]
     },
     "metadata": {},
     "output_type": "display_data"
    },
    {
     "name": "stdout",
     "output_type": "stream",
     "text": [
      "Наблюдаемое значение: 1.326\n",
      "Критическое значение: 2.262\n",
      "P-значение: 0.22\n",
      "Нулевая гипотеза не отвергается на уровне значимости 0.05\n"
     ]
    }
   ],
   "source": [
    "### ╰( ͡° ͜ʖ ͡° )つ▬▬ι═══════  bzzzzzzzzzz\n",
    "# your code below\n",
    "\n",
    "x = df[df.group == 1].extra\n",
    "\n",
    "meanx = x.mean()\n",
    "\n",
    "varx = x.var()\n",
    "\n",
    "nx = len(x)\n",
    "\n",
    "alpha = 0.05\n",
    "\n",
    "tobs1 = meanx / np.sqrt(varx / nx)\n",
    "tcrit1 = sts.t(nx - 1).ppf(1 - alpha/2)\n",
    "pval1 = (1 - sts.t(nx - 1).cdf(tobs1)) * 2\n",
    "\n",
    "display(Latex('$H_0: \\hspace{2mm} \\mu_x = 0$'))\n",
    "display(Latex('$H_1: \\hspace{2mm} \\mu_x \\\\neq 0$'))\n",
    "print(f'Наблюдаемое значение: {tobs1:.4}')\n",
    "print(f'Критическое значение: {tcrit1:.4}')\n",
    "print(f'P-значение: {pval1:.2}')\n",
    "print('Нулевая гипотеза {} на уровне значимости {}'.format('отвергается' if pval1 < alpha else 'не отвергается', alpha))"
   ]
  },
  {
   "cell_type": "markdown",
   "metadata": {
    "id": "pJVmer_LGbDT"
   },
   "source": [
    "Правда ли, что благодаря таблеткам студенты стали спать больше (односторонняя альтернатива)? Запишите в переменную `pval2` соотвествующее p-значение. "
   ]
  },
  {
   "cell_type": "code",
   "execution_count": 20,
   "metadata": {
    "deletable": false,
    "id": "HiWQGHvcGbDU",
    "nbgrader": {
     "cell_type": "code",
     "checksum": "5df1edb5b8b18a467151f30e3ad24e05",
     "grade": false,
     "grade_id": "cell-4c7c2e8e8b3c5de8",
     "locked": false,
     "schema_version": 3,
     "solution": true,
     "task": false
    }
   },
   "outputs": [
    {
     "data": {
      "text/latex": [
       "$H_0: \\hspace{2mm} \\mu_z \\leq 0$"
      ],
      "text/plain": [
       "<IPython.core.display.Latex object>"
      ]
     },
     "metadata": {},
     "output_type": "display_data"
    },
    {
     "data": {
      "text/latex": [
       "$H_1: \\hspace{2mm} \\mu_z > 0$"
      ],
      "text/plain": [
       "<IPython.core.display.Latex object>"
      ]
     },
     "metadata": {},
     "output_type": "display_data"
    },
    {
     "name": "stdout",
     "output_type": "stream",
     "text": [
      "Наблюдаемое значение: 4.062\n",
      "Критическое значение: 1.833\n",
      "P-значение: 0.0014\n",
      "Нулевая гипотеза отвергается на уровне значимости 0.05\n"
     ]
    }
   ],
   "source": [
    "### ╰( ͡° ͜ʖ ͡° )つ▬▬ι═══════  bzzzzzzzzzz\n",
    "# your code below\n",
    "\n",
    "y = df[df.group == 2].extra\n",
    "\n",
    "z = pd.Series(j - i for j, i in zip(y, x))\n",
    "\n",
    "meanz = z.mean()\n",
    "\n",
    "varz = z.var()\n",
    "\n",
    "nz = len(z)\n",
    "\n",
    "alpha = 0.05\n",
    "\n",
    "tobs2 = meanz / np.sqrt(varz/nz)\n",
    "tcrit2 = sts.t(nz - 1).ppf(1 - alpha)\n",
    "pval2 = 1 - sts.t(nz - 1).cdf(tobs2)\n",
    "\n",
    "display(Latex('$H_0: \\hspace{2mm} \\mu_z \\leq 0$'))\n",
    "display(Latex('$H_1: \\hspace{2mm} \\mu_z > 0$'))\n",
    "print(f'Наблюдаемое значение: {tobs2:.4}')\n",
    "print(f'Критическое значение: {tcrit2:.4}')\n",
    "print(f'P-значение: {pval2:.2}')\n",
    "print('Нулевая гипотеза {} на уровне значимости {}'.format('отвергается' if pval2 < alpha else 'не отвергается', alpha))"
   ]
  },
  {
   "cell_type": "code",
   "execution_count": 21,
   "metadata": {
    "deletable": false,
    "editable": false,
    "id": "G7euIbDEGbDU",
    "nbgrader": {
     "cell_type": "code",
     "checksum": "72bfc924a2bb01c46b9bf61fddb2620b",
     "grade": true,
     "grade_id": "cell-2167298693b77a31",
     "locked": true,
     "points": 1,
     "schema_version": 3,
     "solution": false,
     "task": false
    }
   },
   "outputs": [],
   "source": [
    "# проверка того, что задание решено верно\n",
    "assert np.abs(tobs1 - 1.325710) < 1e-5\n",
    "assert np.abs(tobs2 - 4.062127) < 1e-5\n"
   ]
  },
  {
   "cell_type": "markdown",
   "metadata": {
    "id": "oi3xznavGbDU"
   },
   "source": [
    "## Say my name\n",
    "\n",
    "__Люди всё время меня спрашивают, знает ли меня Барсик.__  Многие владельцы кошек уверены, что их питомцы могут понимать достаточно большое количество слов, а также узнавать собственное имя. Однако долгое время никто не пытался доказать это экспериментально. Разобраться с этой проблемой [решили учёные из Токийского университета.](https://nplus1.ru/news/2019/04/04/cat-name?utm_source=obrazovach&utm_medium=social&utm_campaign=yaponskie-uchenye-dokazali--chto-domashnie-k)\n",
    "\n",
    "Было проведено четыре эксперимента с участием домашних кошек и кошек из кошачьих кафе. Учёные использовали метод привыкания-отвыкания (habituation-dishabituation), который часто используется в экспериментах с участием маленьких детей. \n",
    "\n",
    "В соответствии с гипотезой, которая лежит в основе этого метода, определить реакцию на какой-либо стимул можно, представив его после схожих с ним стимулов. К примеру, для того, чтобы выяснить, может ли младенец узнать свое имя, ему представляют несколько слов подряд: с каждым новым словом его реакция снижается, но появление имени должно (в случае, если ребенок действительно узнает свое имя) ее вернуть. Этот же метод применили и к кошкам: реакция кошек на слова характеризовалась поворотом головы, движением ушей, вокализацией, движениями хвоста или перемещениями.\n",
    "\n",
    "В первом эксперименте исследователи проследили за реакцией кошек на собственное имя, произнесенное хозяином, после четырех существительных (16 кошек, живущих дома с двумя другими кошками или меньше). Данные об этом эксперименте находятся в табличке `cats_names.csv`. "
   ]
  },
  {
   "cell_type": "code",
   "execution_count": 22,
   "metadata": {
    "colab": {
     "base_uri": "https://localhost:8080/",
     "height": 206
    },
    "id": "2YNrKpZWGbDU",
    "outputId": "b3df1143-ee2e-440c-e069-042e2750f40b"
   },
   "outputs": [
    {
     "data": {
      "text/html": [
       "<div>\n",
       "<style scoped>\n",
       "    .dataframe tbody tr th:only-of-type {\n",
       "        vertical-align: middle;\n",
       "    }\n",
       "\n",
       "    .dataframe tbody tr th {\n",
       "        vertical-align: top;\n",
       "    }\n",
       "\n",
       "    .dataframe thead th {\n",
       "        text-align: right;\n",
       "    }\n",
       "</style>\n",
       "<table border=\"1\" class=\"dataframe\">\n",
       "  <thead>\n",
       "    <tr style=\"text-align: right;\">\n",
       "      <th></th>\n",
       "      <th>name</th>\n",
       "      <th>stimuli</th>\n",
       "      <th>Ear moving</th>\n",
       "      <th>Head moving</th>\n",
       "      <th>Tail moving</th>\n",
       "      <th>Vocalising</th>\n",
       "      <th>Displacement</th>\n",
       "      <th>Total Score</th>\n",
       "    </tr>\n",
       "  </thead>\n",
       "  <tbody>\n",
       "    <tr>\n",
       "      <th>0</th>\n",
       "      <td>Cr</td>\n",
       "      <td>Noun 1</td>\n",
       "      <td>1</td>\n",
       "      <td>0</td>\n",
       "      <td>0</td>\n",
       "      <td>0</td>\n",
       "      <td>0</td>\n",
       "      <td>1</td>\n",
       "    </tr>\n",
       "    <tr>\n",
       "      <th>1</th>\n",
       "      <td>Cr</td>\n",
       "      <td>Noun 2</td>\n",
       "      <td>1</td>\n",
       "      <td>1</td>\n",
       "      <td>0</td>\n",
       "      <td>0</td>\n",
       "      <td>0</td>\n",
       "      <td>2</td>\n",
       "    </tr>\n",
       "    <tr>\n",
       "      <th>2</th>\n",
       "      <td>Cr</td>\n",
       "      <td>Noun 3</td>\n",
       "      <td>1</td>\n",
       "      <td>1</td>\n",
       "      <td>0</td>\n",
       "      <td>0</td>\n",
       "      <td>0</td>\n",
       "      <td>2</td>\n",
       "    </tr>\n",
       "    <tr>\n",
       "      <th>3</th>\n",
       "      <td>Cr</td>\n",
       "      <td>Noun 4</td>\n",
       "      <td>0</td>\n",
       "      <td>0</td>\n",
       "      <td>0</td>\n",
       "      <td>0</td>\n",
       "      <td>0</td>\n",
       "      <td>0</td>\n",
       "    </tr>\n",
       "    <tr>\n",
       "      <th>4</th>\n",
       "      <td>Cr</td>\n",
       "      <td>Test Cat's Name</td>\n",
       "      <td>1</td>\n",
       "      <td>0</td>\n",
       "      <td>0</td>\n",
       "      <td>0</td>\n",
       "      <td>0</td>\n",
       "      <td>1</td>\n",
       "    </tr>\n",
       "  </tbody>\n",
       "</table>\n",
       "</div>"
      ],
      "text/plain": [
       "  name          stimuli  Ear moving  Head moving  Tail moving  Vocalising  \\\n",
       "0   Cr           Noun 1           1            0            0           0   \n",
       "1   Cr           Noun 2           1            1            0           0   \n",
       "2   Cr           Noun 3           1            1            0           0   \n",
       "3   Cr           Noun 4           0            0            0           0   \n",
       "4   Cr  Test Cat's Name           1            0            0           0   \n",
       "\n",
       "   Displacement  Total Score  \n",
       "0             0            1  \n",
       "1             0            2  \n",
       "2             0            2  \n",
       "3             0            0  \n",
       "4             0            1  "
      ]
     },
     "execution_count": 22,
     "metadata": {},
     "output_type": "execute_result"
    }
   ],
   "source": [
    "df = pd.read_csv(ROOT+'cats_names.csv', sep='\\t')\n",
    "df.head()"
   ]
  },
  {
   "cell_type": "markdown",
   "metadata": {
    "id": "gb3exuPAGbDU"
   },
   "source": [
    "Будем проверять гипотезу о том, что кошки понимают своё имя с помощью упрощённой процедуры: \n",
    "\n",
    "- Вытащим из таблички все строчки, где экспериментаторы называли $4-$ое существительное. Они помечены в колонке `stimuli` как `Noun 4`. Если в колонке `Total Score` стоит положительное число, будем считать, что кошка среагировала на слово. В вектор `noun4` запишем единицу. В противном случае — ноль. \n",
    "- Вытащим по аналогии информацию о том, откликнулась ли кошка на своё имя (пометка `Test Cat's Name`) в колонке `stimuli`. Запишем её в вектор `name`.\n",
    "- Используем тест о равенстве пропорций для зависимых выборок, чтобы ответить на вопрос \"А правда ли кошка откликается на своё имя?\" В переменную `pval` запишем $p$-значение, полученное при проверке этой гипотезы. "
   ]
  },
  {
   "cell_type": "code",
   "execution_count": 23,
   "metadata": {
    "deletable": false,
    "id": "Nj5kBVOUGbDU",
    "nbgrader": {
     "cell_type": "code",
     "checksum": "c019c2956f7e14de25568795f31f7dcc",
     "grade": false,
     "grade_id": "cell-4ab37a21e0f8a42c",
     "locked": false,
     "schema_version": 3,
     "solution": true,
     "task": false
    }
   },
   "outputs": [
    {
     "data": {
      "text/latex": [
       "$H_0: \\hspace{2mm} p_1 = p_2$"
      ],
      "text/plain": [
       "<IPython.core.display.Latex object>"
      ]
     },
     "metadata": {},
     "output_type": "display_data"
    },
    {
     "data": {
      "text/latex": [
       "$H_1: \\hspace{2mm} p_1 \\neq p_2$"
      ],
      "text/plain": [
       "<IPython.core.display.Latex object>"
      ]
     },
     "metadata": {},
     "output_type": "display_data"
    },
    {
     "name": "stdout",
     "output_type": "stream",
     "text": [
      "Наблюдаемое значение: 1.789\n",
      "Критическое значение: 1.96\n",
      "P-значение: 0.074\n",
      "Нулевая гипотеза не отвергается на уровне значимости 0.05\n"
     ]
    }
   ],
   "source": [
    "### ╰( ͡° ͜ʖ ͡° )つ▬▬ι═══════  bzzzzzzzzzz\n",
    "# your code below\n",
    "\n",
    "df['Score'] = df['Total Score'].apply(lambda x: 0 if x == 0 else 1)\n",
    "\n",
    "noun4 = df[df.stimuli == 'Noun 4'].Score\n",
    "name = df[df.stimuli == 'Test Cat\\'s Name'].Score\n",
    "\n",
    "test = pd.Series('b' if i > j else 'c' if i < j else 'a/d' for i, j in zip(name, noun4))\n",
    "b = test.value_counts()['b']\n",
    "c = test.value_counts()['c']\n",
    "n = len(test)\n",
    "\n",
    "alpha = 0.05 \n",
    "\n",
    "z_obs = (b - c) / np.sqrt(b + c - (b - c) ** 2 / n)\n",
    "z_crit = sts.norm.ppf(1 - alpha/2)\n",
    "pval = (1 - sts.norm.cdf(z_obs)) * 2\n",
    "\n",
    "display(Latex('$H_0: \\hspace{2mm} p_1 = p_2$'))\n",
    "display(Latex('$H_1: \\hspace{2mm} p_1 \\\\neq p_2$'))\n",
    "print(f'Наблюдаемое значение: {z_obs:.4}')\n",
    "print(f'Критическое значение: {z_crit:.4}')\n",
    "print(f'P-значение: {pval:.2}')\n",
    "print('Нулевая гипотеза {} на уровне значимости {}'.format('отвергается' if pval < alpha else 'не отвергается', alpha))"
   ]
  },
  {
   "cell_type": "code",
   "execution_count": 24,
   "metadata": {
    "deletable": false,
    "editable": false,
    "id": "BQDVJw9SGbDU",
    "nbgrader": {
     "cell_type": "code",
     "checksum": "017ca952bd4b618680f94b4eb603e091",
     "grade": true,
     "grade_id": "cell-473051ae67ddc9a6",
     "locked": true,
     "points": 1,
     "schema_version": 3,
     "solution": false,
     "task": false
    }
   },
   "outputs": [],
   "source": [
    "# проверка того, что задание решено верно\n",
    "assert sum(name) == 14\n",
    "assert np.abs(z_obs - 1.7888543819998317) < 1e-5\n"
   ]
  },
  {
   "cell_type": "markdown",
   "metadata": {
    "id": "ZfOpYGpDGbDV"
   },
   "source": [
    "Выводы учёных могут отличаться от наших. Результат проверки гипотезы зависит от многих внешних факторов. Например, от громкости произнесённого кошачьего имени. Все такие факторы надо как-то изолировать.\n",
    "\n",
    "[В оригинальном исследовании](https://www.nature.com/articles/s41598-019-40616-4) учёные реализовывали более сложные статистические процедуры. Они пытались проконтролировать все внешние факторы, которые могли бы повлиять на результаты эксперимента. О том, как это можно делать, мы с вами поговорим в будущем. \n",
    "\n",
    "![](https://cdn.nplus1.ru/images/2019/04/04/47a222337ec0984bcec1644f12b4c328.gif)"
   ]
  },
  {
   "cell_type": "markdown",
   "metadata": {
    "id": "VaXPDaK_GbDV"
   },
   "source": [
    "## Матан\n",
    "\n",
    "Лекции по матану на экономическом факультете читают два преподавателя: Злой и Добрый. Каждый год они чередуются. Среди студентов ходит слух, что в год, когда преподаёт Злой, отчисляют куда больше народу. В таблице `matan.csv` лежит информация по $418$ студентам экономического факультета. \n",
    "\n",
    "В столбце `is_angry` стоит единица, если этому студенту преподавал Злой. В столбце `target_1` стоит единица, если человек закончил первый курс. Проверьте гипотезу о том, что Злой отчисляет больше народу. В переменную `pval` запишите $p$-значение, получившееся при проверке гипотезы. "
   ]
  },
  {
   "cell_type": "code",
   "execution_count": 25,
   "metadata": {
    "colab": {
     "base_uri": "https://localhost:8080/",
     "height": 206
    },
    "id": "FUM7SHMEGbDV",
    "outputId": "18c59e87-6dbc-42b2-f7d6-ccef791778f0"
   },
   "outputs": [
    {
     "data": {
      "text/html": [
       "<div>\n",
       "<style scoped>\n",
       "    .dataframe tbody tr th:only-of-type {\n",
       "        vertical-align: middle;\n",
       "    }\n",
       "\n",
       "    .dataframe tbody tr th {\n",
       "        vertical-align: top;\n",
       "    }\n",
       "\n",
       "    .dataframe thead th {\n",
       "        text-align: right;\n",
       "    }\n",
       "</style>\n",
       "<table border=\"1\" class=\"dataframe\">\n",
       "  <thead>\n",
       "    <tr style=\"text-align: right;\">\n",
       "      <th></th>\n",
       "      <th>is_angry</th>\n",
       "      <th>target_1</th>\n",
       "    </tr>\n",
       "  </thead>\n",
       "  <tbody>\n",
       "    <tr>\n",
       "      <th>0</th>\n",
       "      <td>0</td>\n",
       "      <td>1.0</td>\n",
       "    </tr>\n",
       "    <tr>\n",
       "      <th>1</th>\n",
       "      <td>0</td>\n",
       "      <td>1.0</td>\n",
       "    </tr>\n",
       "    <tr>\n",
       "      <th>2</th>\n",
       "      <td>0</td>\n",
       "      <td>1.0</td>\n",
       "    </tr>\n",
       "    <tr>\n",
       "      <th>3</th>\n",
       "      <td>0</td>\n",
       "      <td>0.0</td>\n",
       "    </tr>\n",
       "    <tr>\n",
       "      <th>4</th>\n",
       "      <td>0</td>\n",
       "      <td>1.0</td>\n",
       "    </tr>\n",
       "  </tbody>\n",
       "</table>\n",
       "</div>"
      ],
      "text/plain": [
       "   is_angry  target_1\n",
       "0         0       1.0\n",
       "1         0       1.0\n",
       "2         0       1.0\n",
       "3         0       0.0\n",
       "4         0       1.0"
      ]
     },
     "execution_count": 25,
     "metadata": {},
     "output_type": "execute_result"
    }
   ],
   "source": [
    "df = pd.read_csv(ROOT+'matan.csv', sep='\\t')\n",
    "df.head()"
   ]
  },
  {
   "cell_type": "code",
   "execution_count": 26,
   "metadata": {
    "deletable": false,
    "id": "wnTQyka1GbDV",
    "nbgrader": {
     "cell_type": "code",
     "checksum": "3ac2faf1e5b216db1ab097b8d456f1f6",
     "grade": false,
     "grade_id": "cell-06da65b1aca523bb",
     "locked": false,
     "schema_version": 3,
     "solution": true,
     "task": false
    }
   },
   "outputs": [
    {
     "data": {
      "text/latex": [
       "$H_0: \\hspace{2mm} p_x \\leq p_y$"
      ],
      "text/plain": [
       "<IPython.core.display.Latex object>"
      ]
     },
     "metadata": {},
     "output_type": "display_data"
    },
    {
     "data": {
      "text/latex": [
       "$H_1: \\hspace{2mm} p_x > p_y$"
      ],
      "text/plain": [
       "<IPython.core.display.Latex object>"
      ]
     },
     "metadata": {},
     "output_type": "display_data"
    },
    {
     "name": "stdout",
     "output_type": "stream",
     "text": [
      "Наблюдаемое значение: 0.299\n",
      "Критическое значение: 1.645\n",
      "P-значение: 0.38\n",
      "Нулевая гипотеза не отвергается на уровне значимости 0.05\n"
     ]
    }
   ],
   "source": [
    "### ╰( ͡° ͜ʖ ͡° )つ▬▬ι═══════  bzzzzzzzzzz\n",
    "# your code below\n",
    "\n",
    "x = df[df.is_angry == 1].target_1.dropna()\n",
    "y = df[df.is_angry == 0].target_1.dropna()\n",
    "\n",
    "mx, my = sum(x), sum(y)\n",
    "nx, ny = len(x), len(y)\n",
    "px, py = x.mean(), y.mean()\n",
    "\n",
    "p = (mx + my) / (nx + ny)\n",
    "\n",
    "alpha = 0.05\n",
    "\n",
    "z_obs = (px - py) / np.sqrt(p * (1 - p) * (1/nx + 1/ny))\n",
    "z_crit = sts.norm.ppf(1 - alpha)\n",
    "pval = 1 - sts.norm.cdf(z_obs)\n",
    "\n",
    "display(Latex('$H_0: \\hspace{2mm} p_x \\leq p_y$'))\n",
    "display(Latex('$H_1: \\hspace{2mm} p_x > p_y$'))\n",
    "print(f'Наблюдаемое значение: {z_obs:.4}')\n",
    "print(f'Критическое значение: {z_crit:.4}')\n",
    "print(f'P-значение: {pval:.2}')\n",
    "print('Нулевая гипотеза {} на уровне значимости {}'.format('отвергается' if pval < alpha else 'не отвергается', alpha))"
   ]
  },
  {
   "cell_type": "code",
   "execution_count": 27,
   "metadata": {
    "id": "GqW25tKZHk6e"
   },
   "outputs": [],
   "source": [
    "# проверка того, что задание решено верно\n",
    "assert np.abs(np.abs(z_obs) - 0.29897)  < 1e-5\n"
   ]
  },
  {
   "cell_type": "markdown",
   "metadata": {
    "id": "9iC8GwjFGbDV"
   },
   "source": [
    "## Бутерброд\n",
    "\n",
    "Вася решил проверить известное утверждение о том, что бутерброд падает маслом вниз. Для этого он провёл серию из $200$ испытаний. Бутерброд упал маслом вниз $105$ раз. Маслом вверх $95$ раз. Можно ли утверждать, что бутерброд падает маслом вниз так же часто, как и маслом вверх на уровне значимости $5\\%$? В качестве ответа сохраните в `pval` $p$-значение. \n",
    "\n",
    "__Примечание:__ для поиска дисперсии используйте смещённый вариант. Либо по формуле $\\frac{p\\cdot(1-p)}{n}$ либо с помощью `std(ddof=0)`. При поиске `pval` обратите внимание, что алтернатива двусторонняя. А ещё [прочитайте историю](https://absentis.livejournal.com/27153.html) про то, почему Коперник мазал бутеры маслом. "
   ]
  },
  {
   "cell_type": "code",
   "execution_count": 28,
   "metadata": {
    "deletable": false,
    "id": "CcejINJEGbDV",
    "nbgrader": {
     "cell_type": "code",
     "checksum": "32402f85ea10dfa3f248e44f703663e5",
     "grade": false,
     "grade_id": "cell-db59ee9982bc3985",
     "locked": false,
     "schema_version": 3,
     "solution": true,
     "task": false
    }
   },
   "outputs": [
    {
     "data": {
      "text/latex": [
       "$H_0: \\hspace{2mm} p = 0.5$"
      ],
      "text/plain": [
       "<IPython.core.display.Latex object>"
      ]
     },
     "metadata": {},
     "output_type": "display_data"
    },
    {
     "data": {
      "text/latex": [
       "$H_1: \\hspace{2mm} p \\neq 0.5$"
      ],
      "text/plain": [
       "<IPython.core.display.Latex object>"
      ]
     },
     "metadata": {},
     "output_type": "display_data"
    },
    {
     "name": "stdout",
     "output_type": "stream",
     "text": [
      "Наблюдаемое значение: 0.708\n",
      "Критическое значение: 1.96\n",
      "P-значение: 0.48\n",
      "Нулевая гипотеза не отвергается на уровне значимости 0.05\n"
     ]
    }
   ],
   "source": [
    "### ╰( ͡° ͜ʖ ͡° )つ▬▬ι═══════  bzzzzzzzzzz\n",
    "# your code below\n",
    "\n",
    "n = 200\n",
    "m = 105\n",
    "\n",
    "mean = 105/200\n",
    "var = mean * (1 - mean) / n\n",
    "\n",
    "alpha = 0.05\n",
    " \n",
    "z_obs = (mean - 0.5) / np.sqrt(var)\n",
    "z_crit = sts.norm.ppf(1 - alpha/2)\n",
    "pval = (1 - sts.norm.cdf(z_obs)) * 2\n",
    "\n",
    "display(Latex('$H_0: \\hspace{2mm} p = 0.5$'))\n",
    "display(Latex('$H_1: \\hspace{2mm} p \\\\neq 0.5$'))\n",
    "print(f'Наблюдаемое значение: {z_obs:.4}')\n",
    "print(f'Критическое значение: {z_crit:.4}')\n",
    "print(f'P-значение: {pval:.2}')\n",
    "print('Нулевая гипотеза {} на уровне значимости {}'.format('отвергается' if pval < alpha else 'не отвергается', alpha))"
   ]
  },
  {
   "cell_type": "code",
   "execution_count": 29,
   "metadata": {
    "id": "U-bMjDhgHkHx"
   },
   "outputs": [],
   "source": [
    "# проверка того, что задание решено верно\n",
    "assert np.abs(z_obs - 0.707) < 1e-3"
   ]
  },
  {
   "cell_type": "markdown",
   "metadata": {
    "id": "GaYQOkrIGbDV"
   },
   "source": [
    "<img src=\"https://i.ibb.co/Ks57rDV/student-teacher-dist.png\" height=\"300\" width=\"600\"> "
   ]
  }
 ],
 "metadata": {
  "colab": {
   "provenance": [],
   "toc_visible": true
  },
  "kernelspec": {
   "display_name": "Python 3 (ipykernel)",
   "language": "python",
   "name": "python3"
  },
  "language_info": {
   "codemirror_mode": {
    "name": "ipython",
    "version": 3
   },
   "file_extension": ".py",
   "mimetype": "text/x-python",
   "name": "python",
   "nbconvert_exporter": "python",
   "pygments_lexer": "ipython3",
   "version": "3.9.12"
  },
  "toc": {
   "base_numbering": 1,
   "nav_menu": {},
   "number_sections": true,
   "sideBar": true,
   "skip_h1_title": false,
   "title_cell": "Table of Contents",
   "title_sidebar": "Contents",
   "toc_cell": false,
   "toc_position": {
    "height": "calc(100% - 180px)",
    "left": "10px",
    "top": "150px",
    "width": "261.818px"
   },
   "toc_section_display": true,
   "toc_window_display": true
  }
 },
 "nbformat": 4,
 "nbformat_minor": 1
}
