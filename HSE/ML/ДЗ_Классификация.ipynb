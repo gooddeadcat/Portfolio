{
 "cells": [
  {
   "cell_type": "markdown",
   "metadata": {
    "id": "o3t6GgPiU66C"
   },
   "source": [
    "# Домашнее задание: модели классификации и оценка их качества.\n",
    "\n",
    "Будем тренироваться обучать модели классификации и интерпретировать их качество.\n",
    "\n",
    "Максимальный балл за задание - 11.\n",
    "Балл, который ставится в ведомость - min(10,ваш балл)."
   ]
  },
  {
   "cell_type": "markdown",
   "metadata": {
    "id": "C5owR_PHU66c"
   },
   "source": [
    "## Часть 1. Обучение моделей классификации (5 баллов). \n",
    "\n",
    "Поработайте с датасетом telecom_churn. Вам предстоит по характеристикам клиента предсказать, уйдет он или нет (целевая колонка - Churn).\n",
    "\n",
    "A. Решите задачу с помощью логистической регрессии:\n",
    "- подберите значение гиперпараметров с помощью GridSearchCV\n",
    "Что вы можете сказать об алгоритме? Он переобучился/недообучился/обучился как надо и вы довольны качеством?\n",
    "\n",
    "B. Решите задачу с помощью метода опорных векторов (с kernel = 'linear'):\n",
    "- подберите значение гиперпараметров с помощью GridSearchCV\n",
    "Что вы можете сказать об алгоритме? Он переобучился/недообучился/обучился как надо и вы довольны качеством?\n",
    "\n",
    "Не забудьте масштабировать данные перед применением линейных моделей.\n",
    "\n",
    "C. Попробуйте увеличить число признаков с помощью добавления полиномиальных признаков. Также можно добавить функции от признаков вручную (те, которые вам кажутся подходящими в данной задаче).\n",
    "Улучшилось ли качество алгоритма?\n",
    "\n",
    "D. Постройте матрицу корреляций признаков. Есть ли признаки, которые практически не коррелируют с целевой переменной? Попробуйте их удалить. Есть ли пары сильно коррелирующих между собой признаков? Удалите по одному признаку из каждой пары.\n",
    "Помогло ли это улучшить качество в данной задаче?\n",
    "\n",
    "Пункты C и D можно скомбинировать для достижения наилучшего качества.\n",
    "\n",
    "E. Сделайте мини-отчет о проведенной работе. Для этого ответьте на вопросы:\n",
    "a) какой классификатор дал наилучший результат? чему равны значения метрик accuracy, f1-score и ROC-AUC? \n",
    "(Вы можете изначально разбить данные на train и test и сравнивать значения метрик на этих выборках; или же можно оценивать качество алгоритмов по кросс-валидации).\n",
    "\n",
    "b) какие новые признаки вы добавили и какие признаки удалили?\n",
    "\n",
    "c) удалось ли добиться того, что алгоритм не переобучился и не недообучился?"
   ]
  },
  {
   "cell_type": "markdown",
   "metadata": {
    "id": "5IgLFh7Mio8o"
   },
   "source": [
    "## Импорт библитотек, загрузка датасета, EDA, предобработка"
   ]
  },
  {
   "cell_type": "code",
   "execution_count": 4,
   "metadata": {
    "executionInfo": {
     "elapsed": 20607,
     "status": "ok",
     "timestamp": 1681806781918,
     "user": {
      "displayName": "Klim Chernov",
      "userId": "01467194743770448933"
     },
     "user_tz": -180
    },
    "id": "pECJ4eiOd-LQ"
   },
   "outputs": [],
   "source": [
    "%%capture \n",
    "!python -m pip install --upgrade pip\n",
    "!pip install --upgrade scikit-learn-intelex"
   ]
  },
  {
   "cell_type": "code",
   "execution_count": 5,
   "metadata": {
    "colab": {
     "base_uri": "https://localhost:8080/"
    },
    "collapsed": true,
    "executionInfo": {
     "elapsed": 9163,
     "status": "ok",
     "timestamp": 1681806797336,
     "user": {
      "displayName": "Klim Chernov",
      "userId": "01467194743770448933"
     },
     "user_tz": -180
    },
    "id": "1hxQPdGwonBO",
    "outputId": "7dcb52b8-7d70-470b-bcdc-83a5003755a2"
   },
   "outputs": [
    {
     "name": "stdout",
     "output_type": "stream",
     "text": [
      "Looking in indexes: https://pypi.org/simple, https://us-python.pkg.dev/colab-wheels/public/simple/\n",
      "Collecting category_encoders\n",
      "  Downloading category_encoders-2.6.0-py2.py3-none-any.whl (81 kB)\n",
      "\u001b[2K     \u001b[90m━━━━━━━━━━━━━━━━━━━━━━━━━━━━━━━━━━━━━━━━\u001b[0m \u001b[32m81.2/81.2 kB\u001b[0m \u001b[31m4.4 MB/s\u001b[0m eta \u001b[36m0:00:00\u001b[0m\n",
      "\u001b[?25hRequirement already satisfied: numpy>=1.14.0 in /usr/local/lib/python3.9/dist-packages (from category_encoders) (1.22.4)\n",
      "Requirement already satisfied: scikit-learn>=0.20.0 in /usr/local/lib/python3.9/dist-packages (from category_encoders) (1.2.2)\n",
      "Requirement already satisfied: scipy>=1.0.0 in /usr/local/lib/python3.9/dist-packages (from category_encoders) (1.10.1)\n",
      "Requirement already satisfied: statsmodels>=0.9.0 in /usr/local/lib/python3.9/dist-packages (from category_encoders) (0.13.5)\n",
      "Requirement already satisfied: pandas>=1.0.5 in /usr/local/lib/python3.9/dist-packages (from category_encoders) (1.5.3)\n",
      "Requirement already satisfied: patsy>=0.5.1 in /usr/local/lib/python3.9/dist-packages (from category_encoders) (0.5.3)\n",
      "Requirement already satisfied: python-dateutil>=2.8.1 in /usr/local/lib/python3.9/dist-packages (from pandas>=1.0.5->category_encoders) (2.8.2)\n",
      "Requirement already satisfied: pytz>=2020.1 in /usr/local/lib/python3.9/dist-packages (from pandas>=1.0.5->category_encoders) (2022.7.1)\n",
      "Requirement already satisfied: six in /usr/local/lib/python3.9/dist-packages (from patsy>=0.5.1->category_encoders) (1.16.0)\n",
      "Requirement already satisfied: joblib>=1.1.1 in /usr/local/lib/python3.9/dist-packages (from scikit-learn>=0.20.0->category_encoders) (1.2.0)\n",
      "Requirement already satisfied: threadpoolctl>=2.0.0 in /usr/local/lib/python3.9/dist-packages (from scikit-learn>=0.20.0->category_encoders) (3.1.0)\n",
      "Requirement already satisfied: packaging>=21.3 in /usr/local/lib/python3.9/dist-packages (from statsmodels>=0.9.0->category_encoders) (23.0)\n",
      "Installing collected packages: category_encoders\n",
      "Successfully installed category_encoders-2.6.0\n",
      "\u001b[33mWARNING: Running pip as the 'root' user can result in broken permissions and conflicting behaviour with the system package manager. It is recommended to use a virtual environment instead: https://pip.pypa.io/warnings/venv\u001b[0m\u001b[33m\n",
      "\u001b[0m"
     ]
    }
   ],
   "source": [
    "!pip install category_encoders"
   ]
  },
  {
   "cell_type": "code",
   "execution_count": 6,
   "metadata": {
    "colab": {
     "base_uri": "https://localhost:8080/"
    },
    "collapsed": true,
    "executionInfo": {
     "elapsed": 21795,
     "status": "ok",
     "timestamp": 1681806825298,
     "user": {
      "displayName": "Klim Chernov",
      "userId": "01467194743770448933"
     },
     "user_tz": -180
    },
    "id": "mEKvoU3YU66h",
    "outputId": "8155c993-c981-4ab4-b9de-295e5354fb70"
   },
   "outputs": [
    {
     "name": "stderr",
     "output_type": "stream",
     "text": [
      "Intel(R) Extension for Scikit-learn* enabled (https://github.com/intel/scikit-learn-intelex)\n"
     ]
    },
    {
     "name": "stdout",
     "output_type": "stream",
     "text": [
      "Mounted at /content/drive\n",
      "Populating the interactive namespace from numpy and matplotlib\n"
     ]
    }
   ],
   "source": [
    "import pandas as pd\n",
    "import matplotlib.pyplot as plt\n",
    "import numpy as np\n",
    "\n",
    "from sklearn.model_selection import train_test_split, cross_validate, GridSearchCV\n",
    "\n",
    "from category_encoders.one_hot import OneHotEncoder\n",
    "from category_encoders.target_encoder import TargetEncoder\n",
    "from sklearn.preprocessing import StandardScaler, PolynomialFeatures\n",
    "\n",
    "from sklearn.linear_model import LogisticRegression\n",
    "from sklearn.svm import SVC\n",
    "\n",
    "from sklearn.metrics import accuracy_score, f1_score, roc_auc_score, precision_score, recall_score, classification_report, confusion_matrix\n",
    "\n",
    "from sklearn.pipeline import Pipeline\n",
    "\n",
    "from sklearnex import patch_sklearn \n",
    "patch_sklearn()\n",
    "\n",
    "from google.colab import drive\n",
    "drive.mount('/content/drive')\n",
    "\n",
    "import warnings\n",
    "warnings.filterwarnings('ignore')\n",
    "\n",
    "%pylab inline"
   ]
  },
  {
   "cell_type": "code",
   "execution_count": 116,
   "metadata": {
    "colab": {
     "base_uri": "https://localhost:8080/",
     "height": 285
    },
    "executionInfo": {
     "elapsed": 1076,
     "status": "ok",
     "timestamp": 1681821650144,
     "user": {
      "displayName": "Klim Chernov",
      "userId": "01467194743770448933"
     },
     "user_tz": -180
    },
    "id": "g6TLSYK2eZ61",
    "outputId": "7af1d4e6-986b-472c-bbe9-7a8fee6a314d"
   },
   "outputs": [
    {
     "data": {
      "text/html": [
       "\n",
       "  <div id=\"df-8549fd74-5fad-46ad-839f-c31e3bf4df51\">\n",
       "    <div class=\"colab-df-container\">\n",
       "      <div>\n",
       "<style scoped>\n",
       "    .dataframe tbody tr th:only-of-type {\n",
       "        vertical-align: middle;\n",
       "    }\n",
       "\n",
       "    .dataframe tbody tr th {\n",
       "        vertical-align: top;\n",
       "    }\n",
       "\n",
       "    .dataframe thead th {\n",
       "        text-align: right;\n",
       "    }\n",
       "</style>\n",
       "<table border=\"1\" class=\"dataframe\">\n",
       "  <thead>\n",
       "    <tr style=\"text-align: right;\">\n",
       "      <th></th>\n",
       "      <th>State</th>\n",
       "      <th>Account length</th>\n",
       "      <th>Area code</th>\n",
       "      <th>International plan</th>\n",
       "      <th>Voice mail plan</th>\n",
       "      <th>Number vmail messages</th>\n",
       "      <th>Total day minutes</th>\n",
       "      <th>Total day calls</th>\n",
       "      <th>Total day charge</th>\n",
       "      <th>Total eve minutes</th>\n",
       "      <th>Total eve calls</th>\n",
       "      <th>Total eve charge</th>\n",
       "      <th>Total night minutes</th>\n",
       "      <th>Total night calls</th>\n",
       "      <th>Total night charge</th>\n",
       "      <th>Total intl minutes</th>\n",
       "      <th>Total intl calls</th>\n",
       "      <th>Total intl charge</th>\n",
       "      <th>Customer service calls</th>\n",
       "      <th>Churn</th>\n",
       "    </tr>\n",
       "  </thead>\n",
       "  <tbody>\n",
       "    <tr>\n",
       "      <th>0</th>\n",
       "      <td>KS</td>\n",
       "      <td>128</td>\n",
       "      <td>415</td>\n",
       "      <td>No</td>\n",
       "      <td>Yes</td>\n",
       "      <td>25</td>\n",
       "      <td>265.1</td>\n",
       "      <td>110</td>\n",
       "      <td>45.07</td>\n",
       "      <td>197.4</td>\n",
       "      <td>99</td>\n",
       "      <td>16.78</td>\n",
       "      <td>244.7</td>\n",
       "      <td>91</td>\n",
       "      <td>11.01</td>\n",
       "      <td>10.0</td>\n",
       "      <td>3</td>\n",
       "      <td>2.70</td>\n",
       "      <td>1</td>\n",
       "      <td>False</td>\n",
       "    </tr>\n",
       "    <tr>\n",
       "      <th>1</th>\n",
       "      <td>OH</td>\n",
       "      <td>107</td>\n",
       "      <td>415</td>\n",
       "      <td>No</td>\n",
       "      <td>Yes</td>\n",
       "      <td>26</td>\n",
       "      <td>161.6</td>\n",
       "      <td>123</td>\n",
       "      <td>27.47</td>\n",
       "      <td>195.5</td>\n",
       "      <td>103</td>\n",
       "      <td>16.62</td>\n",
       "      <td>254.4</td>\n",
       "      <td>103</td>\n",
       "      <td>11.45</td>\n",
       "      <td>13.7</td>\n",
       "      <td>3</td>\n",
       "      <td>3.70</td>\n",
       "      <td>1</td>\n",
       "      <td>False</td>\n",
       "    </tr>\n",
       "    <tr>\n",
       "      <th>2</th>\n",
       "      <td>NJ</td>\n",
       "      <td>137</td>\n",
       "      <td>415</td>\n",
       "      <td>No</td>\n",
       "      <td>No</td>\n",
       "      <td>0</td>\n",
       "      <td>243.4</td>\n",
       "      <td>114</td>\n",
       "      <td>41.38</td>\n",
       "      <td>121.2</td>\n",
       "      <td>110</td>\n",
       "      <td>10.30</td>\n",
       "      <td>162.6</td>\n",
       "      <td>104</td>\n",
       "      <td>7.32</td>\n",
       "      <td>12.2</td>\n",
       "      <td>5</td>\n",
       "      <td>3.29</td>\n",
       "      <td>0</td>\n",
       "      <td>False</td>\n",
       "    </tr>\n",
       "    <tr>\n",
       "      <th>3</th>\n",
       "      <td>OH</td>\n",
       "      <td>84</td>\n",
       "      <td>408</td>\n",
       "      <td>Yes</td>\n",
       "      <td>No</td>\n",
       "      <td>0</td>\n",
       "      <td>299.4</td>\n",
       "      <td>71</td>\n",
       "      <td>50.90</td>\n",
       "      <td>61.9</td>\n",
       "      <td>88</td>\n",
       "      <td>5.26</td>\n",
       "      <td>196.9</td>\n",
       "      <td>89</td>\n",
       "      <td>8.86</td>\n",
       "      <td>6.6</td>\n",
       "      <td>7</td>\n",
       "      <td>1.78</td>\n",
       "      <td>2</td>\n",
       "      <td>False</td>\n",
       "    </tr>\n",
       "    <tr>\n",
       "      <th>4</th>\n",
       "      <td>OK</td>\n",
       "      <td>75</td>\n",
       "      <td>415</td>\n",
       "      <td>Yes</td>\n",
       "      <td>No</td>\n",
       "      <td>0</td>\n",
       "      <td>166.7</td>\n",
       "      <td>113</td>\n",
       "      <td>28.34</td>\n",
       "      <td>148.3</td>\n",
       "      <td>122</td>\n",
       "      <td>12.61</td>\n",
       "      <td>186.9</td>\n",
       "      <td>121</td>\n",
       "      <td>8.41</td>\n",
       "      <td>10.1</td>\n",
       "      <td>3</td>\n",
       "      <td>2.73</td>\n",
       "      <td>3</td>\n",
       "      <td>False</td>\n",
       "    </tr>\n",
       "  </tbody>\n",
       "</table>\n",
       "</div>\n",
       "      <button class=\"colab-df-convert\" onclick=\"convertToInteractive('df-8549fd74-5fad-46ad-839f-c31e3bf4df51')\"\n",
       "              title=\"Convert this dataframe to an interactive table.\"\n",
       "              style=\"display:none;\">\n",
       "        \n",
       "  <svg xmlns=\"http://www.w3.org/2000/svg\" height=\"24px\"viewBox=\"0 0 24 24\"\n",
       "       width=\"24px\">\n",
       "    <path d=\"M0 0h24v24H0V0z\" fill=\"none\"/>\n",
       "    <path d=\"M18.56 5.44l.94 2.06.94-2.06 2.06-.94-2.06-.94-.94-2.06-.94 2.06-2.06.94zm-11 1L8.5 8.5l.94-2.06 2.06-.94-2.06-.94L8.5 2.5l-.94 2.06-2.06.94zm10 10l.94 2.06.94-2.06 2.06-.94-2.06-.94-.94-2.06-.94 2.06-2.06.94z\"/><path d=\"M17.41 7.96l-1.37-1.37c-.4-.4-.92-.59-1.43-.59-.52 0-1.04.2-1.43.59L10.3 9.45l-7.72 7.72c-.78.78-.78 2.05 0 2.83L4 21.41c.39.39.9.59 1.41.59.51 0 1.02-.2 1.41-.59l7.78-7.78 2.81-2.81c.8-.78.8-2.07 0-2.86zM5.41 20L4 18.59l7.72-7.72 1.47 1.35L5.41 20z\"/>\n",
       "  </svg>\n",
       "      </button>\n",
       "      \n",
       "  <style>\n",
       "    .colab-df-container {\n",
       "      display:flex;\n",
       "      flex-wrap:wrap;\n",
       "      gap: 12px;\n",
       "    }\n",
       "\n",
       "    .colab-df-convert {\n",
       "      background-color: #E8F0FE;\n",
       "      border: none;\n",
       "      border-radius: 50%;\n",
       "      cursor: pointer;\n",
       "      display: none;\n",
       "      fill: #1967D2;\n",
       "      height: 32px;\n",
       "      padding: 0 0 0 0;\n",
       "      width: 32px;\n",
       "    }\n",
       "\n",
       "    .colab-df-convert:hover {\n",
       "      background-color: #E2EBFA;\n",
       "      box-shadow: 0px 1px 2px rgba(60, 64, 67, 0.3), 0px 1px 3px 1px rgba(60, 64, 67, 0.15);\n",
       "      fill: #174EA6;\n",
       "    }\n",
       "\n",
       "    [theme=dark] .colab-df-convert {\n",
       "      background-color: #3B4455;\n",
       "      fill: #D2E3FC;\n",
       "    }\n",
       "\n",
       "    [theme=dark] .colab-df-convert:hover {\n",
       "      background-color: #434B5C;\n",
       "      box-shadow: 0px 1px 3px 1px rgba(0, 0, 0, 0.15);\n",
       "      filter: drop-shadow(0px 1px 2px rgba(0, 0, 0, 0.3));\n",
       "      fill: #FFFFFF;\n",
       "    }\n",
       "  </style>\n",
       "\n",
       "      <script>\n",
       "        const buttonEl =\n",
       "          document.querySelector('#df-8549fd74-5fad-46ad-839f-c31e3bf4df51 button.colab-df-convert');\n",
       "        buttonEl.style.display =\n",
       "          google.colab.kernel.accessAllowed ? 'block' : 'none';\n",
       "\n",
       "        async function convertToInteractive(key) {\n",
       "          const element = document.querySelector('#df-8549fd74-5fad-46ad-839f-c31e3bf4df51');\n",
       "          const dataTable =\n",
       "            await google.colab.kernel.invokeFunction('convertToInteractive',\n",
       "                                                     [key], {});\n",
       "          if (!dataTable) return;\n",
       "\n",
       "          const docLinkHtml = 'Like what you see? Visit the ' +\n",
       "            '<a target=\"_blank\" href=https://colab.research.google.com/notebooks/data_table.ipynb>data table notebook</a>'\n",
       "            + ' to learn more about interactive tables.';\n",
       "          element.innerHTML = '';\n",
       "          dataTable['output_type'] = 'display_data';\n",
       "          await google.colab.output.renderOutput(dataTable, element);\n",
       "          const docLink = document.createElement('div');\n",
       "          docLink.innerHTML = docLinkHtml;\n",
       "          element.appendChild(docLink);\n",
       "        }\n",
       "      </script>\n",
       "    </div>\n",
       "  </div>\n",
       "  "
      ],
      "text/plain": [
       "  State  Account length  Area code International plan Voice mail plan  \\\n",
       "0    KS             128        415                 No             Yes   \n",
       "1    OH             107        415                 No             Yes   \n",
       "2    NJ             137        415                 No              No   \n",
       "3    OH              84        408                Yes              No   \n",
       "4    OK              75        415                Yes              No   \n",
       "\n",
       "   Number vmail messages  Total day minutes  Total day calls  \\\n",
       "0                     25              265.1              110   \n",
       "1                     26              161.6              123   \n",
       "2                      0              243.4              114   \n",
       "3                      0              299.4               71   \n",
       "4                      0              166.7              113   \n",
       "\n",
       "   Total day charge  Total eve minutes  Total eve calls  Total eve charge  \\\n",
       "0             45.07              197.4               99             16.78   \n",
       "1             27.47              195.5              103             16.62   \n",
       "2             41.38              121.2              110             10.30   \n",
       "3             50.90               61.9               88              5.26   \n",
       "4             28.34              148.3              122             12.61   \n",
       "\n",
       "   Total night minutes  Total night calls  Total night charge  \\\n",
       "0                244.7                 91               11.01   \n",
       "1                254.4                103               11.45   \n",
       "2                162.6                104                7.32   \n",
       "3                196.9                 89                8.86   \n",
       "4                186.9                121                8.41   \n",
       "\n",
       "   Total intl minutes  Total intl calls  Total intl charge  \\\n",
       "0                10.0                 3               2.70   \n",
       "1                13.7                 3               3.70   \n",
       "2                12.2                 5               3.29   \n",
       "3                 6.6                 7               1.78   \n",
       "4                10.1                 3               2.73   \n",
       "\n",
       "   Customer service calls  Churn  \n",
       "0                       1  False  \n",
       "1                       1  False  \n",
       "2                       0  False  \n",
       "3                       2  False  \n",
       "4                       3  False  "
      ]
     },
     "execution_count": 116,
     "metadata": {},
     "output_type": "execute_result"
    }
   ],
   "source": [
    "df = pd.read_csv('/content/drive/MyDrive/ML_HW/Hometask4_v2/telecom_churn.csv')\n",
    "df.head(5)"
   ]
  },
  {
   "cell_type": "code",
   "execution_count": 33,
   "metadata": {
    "colab": {
     "base_uri": "https://localhost:8080/"
    },
    "executionInfo": {
     "elapsed": 28,
     "status": "ok",
     "timestamp": 1681733251247,
     "user": {
      "displayName": "Klim Chernov",
      "userId": "01467194743770448933"
     },
     "user_tz": -180
    },
    "id": "eNagStJnf00z",
    "outputId": "c51d548c-db22-4afe-a80f-c9c87d1ee508"
   },
   "outputs": [
    {
     "name": "stdout",
     "output_type": "stream",
     "text": [
      "<class 'pandas.core.frame.DataFrame'>\n",
      "RangeIndex: 3333 entries, 0 to 3332\n",
      "Data columns (total 20 columns):\n",
      " #   Column                  Non-Null Count  Dtype  \n",
      "---  ------                  --------------  -----  \n",
      " 0   State                   3333 non-null   object \n",
      " 1   Account length          3333 non-null   int64  \n",
      " 2   Area code               3333 non-null   int64  \n",
      " 3   International plan      3333 non-null   object \n",
      " 4   Voice mail plan         3333 non-null   object \n",
      " 5   Number vmail messages   3333 non-null   int64  \n",
      " 6   Total day minutes       3333 non-null   float64\n",
      " 7   Total day calls         3333 non-null   int64  \n",
      " 8   Total day charge        3333 non-null   float64\n",
      " 9   Total eve minutes       3333 non-null   float64\n",
      " 10  Total eve calls         3333 non-null   int64  \n",
      " 11  Total eve charge        3333 non-null   float64\n",
      " 12  Total night minutes     3333 non-null   float64\n",
      " 13  Total night calls       3333 non-null   int64  \n",
      " 14  Total night charge      3333 non-null   float64\n",
      " 15  Total intl minutes      3333 non-null   float64\n",
      " 16  Total intl calls        3333 non-null   int64  \n",
      " 17  Total intl charge       3333 non-null   float64\n",
      " 18  Customer service calls  3333 non-null   int64  \n",
      " 19  Churn                   3333 non-null   bool   \n",
      "dtypes: bool(1), float64(8), int64(8), object(3)\n",
      "memory usage: 498.1+ KB\n"
     ]
    }
   ],
   "source": [
    "df.info()"
   ]
  },
  {
   "cell_type": "markdown",
   "metadata": {
    "id": "PSCodrF3ggnO"
   },
   "source": [
    "Ни одного пропуска."
   ]
  },
  {
   "cell_type": "code",
   "execution_count": 34,
   "metadata": {
    "colab": {
     "base_uri": "https://localhost:8080/"
    },
    "executionInfo": {
     "elapsed": 28,
     "status": "ok",
     "timestamp": 1681733251249,
     "user": {
      "displayName": "Klim Chernov",
      "userId": "01467194743770448933"
     },
     "user_tz": -180
    },
    "id": "Ne5TlbGHfxSW",
    "outputId": "b5f32a26-e85b-4195-98e4-3f2bef98a116"
   },
   "outputs": [
    {
     "data": {
      "text/plain": [
       "False    2850\n",
       "True      483\n",
       "Name: Churn, dtype: int64"
      ]
     },
     "execution_count": 34,
     "metadata": {},
     "output_type": "execute_result"
    }
   ],
   "source": [
    "df.Churn.value_counts()"
   ]
  },
  {
   "cell_type": "markdown",
   "metadata": {
    "id": "_x1DS4qpglQP"
   },
   "source": [
    "Ушедших клиентов гораздо меньше. Классы несбалансированны. Accuracy - не лучшая метрика для этой задачи."
   ]
  },
  {
   "cell_type": "code",
   "execution_count": 121,
   "metadata": {
    "executionInfo": {
     "elapsed": 274,
     "status": "ok",
     "timestamp": 1681821710044,
     "user": {
      "displayName": "Klim Chernov",
      "userId": "01467194743770448933"
     },
     "user_tz": -180
    },
    "id": "g-EVfWwIfi12"
   },
   "outputs": [],
   "source": [
    "df[['International plan', 'Voice mail plan']] = df[['International plan', 'Voice mail plan']].replace({'No': 0, 'Yes': 1})"
   ]
  },
  {
   "cell_type": "code",
   "execution_count": 122,
   "metadata": {
    "executionInfo": {
     "elapsed": 3,
     "status": "ok",
     "timestamp": 1681821710967,
     "user": {
      "displayName": "Klim Chernov",
      "userId": "01467194743770448933"
     },
     "user_tz": -180
    },
    "id": "BFnHq8EIl86_"
   },
   "outputs": [],
   "source": [
    "df['Churn'] = df['Churn'].replace({False: -1, True: 1})"
   ]
  },
  {
   "cell_type": "code",
   "execution_count": 37,
   "metadata": {
    "colab": {
     "base_uri": "https://localhost:8080/"
    },
    "executionInfo": {
     "elapsed": 28,
     "status": "ok",
     "timestamp": 1681733251252,
     "user": {
      "displayName": "Klim Chernov",
      "userId": "01467194743770448933"
     },
     "user_tz": -180
    },
    "id": "TYmWyz3kjZ0c",
    "outputId": "40e6b638-8997-4bce-8f67-17093f336cf4"
   },
   "outputs": [
    {
     "data": {
      "text/plain": [
       "(0    3010\n",
       " 1     323\n",
       " Name: International plan, dtype: int64,\n",
       " 0    2411\n",
       " 1     922\n",
       " Name: Voice mail plan, dtype: int64)"
      ]
     },
     "execution_count": 37,
     "metadata": {},
     "output_type": "execute_result"
    }
   ],
   "source": [
    "df['International plan'].value_counts(), df['Voice mail plan'].value_counts()"
   ]
  },
  {
   "cell_type": "code",
   "execution_count": 38,
   "metadata": {
    "colab": {
     "base_uri": "https://localhost:8080/"
    },
    "executionInfo": {
     "elapsed": 28,
     "status": "ok",
     "timestamp": 1681733251254,
     "user": {
      "displayName": "Klim Chernov",
      "userId": "01467194743770448933"
     },
     "user_tz": -180
    },
    "id": "QcQ2fgc2jYRp",
    "outputId": "57affe3c-16d2-4607-abe5-49f0089e37b2"
   },
   "outputs": [
    {
     "data": {
      "text/plain": [
       "WV    106\n",
       "MN     84\n",
       "NY     83\n",
       "AL     80\n",
       "WI     78\n",
       "OH     78\n",
       "OR     78\n",
       "WY     77\n",
       "VA     77\n",
       "CT     74\n",
       "MI     73\n",
       "ID     73\n",
       "VT     73\n",
       "TX     72\n",
       "UT     72\n",
       "IN     71\n",
       "MD     70\n",
       "KS     70\n",
       "NC     68\n",
       "NJ     68\n",
       "MT     68\n",
       "CO     66\n",
       "NV     66\n",
       "WA     66\n",
       "RI     65\n",
       "MA     65\n",
       "MS     65\n",
       "AZ     64\n",
       "FL     63\n",
       "MO     63\n",
       "NM     62\n",
       "ME     62\n",
       "ND     62\n",
       "NE     61\n",
       "OK     61\n",
       "DE     61\n",
       "SC     60\n",
       "SD     60\n",
       "KY     59\n",
       "IL     58\n",
       "NH     56\n",
       "AR     55\n",
       "GA     54\n",
       "DC     54\n",
       "HI     53\n",
       "TN     53\n",
       "AK     52\n",
       "LA     51\n",
       "PA     45\n",
       "IA     44\n",
       "CA     34\n",
       "Name: State, dtype: int64"
      ]
     },
     "execution_count": 38,
     "metadata": {},
     "output_type": "execute_result"
    }
   ],
   "source": [
    "df['State'].value_counts()"
   ]
  },
  {
   "cell_type": "markdown",
   "metadata": {
    "id": "k7oK7r6aDC9p"
   },
   "source": [
    "Для кодировки этого признака подойдёт Target Encoding со сглаживанием."
   ]
  },
  {
   "cell_type": "code",
   "execution_count": 39,
   "metadata": {
    "colab": {
     "base_uri": "https://localhost:8080/"
    },
    "executionInfo": {
     "elapsed": 28,
     "status": "ok",
     "timestamp": 1681733251255,
     "user": {
      "displayName": "Klim Chernov",
      "userId": "01467194743770448933"
     },
     "user_tz": -180
    },
    "id": "Jsxnbw9QkyIE",
    "outputId": "d35b90b8-c79d-4ac0-a32c-c33ac450e7a6"
   },
   "outputs": [
    {
     "data": {
      "text/plain": [
       "415    1655\n",
       "510     840\n",
       "408     838\n",
       "Name: Area code, dtype: int64"
      ]
     },
     "execution_count": 39,
     "metadata": {},
     "output_type": "execute_result"
    }
   ],
   "source": [
    "df['Area code'].value_counts()"
   ]
  },
  {
   "cell_type": "markdown",
   "metadata": {
    "id": "0TKDvVGTDRMB"
   },
   "source": [
    "Здесь подойдёт One-Hot-Encoding."
   ]
  },
  {
   "cell_type": "markdown",
   "metadata": {
    "id": "pfRacAjQiPCp"
   },
   "source": [
    "## A) Логистическая регрессия"
   ]
  },
  {
   "cell_type": "code",
   "execution_count": 123,
   "metadata": {
    "executionInfo": {
     "elapsed": 294,
     "status": "ok",
     "timestamp": 1681821717982,
     "user": {
      "displayName": "Klim Chernov",
      "userId": "01467194743770448933"
     },
     "user_tz": -180
    },
    "id": "CpRZerLchiAL"
   },
   "outputs": [],
   "source": [
    "X = df.drop('Churn', axis=1)\n",
    "y = df['Churn']"
   ]
  },
  {
   "cell_type": "code",
   "execution_count": 124,
   "metadata": {
    "executionInfo": {
     "elapsed": 6,
     "status": "ok",
     "timestamp": 1681821719051,
     "user": {
      "displayName": "Klim Chernov",
      "userId": "01467194743770448933"
     },
     "user_tz": -180
    },
    "id": "_Vs4YN4NqI5r"
   },
   "outputs": [],
   "source": [
    "Xtrain, Xtest, ytrain, ytest = train_test_split(X, y, test_size=0.25, random_state=42)"
   ]
  },
  {
   "cell_type": "code",
   "execution_count": 42,
   "metadata": {
    "executionInfo": {
     "elapsed": 29,
     "status": "ok",
     "timestamp": 1681733251258,
     "user": {
      "displayName": "Klim Chernov",
      "userId": "01467194743770448933"
     },
     "user_tz": -180
    },
    "id": "cg0ln6JrU66s"
   },
   "outputs": [],
   "source": [
    "p = Pipeline([\n",
    "    ('one_hot_encoder', OneHotEncoder(cols='Area code')),\n",
    "    ('target_encoder', TargetEncoder(cols='State')),\n",
    "    ('scaler', StandardScaler()),\n",
    "    ('model', LogisticRegression())\n",
    "])"
   ]
  },
  {
   "cell_type": "code",
   "execution_count": 43,
   "metadata": {
    "executionInfo": {
     "elapsed": 1000,
     "status": "ok",
     "timestamp": 1681733252229,
     "user": {
      "displayName": "Klim Chernov",
      "userId": "01467194743770448933"
     },
     "user_tz": -180
    },
    "id": "ZcNZmf1grnjJ"
   },
   "outputs": [],
   "source": [
    "p.fit(Xtrain, ytrain)\n",
    "ypredict = p.predict(Xtest)"
   ]
  },
  {
   "cell_type": "code",
   "execution_count": 44,
   "metadata": {
    "colab": {
     "base_uri": "https://localhost:8080/"
    },
    "executionInfo": {
     "elapsed": 20,
     "status": "ok",
     "timestamp": 1681733252230,
     "user": {
      "displayName": "Klim Chernov",
      "userId": "01467194743770448933"
     },
     "user_tz": -180
    },
    "id": "9lohRKTCxgoe",
    "outputId": "79b1bd50-6416-4a25-bfc9-cdfe7eaacb59"
   },
   "outputs": [
    {
     "name": "stdout",
     "output_type": "stream",
     "text": [
      "              precision    recall  f1-score   support\n",
      "\n",
      "          -1       0.88      0.97      0.92       709\n",
      "           1       0.60      0.22      0.33       125\n",
      "\n",
      "    accuracy                           0.86       834\n",
      "   macro avg       0.74      0.60      0.62       834\n",
      "weighted avg       0.83      0.86      0.83       834\n",
      "\n"
     ]
    }
   ],
   "source": [
    "print(classification_report(ytest, ypredict))"
   ]
  },
  {
   "cell_type": "markdown",
   "metadata": {
    "id": "FxNN3EVn-ZmK"
   },
   "source": [
    "У нас явные проблемы с метриками на редком классе. Построим Confusion Matrix."
   ]
  },
  {
   "cell_type": "code",
   "execution_count": 45,
   "metadata": {
    "colab": {
     "base_uri": "https://localhost:8080/"
    },
    "executionInfo": {
     "elapsed": 17,
     "status": "ok",
     "timestamp": 1681733252230,
     "user": {
      "displayName": "Klim Chernov",
      "userId": "01467194743770448933"
     },
     "user_tz": -180
    },
    "id": "GBHEPrz89SJI",
    "outputId": "0ba27879-3a24-4073-ff90-bfce10e10062"
   },
   "outputs": [
    {
     "data": {
      "text/plain": [
       "array([[690,  19],\n",
       "       [ 97,  28]])"
      ]
     },
     "execution_count": 45,
     "metadata": {},
     "output_type": "execute_result"
    }
   ],
   "source": [
    "confusion_matrix(ytest, ypredict)"
   ]
  },
  {
   "cell_type": "markdown",
   "metadata": {
    "id": "BPpIlhpx-ldp"
   },
   "source": [
    "Здесь:\n",
    "- [0, 0] - TN\n",
    "- [0, 1] - FP\n",
    "- [1, 0] - FN\n",
    "- [1, 1] - TP"
   ]
  },
  {
   "cell_type": "markdown",
   "metadata": {
    "id": "BCA0pZbYBKl7"
   },
   "source": [
    "Наш алгоритм не умеет находить положительный класс. А это, по большому счёту, его задача: предсказывать уход пользователей, чтобы принять превентивные меры."
   ]
  },
  {
   "cell_type": "code",
   "execution_count": 46,
   "metadata": {
    "colab": {
     "base_uri": "https://localhost:8080/"
    },
    "executionInfo": {
     "elapsed": 14,
     "status": "ok",
     "timestamp": 1681733252230,
     "user": {
      "displayName": "Klim Chernov",
      "userId": "01467194743770448933"
     },
     "user_tz": -180
    },
    "id": "frAE16I5BrEa",
    "outputId": "6bccf465-ac51-4b5f-f7a0-d3b9f23c0806"
   },
   "outputs": [
    {
     "data": {
      "text/plain": [
       "0.224"
      ]
     },
     "execution_count": 46,
     "metadata": {},
     "output_type": "execute_result"
    }
   ],
   "source": [
    "recall_score(ytest, ypredict)"
   ]
  },
  {
   "cell_type": "markdown",
   "metadata": {
    "id": "7Ind4UoxB9xe"
   },
   "source": [
    "Встроенная метрика recall_score считает полноту именно положителного класса, и это нам на руку."
   ]
  },
  {
   "cell_type": "code",
   "execution_count": 127,
   "metadata": {
    "colab": {
     "base_uri": "https://localhost:8080/"
    },
    "executionInfo": {
     "elapsed": 6999,
     "status": "ok",
     "timestamp": 1681821840018,
     "user": {
      "displayName": "Klim Chernov",
      "userId": "01467194743770448933"
     },
     "user_tz": -180
    },
    "id": "pBqTj1whfTJX",
    "outputId": "ae18edd6-9791-4539-fa93-9de95c2972c6"
   },
   "outputs": [
    {
     "name": "stdout",
     "output_type": "stream",
     "text": [
      "Fitting 5 folds for each of 40 candidates, totalling 200 fits\n",
      "best score: 0.22922535211267606\n",
      "best params: {'C': 0.75}\n"
     ]
    }
   ],
   "source": [
    "# Подберём коэффициент регуляризации.\n",
    "\n",
    "params = {'C': np.arange(0.25, 10.25, 0.25)}\n",
    "\n",
    "gs= Pipeline([\n",
    "    ('one_hot_encoder', OneHotEncoder(cols='Area code')),\n",
    "    ('target_encoder', TargetEncoder(cols='State')),\n",
    "    ('scaler', StandardScaler()),\n",
    "    ('model', GridSearchCV(LogisticRegression(), params, scoring='recall', verbose=1))\n",
    "])\n",
    "\n",
    "gs.fit(Xtrain, ytrain)\n",
    "\n",
    "print('best score:', gs['model'].best_score_)\n",
    "print('best params:', gs['model'].best_params_)"
   ]
  },
  {
   "cell_type": "code",
   "execution_count": 173,
   "metadata": {
    "executionInfo": {
     "elapsed": 278,
     "status": "ok",
     "timestamp": 1681740897354,
     "user": {
      "displayName": "Klim Chernov",
      "userId": "01467194743770448933"
     },
     "user_tz": -180
    },
    "id": "T7mdcOQTlZHD"
   },
   "outputs": [],
   "source": [
    "p= Pipeline([\n",
    "    ('one_hot_encoder', OneHotEncoder(cols='Area code')),\n",
    "    ('target_encoder', TargetEncoder(cols='State')),\n",
    "    ('scaler', StandardScaler()),\n",
    "    ('model', LogisticRegression(C=0.75))\n",
    "])\n",
    "\n",
    "p.fit(Xtrain, ytrain)\n",
    "ypredict = p.predict(Xtest)"
   ]
  },
  {
   "cell_type": "code",
   "execution_count": 174,
   "metadata": {
    "colab": {
     "base_uri": "https://localhost:8080/"
    },
    "executionInfo": {
     "elapsed": 267,
     "status": "ok",
     "timestamp": 1681740902991,
     "user": {
      "displayName": "Klim Chernov",
      "userId": "01467194743770448933"
     },
     "user_tz": -180
    },
    "id": "BLTd8MPkgA5G",
    "outputId": "18b62f1f-e17a-443b-8cac-ca323c13abc1"
   },
   "outputs": [
    {
     "data": {
      "text/plain": [
       "0.224"
      ]
     },
     "execution_count": 174,
     "metadata": {},
     "output_type": "execute_result"
    }
   ],
   "source": [
    "recall_score(ytest, ypredict)"
   ]
  },
  {
   "cell_type": "code",
   "execution_count": 175,
   "metadata": {
    "colab": {
     "base_uri": "https://localhost:8080/"
    },
    "executionInfo": {
     "elapsed": 261,
     "status": "ok",
     "timestamp": 1681740905572,
     "user": {
      "displayName": "Klim Chernov",
      "userId": "01467194743770448933"
     },
     "user_tz": -180
    },
    "id": "8BFGCInFgcE7",
    "outputId": "fb3cbda0-32b7-422d-8fbf-33b09722c896"
   },
   "outputs": [
    {
     "data": {
      "text/plain": [
       "array([[690,  19],\n",
       "       [ 97,  28]])"
      ]
     },
     "execution_count": 175,
     "metadata": {},
     "output_type": "execute_result"
    }
   ],
   "source": [
    "confusion_matrix(ytest, ypredict)"
   ]
  },
  {
   "cell_type": "markdown",
   "metadata": {
    "id": "1dHkefaNiB5t"
   },
   "source": [
    "Результат не изменился."
   ]
  },
  {
   "cell_type": "code",
   "execution_count": 51,
   "metadata": {
    "colab": {
     "base_uri": "https://localhost:8080/"
    },
    "executionInfo": {
     "elapsed": 364,
     "status": "ok",
     "timestamp": 1681733257334,
     "user": {
      "displayName": "Klim Chernov",
      "userId": "01467194743770448933"
     },
     "user_tz": -180
    },
    "id": "Mp4MqbRo3qPP",
    "outputId": "fbf11c3b-3448-4348-8064-5e55c5e02e76"
   },
   "outputs": [
    {
     "data": {
      "text/plain": [
       "{'fit_time': array([0.05925608, 0.05038023, 0.04682684, 0.0468111 , 0.05521965]),\n",
       " 'score_time': array([0.0126338 , 0.01717758, 0.01222396, 0.0118351 , 0.0118804 ]),\n",
       " 'test_accuracy': array([0.85457271, 0.85757121, 0.85907046, 0.85885886, 0.86486486]),\n",
       " 'test_recall': array([0.22680412, 0.22680412, 0.2371134 , 0.19791667, 0.25      ])}"
      ]
     },
     "execution_count": 51,
     "metadata": {},
     "output_type": "execute_result"
    }
   ],
   "source": [
    "cross_validate(p, X, y, scoring=['accuracy', 'recall'])"
   ]
  },
  {
   "cell_type": "markdown",
   "metadata": {
    "id": "QlQf5XLfhiND"
   },
   "source": [
    "**Модель не переобучена, но с таким recall считать её удовлетворительной нельзя.**"
   ]
  },
  {
   "cell_type": "markdown",
   "metadata": {
    "id": "8LnyxuYPjFSS"
   },
   "source": [
    "## B) Метод опорных векторов"
   ]
  },
  {
   "cell_type": "code",
   "execution_count": 67,
   "metadata": {
    "executionInfo": {
     "elapsed": 305,
     "status": "ok",
     "timestamp": 1681733649409,
     "user": {
      "displayName": "Klim Chernov",
      "userId": "01467194743770448933"
     },
     "user_tz": -180
    },
    "id": "x1F6zYKtjFST"
   },
   "outputs": [],
   "source": [
    "p = Pipeline([\n",
    "    ('one_hot_encoder', OneHotEncoder(cols='Area code')),\n",
    "    ('target_encoder', TargetEncoder(cols='State')),\n",
    "    ('scaler', StandardScaler()),\n",
    "    ('model', SVC(kernel='linear'))\n",
    "])"
   ]
  },
  {
   "cell_type": "code",
   "execution_count": 68,
   "metadata": {
    "executionInfo": {
     "elapsed": 1190,
     "status": "ok",
     "timestamp": 1681733652819,
     "user": {
      "displayName": "Klim Chernov",
      "userId": "01467194743770448933"
     },
     "user_tz": -180
    },
    "id": "anVjvYcpjFSU"
   },
   "outputs": [],
   "source": [
    "p.fit(Xtrain, ytrain)\n",
    "ypredict = p.predict(Xtest)"
   ]
  },
  {
   "cell_type": "code",
   "execution_count": 69,
   "metadata": {
    "colab": {
     "base_uri": "https://localhost:8080/"
    },
    "executionInfo": {
     "elapsed": 461,
     "status": "ok",
     "timestamp": 1681733655247,
     "user": {
      "displayName": "Klim Chernov",
      "userId": "01467194743770448933"
     },
     "user_tz": -180
    },
    "id": "lu0Wlhx2jFSU",
    "outputId": "85094f1a-9d48-49d6-ccf6-7873adabf416"
   },
   "outputs": [
    {
     "name": "stdout",
     "output_type": "stream",
     "text": [
      "              precision    recall  f1-score   support\n",
      "\n",
      "          -1       0.85      1.00      0.92       709\n",
      "           1       0.00      0.00      0.00       125\n",
      "\n",
      "    accuracy                           0.85       834\n",
      "   macro avg       0.43      0.50      0.46       834\n",
      "weighted avg       0.72      0.85      0.78       834\n",
      "\n"
     ]
    }
   ],
   "source": [
    "print(classification_report(ytest, ypredict))"
   ]
  },
  {
   "cell_type": "markdown",
   "metadata": {
    "id": "oD_XDVaUjFSV"
   },
   "source": [
    "У нас явные проблемы с метриками на редком классе. Построим Confusion Matrix."
   ]
  },
  {
   "cell_type": "code",
   "execution_count": 70,
   "metadata": {
    "colab": {
     "base_uri": "https://localhost:8080/"
    },
    "executionInfo": {
     "elapsed": 295,
     "status": "ok",
     "timestamp": 1681733657823,
     "user": {
      "displayName": "Klim Chernov",
      "userId": "01467194743770448933"
     },
     "user_tz": -180
    },
    "id": "J9g4O1qIjFSV",
    "outputId": "f448ba70-76e6-4880-f8f8-ce153e8c6fb8"
   },
   "outputs": [
    {
     "data": {
      "text/plain": [
       "array([[709,   0],\n",
       "       [125,   0]])"
      ]
     },
     "execution_count": 70,
     "metadata": {},
     "output_type": "execute_result"
    }
   ],
   "source": [
    "confusion_matrix(ytest, ypredict)"
   ]
  },
  {
   "cell_type": "markdown",
   "metadata": {
    "id": "w8RJR2A2jFSW"
   },
   "source": [
    "Наш алгоритм не нашёл ни одного объекта положительного класса."
   ]
  },
  {
   "cell_type": "code",
   "execution_count": 119,
   "metadata": {
    "colab": {
     "base_uri": "https://localhost:8080/"
    },
    "executionInfo": {
     "elapsed": 136220,
     "status": "ok",
     "timestamp": 1681737051645,
     "user": {
      "displayName": "Klim Chernov",
      "userId": "01467194743770448933"
     },
     "user_tz": -180
    },
    "id": "sn1V1FqkjFSX",
    "outputId": "7810aaed-2cae-4cb3-f5b7-14ed550be324"
   },
   "outputs": [
    {
     "name": "stdout",
     "output_type": "stream",
     "text": [
      "Fitting 5 folds for each of 40 candidates, totalling 200 fits\n",
      "best score: 0.0\n",
      "best params: {'C': 0.25}\n"
     ]
    }
   ],
   "source": [
    "# Подберём коэффициент регуляризации.\n",
    "\n",
    "params = {'C': np.arange(0.25, 10.25, 0.25)}\n",
    "\n",
    "gs= Pipeline([\n",
    "    ('one_hot_encoder', OneHotEncoder(cols='Area code')),\n",
    "    ('target_encoder', TargetEncoder(cols='State')),\n",
    "    ('scaler', StandardScaler()),\n",
    "    ('model', GridSearchCV(SVC(kernel='linear'), params, scoring='recall', verbose=3))\n",
    "])\n",
    "\n",
    "gs.fit(Xtrain, ytrain)\n",
    "\n",
    "print('best score:', gs['model'].best_score_)\n",
    "print('best params:', gs['model'].best_params_)"
   ]
  },
  {
   "cell_type": "markdown",
   "metadata": {
    "id": "wWMZz2ZhjFSZ"
   },
   "source": [
    "**Recall остался равен 0. Модель в таком виде вообще не подходит для нашей задачи.**"
   ]
  },
  {
   "cell_type": "markdown",
   "metadata": {
    "id": "wuzegnRON1wr"
   },
   "source": [
    "## C) Добавление признаков"
   ]
  },
  {
   "cell_type": "markdown",
   "metadata": {
    "id": "KMPQZeKDN7jc"
   },
   "source": [
    "### Логистическая регрессия"
   ]
  },
  {
   "cell_type": "code",
   "execution_count": 176,
   "metadata": {
    "executionInfo": {
     "elapsed": 931,
     "status": "ok",
     "timestamp": 1681741519407,
     "user": {
      "displayName": "Klim Chernov",
      "userId": "01467194743770448933"
     },
     "user_tz": -180
    },
    "id": "thgsCa7nN1w0"
   },
   "outputs": [],
   "source": [
    "p = Pipeline([\n",
    "    ('one_hot_encoder', OneHotEncoder(cols='Area code')),\n",
    "    ('target_encoder', TargetEncoder(cols='State')),\n",
    "    ('poli', PolynomialFeatures(degree=3)),\n",
    "    ('scaler', StandardScaler()),\n",
    "    ('model', LogisticRegression())\n",
    "])"
   ]
  },
  {
   "cell_type": "code",
   "execution_count": 177,
   "metadata": {
    "executionInfo": {
     "elapsed": 2010,
     "status": "ok",
     "timestamp": 1681741523921,
     "user": {
      "displayName": "Klim Chernov",
      "userId": "01467194743770448933"
     },
     "user_tz": -180
    },
    "id": "za2CmXHsN1w0"
   },
   "outputs": [],
   "source": [
    "p.fit(Xtrain, ytrain)\n",
    "ypredict = p.predict(Xtest)"
   ]
  },
  {
   "cell_type": "code",
   "execution_count": 178,
   "metadata": {
    "colab": {
     "base_uri": "https://localhost:8080/"
    },
    "executionInfo": {
     "elapsed": 621,
     "status": "ok",
     "timestamp": 1681741525889,
     "user": {
      "displayName": "Klim Chernov",
      "userId": "01467194743770448933"
     },
     "user_tz": -180
    },
    "id": "oyq-ZXf4N1w1",
    "outputId": "4f5bd699-3561-4945-96b7-8a605ea6620c"
   },
   "outputs": [
    {
     "name": "stdout",
     "output_type": "stream",
     "text": [
      "              precision    recall  f1-score   support\n",
      "\n",
      "          -1       0.94      0.97      0.96       709\n",
      "           1       0.80      0.66      0.72       125\n",
      "\n",
      "    accuracy                           0.92       834\n",
      "   macro avg       0.87      0.81      0.84       834\n",
      "weighted avg       0.92      0.92      0.92       834\n",
      "\n"
     ]
    }
   ],
   "source": [
    "print(classification_report(ytest, ypredict))"
   ]
  },
  {
   "cell_type": "markdown",
   "metadata": {
    "id": "T8-lu3XyN1w1"
   },
   "source": [
    "Все метрики, а главное, recall, выросли при добавлении полиномов степеней 2 и 3, включая квадраты и кубы одних и тех же признаков (interaction_only=False)."
   ]
  },
  {
   "cell_type": "code",
   "execution_count": 179,
   "metadata": {
    "colab": {
     "base_uri": "https://localhost:8080/"
    },
    "executionInfo": {
     "elapsed": 448,
     "status": "ok",
     "timestamp": 1681741532455,
     "user": {
      "displayName": "Klim Chernov",
      "userId": "01467194743770448933"
     },
     "user_tz": -180
    },
    "id": "YwimsTURN1w1",
    "outputId": "c2af73ab-aa8c-4c28-c0da-571034e82a50"
   },
   "outputs": [
    {
     "data": {
      "text/plain": [
       "array([[689,  20],\n",
       "       [ 43,  82]])"
      ]
     },
     "execution_count": 179,
     "metadata": {},
     "output_type": "execute_result"
    }
   ],
   "source": [
    "confusion_matrix(ytest, ypredict)"
   ]
  },
  {
   "cell_type": "markdown",
   "metadata": {
    "id": "qejFKjo_N1w2"
   },
   "source": [
    "Алгоритм теперь ловит 2/3 положительных объектов и ошибается всего на одном дополнительном отрицательном объекте."
   ]
  },
  {
   "cell_type": "code",
   "execution_count": 180,
   "metadata": {
    "colab": {
     "base_uri": "https://localhost:8080/"
    },
    "executionInfo": {
     "elapsed": 8956,
     "status": "ok",
     "timestamp": 1681741545313,
     "user": {
      "displayName": "Klim Chernov",
      "userId": "01467194743770448933"
     },
     "user_tz": -180
    },
    "id": "3P5TX0b0Wreo",
    "outputId": "047a8388-1cdf-4f58-eade-fb8bd4a98e21"
   },
   "outputs": [
    {
     "name": "stdout",
     "output_type": "stream",
     "text": [
      "accuracy mean: 0.9057912485198841\n",
      "recall mean: 0.5900773195876289\n",
      "\n"
     ]
    },
    {
     "data": {
      "text/plain": [
       "{'fit_time': array([2.00272989, 1.4489069 , 1.47326088, 2.03524113, 1.4039073 ]),\n",
       " 'score_time': array([0.02816319, 0.02578545, 0.02571678, 0.03110933, 0.02770376]),\n",
       " 'test_accuracy': array([0.90404798, 0.90404798, 0.90704648, 0.90540541, 0.90840841]),\n",
       " 'test_recall': array([0.56701031, 0.54639175, 0.64948454, 0.59375   , 0.59375   ])}"
      ]
     },
     "execution_count": 180,
     "metadata": {},
     "output_type": "execute_result"
    }
   ],
   "source": [
    "cv = cross_validate(p, X, y, scoring=['accuracy', 'recall'])\n",
    "print('accuracy mean:', cv['test_accuracy'].mean())\n",
    "print('recall mean:', cv['test_recall'].mean())\n",
    "print()\n",
    "cv"
   ]
  },
  {
   "cell_type": "code",
   "execution_count": 163,
   "metadata": {
    "colab": {
     "base_uri": "https://localhost:8080/"
    },
    "collapsed": true,
    "executionInfo": {
     "elapsed": 237295,
     "status": "ok",
     "timestamp": 1681740661524,
     "user": {
      "displayName": "Klim Chernov",
      "userId": "01467194743770448933"
     },
     "user_tz": -180
    },
    "id": "aejb1OcLN1w2",
    "outputId": "3b27306b-5074-47d2-ea5e-e790412be69b"
   },
   "outputs": [
    {
     "name": "stdout",
     "output_type": "stream",
     "text": [
      "Fitting 5 folds for each of 40 candidates, totalling 200 fits\n",
      "[CV 1/5] END ............................C=0.25;, score=0.521 total time=   1.2s\n",
      "[CV 2/5] END ............................C=0.25;, score=0.611 total time=   1.0s\n",
      "[CV 3/5] END ............................C=0.25;, score=0.639 total time=   1.0s\n",
      "[CV 4/5] END ............................C=0.25;, score=0.514 total time=   1.9s\n",
      "[CV 5/5] END ............................C=0.25;, score=0.563 total time=   1.7s\n",
      "[CV 1/5] END .............................C=0.5;, score=0.563 total time=   1.1s\n",
      "[CV 2/5] END .............................C=0.5;, score=0.625 total time=   1.3s\n",
      "[CV 3/5] END .............................C=0.5;, score=0.639 total time=   0.9s\n",
      "[CV 4/5] END .............................C=0.5;, score=0.528 total time=   1.0s\n",
      "[CV 5/5] END .............................C=0.5;, score=0.577 total time=   1.0s\n",
      "[CV 1/5] END ............................C=0.75;, score=0.563 total time=   1.2s\n",
      "[CV 2/5] END ............................C=0.75;, score=0.611 total time=   1.0s\n",
      "[CV 3/5] END ............................C=0.75;, score=0.667 total time=   1.0s\n",
      "[CV 4/5] END ............................C=0.75;, score=0.556 total time=   1.4s\n",
      "[CV 5/5] END ............................C=0.75;, score=0.577 total time=   1.3s\n",
      "[CV 1/5] END .............................C=1.0;, score=0.563 total time=   1.1s\n",
      "[CV 2/5] END .............................C=1.0;, score=0.639 total time=   1.7s\n",
      "[CV 3/5] END .............................C=1.0;, score=0.639 total time=   1.4s\n",
      "[CV 4/5] END .............................C=1.0;, score=0.569 total time=   1.7s\n",
      "[CV 5/5] END .............................C=1.0;, score=0.549 total time=   1.1s\n",
      "[CV 1/5] END ............................C=1.25;, score=0.535 total time=   1.1s\n",
      "[CV 2/5] END ............................C=1.25;, score=0.639 total time=   1.4s\n",
      "[CV 3/5] END ............................C=1.25;, score=0.653 total time=   1.2s\n",
      "[CV 4/5] END ............................C=1.25;, score=0.569 total time=   1.4s\n",
      "[CV 5/5] END ............................C=1.25;, score=0.577 total time=   1.1s\n",
      "[CV 1/5] END .............................C=1.5;, score=0.535 total time=   1.0s\n",
      "[CV 2/5] END .............................C=1.5;, score=0.625 total time=   1.4s\n",
      "[CV 3/5] END .............................C=1.5;, score=0.625 total time=   1.1s\n",
      "[CV 4/5] END .............................C=1.5;, score=0.569 total time=   1.9s\n",
      "[CV 5/5] END .............................C=1.5;, score=0.563 total time=   1.7s\n",
      "[CV 1/5] END ............................C=1.75;, score=0.549 total time=   1.2s\n",
      "[CV 2/5] END ............................C=1.75;, score=0.653 total time=   1.3s\n",
      "[CV 3/5] END ............................C=1.75;, score=0.639 total time=   1.2s\n",
      "[CV 4/5] END ............................C=1.75;, score=0.569 total time=   1.0s\n",
      "[CV 5/5] END ............................C=1.75;, score=0.577 total time=   1.0s\n",
      "[CV 1/5] END .............................C=2.0;, score=0.563 total time=   0.9s\n",
      "[CV 2/5] END .............................C=2.0;, score=0.653 total time=   1.3s\n",
      "[CV 3/5] END .............................C=2.0;, score=0.667 total time=   0.9s\n",
      "[CV 4/5] END .............................C=2.0;, score=0.583 total time=   1.0s\n",
      "[CV 5/5] END .............................C=2.0;, score=0.577 total time=   1.2s\n",
      "[CV 1/5] END ............................C=2.25;, score=0.535 total time=   1.4s\n",
      "[CV 2/5] END ............................C=2.25;, score=0.625 total time=   1.8s\n",
      "[CV 3/5] END ............................C=2.25;, score=0.667 total time=   1.4s\n",
      "[CV 4/5] END ............................C=2.25;, score=0.569 total time=   1.3s\n",
      "[CV 5/5] END ............................C=2.25;, score=0.577 total time=   1.0s\n",
      "[CV 1/5] END .............................C=2.5;, score=0.563 total time=   1.3s\n",
      "[CV 2/5] END .............................C=2.5;, score=0.625 total time=   1.1s\n",
      "[CV 3/5] END .............................C=2.5;, score=0.681 total time=   1.2s\n",
      "[CV 4/5] END .............................C=2.5;, score=0.556 total time=   1.1s\n",
      "[CV 5/5] END .............................C=2.5;, score=0.563 total time=   1.1s\n",
      "[CV 1/5] END ............................C=2.75;, score=0.549 total time=   1.0s\n",
      "[CV 2/5] END ............................C=2.75;, score=0.625 total time=   1.2s\n",
      "[CV 3/5] END ............................C=2.75;, score=0.639 total time=   1.3s\n",
      "[CV 4/5] END ............................C=2.75;, score=0.556 total time=   1.6s\n",
      "[CV 5/5] END ............................C=2.75;, score=0.577 total time=   1.2s\n",
      "[CV 1/5] END .............................C=3.0;, score=0.563 total time=   1.2s\n",
      "[CV 2/5] END .............................C=3.0;, score=0.639 total time=   1.4s\n",
      "[CV 3/5] END .............................C=3.0;, score=0.653 total time=   1.2s\n",
      "[CV 4/5] END .............................C=3.0;, score=0.583 total time=   1.4s\n",
      "[CV 5/5] END .............................C=3.0;, score=0.563 total time=   1.3s\n",
      "[CV 1/5] END ............................C=3.25;, score=0.563 total time=   0.8s\n",
      "[CV 2/5] END ............................C=3.25;, score=0.639 total time=   1.3s\n",
      "[CV 3/5] END ............................C=3.25;, score=0.667 total time=   1.2s\n",
      "[CV 4/5] END ............................C=3.25;, score=0.569 total time=   1.8s\n",
      "[CV 5/5] END ............................C=3.25;, score=0.549 total time=   1.2s\n",
      "[CV 1/5] END .............................C=3.5;, score=0.549 total time=   1.0s\n",
      "[CV 2/5] END .............................C=3.5;, score=0.639 total time=   1.5s\n",
      "[CV 3/5] END .............................C=3.5;, score=0.653 total time=   1.0s\n",
      "[CV 4/5] END .............................C=3.5;, score=0.583 total time=   0.9s\n",
      "[CV 5/5] END .............................C=3.5;, score=0.535 total time=   0.9s\n",
      "[CV 1/5] END ............................C=3.75;, score=0.549 total time=   0.9s\n",
      "[CV 2/5] END ............................C=3.75;, score=0.625 total time=   1.0s\n",
      "[CV 3/5] END ............................C=3.75;, score=0.639 total time=   0.8s\n",
      "[CV 4/5] END ............................C=3.75;, score=0.569 total time=   1.0s\n",
      "[CV 5/5] END ............................C=3.75;, score=0.549 total time=   1.2s\n",
      "[CV 1/5] END .............................C=4.0;, score=0.592 total time=   0.9s\n",
      "[CV 2/5] END .............................C=4.0;, score=0.653 total time=   1.0s\n",
      "[CV 3/5] END .............................C=4.0;, score=0.611 total time=   0.9s\n",
      "[CV 4/5] END .............................C=4.0;, score=0.597 total time=   1.9s\n",
      "[CV 5/5] END .............................C=4.0;, score=0.563 total time=   1.3s\n",
      "[CV 1/5] END ............................C=4.25;, score=0.577 total time=   1.4s\n",
      "[CV 2/5] END ............................C=4.25;, score=0.639 total time=   1.1s\n",
      "[CV 3/5] END ............................C=4.25;, score=0.625 total time=   1.0s\n",
      "[CV 4/5] END ............................C=4.25;, score=0.569 total time=   1.2s\n",
      "[CV 5/5] END ............................C=4.25;, score=0.549 total time=   1.1s\n",
      "[CV 1/5] END .............................C=4.5;, score=0.549 total time=   0.9s\n",
      "[CV 2/5] END .............................C=4.5;, score=0.639 total time=   1.0s\n",
      "[CV 3/5] END .............................C=4.5;, score=0.639 total time=   0.8s\n",
      "[CV 4/5] END .............................C=4.5;, score=0.583 total time=   1.0s\n",
      "[CV 5/5] END .............................C=4.5;, score=0.563 total time=   1.0s\n",
      "[CV 1/5] END ............................C=4.75;, score=0.563 total time=   1.1s\n",
      "[CV 2/5] END ............................C=4.75;, score=0.625 total time=   1.3s\n",
      "[CV 3/5] END ............................C=4.75;, score=0.625 total time=   1.3s\n",
      "[CV 4/5] END ............................C=4.75;, score=0.556 total time=   1.9s\n",
      "[CV 5/5] END ............................C=4.75;, score=0.535 total time=   1.0s\n",
      "[CV 1/5] END .............................C=5.0;, score=0.592 total time=   0.9s\n",
      "[CV 2/5] END .............................C=5.0;, score=0.639 total time=   1.0s\n",
      "[CV 3/5] END .............................C=5.0;, score=0.639 total time=   0.8s\n",
      "[CV 4/5] END .............................C=5.0;, score=0.569 total time=   1.0s\n",
      "[CV 5/5] END .............................C=5.0;, score=0.549 total time=   1.0s\n",
      "[CV 1/5] END ............................C=5.25;, score=0.577 total time=   1.2s\n",
      "[CV 2/5] END ............................C=5.25;, score=0.639 total time=   1.2s\n",
      "[CV 3/5] END ............................C=5.25;, score=0.653 total time=   1.0s\n",
      "[CV 4/5] END ............................C=5.25;, score=0.583 total time=   1.1s\n",
      "[CV 5/5] END ............................C=5.25;, score=0.577 total time=   1.5s\n",
      "[CV 1/5] END .............................C=5.5;, score=0.577 total time=   1.4s\n",
      "[CV 2/5] END .............................C=5.5;, score=0.639 total time=   1.8s\n",
      "[CV 3/5] END .............................C=5.5;, score=0.667 total time=   1.1s\n",
      "[CV 4/5] END .............................C=5.5;, score=0.583 total time=   1.0s\n",
      "[CV 5/5] END .............................C=5.5;, score=0.563 total time=   1.3s\n",
      "[CV 1/5] END ............................C=5.75;, score=0.577 total time=   1.2s\n",
      "[CV 2/5] END ............................C=5.75;, score=0.653 total time=   1.1s\n",
      "[CV 3/5] END ............................C=5.75;, score=0.667 total time=   0.9s\n",
      "[CV 4/5] END ............................C=5.75;, score=0.583 total time=   1.2s\n",
      "[CV 5/5] END ............................C=5.75;, score=0.563 total time=   1.3s\n",
      "[CV 1/5] END .............................C=6.0;, score=0.549 total time=   0.9s\n",
      "[CV 2/5] END .............................C=6.0;, score=0.653 total time=   1.1s\n",
      "[CV 3/5] END .............................C=6.0;, score=0.625 total time=   1.0s\n",
      "[CV 4/5] END .............................C=6.0;, score=0.583 total time=   1.3s\n",
      "[CV 5/5] END .............................C=6.0;, score=0.521 total time=   1.4s\n",
      "[CV 1/5] END ............................C=6.25;, score=0.577 total time=   1.3s\n",
      "[CV 2/5] END ............................C=6.25;, score=0.653 total time=   1.4s\n",
      "[CV 3/5] END ............................C=6.25;, score=0.667 total time=   0.9s\n",
      "[CV 4/5] END ............................C=6.25;, score=0.583 total time=   1.0s\n",
      "[CV 5/5] END ............................C=6.25;, score=0.535 total time=   0.9s\n",
      "[CV 1/5] END .............................C=6.5;, score=0.577 total time=   0.8s\n",
      "[CV 2/5] END .............................C=6.5;, score=0.611 total time=   1.2s\n",
      "[CV 3/5] END .............................C=6.5;, score=0.653 total time=   1.2s\n",
      "[CV 4/5] END .............................C=6.5;, score=0.569 total time=   1.3s\n",
      "[CV 5/5] END .............................C=6.5;, score=0.549 total time=   1.4s\n",
      "[CV 1/5] END ............................C=6.75;, score=0.577 total time=   1.4s\n",
      "[CV 2/5] END ............................C=6.75;, score=0.639 total time=   1.8s\n",
      "[CV 3/5] END ............................C=6.75;, score=0.625 total time=   1.4s\n",
      "[CV 4/5] END ............................C=6.75;, score=0.583 total time=   1.2s\n",
      "[CV 5/5] END ............................C=6.75;, score=0.563 total time=   0.9s\n",
      "[CV 1/5] END .............................C=7.0;, score=0.606 total time=   0.8s\n",
      "[CV 2/5] END .............................C=7.0;, score=0.653 total time=   0.9s\n",
      "[CV 3/5] END .............................C=7.0;, score=0.625 total time=   1.1s\n",
      "[CV 4/5] END .............................C=7.0;, score=0.583 total time=   1.0s\n",
      "[CV 5/5] END .............................C=7.0;, score=0.577 total time=   1.3s\n",
      "[CV 1/5] END ............................C=7.25;, score=0.577 total time=   1.2s\n",
      "[CV 2/5] END ............................C=7.25;, score=0.639 total time=   1.4s\n",
      "[CV 3/5] END ............................C=7.25;, score=0.653 total time=   1.4s\n",
      "[CV 4/5] END ............................C=7.25;, score=0.597 total time=   1.9s\n",
      "[CV 5/5] END ............................C=7.25;, score=0.549 total time=   1.2s\n",
      "[CV 1/5] END .............................C=7.5;, score=0.592 total time=   1.0s\n",
      "[CV 2/5] END .............................C=7.5;, score=0.653 total time=   1.0s\n",
      "[CV 3/5] END .............................C=7.5;, score=0.611 total time=   1.1s\n",
      "[CV 4/5] END .............................C=7.5;, score=0.569 total time=   1.0s\n",
      "[CV 5/5] END .............................C=7.5;, score=0.563 total time=   0.9s\n",
      "[CV 1/5] END ............................C=7.75;, score=0.592 total time=   0.8s\n",
      "[CV 2/5] END ............................C=7.75;, score=0.639 total time=   1.0s\n",
      "[CV 3/5] END ............................C=7.75;, score=0.653 total time=   0.9s\n",
      "[CV 4/5] END ............................C=7.75;, score=0.569 total time=   1.0s\n",
      "[CV 5/5] END ............................C=7.75;, score=0.549 total time=   1.0s\n",
      "[CV 1/5] END .............................C=8.0;, score=0.577 total time=   0.9s\n",
      "[CV 2/5] END .............................C=8.0;, score=0.625 total time=   1.5s\n",
      "[CV 3/5] END .............................C=8.0;, score=0.639 total time=   1.3s\n",
      "[CV 4/5] END .............................C=8.0;, score=0.583 total time=   1.3s\n",
      "[CV 5/5] END .............................C=8.0;, score=0.563 total time=   1.2s\n",
      "[CV 1/5] END ............................C=8.25;, score=0.563 total time=   0.8s\n",
      "[CV 2/5] END ............................C=8.25;, score=0.653 total time=   1.1s\n",
      "[CV 3/5] END ............................C=8.25;, score=0.667 total time=   1.0s\n",
      "[CV 4/5] END ............................C=8.25;, score=0.556 total time=   1.2s\n",
      "[CV 5/5] END ............................C=8.25;, score=0.563 total time=   1.3s\n",
      "[CV 1/5] END .............................C=8.5;, score=0.592 total time=   0.9s\n",
      "[CV 2/5] END .............................C=8.5;, score=0.639 total time=   1.3s\n",
      "[CV 3/5] END .............................C=8.5;, score=0.639 total time=   1.1s\n",
      "[CV 4/5] END .............................C=8.5;, score=0.597 total time=   1.1s\n",
      "[CV 5/5] END .............................C=8.5;, score=0.563 total time=   1.4s\n",
      "[CV 1/5] END ............................C=8.75;, score=0.535 total time=   1.2s\n",
      "[CV 2/5] END ............................C=8.75;, score=0.653 total time=   1.4s\n",
      "[CV 3/5] END ............................C=8.75;, score=0.639 total time=   1.0s\n",
      "[CV 4/5] END ............................C=8.75;, score=0.597 total time=   1.0s\n",
      "[CV 5/5] END ............................C=8.75;, score=0.535 total time=   1.2s\n",
      "[CV 1/5] END .............................C=9.0;, score=0.563 total time=   0.9s\n",
      "[CV 2/5] END .............................C=9.0;, score=0.653 total time=   1.3s\n",
      "[CV 3/5] END .............................C=9.0;, score=0.653 total time=   1.0s\n",
      "[CV 4/5] END .............................C=9.0;, score=0.597 total time=   1.0s\n",
      "[CV 5/5] END .............................C=9.0;, score=0.535 total time=   1.0s\n",
      "[CV 1/5] END ............................C=9.25;, score=0.577 total time=   1.0s\n",
      "[CV 2/5] END ............................C=9.25;, score=0.653 total time=   1.1s\n",
      "[CV 3/5] END ............................C=9.25;, score=0.639 total time=   1.4s\n",
      "[CV 4/5] END ............................C=9.25;, score=0.583 total time=   1.7s\n",
      "[CV 5/5] END ............................C=9.25;, score=0.563 total time=   1.2s\n",
      "[CV 1/5] END .............................C=9.5;, score=0.549 total time=   1.3s\n",
      "[CV 2/5] END .............................C=9.5;, score=0.639 total time=   1.3s\n",
      "[CV 3/5] END .............................C=9.5;, score=0.639 total time=   0.9s\n",
      "[CV 4/5] END .............................C=9.5;, score=0.569 total time=   1.4s\n",
      "[CV 5/5] END .............................C=9.5;, score=0.549 total time=   1.1s\n",
      "[CV 1/5] END ............................C=9.75;, score=0.577 total time=   0.8s\n",
      "[CV 2/5] END ............................C=9.75;, score=0.653 total time=   1.1s\n",
      "[CV 3/5] END ............................C=9.75;, score=0.625 total time=   1.2s\n",
      "[CV 4/5] END ............................C=9.75;, score=0.583 total time=   1.1s\n",
      "[CV 5/5] END ............................C=9.75;, score=0.549 total time=   0.9s\n",
      "[CV 1/5] END ............................C=10.0;, score=0.592 total time=   1.2s\n",
      "[CV 2/5] END ............................C=10.0;, score=0.639 total time=   1.8s\n",
      "[CV 3/5] END ............................C=10.0;, score=0.625 total time=   1.4s\n",
      "[CV 4/5] END ............................C=10.0;, score=0.583 total time=   1.5s\n",
      "[CV 5/5] END ............................C=10.0;, score=0.521 total time=   0.9s\n",
      "best score: 0.6088419405320814\n",
      "best params: {'C': 7.0}\n"
     ]
    }
   ],
   "source": [
    "# Подберём коэффициент регуляризации.\n",
    "\n",
    "params = {'C': np.arange(0.25, 10.25, 0.25)}\n",
    "\n",
    "gs= Pipeline([\n",
    "    ('one_hot_encoder', OneHotEncoder(cols='Area code')),\n",
    "    ('target_encoder', TargetEncoder(cols='State')),\n",
    "    ('poli', PolynomialFeatures(degree=3)),\n",
    "    ('scaler', StandardScaler()),\n",
    "    ('model', GridSearchCV(LogisticRegression(), params, scoring='recall', verbose=3))\n",
    "])\n",
    "\n",
    "gs.fit(Xtrain, ytrain)\n",
    "\n",
    "print('best score:', gs['model'].best_score_)\n",
    "print('best params:', gs['model'].best_params_)"
   ]
  },
  {
   "cell_type": "code",
   "execution_count": 181,
   "metadata": {
    "executionInfo": {
     "elapsed": 1860,
     "status": "ok",
     "timestamp": 1681741579378,
     "user": {
      "displayName": "Klim Chernov",
      "userId": "01467194743770448933"
     },
     "user_tz": -180
    },
    "id": "bcC4RJhSN1w2"
   },
   "outputs": [],
   "source": [
    "p= Pipeline([\n",
    "    ('one_hot_encoder', OneHotEncoder(cols='Area code')),\n",
    "    ('target_encoder', TargetEncoder(cols='State')),\n",
    "    ('poli', PolynomialFeatures(degree=3)),\n",
    "    ('scaler', StandardScaler()),\n",
    "    ('model', LogisticRegression(C=7))\n",
    "])\n",
    "\n",
    "p.fit(Xtrain, ytrain)\n",
    "ypredict = p.predict(Xtest)"
   ]
  },
  {
   "cell_type": "code",
   "execution_count": 182,
   "metadata": {
    "colab": {
     "base_uri": "https://localhost:8080/"
    },
    "executionInfo": {
     "elapsed": 303,
     "status": "ok",
     "timestamp": 1681741581574,
     "user": {
      "displayName": "Klim Chernov",
      "userId": "01467194743770448933"
     },
     "user_tz": -180
    },
    "id": "84UikOYjWUUZ",
    "outputId": "ff6fc9bd-b011-4cdf-a4e1-70bc07108e5e"
   },
   "outputs": [
    {
     "name": "stdout",
     "output_type": "stream",
     "text": [
      "              precision    recall  f1-score   support\n",
      "\n",
      "          -1       0.94      0.97      0.95       709\n",
      "           1       0.79      0.66      0.72       125\n",
      "\n",
      "    accuracy                           0.92       834\n",
      "   macro avg       0.86      0.81      0.84       834\n",
      "weighted avg       0.92      0.92      0.92       834\n",
      "\n"
     ]
    }
   ],
   "source": [
    "print(classification_report(ytest, ypredict))"
   ]
  },
  {
   "cell_type": "code",
   "execution_count": 183,
   "metadata": {
    "colab": {
     "base_uri": "https://localhost:8080/"
    },
    "executionInfo": {
     "elapsed": 275,
     "status": "ok",
     "timestamp": 1681741583793,
     "user": {
      "displayName": "Klim Chernov",
      "userId": "01467194743770448933"
     },
     "user_tz": -180
    },
    "id": "e_m-U0KkN1w3",
    "outputId": "a8bfbc09-2f6e-41b7-a779-81598f980df1"
   },
   "outputs": [
    {
     "data": {
      "text/plain": [
       "array([[687,  22],\n",
       "       [ 43,  82]])"
      ]
     },
     "execution_count": 183,
     "metadata": {},
     "output_type": "execute_result"
    }
   ],
   "source": [
    "confusion_matrix(ytest, ypredict)"
   ]
  },
  {
   "cell_type": "code",
   "execution_count": 184,
   "metadata": {
    "colab": {
     "base_uri": "https://localhost:8080/"
    },
    "executionInfo": {
     "elapsed": 9001,
     "status": "ok",
     "timestamp": 1681741643192,
     "user": {
      "displayName": "Klim Chernov",
      "userId": "01467194743770448933"
     },
     "user_tz": -180
    },
    "id": "WwKu8htZN1w3",
    "outputId": "eb92e95e-e2f7-4edc-82fc-36f02a66e304"
   },
   "outputs": [
    {
     "name": "stdout",
     "output_type": "stream",
     "text": [
      "accuracy mean: 0.9030903467185327\n",
      "recall mean: 0.5879725085910652\n",
      "\n"
     ]
    },
    {
     "data": {
      "text/plain": [
       "{'fit_time': array([1.42062211, 1.66157579, 1.76345944, 1.83176613, 1.89085579]),\n",
       " 'score_time': array([0.02606702, 0.03346562, 0.02759933, 0.03368402, 0.03689575]),\n",
       " 'test_accuracy': array([0.90254873, 0.90404798, 0.90254873, 0.90690691, 0.8993994 ]),\n",
       " 'test_recall': array([0.58762887, 0.55670103, 0.62886598, 0.60416667, 0.5625    ])}"
      ]
     },
     "execution_count": 184,
     "metadata": {},
     "output_type": "execute_result"
    }
   ],
   "source": [
    "cv = cross_validate(p, X, y, scoring=['accuracy', 'recall'])\n",
    "print('accuracy mean:', cv['test_accuracy'].mean())\n",
    "print('recall mean:', cv['test_recall'].mean())\n",
    "print()\n",
    "cv"
   ]
  },
  {
   "cell_type": "markdown",
   "metadata": {
    "id": "oY-nGBW_YiMz"
   },
   "source": [
    "На кроссвалидации алгоритм с подобранным гиперпараметром показывает себя хуже, чем с гиперпараметром по умолчанию. Но пока запомним **recall** около **0.6**."
   ]
  },
  {
   "cell_type": "markdown",
   "metadata": {
    "id": "k8vVXgDGZSt1"
   },
   "source": [
    "### Метод опорных векторов"
   ]
  },
  {
   "cell_type": "code",
   "execution_count": 185,
   "metadata": {
    "executionInfo": {
     "elapsed": 259,
     "status": "ok",
     "timestamp": 1681742160607,
     "user": {
      "displayName": "Klim Chernov",
      "userId": "01467194743770448933"
     },
     "user_tz": -180
    },
    "id": "DibKvrQBZSt1"
   },
   "outputs": [],
   "source": [
    "p = Pipeline([\n",
    "    ('one_hot_encoder', OneHotEncoder(cols='Area code')),\n",
    "    ('target_encoder', TargetEncoder(cols='State')),\n",
    "    ('poli', PolynomialFeatures(interaction_only=False, degree=3)),\n",
    "    ('scaler', StandardScaler()),\n",
    "    ('model', SVC(kernel='linear'))\n",
    "])"
   ]
  },
  {
   "cell_type": "code",
   "execution_count": 186,
   "metadata": {
    "executionInfo": {
     "elapsed": 9478,
     "status": "ok",
     "timestamp": 1681742172552,
     "user": {
      "displayName": "Klim Chernov",
      "userId": "01467194743770448933"
     },
     "user_tz": -180
    },
    "id": "uECey_VYZSt2"
   },
   "outputs": [],
   "source": [
    "p.fit(Xtrain, ytrain)\n",
    "ypredict = p.predict(Xtest)"
   ]
  },
  {
   "cell_type": "code",
   "execution_count": 187,
   "metadata": {
    "colab": {
     "base_uri": "https://localhost:8080/"
    },
    "executionInfo": {
     "elapsed": 281,
     "status": "ok",
     "timestamp": 1681742175558,
     "user": {
      "displayName": "Klim Chernov",
      "userId": "01467194743770448933"
     },
     "user_tz": -180
    },
    "id": "VtWLnDsPZSt2",
    "outputId": "899d623e-0ab7-4f12-90a8-ad6a830cfec0"
   },
   "outputs": [
    {
     "name": "stdout",
     "output_type": "stream",
     "text": [
      "              precision    recall  f1-score   support\n",
      "\n",
      "          -1       0.94      0.95      0.95       709\n",
      "           1       0.72      0.68      0.70       125\n",
      "\n",
      "    accuracy                           0.91       834\n",
      "   macro avg       0.83      0.82      0.82       834\n",
      "weighted avg       0.91      0.91      0.91       834\n",
      "\n"
     ]
    }
   ],
   "source": [
    "print(classification_report(ytest, ypredict))"
   ]
  },
  {
   "cell_type": "markdown",
   "metadata": {
    "id": "QiRdDjmhZSt3"
   },
   "source": [
    "Все метрики, а главное, recall, выросли при добавлении полиномов степеней 2 и 3, включая квадраты и кубы одних и тех же признаков (interaction_only=False)."
   ]
  },
  {
   "cell_type": "code",
   "execution_count": 188,
   "metadata": {
    "colab": {
     "base_uri": "https://localhost:8080/"
    },
    "executionInfo": {
     "elapsed": 286,
     "status": "ok",
     "timestamp": 1681742181836,
     "user": {
      "displayName": "Klim Chernov",
      "userId": "01467194743770448933"
     },
     "user_tz": -180
    },
    "id": "9x5wILIUZSt3",
    "outputId": "74a38072-3e0e-4775-8283-20c31dd9d794"
   },
   "outputs": [
    {
     "data": {
      "text/plain": [
       "array([[676,  33],\n",
       "       [ 40,  85]])"
      ]
     },
     "execution_count": 188,
     "metadata": {},
     "output_type": "execute_result"
    }
   ],
   "source": [
    "confusion_matrix(ytest, ypredict)"
   ]
  },
  {
   "cell_type": "markdown",
   "metadata": {
    "id": "gTYzySrWZSt4"
   },
   "source": [
    "Алгоритм теперь ловит больше положительных объектов, чем logit, но чаще ошибается на отрицательных."
   ]
  },
  {
   "cell_type": "code",
   "execution_count": 189,
   "metadata": {
    "colab": {
     "base_uri": "https://localhost:8080/"
    },
    "executionInfo": {
     "elapsed": 51152,
     "status": "ok",
     "timestamp": 1681742238797,
     "user": {
      "displayName": "Klim Chernov",
      "userId": "01467194743770448933"
     },
     "user_tz": -180
    },
    "id": "YMf2IznOZSt4",
    "outputId": "b0f7d03f-5a62-4edd-f58c-fd3c6bda788c"
   },
   "outputs": [
    {
     "name": "stdout",
     "output_type": "stream",
     "text": [
      "accuracy mean: 0.897988393190792\n",
      "recall mean: 0.6126288659793815\n",
      "\n"
     ]
    },
    {
     "data": {
      "text/plain": [
       "{'fit_time': array([10.50883675,  9.10606432, 11.51460004,  8.58596373, 10.70104194]),\n",
       " 'score_time': array([0.12710476, 0.09902787, 0.09106302, 0.10461068, 0.08946061]),\n",
       " 'test_accuracy': array([0.90104948, 0.90554723, 0.89205397, 0.8963964 , 0.89489489]),\n",
       " 'test_recall': array([0.64948454, 0.60824742, 0.68041237, 0.59375   , 0.53125   ])}"
      ]
     },
     "execution_count": 189,
     "metadata": {},
     "output_type": "execute_result"
    }
   ],
   "source": [
    "cv = cross_validate(p, X, y, scoring=['accuracy', 'recall'])\n",
    "print('accuracy mean:', cv['test_accuracy'].mean())\n",
    "print('recall mean:', cv['test_recall'].mean())\n",
    "print()\n",
    "cv"
   ]
  },
  {
   "cell_type": "code",
   "execution_count": 153,
   "metadata": {
    "colab": {
     "base_uri": "https://localhost:8080/"
    },
    "collapsed": true,
    "executionInfo": {
     "elapsed": 1245925,
     "status": "ok",
     "timestamp": 1681739885307,
     "user": {
      "displayName": "Klim Chernov",
      "userId": "01467194743770448933"
     },
     "user_tz": -180
    },
    "id": "1Y3GbGtpZSt4",
    "outputId": "f9f41b48-7a1e-411c-d36e-6bf74abfd7af"
   },
   "outputs": [
    {
     "name": "stdout",
     "output_type": "stream",
     "text": [
      "Fitting 5 folds for each of 40 candidates, totalling 200 fits\n",
      "[CV 1/5] END ............................C=0.25;, score=0.563 total time=   2.2s\n",
      "[CV 2/5] END ............................C=0.25;, score=0.667 total time=   1.5s\n",
      "[CV 3/5] END ............................C=0.25;, score=0.667 total time=   1.6s\n",
      "[CV 4/5] END ............................C=0.25;, score=0.583 total time=   1.4s\n",
      "[CV 5/5] END ............................C=0.25;, score=0.592 total time=   1.5s\n",
      "[CV 1/5] END .............................C=0.5;, score=0.606 total time=   2.1s\n",
      "[CV 2/5] END .............................C=0.5;, score=0.639 total time=   2.6s\n",
      "[CV 3/5] END .............................C=0.5;, score=0.694 total time=   3.0s\n",
      "[CV 4/5] END .............................C=0.5;, score=0.597 total time=   2.3s\n",
      "[CV 5/5] END .............................C=0.5;, score=0.634 total time=   2.2s\n",
      "[CV 1/5] END ............................C=0.75;, score=0.592 total time=   2.5s\n",
      "[CV 2/5] END ............................C=0.75;, score=0.653 total time=   2.2s\n",
      "[CV 3/5] END ............................C=0.75;, score=0.681 total time=   3.3s\n",
      "[CV 4/5] END ............................C=0.75;, score=0.583 total time=   3.2s\n",
      "[CV 5/5] END ............................C=0.75;, score=0.648 total time=   3.3s\n",
      "[CV 1/5] END .............................C=1.0;, score=0.577 total time=   2.8s\n",
      "[CV 2/5] END .............................C=1.0;, score=0.611 total time=   2.6s\n",
      "[CV 3/5] END .............................C=1.0;, score=0.667 total time=   3.3s\n",
      "[CV 4/5] END .............................C=1.0;, score=0.597 total time=   3.4s\n",
      "[CV 5/5] END .............................C=1.0;, score=0.606 total time=   4.0s\n",
      "[CV 1/5] END ............................C=1.25;, score=0.563 total time=   3.2s\n",
      "[CV 2/5] END ............................C=1.25;, score=0.597 total time=   3.1s\n",
      "[CV 3/5] END ............................C=1.25;, score=0.653 total time=   4.3s\n",
      "[CV 4/5] END ............................C=1.25;, score=0.569 total time=   3.8s\n",
      "[CV 5/5] END ............................C=1.25;, score=0.620 total time=   3.2s\n",
      "[CV 1/5] END .............................C=1.5;, score=0.563 total time=   3.4s\n",
      "[CV 2/5] END .............................C=1.5;, score=0.611 total time=   3.2s\n",
      "[CV 3/5] END .............................C=1.5;, score=0.639 total time=   5.3s\n",
      "[CV 4/5] END .............................C=1.5;, score=0.528 total time=   3.0s\n",
      "[CV 5/5] END .............................C=1.5;, score=0.606 total time=   3.6s\n",
      "[CV 1/5] END ............................C=1.75;, score=0.535 total time=   3.7s\n",
      "[CV 2/5] END ............................C=1.75;, score=0.611 total time=   5.0s\n",
      "[CV 3/5] END ............................C=1.75;, score=0.639 total time=   4.4s\n",
      "[CV 4/5] END ............................C=1.75;, score=0.528 total time=   3.2s\n",
      "[CV 5/5] END ............................C=1.75;, score=0.606 total time=   4.0s\n",
      "[CV 1/5] END .............................C=2.0;, score=0.521 total time=   5.9s\n",
      "[CV 2/5] END .............................C=2.0;, score=0.597 total time=   3.6s\n",
      "[CV 3/5] END .............................C=2.0;, score=0.639 total time=   4.1s\n",
      "[CV 4/5] END .............................C=2.0;, score=0.528 total time=   3.9s\n",
      "[CV 5/5] END .............................C=2.0;, score=0.577 total time=   5.7s\n",
      "[CV 1/5] END ............................C=2.25;, score=0.507 total time=   4.1s\n",
      "[CV 2/5] END ............................C=2.25;, score=0.597 total time=   3.6s\n",
      "[CV 3/5] END ............................C=2.25;, score=0.625 total time=   5.7s\n",
      "[CV 4/5] END ............................C=2.25;, score=0.542 total time=   4.1s\n",
      "[CV 5/5] END ............................C=2.25;, score=0.563 total time=   4.5s\n",
      "[CV 1/5] END .............................C=2.5;, score=0.507 total time=   5.2s\n",
      "[CV 2/5] END .............................C=2.5;, score=0.583 total time=   5.1s\n",
      "[CV 3/5] END .............................C=2.5;, score=0.625 total time=   4.1s\n",
      "[CV 4/5] END .............................C=2.5;, score=0.542 total time=   3.8s\n",
      "[CV 5/5] END .............................C=2.5;, score=0.563 total time=   7.1s\n",
      "[CV 1/5] END ............................C=2.75;, score=0.521 total time=   4.4s\n",
      "[CV 2/5] END ............................C=2.75;, score=0.569 total time=   4.2s\n",
      "[CV 3/5] END ............................C=2.75;, score=0.625 total time=   5.9s\n",
      "[CV 4/5] END ............................C=2.75;, score=0.542 total time=   4.5s\n",
      "[CV 5/5] END ............................C=2.75;, score=0.563 total time=   5.5s\n",
      "[CV 1/5] END .............................C=3.0;, score=0.521 total time=   7.0s\n",
      "[CV 2/5] END .............................C=3.0;, score=0.556 total time=   4.3s\n",
      "[CV 3/5] END .............................C=3.0;, score=0.611 total time=   4.8s\n",
      "[CV 4/5] END .............................C=3.0;, score=0.542 total time=   5.9s\n",
      "[CV 5/5] END .............................C=3.0;, score=0.563 total time=   6.1s\n",
      "[CV 1/5] END ............................C=3.25;, score=0.507 total time=   5.3s\n",
      "[CV 2/5] END ............................C=3.25;, score=0.556 total time=   6.2s\n",
      "[CV 3/5] END ............................C=3.25;, score=0.597 total time=   5.1s\n",
      "[CV 4/5] END ............................C=3.25;, score=0.542 total time=   4.3s\n",
      "[CV 5/5] END ............................C=3.25;, score=0.563 total time=   7.8s\n",
      "[CV 1/5] END .............................C=3.5;, score=0.507 total time=   5.3s\n",
      "[CV 2/5] END .............................C=3.5;, score=0.569 total time=   5.0s\n",
      "[CV 3/5] END .............................C=3.5;, score=0.597 total time=   6.6s\n",
      "[CV 4/5] END .............................C=3.5;, score=0.514 total time=   4.4s\n",
      "[CV 5/5] END .............................C=3.5;, score=0.563 total time=   7.0s\n",
      "[CV 1/5] END ............................C=3.75;, score=0.521 total time=   5.9s\n",
      "[CV 2/5] END ............................C=3.75;, score=0.569 total time=   4.6s\n",
      "[CV 3/5] END ............................C=3.75;, score=0.597 total time=   7.7s\n",
      "[CV 4/5] END ............................C=3.75;, score=0.514 total time=   4.5s\n",
      "[CV 5/5] END ............................C=3.75;, score=0.577 total time=   6.2s\n",
      "[CV 1/5] END .............................C=4.0;, score=0.535 total time=   7.0s\n",
      "[CV 2/5] END .............................C=4.0;, score=0.583 total time=   4.6s\n",
      "[CV 3/5] END .............................C=4.0;, score=0.597 total time=   6.6s\n",
      "[CV 4/5] END .............................C=4.0;, score=0.514 total time=   5.3s\n",
      "[CV 5/5] END .............................C=4.0;, score=0.577 total time=   6.2s\n",
      "[CV 1/5] END ............................C=4.25;, score=0.535 total time=   7.8s\n",
      "[CV 2/5] END ............................C=4.25;, score=0.583 total time=   4.8s\n",
      "[CV 3/5] END ............................C=4.25;, score=0.583 total time=   6.0s\n",
      "[CV 4/5] END ............................C=4.25;, score=0.514 total time=   6.0s\n",
      "[CV 5/5] END ............................C=4.25;, score=0.563 total time=   6.5s\n",
      "[CV 1/5] END .............................C=4.5;, score=0.549 total time=   7.5s\n",
      "[CV 2/5] END .............................C=4.5;, score=0.583 total time=   5.3s\n",
      "[CV 3/5] END .............................C=4.5;, score=0.569 total time=   5.7s\n",
      "[CV 4/5] END .............................C=4.5;, score=0.514 total time=   6.6s\n",
      "[CV 5/5] END .............................C=4.5;, score=0.563 total time=   6.4s\n",
      "[CV 1/5] END ............................C=4.75;, score=0.549 total time=   7.9s\n",
      "[CV 2/5] END ............................C=4.75;, score=0.583 total time=   5.5s\n",
      "[CV 3/5] END ............................C=4.75;, score=0.569 total time=   5.7s\n",
      "[CV 4/5] END ............................C=4.75;, score=0.514 total time=   6.5s\n",
      "[CV 5/5] END ............................C=4.75;, score=0.563 total time=   6.4s\n",
      "[CV 1/5] END .............................C=5.0;, score=0.549 total time=   7.8s\n",
      "[CV 2/5] END .............................C=5.0;, score=0.583 total time=   5.4s\n",
      "[CV 3/5] END .............................C=5.0;, score=0.569 total time=   5.8s\n",
      "[CV 4/5] END .............................C=5.0;, score=0.514 total time=   6.6s\n",
      "[CV 5/5] END .............................C=5.0;, score=0.563 total time=   6.3s\n",
      "[CV 1/5] END ............................C=5.25;, score=0.549 total time=   8.0s\n",
      "[CV 2/5] END ............................C=5.25;, score=0.583 total time=   5.4s\n",
      "[CV 3/5] END ............................C=5.25;, score=0.569 total time=   5.8s\n",
      "[CV 4/5] END ............................C=5.25;, score=0.514 total time=   6.7s\n",
      "[CV 5/5] END ............................C=5.25;, score=0.563 total time=   6.5s\n",
      "[CV 1/5] END .............................C=5.5;, score=0.535 total time=   8.4s\n",
      "[CV 2/5] END .............................C=5.5;, score=0.583 total time=   5.1s\n",
      "[CV 3/5] END .............................C=5.5;, score=0.583 total time=   6.2s\n",
      "[CV 4/5] END .............................C=5.5;, score=0.514 total time=   6.5s\n",
      "[CV 5/5] END .............................C=5.5;, score=0.549 total time=   6.7s\n",
      "[CV 1/5] END ............................C=5.75;, score=0.535 total time=   8.8s\n",
      "[CV 2/5] END ............................C=5.75;, score=0.583 total time=   5.1s\n",
      "[CV 3/5] END ............................C=5.75;, score=0.569 total time=   7.1s\n",
      "[CV 4/5] END ............................C=5.75;, score=0.514 total time=   6.0s\n",
      "[CV 5/5] END ............................C=5.75;, score=0.549 total time=   6.7s\n",
      "[CV 1/5] END .............................C=6.0;, score=0.535 total time=   8.8s\n",
      "[CV 2/5] END .............................C=6.0;, score=0.583 total time=   5.1s\n",
      "[CV 3/5] END .............................C=6.0;, score=0.583 total time=   7.9s\n",
      "[CV 4/5] END .............................C=6.0;, score=0.514 total time=   5.2s\n",
      "[CV 5/5] END .............................C=6.0;, score=0.549 total time=   7.5s\n",
      "[CV 1/5] END ............................C=6.25;, score=0.521 total time=   8.4s\n",
      "[CV 2/5] END ............................C=6.25;, score=0.583 total time=   5.4s\n",
      "[CV 3/5] END ............................C=6.25;, score=0.583 total time=   7.9s\n",
      "[CV 4/5] END ............................C=6.25;, score=0.514 total time=   5.1s\n",
      "[CV 5/5] END ............................C=6.25;, score=0.563 total time=   9.3s\n",
      "[CV 1/5] END .............................C=6.5;, score=0.535 total time=   7.3s\n",
      "[CV 2/5] END .............................C=6.5;, score=0.583 total time=   7.2s\n",
      "[CV 3/5] END .............................C=6.5;, score=0.583 total time=   6.5s\n",
      "[CV 4/5] END .............................C=6.5;, score=0.514 total time=   5.4s\n",
      "[CV 5/5] END .............................C=6.5;, score=0.549 total time=   8.8s\n",
      "[CV 1/5] END ............................C=6.75;, score=0.535 total time=   8.0s\n",
      "[CV 2/5] END ............................C=6.75;, score=0.611 total time=   7.7s\n",
      "[CV 3/5] END ............................C=6.75;, score=0.583 total time=   6.9s\n",
      "[CV 4/5] END ............................C=6.75;, score=0.514 total time=   7.4s\n",
      "[CV 5/5] END ............................C=6.75;, score=0.549 total time=   7.2s\n",
      "[CV 1/5] END .............................C=7.0;, score=0.521 total time=   9.5s\n",
      "[CV 2/5] END .............................C=7.0;, score=0.611 total time=   5.7s\n",
      "[CV 3/5] END .............................C=7.0;, score=0.583 total time=   8.9s\n",
      "[CV 4/5] END .............................C=7.0;, score=0.514 total time=   5.3s\n",
      "[CV 5/5] END .............................C=7.0;, score=0.549 total time=   8.7s\n",
      "[CV 1/5] END ............................C=7.25;, score=0.521 total time=   7.9s\n",
      "[CV 2/5] END ............................C=7.25;, score=0.611 total time=   7.2s\n",
      "[CV 3/5] END ............................C=7.25;, score=0.597 total time=   7.9s\n",
      "[CV 4/5] END ............................C=7.25;, score=0.500 total time=   5.8s\n",
      "[CV 5/5] END ............................C=7.25;, score=0.549 total time=   8.3s\n",
      "[CV 1/5] END .............................C=7.5;, score=0.521 total time=   8.6s\n",
      "[CV 2/5] END .............................C=7.5;, score=0.611 total time=   7.3s\n",
      "[CV 3/5] END .............................C=7.5;, score=0.597 total time=   8.3s\n",
      "[CV 4/5] END .............................C=7.5;, score=0.500 total time=   6.6s\n",
      "[CV 5/5] END .............................C=7.5;, score=0.549 total time=   6.8s\n",
      "[CV 1/5] END ............................C=7.75;, score=0.535 total time=  10.1s\n",
      "[CV 2/5] END ............................C=7.75;, score=0.597 total time=   6.3s\n",
      "[CV 3/5] END ............................C=7.75;, score=0.597 total time=   9.8s\n",
      "[CV 4/5] END ............................C=7.75;, score=0.500 total time=   5.4s\n",
      "[CV 5/5] END ............................C=7.75;, score=0.549 total time=   8.8s\n",
      "[CV 1/5] END .............................C=8.0;, score=0.535 total time=   8.4s\n",
      "[CV 2/5] END .............................C=8.0;, score=0.597 total time=   8.5s\n",
      "[CV 3/5] END .............................C=8.0;, score=0.597 total time=   8.3s\n",
      "[CV 4/5] END .............................C=8.0;, score=0.500 total time=   7.3s\n",
      "[CV 5/5] END .............................C=8.0;, score=0.563 total time=   6.9s\n",
      "[CV 1/5] END ............................C=8.25;, score=0.535 total time=  10.1s\n",
      "[CV 2/5] END ............................C=8.25;, score=0.597 total time=   6.4s\n",
      "[CV 3/5] END ............................C=8.25;, score=0.597 total time=  10.3s\n",
      "[CV 4/5] END ............................C=8.25;, score=0.500 total time=   5.8s\n",
      "[CV 5/5] END ............................C=8.25;, score=0.549 total time=   9.1s\n",
      "[CV 1/5] END .............................C=8.5;, score=0.535 total time=   8.6s\n",
      "[CV 2/5] END .............................C=8.5;, score=0.597 total time=   8.1s\n",
      "[CV 3/5] END .............................C=8.5;, score=0.597 total time=   9.3s\n",
      "[CV 4/5] END .............................C=8.5;, score=0.500 total time=   6.6s\n",
      "[CV 5/5] END .............................C=8.5;, score=0.549 total time=   7.6s\n",
      "[CV 1/5] END ............................C=8.75;, score=0.563 total time=   9.7s\n",
      "[CV 2/5] END ............................C=8.75;, score=0.597 total time=   7.5s\n",
      "[CV 3/5] END ............................C=8.75;, score=0.597 total time=   9.2s\n",
      "[CV 4/5] END ............................C=8.75;, score=0.500 total time=   6.5s\n",
      "[CV 5/5] END ............................C=8.75;, score=0.549 total time=   8.4s\n",
      "[CV 1/5] END .............................C=9.0;, score=0.563 total time=  10.1s\n",
      "[CV 2/5] END .............................C=9.0;, score=0.597 total time=   7.1s\n",
      "[CV 3/5] END .............................C=9.0;, score=0.597 total time=  10.1s\n",
      "[CV 4/5] END .............................C=9.0;, score=0.500 total time=   5.7s\n",
      "[CV 5/5] END .............................C=9.0;, score=0.563 total time=   8.8s\n",
      "[CV 1/5] END ............................C=9.25;, score=0.563 total time=   9.1s\n",
      "[CV 2/5] END ............................C=9.25;, score=0.597 total time=   8.8s\n",
      "[CV 3/5] END ............................C=9.25;, score=0.597 total time=   8.1s\n",
      "[CV 4/5] END ............................C=9.25;, score=0.500 total time=   7.7s\n",
      "[CV 5/5] END ............................C=9.25;, score=0.563 total time=   7.0s\n",
      "[CV 1/5] END .............................C=9.5;, score=0.563 total time=  11.1s\n",
      "[CV 2/5] END .............................C=9.5;, score=0.625 total time=   7.0s\n",
      "[CV 3/5] END .............................C=9.5;, score=0.597 total time=   9.9s\n",
      "[CV 4/5] END .............................C=9.5;, score=0.486 total time=   5.7s\n",
      "[CV 5/5] END .............................C=9.5;, score=0.563 total time=   9.3s\n",
      "[CV 1/5] END ............................C=9.75;, score=0.549 total time=   9.5s\n",
      "[CV 2/5] END ............................C=9.75;, score=0.639 total time=   8.2s\n",
      "[CV 3/5] END ............................C=9.75;, score=0.583 total time=   8.8s\n",
      "[CV 4/5] END ............................C=9.75;, score=0.486 total time=   6.7s\n",
      "[CV 5/5] END ............................C=9.75;, score=0.563 total time=   8.0s\n",
      "[CV 1/5] END ............................C=10.0;, score=0.563 total time=  10.1s\n",
      "[CV 2/5] END ............................C=10.0;, score=0.639 total time=   8.8s\n",
      "[CV 3/5] END ............................C=10.0;, score=0.583 total time=   8.2s\n",
      "[CV 4/5] END ............................C=10.0;, score=0.486 total time=   7.0s\n",
      "[CV 5/5] END ............................C=10.0;, score=0.577 total time=   7.9s\n",
      "best score: 0.633998435054773\n",
      "best params: {'C': 0.5}\n"
     ]
    }
   ],
   "source": [
    "# Подберём коэффициент регуляризации.\n",
    "\n",
    "params = {'C': np.arange(0.25, 10.25, 0.25)}\n",
    "\n",
    "gs= Pipeline([\n",
    "    ('one_hot_encoder', OneHotEncoder(cols='Area code')),\n",
    "    ('target_encoder', TargetEncoder(cols='State')),\n",
    "    ('poli', PolynomialFeatures(degree=3)),\n",
    "    ('scaler', StandardScaler()),\n",
    "    ('model', GridSearchCV(SVC(kernel='linear'), params, scoring='recall', verbose=3))\n",
    "])\n",
    "\n",
    "gs.fit(Xtrain, ytrain)\n",
    "\n",
    "print('best score:', gs['model'].best_score_)\n",
    "print('best params:', gs['model'].best_params_)"
   ]
  },
  {
   "cell_type": "code",
   "execution_count": 190,
   "metadata": {
    "executionInfo": {
     "elapsed": 7955,
     "status": "ok",
     "timestamp": 1681742278248,
     "user": {
      "displayName": "Klim Chernov",
      "userId": "01467194743770448933"
     },
     "user_tz": -180
    },
    "id": "W78gy6mpZSt5"
   },
   "outputs": [],
   "source": [
    "p= Pipeline([\n",
    "    ('one_hot_encoder', OneHotEncoder(cols='Area code')),\n",
    "    ('target_encoder', TargetEncoder(cols='State')),\n",
    "    ('poli', PolynomialFeatures(degree=3)),\n",
    "    ('scaler', StandardScaler()),\n",
    "    ('model', SVC(kernel='linear', C=0.5))\n",
    "])\n",
    "\n",
    "p.fit(Xtrain, ytrain)\n",
    "ypredict = p.predict(Xtest)"
   ]
  },
  {
   "cell_type": "code",
   "execution_count": 191,
   "metadata": {
    "colab": {
     "base_uri": "https://localhost:8080/"
    },
    "executionInfo": {
     "elapsed": 279,
     "status": "ok",
     "timestamp": 1681742281996,
     "user": {
      "displayName": "Klim Chernov",
      "userId": "01467194743770448933"
     },
     "user_tz": -180
    },
    "id": "sna2bXitZSt5",
    "outputId": "e7050ff1-8b69-4afa-f1a7-d5e634674c59"
   },
   "outputs": [
    {
     "name": "stdout",
     "output_type": "stream",
     "text": [
      "              precision    recall  f1-score   support\n",
      "\n",
      "          -1       0.94      0.96      0.95       709\n",
      "           1       0.75      0.67      0.71       125\n",
      "\n",
      "    accuracy                           0.92       834\n",
      "   macro avg       0.85      0.82      0.83       834\n",
      "weighted avg       0.91      0.92      0.92       834\n",
      "\n"
     ]
    }
   ],
   "source": [
    "print(classification_report(ytest, ypredict))"
   ]
  },
  {
   "cell_type": "code",
   "execution_count": 192,
   "metadata": {
    "colab": {
     "base_uri": "https://localhost:8080/"
    },
    "executionInfo": {
     "elapsed": 273,
     "status": "ok",
     "timestamp": 1681742290267,
     "user": {
      "displayName": "Klim Chernov",
      "userId": "01467194743770448933"
     },
     "user_tz": -180
    },
    "id": "mk80LdcsZSt6",
    "outputId": "72f13abb-74f8-4182-9b71-f9874701a27a"
   },
   "outputs": [
    {
     "data": {
      "text/plain": [
       "array([[681,  28],\n",
       "       [ 41,  84]])"
      ]
     },
     "execution_count": 192,
     "metadata": {},
     "output_type": "execute_result"
    }
   ],
   "source": [
    "confusion_matrix(ytest, ypredict)"
   ]
  },
  {
   "cell_type": "code",
   "execution_count": 193,
   "metadata": {
    "colab": {
     "base_uri": "https://localhost:8080/"
    },
    "executionInfo": {
     "elapsed": 33966,
     "status": "ok",
     "timestamp": 1681742328730,
     "user": {
      "displayName": "Klim Chernov",
      "userId": "01467194743770448933"
     },
     "user_tz": -180
    },
    "id": "s82uSmM-ZSt6",
    "outputId": "c99b4e9c-fafc-4270-b81a-c68f15ca453a"
   },
   "outputs": [
    {
     "name": "stdout",
     "output_type": "stream",
     "text": [
      "accuracy mean: 0.9066907987447719\n",
      "recall mean: 0.6106314432989691\n",
      "\n"
     ]
    },
    {
     "data": {
      "text/plain": [
       "{'fit_time': array([6.3331759 , 7.14571452, 5.97642612, 7.2834847 , 6.2008462 ]),\n",
       " 'score_time': array([0.10685825, 0.09264493, 0.10280704, 0.13429761, 0.10239124]),\n",
       " 'test_accuracy': array([0.90704648, 0.91304348, 0.89955022, 0.90840841, 0.90540541]),\n",
       " 'test_recall': array([0.6185567 , 0.59793814, 0.68041237, 0.59375   , 0.5625    ])}"
      ]
     },
     "execution_count": 193,
     "metadata": {},
     "output_type": "execute_result"
    }
   ],
   "source": [
    "cv = cross_validate(p, X, y, scoring=['accuracy', 'recall'])\n",
    "print('accuracy mean:', cv['test_accuracy'].mean())\n",
    "print('recall mean:', cv['test_recall'].mean())\n",
    "print()\n",
    "cv"
   ]
  },
  {
   "cell_type": "markdown",
   "metadata": {
    "id": "X4sSHnl5ZSt7"
   },
   "source": [
    "В среднем получилось лучше, чем у логистической регрессии. И подбор гиперпараметра на этот раз помог. "
   ]
  },
  {
   "cell_type": "markdown",
   "metadata": {
    "id": "2Kt968aA-f6j"
   },
   "source": [
    "## D) Удаление признаков"
   ]
  },
  {
   "cell_type": "markdown",
   "metadata": {
    "id": "OaZew2t1M4x6"
   },
   "source": [
    "### Матрица корреляции и удаление признаков"
   ]
  },
  {
   "cell_type": "code",
   "execution_count": 202,
   "metadata": {
    "colab": {
     "base_uri": "https://localhost:8080/",
     "height": 1000
    },
    "executionInfo": {
     "elapsed": 303,
     "status": "ok",
     "timestamp": 1681749099080,
     "user": {
      "displayName": "Klim Chernov",
      "userId": "01467194743770448933"
     },
     "user_tz": -180
    },
    "id": "9SIcBai9-Vbt",
    "outputId": "3e49ab05-a650-46b7-c671-3591a1002e1f"
   },
   "outputs": [
    {
     "data": {
      "text/html": [
       "\n",
       "  <div id=\"df-c62edc04-56d1-42c5-b1da-78667d24e235\">\n",
       "    <div class=\"colab-df-container\">\n",
       "      <div>\n",
       "<style scoped>\n",
       "    .dataframe tbody tr th:only-of-type {\n",
       "        vertical-align: middle;\n",
       "    }\n",
       "\n",
       "    .dataframe tbody tr th {\n",
       "        vertical-align: top;\n",
       "    }\n",
       "\n",
       "    .dataframe thead th {\n",
       "        text-align: right;\n",
       "    }\n",
       "</style>\n",
       "<table border=\"1\" class=\"dataframe\">\n",
       "  <thead>\n",
       "    <tr style=\"text-align: right;\">\n",
       "      <th></th>\n",
       "      <th>State</th>\n",
       "      <th>Account length</th>\n",
       "      <th>International plan</th>\n",
       "      <th>Voice mail plan</th>\n",
       "      <th>Number vmail messages</th>\n",
       "      <th>Total day minutes</th>\n",
       "      <th>Total day calls</th>\n",
       "      <th>Total day charge</th>\n",
       "      <th>Total eve minutes</th>\n",
       "      <th>Total eve calls</th>\n",
       "      <th>...</th>\n",
       "      <th>Total night calls</th>\n",
       "      <th>Total night charge</th>\n",
       "      <th>Total intl minutes</th>\n",
       "      <th>Total intl calls</th>\n",
       "      <th>Total intl charge</th>\n",
       "      <th>Customer service calls</th>\n",
       "      <th>Churn</th>\n",
       "      <th>Area code_408</th>\n",
       "      <th>Area code_415</th>\n",
       "      <th>Area code_510</th>\n",
       "    </tr>\n",
       "  </thead>\n",
       "  <tbody>\n",
       "    <tr>\n",
       "      <th>State</th>\n",
       "      <td>1.000000</td>\n",
       "      <td>-0.015032</td>\n",
       "      <td>0.013827</td>\n",
       "      <td>-0.009199</td>\n",
       "      <td>-0.007085</td>\n",
       "      <td>0.041423</td>\n",
       "      <td>-0.013048</td>\n",
       "      <td>0.041426</td>\n",
       "      <td>0.017215</td>\n",
       "      <td>0.007831</td>\n",
       "      <td>...</td>\n",
       "      <td>0.016026</td>\n",
       "      <td>-0.005038</td>\n",
       "      <td>0.033577</td>\n",
       "      <td>-0.013630</td>\n",
       "      <td>0.033591</td>\n",
       "      <td>0.033997</td>\n",
       "      <td>0.157701</td>\n",
       "      <td>-0.006275</td>\n",
       "      <td>-0.012183</td>\n",
       "      <td>0.020300</td>\n",
       "    </tr>\n",
       "    <tr>\n",
       "      <th>Account length</th>\n",
       "      <td>-0.015032</td>\n",
       "      <td>1.000000</td>\n",
       "      <td>0.024735</td>\n",
       "      <td>0.002918</td>\n",
       "      <td>-0.004628</td>\n",
       "      <td>0.006216</td>\n",
       "      <td>0.038470</td>\n",
       "      <td>0.006214</td>\n",
       "      <td>-0.006757</td>\n",
       "      <td>0.019260</td>\n",
       "      <td>...</td>\n",
       "      <td>-0.013176</td>\n",
       "      <td>-0.008960</td>\n",
       "      <td>0.009514</td>\n",
       "      <td>0.020661</td>\n",
       "      <td>0.009546</td>\n",
       "      <td>-0.003796</td>\n",
       "      <td>0.016541</td>\n",
       "      <td>0.011823</td>\n",
       "      <td>0.000102</td>\n",
       "      <td>-0.011931</td>\n",
       "    </tr>\n",
       "    <tr>\n",
       "      <th>International plan</th>\n",
       "      <td>0.013827</td>\n",
       "      <td>0.024735</td>\n",
       "      <td>1.000000</td>\n",
       "      <td>0.006006</td>\n",
       "      <td>0.008745</td>\n",
       "      <td>0.049396</td>\n",
       "      <td>0.003755</td>\n",
       "      <td>0.049398</td>\n",
       "      <td>0.019100</td>\n",
       "      <td>0.006114</td>\n",
       "      <td>...</td>\n",
       "      <td>0.012451</td>\n",
       "      <td>-0.028913</td>\n",
       "      <td>0.045871</td>\n",
       "      <td>0.017366</td>\n",
       "      <td>0.045780</td>\n",
       "      <td>-0.024522</td>\n",
       "      <td>0.259852</td>\n",
       "      <td>-0.023869</td>\n",
       "      <td>-0.021066</td>\n",
       "      <td>0.048109</td>\n",
       "    </tr>\n",
       "    <tr>\n",
       "      <th>Voice mail plan</th>\n",
       "      <td>-0.009199</td>\n",
       "      <td>0.002918</td>\n",
       "      <td>0.006006</td>\n",
       "      <td>1.000000</td>\n",
       "      <td>0.956927</td>\n",
       "      <td>-0.001684</td>\n",
       "      <td>-0.011086</td>\n",
       "      <td>-0.001686</td>\n",
       "      <td>0.021545</td>\n",
       "      <td>-0.006444</td>\n",
       "      <td>...</td>\n",
       "      <td>0.015553</td>\n",
       "      <td>0.006064</td>\n",
       "      <td>-0.001318</td>\n",
       "      <td>0.007618</td>\n",
       "      <td>-0.001276</td>\n",
       "      <td>-0.017824</td>\n",
       "      <td>-0.102148</td>\n",
       "      <td>-0.018265</td>\n",
       "      <td>0.017682</td>\n",
       "      <td>-0.002112</td>\n",
       "    </tr>\n",
       "    <tr>\n",
       "      <th>Number vmail messages</th>\n",
       "      <td>-0.007085</td>\n",
       "      <td>-0.004628</td>\n",
       "      <td>0.008745</td>\n",
       "      <td>0.956927</td>\n",
       "      <td>1.000000</td>\n",
       "      <td>0.000778</td>\n",
       "      <td>-0.009548</td>\n",
       "      <td>0.000776</td>\n",
       "      <td>0.017562</td>\n",
       "      <td>-0.005864</td>\n",
       "      <td>...</td>\n",
       "      <td>0.007123</td>\n",
       "      <td>0.007663</td>\n",
       "      <td>0.002856</td>\n",
       "      <td>0.013957</td>\n",
       "      <td>0.002884</td>\n",
       "      <td>-0.013263</td>\n",
       "      <td>-0.089728</td>\n",
       "      <td>-0.018240</td>\n",
       "      <td>0.018772</td>\n",
       "      <td>-0.003391</td>\n",
       "    </tr>\n",
       "    <tr>\n",
       "      <th>Total day minutes</th>\n",
       "      <td>0.041423</td>\n",
       "      <td>0.006216</td>\n",
       "      <td>0.049396</td>\n",
       "      <td>-0.001684</td>\n",
       "      <td>0.000778</td>\n",
       "      <td>1.000000</td>\n",
       "      <td>0.006750</td>\n",
       "      <td>1.000000</td>\n",
       "      <td>0.007043</td>\n",
       "      <td>0.015769</td>\n",
       "      <td>...</td>\n",
       "      <td>0.022972</td>\n",
       "      <td>0.004300</td>\n",
       "      <td>-0.010155</td>\n",
       "      <td>0.008033</td>\n",
       "      <td>-0.010092</td>\n",
       "      <td>-0.013423</td>\n",
       "      <td>0.205151</td>\n",
       "      <td>-0.027665</td>\n",
       "      <td>0.033145</td>\n",
       "      <td>-0.010525</td>\n",
       "    </tr>\n",
       "    <tr>\n",
       "      <th>Total day calls</th>\n",
       "      <td>-0.013048</td>\n",
       "      <td>0.038470</td>\n",
       "      <td>0.003755</td>\n",
       "      <td>-0.011086</td>\n",
       "      <td>-0.009548</td>\n",
       "      <td>0.006750</td>\n",
       "      <td>1.000000</td>\n",
       "      <td>0.006753</td>\n",
       "      <td>-0.021451</td>\n",
       "      <td>0.006462</td>\n",
       "      <td>...</td>\n",
       "      <td>-0.019557</td>\n",
       "      <td>0.022927</td>\n",
       "      <td>0.021565</td>\n",
       "      <td>0.004574</td>\n",
       "      <td>0.021666</td>\n",
       "      <td>-0.018942</td>\n",
       "      <td>0.018459</td>\n",
       "      <td>0.001755</td>\n",
       "      <td>0.006968</td>\n",
       "      <td>-0.009778</td>\n",
       "    </tr>\n",
       "    <tr>\n",
       "      <th>Total day charge</th>\n",
       "      <td>0.041426</td>\n",
       "      <td>0.006214</td>\n",
       "      <td>0.049398</td>\n",
       "      <td>-0.001686</td>\n",
       "      <td>0.000776</td>\n",
       "      <td>1.000000</td>\n",
       "      <td>0.006753</td>\n",
       "      <td>1.000000</td>\n",
       "      <td>0.007050</td>\n",
       "      <td>0.015769</td>\n",
       "      <td>...</td>\n",
       "      <td>0.022972</td>\n",
       "      <td>0.004301</td>\n",
       "      <td>-0.010157</td>\n",
       "      <td>0.008032</td>\n",
       "      <td>-0.010094</td>\n",
       "      <td>-0.013427</td>\n",
       "      <td>0.205151</td>\n",
       "      <td>-0.027671</td>\n",
       "      <td>0.033150</td>\n",
       "      <td>-0.010526</td>\n",
       "    </tr>\n",
       "    <tr>\n",
       "      <th>Total eve minutes</th>\n",
       "      <td>0.017215</td>\n",
       "      <td>-0.006757</td>\n",
       "      <td>0.019100</td>\n",
       "      <td>0.021545</td>\n",
       "      <td>0.017562</td>\n",
       "      <td>0.007043</td>\n",
       "      <td>-0.021451</td>\n",
       "      <td>0.007050</td>\n",
       "      <td>1.000000</td>\n",
       "      <td>-0.011430</td>\n",
       "      <td>...</td>\n",
       "      <td>0.007586</td>\n",
       "      <td>-0.012593</td>\n",
       "      <td>-0.011035</td>\n",
       "      <td>0.002541</td>\n",
       "      <td>-0.011067</td>\n",
       "      <td>-0.012985</td>\n",
       "      <td>0.092796</td>\n",
       "      <td>0.003473</td>\n",
       "      <td>-0.006429</td>\n",
       "      <td>0.003933</td>\n",
       "    </tr>\n",
       "    <tr>\n",
       "      <th>Total eve calls</th>\n",
       "      <td>0.007831</td>\n",
       "      <td>0.019260</td>\n",
       "      <td>0.006114</td>\n",
       "      <td>-0.006444</td>\n",
       "      <td>-0.005864</td>\n",
       "      <td>0.015769</td>\n",
       "      <td>0.006462</td>\n",
       "      <td>0.015769</td>\n",
       "      <td>-0.011430</td>\n",
       "      <td>1.000000</td>\n",
       "      <td>...</td>\n",
       "      <td>0.007710</td>\n",
       "      <td>-0.002056</td>\n",
       "      <td>0.008703</td>\n",
       "      <td>0.017434</td>\n",
       "      <td>0.008674</td>\n",
       "      <td>0.002423</td>\n",
       "      <td>0.009233</td>\n",
       "      <td>-0.009471</td>\n",
       "      <td>0.019425</td>\n",
       "      <td>-0.012906</td>\n",
       "    </tr>\n",
       "    <tr>\n",
       "      <th>Total eve charge</th>\n",
       "      <td>0.017219</td>\n",
       "      <td>-0.006745</td>\n",
       "      <td>0.019106</td>\n",
       "      <td>0.021559</td>\n",
       "      <td>0.017578</td>\n",
       "      <td>0.007029</td>\n",
       "      <td>-0.021449</td>\n",
       "      <td>0.007036</td>\n",
       "      <td>1.000000</td>\n",
       "      <td>-0.011423</td>\n",
       "      <td>...</td>\n",
       "      <td>0.007596</td>\n",
       "      <td>-0.012601</td>\n",
       "      <td>-0.011043</td>\n",
       "      <td>0.002541</td>\n",
       "      <td>-0.011074</td>\n",
       "      <td>-0.012987</td>\n",
       "      <td>0.092786</td>\n",
       "      <td>0.003465</td>\n",
       "      <td>-0.006445</td>\n",
       "      <td>0.003960</td>\n",
       "    </tr>\n",
       "    <tr>\n",
       "      <th>Total night minutes</th>\n",
       "      <td>-0.005012</td>\n",
       "      <td>-0.008955</td>\n",
       "      <td>-0.028905</td>\n",
       "      <td>0.006079</td>\n",
       "      <td>0.007681</td>\n",
       "      <td>0.004323</td>\n",
       "      <td>0.022938</td>\n",
       "      <td>0.004324</td>\n",
       "      <td>-0.012584</td>\n",
       "      <td>-0.002093</td>\n",
       "      <td>...</td>\n",
       "      <td>0.011204</td>\n",
       "      <td>0.999999</td>\n",
       "      <td>-0.015207</td>\n",
       "      <td>-0.012353</td>\n",
       "      <td>-0.015180</td>\n",
       "      <td>-0.009288</td>\n",
       "      <td>0.035493</td>\n",
       "      <td>-0.018995</td>\n",
       "      <td>0.022891</td>\n",
       "      <td>-0.007381</td>\n",
       "    </tr>\n",
       "    <tr>\n",
       "      <th>Total night calls</th>\n",
       "      <td>0.016026</td>\n",
       "      <td>-0.013176</td>\n",
       "      <td>0.012451</td>\n",
       "      <td>0.015553</td>\n",
       "      <td>0.007123</td>\n",
       "      <td>0.022972</td>\n",
       "      <td>-0.019557</td>\n",
       "      <td>0.022972</td>\n",
       "      <td>0.007586</td>\n",
       "      <td>0.007710</td>\n",
       "      <td>...</td>\n",
       "      <td>1.000000</td>\n",
       "      <td>0.011188</td>\n",
       "      <td>-0.013605</td>\n",
       "      <td>0.000305</td>\n",
       "      <td>-0.013630</td>\n",
       "      <td>-0.012802</td>\n",
       "      <td>0.006141</td>\n",
       "      <td>-0.031644</td>\n",
       "      <td>0.014744</td>\n",
       "      <td>0.014640</td>\n",
       "    </tr>\n",
       "    <tr>\n",
       "      <th>Total night charge</th>\n",
       "      <td>-0.005038</td>\n",
       "      <td>-0.008960</td>\n",
       "      <td>-0.028913</td>\n",
       "      <td>0.006064</td>\n",
       "      <td>0.007663</td>\n",
       "      <td>0.004300</td>\n",
       "      <td>0.022927</td>\n",
       "      <td>0.004301</td>\n",
       "      <td>-0.012593</td>\n",
       "      <td>-0.002056</td>\n",
       "      <td>...</td>\n",
       "      <td>0.011188</td>\n",
       "      <td>1.000000</td>\n",
       "      <td>-0.015214</td>\n",
       "      <td>-0.012329</td>\n",
       "      <td>-0.015186</td>\n",
       "      <td>-0.009277</td>\n",
       "      <td>0.035496</td>\n",
       "      <td>-0.018984</td>\n",
       "      <td>0.022900</td>\n",
       "      <td>-0.007402</td>\n",
       "    </tr>\n",
       "    <tr>\n",
       "      <th>Total intl minutes</th>\n",
       "      <td>0.033577</td>\n",
       "      <td>0.009514</td>\n",
       "      <td>0.045871</td>\n",
       "      <td>-0.001318</td>\n",
       "      <td>0.002856</td>\n",
       "      <td>-0.010155</td>\n",
       "      <td>0.021565</td>\n",
       "      <td>-0.010157</td>\n",
       "      <td>-0.011035</td>\n",
       "      <td>0.008703</td>\n",
       "      <td>...</td>\n",
       "      <td>-0.013605</td>\n",
       "      <td>-0.015214</td>\n",
       "      <td>1.000000</td>\n",
       "      <td>0.032304</td>\n",
       "      <td>0.999993</td>\n",
       "      <td>-0.009640</td>\n",
       "      <td>0.068239</td>\n",
       "      <td>-0.023029</td>\n",
       "      <td>0.037766</td>\n",
       "      <td>-0.020480</td>\n",
       "    </tr>\n",
       "    <tr>\n",
       "      <th>Total intl calls</th>\n",
       "      <td>-0.013630</td>\n",
       "      <td>0.020661</td>\n",
       "      <td>0.017366</td>\n",
       "      <td>0.007618</td>\n",
       "      <td>0.013957</td>\n",
       "      <td>0.008033</td>\n",
       "      <td>0.004574</td>\n",
       "      <td>0.008032</td>\n",
       "      <td>0.002541</td>\n",
       "      <td>0.017434</td>\n",
       "      <td>...</td>\n",
       "      <td>0.000305</td>\n",
       "      <td>-0.012329</td>\n",
       "      <td>0.032304</td>\n",
       "      <td>1.000000</td>\n",
       "      <td>0.032372</td>\n",
       "      <td>-0.017561</td>\n",
       "      <td>-0.052844</td>\n",
       "      <td>-0.012584</td>\n",
       "      <td>0.033289</td>\n",
       "      <td>-0.025761</td>\n",
       "    </tr>\n",
       "    <tr>\n",
       "      <th>Total intl charge</th>\n",
       "      <td>0.033591</td>\n",
       "      <td>0.009546</td>\n",
       "      <td>0.045780</td>\n",
       "      <td>-0.001276</td>\n",
       "      <td>0.002884</td>\n",
       "      <td>-0.010092</td>\n",
       "      <td>0.021666</td>\n",
       "      <td>-0.010094</td>\n",
       "      <td>-0.011067</td>\n",
       "      <td>0.008674</td>\n",
       "      <td>...</td>\n",
       "      <td>-0.013630</td>\n",
       "      <td>-0.015186</td>\n",
       "      <td>0.999993</td>\n",
       "      <td>0.032372</td>\n",
       "      <td>1.000000</td>\n",
       "      <td>-0.009675</td>\n",
       "      <td>0.068259</td>\n",
       "      <td>-0.022949</td>\n",
       "      <td>0.037786</td>\n",
       "      <td>-0.020583</td>\n",
       "    </tr>\n",
       "    <tr>\n",
       "      <th>Customer service calls</th>\n",
       "      <td>0.033997</td>\n",
       "      <td>-0.003796</td>\n",
       "      <td>-0.024522</td>\n",
       "      <td>-0.017824</td>\n",
       "      <td>-0.013263</td>\n",
       "      <td>-0.013423</td>\n",
       "      <td>-0.018942</td>\n",
       "      <td>-0.013427</td>\n",
       "      <td>-0.012985</td>\n",
       "      <td>0.002423</td>\n",
       "      <td>...</td>\n",
       "      <td>-0.012802</td>\n",
       "      <td>-0.009277</td>\n",
       "      <td>-0.009640</td>\n",
       "      <td>-0.017561</td>\n",
       "      <td>-0.009675</td>\n",
       "      <td>1.000000</td>\n",
       "      <td>0.208750</td>\n",
       "      <td>-0.019283</td>\n",
       "      <td>-0.006628</td>\n",
       "      <td>0.026900</td>\n",
       "    </tr>\n",
       "    <tr>\n",
       "      <th>Churn</th>\n",
       "      <td>0.157701</td>\n",
       "      <td>0.016541</td>\n",
       "      <td>0.259852</td>\n",
       "      <td>-0.102148</td>\n",
       "      <td>-0.089728</td>\n",
       "      <td>0.205151</td>\n",
       "      <td>0.018459</td>\n",
       "      <td>0.205151</td>\n",
       "      <td>0.092796</td>\n",
       "      <td>0.009233</td>\n",
       "      <td>...</td>\n",
       "      <td>0.006141</td>\n",
       "      <td>0.035496</td>\n",
       "      <td>0.068239</td>\n",
       "      <td>-0.052844</td>\n",
       "      <td>0.068259</td>\n",
       "      <td>0.208750</td>\n",
       "      <td>1.000000</td>\n",
       "      <td>0.001103</td>\n",
       "      <td>-0.006535</td>\n",
       "      <td>0.006423</td>\n",
       "    </tr>\n",
       "    <tr>\n",
       "      <th>Area code_408</th>\n",
       "      <td>-0.006275</td>\n",
       "      <td>0.011823</td>\n",
       "      <td>-0.023869</td>\n",
       "      <td>-0.018265</td>\n",
       "      <td>-0.018240</td>\n",
       "      <td>-0.027665</td>\n",
       "      <td>0.001755</td>\n",
       "      <td>-0.027671</td>\n",
       "      <td>0.003473</td>\n",
       "      <td>-0.009471</td>\n",
       "      <td>...</td>\n",
       "      <td>-0.031644</td>\n",
       "      <td>-0.018984</td>\n",
       "      <td>-0.023029</td>\n",
       "      <td>-0.012584</td>\n",
       "      <td>-0.022949</td>\n",
       "      <td>-0.019283</td>\n",
       "      <td>0.001103</td>\n",
       "      <td>1.000000</td>\n",
       "      <td>-0.575559</td>\n",
       "      <td>-0.336407</td>\n",
       "    </tr>\n",
       "    <tr>\n",
       "      <th>Area code_415</th>\n",
       "      <td>-0.012183</td>\n",
       "      <td>0.000102</td>\n",
       "      <td>-0.021066</td>\n",
       "      <td>0.017682</td>\n",
       "      <td>0.018772</td>\n",
       "      <td>0.033145</td>\n",
       "      <td>0.006968</td>\n",
       "      <td>0.033150</td>\n",
       "      <td>-0.006429</td>\n",
       "      <td>0.019425</td>\n",
       "      <td>...</td>\n",
       "      <td>0.014744</td>\n",
       "      <td>0.022900</td>\n",
       "      <td>0.037766</td>\n",
       "      <td>0.033289</td>\n",
       "      <td>0.037786</td>\n",
       "      <td>-0.006628</td>\n",
       "      <td>-0.006535</td>\n",
       "      <td>-0.575559</td>\n",
       "      <td>1.000000</td>\n",
       "      <td>-0.576476</td>\n",
       "    </tr>\n",
       "    <tr>\n",
       "      <th>Area code_510</th>\n",
       "      <td>0.020300</td>\n",
       "      <td>-0.011931</td>\n",
       "      <td>0.048109</td>\n",
       "      <td>-0.002112</td>\n",
       "      <td>-0.003391</td>\n",
       "      <td>-0.010525</td>\n",
       "      <td>-0.009778</td>\n",
       "      <td>-0.010526</td>\n",
       "      <td>0.003933</td>\n",
       "      <td>-0.012906</td>\n",
       "      <td>...</td>\n",
       "      <td>0.014640</td>\n",
       "      <td>-0.007402</td>\n",
       "      <td>-0.020480</td>\n",
       "      <td>-0.025761</td>\n",
       "      <td>-0.020583</td>\n",
       "      <td>0.026900</td>\n",
       "      <td>0.006423</td>\n",
       "      <td>-0.336407</td>\n",
       "      <td>-0.576476</td>\n",
       "      <td>1.000000</td>\n",
       "    </tr>\n",
       "  </tbody>\n",
       "</table>\n",
       "<p>22 rows × 22 columns</p>\n",
       "</div>\n",
       "      <button class=\"colab-df-convert\" onclick=\"convertToInteractive('df-c62edc04-56d1-42c5-b1da-78667d24e235')\"\n",
       "              title=\"Convert this dataframe to an interactive table.\"\n",
       "              style=\"display:none;\">\n",
       "        \n",
       "  <svg xmlns=\"http://www.w3.org/2000/svg\" height=\"24px\"viewBox=\"0 0 24 24\"\n",
       "       width=\"24px\">\n",
       "    <path d=\"M0 0h24v24H0V0z\" fill=\"none\"/>\n",
       "    <path d=\"M18.56 5.44l.94 2.06.94-2.06 2.06-.94-2.06-.94-.94-2.06-.94 2.06-2.06.94zm-11 1L8.5 8.5l.94-2.06 2.06-.94-2.06-.94L8.5 2.5l-.94 2.06-2.06.94zm10 10l.94 2.06.94-2.06 2.06-.94-2.06-.94-.94-2.06-.94 2.06-2.06.94z\"/><path d=\"M17.41 7.96l-1.37-1.37c-.4-.4-.92-.59-1.43-.59-.52 0-1.04.2-1.43.59L10.3 9.45l-7.72 7.72c-.78.78-.78 2.05 0 2.83L4 21.41c.39.39.9.59 1.41.59.51 0 1.02-.2 1.41-.59l7.78-7.78 2.81-2.81c.8-.78.8-2.07 0-2.86zM5.41 20L4 18.59l7.72-7.72 1.47 1.35L5.41 20z\"/>\n",
       "  </svg>\n",
       "      </button>\n",
       "      \n",
       "  <style>\n",
       "    .colab-df-container {\n",
       "      display:flex;\n",
       "      flex-wrap:wrap;\n",
       "      gap: 12px;\n",
       "    }\n",
       "\n",
       "    .colab-df-convert {\n",
       "      background-color: #E8F0FE;\n",
       "      border: none;\n",
       "      border-radius: 50%;\n",
       "      cursor: pointer;\n",
       "      display: none;\n",
       "      fill: #1967D2;\n",
       "      height: 32px;\n",
       "      padding: 0 0 0 0;\n",
       "      width: 32px;\n",
       "    }\n",
       "\n",
       "    .colab-df-convert:hover {\n",
       "      background-color: #E2EBFA;\n",
       "      box-shadow: 0px 1px 2px rgba(60, 64, 67, 0.3), 0px 1px 3px 1px rgba(60, 64, 67, 0.15);\n",
       "      fill: #174EA6;\n",
       "    }\n",
       "\n",
       "    [theme=dark] .colab-df-convert {\n",
       "      background-color: #3B4455;\n",
       "      fill: #D2E3FC;\n",
       "    }\n",
       "\n",
       "    [theme=dark] .colab-df-convert:hover {\n",
       "      background-color: #434B5C;\n",
       "      box-shadow: 0px 1px 3px 1px rgba(0, 0, 0, 0.15);\n",
       "      filter: drop-shadow(0px 1px 2px rgba(0, 0, 0, 0.3));\n",
       "      fill: #FFFFFF;\n",
       "    }\n",
       "  </style>\n",
       "\n",
       "      <script>\n",
       "        const buttonEl =\n",
       "          document.querySelector('#df-c62edc04-56d1-42c5-b1da-78667d24e235 button.colab-df-convert');\n",
       "        buttonEl.style.display =\n",
       "          google.colab.kernel.accessAllowed ? 'block' : 'none';\n",
       "\n",
       "        async function convertToInteractive(key) {\n",
       "          const element = document.querySelector('#df-c62edc04-56d1-42c5-b1da-78667d24e235');\n",
       "          const dataTable =\n",
       "            await google.colab.kernel.invokeFunction('convertToInteractive',\n",
       "                                                     [key], {});\n",
       "          if (!dataTable) return;\n",
       "\n",
       "          const docLinkHtml = 'Like what you see? Visit the ' +\n",
       "            '<a target=\"_blank\" href=https://colab.research.google.com/notebooks/data_table.ipynb>data table notebook</a>'\n",
       "            + ' to learn more about interactive tables.';\n",
       "          element.innerHTML = '';\n",
       "          dataTable['output_type'] = 'display_data';\n",
       "          await google.colab.output.renderOutput(dataTable, element);\n",
       "          const docLink = document.createElement('div');\n",
       "          docLink.innerHTML = docLinkHtml;\n",
       "          element.appendChild(docLink);\n",
       "        }\n",
       "      </script>\n",
       "    </div>\n",
       "  </div>\n",
       "  "
      ],
      "text/plain": [
       "                           State  Account length  International plan  \\\n",
       "State                   1.000000       -0.015032            0.013827   \n",
       "Account length         -0.015032        1.000000            0.024735   \n",
       "International plan      0.013827        0.024735            1.000000   \n",
       "Voice mail plan        -0.009199        0.002918            0.006006   \n",
       "Number vmail messages  -0.007085       -0.004628            0.008745   \n",
       "Total day minutes       0.041423        0.006216            0.049396   \n",
       "Total day calls        -0.013048        0.038470            0.003755   \n",
       "Total day charge        0.041426        0.006214            0.049398   \n",
       "Total eve minutes       0.017215       -0.006757            0.019100   \n",
       "Total eve calls         0.007831        0.019260            0.006114   \n",
       "Total eve charge        0.017219       -0.006745            0.019106   \n",
       "Total night minutes    -0.005012       -0.008955           -0.028905   \n",
       "Total night calls       0.016026       -0.013176            0.012451   \n",
       "Total night charge     -0.005038       -0.008960           -0.028913   \n",
       "Total intl minutes      0.033577        0.009514            0.045871   \n",
       "Total intl calls       -0.013630        0.020661            0.017366   \n",
       "Total intl charge       0.033591        0.009546            0.045780   \n",
       "Customer service calls  0.033997       -0.003796           -0.024522   \n",
       "Churn                   0.157701        0.016541            0.259852   \n",
       "Area code_408          -0.006275        0.011823           -0.023869   \n",
       "Area code_415          -0.012183        0.000102           -0.021066   \n",
       "Area code_510           0.020300       -0.011931            0.048109   \n",
       "\n",
       "                        Voice mail plan  Number vmail messages  \\\n",
       "State                         -0.009199              -0.007085   \n",
       "Account length                 0.002918              -0.004628   \n",
       "International plan             0.006006               0.008745   \n",
       "Voice mail plan                1.000000               0.956927   \n",
       "Number vmail messages          0.956927               1.000000   \n",
       "Total day minutes             -0.001684               0.000778   \n",
       "Total day calls               -0.011086              -0.009548   \n",
       "Total day charge              -0.001686               0.000776   \n",
       "Total eve minutes              0.021545               0.017562   \n",
       "Total eve calls               -0.006444              -0.005864   \n",
       "Total eve charge               0.021559               0.017578   \n",
       "Total night minutes            0.006079               0.007681   \n",
       "Total night calls              0.015553               0.007123   \n",
       "Total night charge             0.006064               0.007663   \n",
       "Total intl minutes            -0.001318               0.002856   \n",
       "Total intl calls               0.007618               0.013957   \n",
       "Total intl charge             -0.001276               0.002884   \n",
       "Customer service calls        -0.017824              -0.013263   \n",
       "Churn                         -0.102148              -0.089728   \n",
       "Area code_408                 -0.018265              -0.018240   \n",
       "Area code_415                  0.017682               0.018772   \n",
       "Area code_510                 -0.002112              -0.003391   \n",
       "\n",
       "                        Total day minutes  Total day calls  Total day charge  \\\n",
       "State                            0.041423        -0.013048          0.041426   \n",
       "Account length                   0.006216         0.038470          0.006214   \n",
       "International plan               0.049396         0.003755          0.049398   \n",
       "Voice mail plan                 -0.001684        -0.011086         -0.001686   \n",
       "Number vmail messages            0.000778        -0.009548          0.000776   \n",
       "Total day minutes                1.000000         0.006750          1.000000   \n",
       "Total day calls                  0.006750         1.000000          0.006753   \n",
       "Total day charge                 1.000000         0.006753          1.000000   \n",
       "Total eve minutes                0.007043        -0.021451          0.007050   \n",
       "Total eve calls                  0.015769         0.006462          0.015769   \n",
       "Total eve charge                 0.007029        -0.021449          0.007036   \n",
       "Total night minutes              0.004323         0.022938          0.004324   \n",
       "Total night calls                0.022972        -0.019557          0.022972   \n",
       "Total night charge               0.004300         0.022927          0.004301   \n",
       "Total intl minutes              -0.010155         0.021565         -0.010157   \n",
       "Total intl calls                 0.008033         0.004574          0.008032   \n",
       "Total intl charge               -0.010092         0.021666         -0.010094   \n",
       "Customer service calls          -0.013423        -0.018942         -0.013427   \n",
       "Churn                            0.205151         0.018459          0.205151   \n",
       "Area code_408                   -0.027665         0.001755         -0.027671   \n",
       "Area code_415                    0.033145         0.006968          0.033150   \n",
       "Area code_510                   -0.010525        -0.009778         -0.010526   \n",
       "\n",
       "                        Total eve minutes  Total eve calls  ...  \\\n",
       "State                            0.017215         0.007831  ...   \n",
       "Account length                  -0.006757         0.019260  ...   \n",
       "International plan               0.019100         0.006114  ...   \n",
       "Voice mail plan                  0.021545        -0.006444  ...   \n",
       "Number vmail messages            0.017562        -0.005864  ...   \n",
       "Total day minutes                0.007043         0.015769  ...   \n",
       "Total day calls                 -0.021451         0.006462  ...   \n",
       "Total day charge                 0.007050         0.015769  ...   \n",
       "Total eve minutes                1.000000        -0.011430  ...   \n",
       "Total eve calls                 -0.011430         1.000000  ...   \n",
       "Total eve charge                 1.000000        -0.011423  ...   \n",
       "Total night minutes             -0.012584        -0.002093  ...   \n",
       "Total night calls                0.007586         0.007710  ...   \n",
       "Total night charge              -0.012593        -0.002056  ...   \n",
       "Total intl minutes              -0.011035         0.008703  ...   \n",
       "Total intl calls                 0.002541         0.017434  ...   \n",
       "Total intl charge               -0.011067         0.008674  ...   \n",
       "Customer service calls          -0.012985         0.002423  ...   \n",
       "Churn                            0.092796         0.009233  ...   \n",
       "Area code_408                    0.003473        -0.009471  ...   \n",
       "Area code_415                   -0.006429         0.019425  ...   \n",
       "Area code_510                    0.003933        -0.012906  ...   \n",
       "\n",
       "                        Total night calls  Total night charge  \\\n",
       "State                            0.016026           -0.005038   \n",
       "Account length                  -0.013176           -0.008960   \n",
       "International plan               0.012451           -0.028913   \n",
       "Voice mail plan                  0.015553            0.006064   \n",
       "Number vmail messages            0.007123            0.007663   \n",
       "Total day minutes                0.022972            0.004300   \n",
       "Total day calls                 -0.019557            0.022927   \n",
       "Total day charge                 0.022972            0.004301   \n",
       "Total eve minutes                0.007586           -0.012593   \n",
       "Total eve calls                  0.007710           -0.002056   \n",
       "Total eve charge                 0.007596           -0.012601   \n",
       "Total night minutes              0.011204            0.999999   \n",
       "Total night calls                1.000000            0.011188   \n",
       "Total night charge               0.011188            1.000000   \n",
       "Total intl minutes              -0.013605           -0.015214   \n",
       "Total intl calls                 0.000305           -0.012329   \n",
       "Total intl charge               -0.013630           -0.015186   \n",
       "Customer service calls          -0.012802           -0.009277   \n",
       "Churn                            0.006141            0.035496   \n",
       "Area code_408                   -0.031644           -0.018984   \n",
       "Area code_415                    0.014744            0.022900   \n",
       "Area code_510                    0.014640           -0.007402   \n",
       "\n",
       "                        Total intl minutes  Total intl calls  \\\n",
       "State                             0.033577         -0.013630   \n",
       "Account length                    0.009514          0.020661   \n",
       "International plan                0.045871          0.017366   \n",
       "Voice mail plan                  -0.001318          0.007618   \n",
       "Number vmail messages             0.002856          0.013957   \n",
       "Total day minutes                -0.010155          0.008033   \n",
       "Total day calls                   0.021565          0.004574   \n",
       "Total day charge                 -0.010157          0.008032   \n",
       "Total eve minutes                -0.011035          0.002541   \n",
       "Total eve calls                   0.008703          0.017434   \n",
       "Total eve charge                 -0.011043          0.002541   \n",
       "Total night minutes              -0.015207         -0.012353   \n",
       "Total night calls                -0.013605          0.000305   \n",
       "Total night charge               -0.015214         -0.012329   \n",
       "Total intl minutes                1.000000          0.032304   \n",
       "Total intl calls                  0.032304          1.000000   \n",
       "Total intl charge                 0.999993          0.032372   \n",
       "Customer service calls           -0.009640         -0.017561   \n",
       "Churn                             0.068239         -0.052844   \n",
       "Area code_408                    -0.023029         -0.012584   \n",
       "Area code_415                     0.037766          0.033289   \n",
       "Area code_510                    -0.020480         -0.025761   \n",
       "\n",
       "                        Total intl charge  Customer service calls     Churn  \\\n",
       "State                            0.033591                0.033997  0.157701   \n",
       "Account length                   0.009546               -0.003796  0.016541   \n",
       "International plan               0.045780               -0.024522  0.259852   \n",
       "Voice mail plan                 -0.001276               -0.017824 -0.102148   \n",
       "Number vmail messages            0.002884               -0.013263 -0.089728   \n",
       "Total day minutes               -0.010092               -0.013423  0.205151   \n",
       "Total day calls                  0.021666               -0.018942  0.018459   \n",
       "Total day charge                -0.010094               -0.013427  0.205151   \n",
       "Total eve minutes               -0.011067               -0.012985  0.092796   \n",
       "Total eve calls                  0.008674                0.002423  0.009233   \n",
       "Total eve charge                -0.011074               -0.012987  0.092786   \n",
       "Total night minutes             -0.015180               -0.009288  0.035493   \n",
       "Total night calls               -0.013630               -0.012802  0.006141   \n",
       "Total night charge              -0.015186               -0.009277  0.035496   \n",
       "Total intl minutes               0.999993               -0.009640  0.068239   \n",
       "Total intl calls                 0.032372               -0.017561 -0.052844   \n",
       "Total intl charge                1.000000               -0.009675  0.068259   \n",
       "Customer service calls          -0.009675                1.000000  0.208750   \n",
       "Churn                            0.068259                0.208750  1.000000   \n",
       "Area code_408                   -0.022949               -0.019283  0.001103   \n",
       "Area code_415                    0.037786               -0.006628 -0.006535   \n",
       "Area code_510                   -0.020583                0.026900  0.006423   \n",
       "\n",
       "                        Area code_408  Area code_415  Area code_510  \n",
       "State                       -0.006275      -0.012183       0.020300  \n",
       "Account length               0.011823       0.000102      -0.011931  \n",
       "International plan          -0.023869      -0.021066       0.048109  \n",
       "Voice mail plan             -0.018265       0.017682      -0.002112  \n",
       "Number vmail messages       -0.018240       0.018772      -0.003391  \n",
       "Total day minutes           -0.027665       0.033145      -0.010525  \n",
       "Total day calls              0.001755       0.006968      -0.009778  \n",
       "Total day charge            -0.027671       0.033150      -0.010526  \n",
       "Total eve minutes            0.003473      -0.006429       0.003933  \n",
       "Total eve calls             -0.009471       0.019425      -0.012906  \n",
       "Total eve charge             0.003465      -0.006445       0.003960  \n",
       "Total night minutes         -0.018995       0.022891      -0.007381  \n",
       "Total night calls           -0.031644       0.014744       0.014640  \n",
       "Total night charge          -0.018984       0.022900      -0.007402  \n",
       "Total intl minutes          -0.023029       0.037766      -0.020480  \n",
       "Total intl calls            -0.012584       0.033289      -0.025761  \n",
       "Total intl charge           -0.022949       0.037786      -0.020583  \n",
       "Customer service calls      -0.019283      -0.006628       0.026900  \n",
       "Churn                        0.001103      -0.006535       0.006423  \n",
       "Area code_408                1.000000      -0.575559      -0.336407  \n",
       "Area code_415               -0.575559       1.000000      -0.576476  \n",
       "Area code_510               -0.336407      -0.576476       1.000000  \n",
       "\n",
       "[22 rows x 22 columns]"
      ]
     },
     "execution_count": 202,
     "metadata": {},
     "output_type": "execute_result"
    }
   ],
   "source": [
    "# Чтобы учесть категориальные признаки, закодируем их прямо в датасете.\n",
    "\n",
    "dfc = pd.get_dummies(df, columns=['Area code'])\n",
    "t = TargetEncoder(cols='State')\n",
    "dfc = t.fit_transform(dfc, y)\n",
    "dfc.corr()"
   ]
  },
  {
   "cell_type": "markdown",
   "metadata": {
    "id": "_XAdbh-e_qGR"
   },
   "source": [
    "1. corr(`Voice mail plan`, `Number vmail messages`) = 0.95. Удаляем 1 из них.\n",
    "2. Плата за разговоры по всем тарифам (дневной, вечерний, ночной, международный) напрямую зависит от минут. Удаляем 4 признака.\n",
    "3. `Churn` имеет корреляцию меньше процента с: `Total eve calls`, `Total night calls`, все `Area code`. Удаляем 3 признака.\n",
    "\n",
    "Итого удаляем 8 признаков."
   ]
  },
  {
   "cell_type": "code",
   "execution_count": 204,
   "metadata": {
    "executionInfo": {
     "elapsed": 280,
     "status": "ok",
     "timestamp": 1681750274575,
     "user": {
      "displayName": "Klim Chernov",
      "userId": "01467194743770448933"
     },
     "user_tz": -180
    },
    "id": "cps0JKWzGtrp"
   },
   "outputs": [],
   "source": [
    "to_drop = ['Voice mail plan', 'Total day charge', 'Total eve charge', 'Total night charge', 'Total intl charge', 'Total eve calls', 'Total night calls', 'Area code']\n",
    "\n",
    "X = X.drop(to_drop, axis=1)\n",
    "Xtrain = Xtrain.drop(to_drop, axis=1)\n",
    "Xtest = Xtest.drop(to_drop, axis=1)"
   ]
  },
  {
   "cell_type": "markdown",
   "metadata": {
    "id": "2EN98iofIUMf"
   },
   "source": [
    "### Повторим шаги A-C"
   ]
  },
  {
   "cell_type": "markdown",
   "metadata": {
    "id": "4Z2yIbzAI9BB"
   },
   "source": [
    "#### Логистическая регрессия"
   ]
  },
  {
   "cell_type": "code",
   "execution_count": 208,
   "metadata": {
    "executionInfo": {
     "elapsed": 295,
     "status": "ok",
     "timestamp": 1681750636742,
     "user": {
      "displayName": "Klim Chernov",
      "userId": "01467194743770448933"
     },
     "user_tz": -180
    },
    "id": "-njhjSdkI9BD"
   },
   "outputs": [],
   "source": [
    "p = Pipeline([\n",
    "    ('target_encoder', TargetEncoder(cols='State')),\n",
    "    ('scaler', StandardScaler()),\n",
    "    ('model', LogisticRegression())\n",
    "])"
   ]
  },
  {
   "cell_type": "code",
   "execution_count": 209,
   "metadata": {
    "executionInfo": {
     "elapsed": 468,
     "status": "ok",
     "timestamp": 1681750638245,
     "user": {
      "displayName": "Klim Chernov",
      "userId": "01467194743770448933"
     },
     "user_tz": -180
    },
    "id": "BEJ_o_Z3I9BD"
   },
   "outputs": [],
   "source": [
    "p.fit(Xtrain, ytrain)\n",
    "ypredict = p.predict(Xtest)"
   ]
  },
  {
   "cell_type": "code",
   "execution_count": 210,
   "metadata": {
    "colab": {
     "base_uri": "https://localhost:8080/"
    },
    "executionInfo": {
     "elapsed": 297,
     "status": "ok",
     "timestamp": 1681750642552,
     "user": {
      "displayName": "Klim Chernov",
      "userId": "01467194743770448933"
     },
     "user_tz": -180
    },
    "id": "ztMAodZQI9BE",
    "outputId": "52e0ed30-0d53-4c4e-fe05-a619c1375c35"
   },
   "outputs": [
    {
     "name": "stdout",
     "output_type": "stream",
     "text": [
      "              precision    recall  f1-score   support\n",
      "\n",
      "          -1       0.88      0.97      0.92       709\n",
      "           1       0.59      0.22      0.32       125\n",
      "\n",
      "    accuracy                           0.86       834\n",
      "   macro avg       0.73      0.59      0.62       834\n",
      "weighted avg       0.83      0.86      0.83       834\n",
      "\n"
     ]
    }
   ],
   "source": [
    "print(classification_report(ytest, ypredict))"
   ]
  },
  {
   "cell_type": "code",
   "execution_count": 212,
   "metadata": {
    "colab": {
     "base_uri": "https://localhost:8080/"
    },
    "executionInfo": {
     "elapsed": 524,
     "status": "ok",
     "timestamp": 1681750714323,
     "user": {
      "displayName": "Klim Chernov",
      "userId": "01467194743770448933"
     },
     "user_tz": -180
    },
    "id": "XZxMuLtwI9BF",
    "outputId": "c5abd890-45a1-407a-f7bf-9f3641307961"
   },
   "outputs": [
    {
     "data": {
      "text/plain": [
       "array([[690,  19],\n",
       "       [ 98,  27]])"
      ]
     },
     "execution_count": 212,
     "metadata": {},
     "output_type": "execute_result"
    }
   ],
   "source": [
    "confusion_matrix(ytest, ypredict)"
   ]
  },
  {
   "cell_type": "code",
   "execution_count": 215,
   "metadata": {
    "colab": {
     "base_uri": "https://localhost:8080/"
    },
    "executionInfo": {
     "elapsed": 3360,
     "status": "ok",
     "timestamp": 1681750781808,
     "user": {
      "displayName": "Klim Chernov",
      "userId": "01467194743770448933"
     },
     "user_tz": -180
    },
    "id": "7bOiwcJDI9BH",
    "outputId": "8cbd180a-b655-47a2-e24d-58499a9e256f"
   },
   "outputs": [
    {
     "name": "stdout",
     "output_type": "stream",
     "text": [
      "Fitting 5 folds for each of 40 candidates, totalling 200 fits\n",
      "best score: 0.23759780907668232\n",
      "best params: {'C': 0.75}\n"
     ]
    }
   ],
   "source": [
    "# Подберём коэффициент регуляризации.\n",
    "\n",
    "params = {'C': np.arange(0.25, 10.25, 0.25)}\n",
    "\n",
    "gs= Pipeline([\n",
    "    ('target_encoder', TargetEncoder(cols='State')),\n",
    "    ('scaler', StandardScaler()),\n",
    "    ('model', GridSearchCV(LogisticRegression(), params, scoring='recall', verbose=1))\n",
    "])\n",
    "\n",
    "gs.fit(Xtrain, ytrain)\n",
    "\n",
    "print('best score:', gs['model'].best_score_)\n",
    "print('best params:', gs['model'].best_params_)"
   ]
  },
  {
   "cell_type": "code",
   "execution_count": 216,
   "metadata": {
    "executionInfo": {
     "elapsed": 293,
     "status": "ok",
     "timestamp": 1681750799426,
     "user": {
      "displayName": "Klim Chernov",
      "userId": "01467194743770448933"
     },
     "user_tz": -180
    },
    "id": "OshF8vp0I9BH"
   },
   "outputs": [],
   "source": [
    "p= Pipeline([\n",
    "    ('target_encoder', TargetEncoder(cols='State')),\n",
    "    ('scaler', StandardScaler()),\n",
    "    ('model', LogisticRegression(C=0.75))\n",
    "])\n",
    "\n",
    "p.fit(Xtrain, ytrain)\n",
    "ypredict = p.predict(Xtest)"
   ]
  },
  {
   "cell_type": "code",
   "execution_count": 217,
   "metadata": {
    "colab": {
     "base_uri": "https://localhost:8080/"
    },
    "executionInfo": {
     "elapsed": 274,
     "status": "ok",
     "timestamp": 1681750817069,
     "user": {
      "displayName": "Klim Chernov",
      "userId": "01467194743770448933"
     },
     "user_tz": -180
    },
    "id": "N2jj1CygI9BI",
    "outputId": "80f5b35d-384c-4b42-e2e1-553e4083364f"
   },
   "outputs": [
    {
     "data": {
      "text/plain": [
       "0.216"
      ]
     },
     "execution_count": 217,
     "metadata": {},
     "output_type": "execute_result"
    }
   ],
   "source": [
    "recall_score(ytest, ypredict)"
   ]
  },
  {
   "cell_type": "code",
   "execution_count": 218,
   "metadata": {
    "colab": {
     "base_uri": "https://localhost:8080/"
    },
    "executionInfo": {
     "elapsed": 592,
     "status": "ok",
     "timestamp": 1681750819657,
     "user": {
      "displayName": "Klim Chernov",
      "userId": "01467194743770448933"
     },
     "user_tz": -180
    },
    "id": "dSunvYjMI9BI",
    "outputId": "0ac8a310-48f6-4750-c860-6b612a9413a7"
   },
   "outputs": [
    {
     "data": {
      "text/plain": [
       "array([[691,  18],\n",
       "       [ 98,  27]])"
      ]
     },
     "execution_count": 218,
     "metadata": {},
     "output_type": "execute_result"
    }
   ],
   "source": [
    "confusion_matrix(ytest, ypredict)"
   ]
  },
  {
   "cell_type": "code",
   "execution_count": 221,
   "metadata": {
    "colab": {
     "base_uri": "https://localhost:8080/"
    },
    "executionInfo": {
     "elapsed": 1105,
     "status": "ok",
     "timestamp": 1681750913745,
     "user": {
      "displayName": "Klim Chernov",
      "userId": "01467194743770448933"
     },
     "user_tz": -180
    },
    "id": "s7koFVHmI9BJ",
    "outputId": "af4820d6-4874-4ede-aa0b-bfe415615579"
   },
   "outputs": [
    {
     "data": {
      "text/plain": [
       "{'fit_time': array([0.09278727, 0.07517076, 0.11626625, 0.15596557, 0.10228825]),\n",
       " 'score_time': array([0.02598786, 0.0219543 , 0.01303959, 0.02596688, 0.04805517]),\n",
       " 'test_accuracy': array([0.86056972, 0.85457271, 0.85907046, 0.86036036, 0.86486486]),\n",
       " 'test_recall': array([0.2371134 , 0.21649485, 0.20618557, 0.20833333, 0.26041667])}"
      ]
     },
     "execution_count": 221,
     "metadata": {},
     "output_type": "execute_result"
    }
   ],
   "source": [
    "cross_validate(p, X, y, scoring=['accuracy', 'recall'])"
   ]
  },
  {
   "cell_type": "markdown",
   "metadata": {
    "id": "39hRwoKXI9BJ"
   },
   "source": [
    "Лучше не стало."
   ]
  },
  {
   "cell_type": "markdown",
   "metadata": {
    "id": "X5gBN2VUI9BJ"
   },
   "source": [
    "#### Метод опорных векторов"
   ]
  },
  {
   "cell_type": "code",
   "execution_count": 222,
   "metadata": {
    "executionInfo": {
     "elapsed": 311,
     "status": "ok",
     "timestamp": 1681750947550,
     "user": {
      "displayName": "Klim Chernov",
      "userId": "01467194743770448933"
     },
     "user_tz": -180
    },
    "id": "1cspb0m4I9BK"
   },
   "outputs": [],
   "source": [
    "p = Pipeline([\n",
    "    ('target_encoder', TargetEncoder(cols='State')),\n",
    "    ('scaler', StandardScaler()),\n",
    "    ('model', SVC(kernel='linear'))\n",
    "])"
   ]
  },
  {
   "cell_type": "code",
   "execution_count": 223,
   "metadata": {
    "executionInfo": {
     "elapsed": 1011,
     "status": "ok",
     "timestamp": 1681750954303,
     "user": {
      "displayName": "Klim Chernov",
      "userId": "01467194743770448933"
     },
     "user_tz": -180
    },
    "id": "EWR9FhWGI9BM"
   },
   "outputs": [],
   "source": [
    "p.fit(Xtrain, ytrain)\n",
    "ypredict = p.predict(Xtest)"
   ]
  },
  {
   "cell_type": "code",
   "execution_count": 224,
   "metadata": {
    "colab": {
     "base_uri": "https://localhost:8080/"
    },
    "executionInfo": {
     "elapsed": 301,
     "status": "ok",
     "timestamp": 1681750956729,
     "user": {
      "displayName": "Klim Chernov",
      "userId": "01467194743770448933"
     },
     "user_tz": -180
    },
    "id": "TdpdhNPSI9BM",
    "outputId": "1fa84c57-e432-42e2-f2bf-f0df2a7aaa9a"
   },
   "outputs": [
    {
     "name": "stdout",
     "output_type": "stream",
     "text": [
      "              precision    recall  f1-score   support\n",
      "\n",
      "          -1       0.85      1.00      0.92       709\n",
      "           1       0.00      0.00      0.00       125\n",
      "\n",
      "    accuracy                           0.85       834\n",
      "   macro avg       0.43      0.50      0.46       834\n",
      "weighted avg       0.72      0.85      0.78       834\n",
      "\n"
     ]
    }
   ],
   "source": [
    "print(classification_report(ytest, ypredict))"
   ]
  },
  {
   "cell_type": "code",
   "execution_count": 225,
   "metadata": {
    "colab": {
     "base_uri": "https://localhost:8080/"
    },
    "executionInfo": {
     "elapsed": 309,
     "status": "ok",
     "timestamp": 1681750962181,
     "user": {
      "displayName": "Klim Chernov",
      "userId": "01467194743770448933"
     },
     "user_tz": -180
    },
    "id": "tPfiGBriI9BN",
    "outputId": "d15425cf-23a0-411f-8e20-c07cd06ad587"
   },
   "outputs": [
    {
     "data": {
      "text/plain": [
       "array([[709,   0],\n",
       "       [125,   0]])"
      ]
     },
     "execution_count": 225,
     "metadata": {},
     "output_type": "execute_result"
    }
   ],
   "source": [
    "confusion_matrix(ytest, ypredict)"
   ]
  },
  {
   "cell_type": "code",
   "execution_count": 226,
   "metadata": {
    "colab": {
     "base_uri": "https://localhost:8080/"
    },
    "collapsed": true,
    "executionInfo": {
     "elapsed": 48147,
     "status": "ok",
     "timestamp": 1681751022493,
     "user": {
      "displayName": "Klim Chernov",
      "userId": "01467194743770448933"
     },
     "user_tz": -180
    },
    "id": "Zwv1XCJSI9BO",
    "outputId": "c8a08301-224c-4715-96a7-085695fad5fb"
   },
   "outputs": [
    {
     "name": "stdout",
     "output_type": "stream",
     "text": [
      "Fitting 5 folds for each of 40 candidates, totalling 200 fits\n",
      "[CV 1/5] END ............................C=0.25;, score=0.000 total time=   0.2s\n",
      "[CV 2/5] END ............................C=0.25;, score=0.000 total time=   0.2s\n",
      "[CV 3/5] END ............................C=0.25;, score=0.000 total time=   0.2s\n",
      "[CV 4/5] END ............................C=0.25;, score=0.000 total time=   0.1s\n",
      "[CV 5/5] END ............................C=0.25;, score=0.000 total time=   0.2s\n",
      "[CV 1/5] END .............................C=0.5;, score=0.000 total time=   0.1s\n",
      "[CV 2/5] END .............................C=0.5;, score=0.000 total time=   0.1s\n",
      "[CV 3/5] END .............................C=0.5;, score=0.000 total time=   0.1s\n",
      "[CV 4/5] END .............................C=0.5;, score=0.000 total time=   0.1s\n",
      "[CV 5/5] END .............................C=0.5;, score=0.000 total time=   0.1s\n",
      "[CV 1/5] END ............................C=0.75;, score=0.000 total time=   0.1s\n",
      "[CV 2/5] END ............................C=0.75;, score=0.000 total time=   0.1s\n",
      "[CV 3/5] END ............................C=0.75;, score=0.000 total time=   0.1s\n",
      "[CV 4/5] END ............................C=0.75;, score=0.000 total time=   0.2s\n",
      "[CV 5/5] END ............................C=0.75;, score=0.000 total time=   0.2s\n",
      "[CV 1/5] END .............................C=1.0;, score=0.000 total time=   0.2s\n",
      "[CV 2/5] END .............................C=1.0;, score=0.000 total time=   0.2s\n",
      "[CV 3/5] END .............................C=1.0;, score=0.000 total time=   0.2s\n",
      "[CV 4/5] END .............................C=1.0;, score=0.000 total time=   0.2s\n",
      "[CV 5/5] END .............................C=1.0;, score=0.000 total time=   0.2s\n",
      "[CV 1/5] END ............................C=1.25;, score=0.000 total time=   0.2s\n",
      "[CV 2/5] END ............................C=1.25;, score=0.000 total time=   0.2s\n",
      "[CV 3/5] END ............................C=1.25;, score=0.000 total time=   0.2s\n",
      "[CV 4/5] END ............................C=1.25;, score=0.000 total time=   0.2s\n",
      "[CV 5/5] END ............................C=1.25;, score=0.000 total time=   0.2s\n",
      "[CV 1/5] END .............................C=1.5;, score=0.000 total time=   0.2s\n",
      "[CV 2/5] END .............................C=1.5;, score=0.000 total time=   0.2s\n",
      "[CV 3/5] END .............................C=1.5;, score=0.000 total time=   0.1s\n",
      "[CV 4/5] END .............................C=1.5;, score=0.000 total time=   0.1s\n",
      "[CV 5/5] END .............................C=1.5;, score=0.000 total time=   0.1s\n",
      "[CV 1/5] END ............................C=1.75;, score=0.000 total time=   0.1s\n",
      "[CV 2/5] END ............................C=1.75;, score=0.000 total time=   0.2s\n",
      "[CV 3/5] END ............................C=1.75;, score=0.000 total time=   0.2s\n",
      "[CV 4/5] END ............................C=1.75;, score=0.000 total time=   0.2s\n",
      "[CV 5/5] END ............................C=1.75;, score=0.000 total time=   0.2s\n",
      "[CV 1/5] END .............................C=2.0;, score=0.000 total time=   0.2s\n",
      "[CV 2/5] END .............................C=2.0;, score=0.000 total time=   0.2s\n",
      "[CV 3/5] END .............................C=2.0;, score=0.000 total time=   0.2s\n",
      "[CV 4/5] END .............................C=2.0;, score=0.000 total time=   0.2s\n",
      "[CV 5/5] END .............................C=2.0;, score=0.000 total time=   0.2s\n",
      "[CV 1/5] END ............................C=2.25;, score=0.000 total time=   0.2s\n",
      "[CV 2/5] END ............................C=2.25;, score=0.000 total time=   0.2s\n",
      "[CV 3/5] END ............................C=2.25;, score=0.000 total time=   0.2s\n",
      "[CV 4/5] END ............................C=2.25;, score=0.000 total time=   0.2s\n",
      "[CV 5/5] END ............................C=2.25;, score=0.000 total time=   0.2s\n",
      "[CV 1/5] END .............................C=2.5;, score=0.000 total time=   0.2s\n",
      "[CV 2/5] END .............................C=2.5;, score=0.000 total time=   0.2s\n",
      "[CV 3/5] END .............................C=2.5;, score=0.000 total time=   0.2s\n",
      "[CV 4/5] END .............................C=2.5;, score=0.000 total time=   0.2s\n",
      "[CV 5/5] END .............................C=2.5;, score=0.000 total time=   0.2s\n",
      "[CV 1/5] END ............................C=2.75;, score=0.000 total time=   0.2s\n",
      "[CV 2/5] END ............................C=2.75;, score=0.000 total time=   0.2s\n",
      "[CV 3/5] END ............................C=2.75;, score=0.000 total time=   0.2s\n",
      "[CV 4/5] END ............................C=2.75;, score=0.000 total time=   0.2s\n",
      "[CV 5/5] END ............................C=2.75;, score=0.000 total time=   0.2s\n",
      "[CV 1/5] END .............................C=3.0;, score=0.000 total time=   0.3s\n",
      "[CV 2/5] END .............................C=3.0;, score=0.000 total time=   0.3s\n",
      "[CV 3/5] END .............................C=3.0;, score=0.000 total time=   0.3s\n",
      "[CV 4/5] END .............................C=3.0;, score=0.000 total time=   0.3s\n",
      "[CV 5/5] END .............................C=3.0;, score=0.000 total time=   0.3s\n",
      "[CV 1/5] END ............................C=3.25;, score=0.000 total time=   0.2s\n",
      "[CV 2/5] END ............................C=3.25;, score=0.000 total time=   0.2s\n",
      "[CV 3/5] END ............................C=3.25;, score=0.000 total time=   0.2s\n",
      "[CV 4/5] END ............................C=3.25;, score=0.000 total time=   0.2s\n",
      "[CV 5/5] END ............................C=3.25;, score=0.000 total time=   0.2s\n",
      "[CV 1/5] END .............................C=3.5;, score=0.000 total time=   0.2s\n",
      "[CV 2/5] END .............................C=3.5;, score=0.000 total time=   0.2s\n",
      "[CV 3/5] END .............................C=3.5;, score=0.000 total time=   0.2s\n",
      "[CV 4/5] END .............................C=3.5;, score=0.000 total time=   0.2s\n",
      "[CV 5/5] END .............................C=3.5;, score=0.000 total time=   0.2s\n",
      "[CV 1/5] END ............................C=3.75;, score=0.000 total time=   0.2s\n",
      "[CV 2/5] END ............................C=3.75;, score=0.000 total time=   0.2s\n",
      "[CV 3/5] END ............................C=3.75;, score=0.000 total time=   0.2s\n",
      "[CV 4/5] END ............................C=3.75;, score=0.000 total time=   0.2s\n",
      "[CV 5/5] END ............................C=3.75;, score=0.000 total time=   0.2s\n",
      "[CV 1/5] END .............................C=4.0;, score=0.000 total time=   0.2s\n",
      "[CV 2/5] END .............................C=4.0;, score=0.000 total time=   0.2s\n",
      "[CV 3/5] END .............................C=4.0;, score=0.000 total time=   0.2s\n",
      "[CV 4/5] END .............................C=4.0;, score=0.000 total time=   0.2s\n",
      "[CV 5/5] END .............................C=4.0;, score=0.000 total time=   0.2s\n",
      "[CV 1/5] END ............................C=4.25;, score=0.000 total time=   0.2s\n",
      "[CV 2/5] END ............................C=4.25;, score=0.000 total time=   0.2s\n",
      "[CV 3/5] END ............................C=4.25;, score=0.000 total time=   0.2s\n",
      "[CV 4/5] END ............................C=4.25;, score=0.000 total time=   0.2s\n",
      "[CV 5/5] END ............................C=4.25;, score=0.000 total time=   0.2s\n",
      "[CV 1/5] END .............................C=4.5;, score=0.000 total time=   0.2s\n",
      "[CV 2/5] END .............................C=4.5;, score=0.000 total time=   0.2s\n",
      "[CV 3/5] END .............................C=4.5;, score=0.000 total time=   0.2s\n",
      "[CV 4/5] END .............................C=4.5;, score=0.000 total time=   0.2s\n",
      "[CV 5/5] END .............................C=4.5;, score=0.000 total time=   0.2s\n",
      "[CV 1/5] END ............................C=4.75;, score=0.000 total time=   0.2s\n",
      "[CV 2/5] END ............................C=4.75;, score=0.000 total time=   0.2s\n",
      "[CV 3/5] END ............................C=4.75;, score=0.000 total time=   0.2s\n",
      "[CV 4/5] END ............................C=4.75;, score=0.000 total time=   0.2s\n",
      "[CV 5/5] END ............................C=4.75;, score=0.000 total time=   0.2s\n",
      "[CV 1/5] END .............................C=5.0;, score=0.000 total time=   0.2s\n",
      "[CV 2/5] END .............................C=5.0;, score=0.000 total time=   0.2s\n",
      "[CV 3/5] END .............................C=5.0;, score=0.000 total time=   0.2s\n",
      "[CV 4/5] END .............................C=5.0;, score=0.000 total time=   0.2s\n",
      "[CV 5/5] END .............................C=5.0;, score=0.000 total time=   0.2s\n",
      "[CV 1/5] END ............................C=5.25;, score=0.000 total time=   0.2s\n",
      "[CV 2/5] END ............................C=5.25;, score=0.000 total time=   0.2s\n",
      "[CV 3/5] END ............................C=5.25;, score=0.000 total time=   0.2s\n",
      "[CV 4/5] END ............................C=5.25;, score=0.000 total time=   0.2s\n",
      "[CV 5/5] END ............................C=5.25;, score=0.000 total time=   0.2s\n",
      "[CV 1/5] END .............................C=5.5;, score=0.000 total time=   0.2s\n",
      "[CV 2/5] END .............................C=5.5;, score=0.000 total time=   0.2s\n",
      "[CV 3/5] END .............................C=5.5;, score=0.000 total time=   0.2s\n",
      "[CV 4/5] END .............................C=5.5;, score=0.000 total time=   0.2s\n",
      "[CV 5/5] END .............................C=5.5;, score=0.000 total time=   0.3s\n",
      "[CV 1/5] END ............................C=5.75;, score=0.000 total time=   0.3s\n",
      "[CV 2/5] END ............................C=5.75;, score=0.000 total time=   0.3s\n",
      "[CV 3/5] END ............................C=5.75;, score=0.000 total time=   0.3s\n",
      "[CV 4/5] END ............................C=5.75;, score=0.000 total time=   0.4s\n",
      "[CV 5/5] END ............................C=5.75;, score=0.000 total time=   0.3s\n",
      "[CV 1/5] END .............................C=6.0;, score=0.000 total time=   0.3s\n",
      "[CV 2/5] END .............................C=6.0;, score=0.000 total time=   0.3s\n",
      "[CV 3/5] END .............................C=6.0;, score=0.000 total time=   0.3s\n",
      "[CV 4/5] END .............................C=6.0;, score=0.000 total time=   0.3s\n",
      "[CV 5/5] END .............................C=6.0;, score=0.000 total time=   0.3s\n",
      "[CV 1/5] END ............................C=6.25;, score=0.000 total time=   0.3s\n",
      "[CV 2/5] END ............................C=6.25;, score=0.000 total time=   0.3s\n",
      "[CV 3/5] END ............................C=6.25;, score=0.000 total time=   0.3s\n",
      "[CV 4/5] END ............................C=6.25;, score=0.000 total time=   0.3s\n",
      "[CV 5/5] END ............................C=6.25;, score=0.000 total time=   0.3s\n",
      "[CV 1/5] END .............................C=6.5;, score=0.000 total time=   0.3s\n",
      "[CV 2/5] END .............................C=6.5;, score=0.000 total time=   0.3s\n",
      "[CV 3/5] END .............................C=6.5;, score=0.000 total time=   0.3s\n",
      "[CV 4/5] END .............................C=6.5;, score=0.000 total time=   0.3s\n",
      "[CV 5/5] END .............................C=6.5;, score=0.000 total time=   0.2s\n",
      "[CV 1/5] END ............................C=6.75;, score=0.000 total time=   0.2s\n",
      "[CV 2/5] END ............................C=6.75;, score=0.000 total time=   0.2s\n",
      "[CV 3/5] END ............................C=6.75;, score=0.000 total time=   0.2s\n",
      "[CV 4/5] END ............................C=6.75;, score=0.000 total time=   0.2s\n",
      "[CV 5/5] END ............................C=6.75;, score=0.000 total time=   0.2s\n",
      "[CV 1/5] END .............................C=7.0;, score=0.000 total time=   0.3s\n",
      "[CV 2/5] END .............................C=7.0;, score=0.000 total time=   0.3s\n",
      "[CV 3/5] END .............................C=7.0;, score=0.000 total time=   0.3s\n",
      "[CV 4/5] END .............................C=7.0;, score=0.000 total time=   0.3s\n",
      "[CV 5/5] END .............................C=7.0;, score=0.000 total time=   0.3s\n",
      "[CV 1/5] END ............................C=7.25;, score=0.000 total time=   0.2s\n",
      "[CV 2/5] END ............................C=7.25;, score=0.000 total time=   0.2s\n",
      "[CV 3/5] END ............................C=7.25;, score=0.000 total time=   0.2s\n",
      "[CV 4/5] END ............................C=7.25;, score=0.000 total time=   0.2s\n",
      "[CV 5/5] END ............................C=7.25;, score=0.000 total time=   0.2s\n",
      "[CV 1/5] END .............................C=7.5;, score=0.000 total time=   0.2s\n",
      "[CV 2/5] END .............................C=7.5;, score=0.000 total time=   0.2s\n",
      "[CV 3/5] END .............................C=7.5;, score=0.000 total time=   0.3s\n",
      "[CV 4/5] END .............................C=7.5;, score=0.000 total time=   0.3s\n",
      "[CV 5/5] END .............................C=7.5;, score=0.000 total time=   0.3s\n",
      "[CV 1/5] END ............................C=7.75;, score=0.000 total time=   0.3s\n",
      "[CV 2/5] END ............................C=7.75;, score=0.000 total time=   0.2s\n",
      "[CV 3/5] END ............................C=7.75;, score=0.000 total time=   0.2s\n",
      "[CV 4/5] END ............................C=7.75;, score=0.000 total time=   0.2s\n",
      "[CV 5/5] END ............................C=7.75;, score=0.000 total time=   0.2s\n",
      "[CV 1/5] END .............................C=8.0;, score=0.000 total time=   0.3s\n",
      "[CV 2/5] END .............................C=8.0;, score=0.000 total time=   0.3s\n",
      "[CV 3/5] END .............................C=8.0;, score=0.000 total time=   0.3s\n",
      "[CV 4/5] END .............................C=8.0;, score=0.000 total time=   0.3s\n",
      "[CV 5/5] END .............................C=8.0;, score=0.000 total time=   0.3s\n",
      "[CV 1/5] END ............................C=8.25;, score=0.000 total time=   0.3s\n",
      "[CV 2/5] END ............................C=8.25;, score=0.000 total time=   0.3s\n",
      "[CV 3/5] END ............................C=8.25;, score=0.000 total time=   0.3s\n",
      "[CV 4/5] END ............................C=8.25;, score=0.000 total time=   0.3s\n",
      "[CV 5/5] END ............................C=8.25;, score=0.000 total time=   0.3s\n",
      "[CV 1/5] END .............................C=8.5;, score=0.000 total time=   0.3s\n",
      "[CV 2/5] END .............................C=8.5;, score=0.000 total time=   0.3s\n",
      "[CV 3/5] END .............................C=8.5;, score=0.000 total time=   0.3s\n",
      "[CV 4/5] END .............................C=8.5;, score=0.000 total time=   0.3s\n",
      "[CV 5/5] END .............................C=8.5;, score=0.000 total time=   0.4s\n",
      "[CV 1/5] END ............................C=8.75;, score=0.000 total time=   0.3s\n",
      "[CV 2/5] END ............................C=8.75;, score=0.000 total time=   0.3s\n",
      "[CV 3/5] END ............................C=8.75;, score=0.000 total time=   0.3s\n",
      "[CV 4/5] END ............................C=8.75;, score=0.000 total time=   0.4s\n",
      "[CV 5/5] END ............................C=8.75;, score=0.000 total time=   0.4s\n",
      "[CV 1/5] END .............................C=9.0;, score=0.000 total time=   0.4s\n",
      "[CV 2/5] END .............................C=9.0;, score=0.000 total time=   0.3s\n",
      "[CV 3/5] END .............................C=9.0;, score=0.000 total time=   0.4s\n",
      "[CV 4/5] END .............................C=9.0;, score=0.000 total time=   0.4s\n",
      "[CV 5/5] END .............................C=9.0;, score=0.000 total time=   0.3s\n",
      "[CV 1/5] END ............................C=9.25;, score=0.000 total time=   0.3s\n",
      "[CV 2/5] END ............................C=9.25;, score=0.000 total time=   0.3s\n",
      "[CV 3/5] END ............................C=9.25;, score=0.000 total time=   0.4s\n",
      "[CV 4/5] END ............................C=9.25;, score=0.000 total time=   0.4s\n",
      "[CV 5/5] END ............................C=9.25;, score=0.000 total time=   0.4s\n",
      "[CV 1/5] END .............................C=9.5;, score=0.000 total time=   0.3s\n",
      "[CV 2/5] END .............................C=9.5;, score=0.000 total time=   0.3s\n",
      "[CV 3/5] END .............................C=9.5;, score=0.000 total time=   0.3s\n",
      "[CV 4/5] END .............................C=9.5;, score=0.000 total time=   0.3s\n",
      "[CV 5/5] END .............................C=9.5;, score=0.000 total time=   0.3s\n",
      "[CV 1/5] END ............................C=9.75;, score=0.000 total time=   0.3s\n",
      "[CV 2/5] END ............................C=9.75;, score=0.000 total time=   0.3s\n",
      "[CV 3/5] END ............................C=9.75;, score=0.000 total time=   0.3s\n",
      "[CV 4/5] END ............................C=9.75;, score=0.000 total time=   0.3s\n",
      "[CV 5/5] END ............................C=9.75;, score=0.000 total time=   0.3s\n",
      "[CV 1/5] END ............................C=10.0;, score=0.000 total time=   0.3s\n",
      "[CV 2/5] END ............................C=10.0;, score=0.000 total time=   0.2s\n",
      "[CV 3/5] END ............................C=10.0;, score=0.000 total time=   0.3s\n",
      "[CV 4/5] END ............................C=10.0;, score=0.000 total time=   0.3s\n",
      "[CV 5/5] END ............................C=10.0;, score=0.000 total time=   0.3s\n",
      "best score: 0.0\n",
      "best params: {'C': 0.25}\n"
     ]
    }
   ],
   "source": [
    "# Подберём коэффициент регуляризации.\n",
    "\n",
    "params = {'C': np.arange(0.25, 10.25, 0.25)}\n",
    "\n",
    "gs= Pipeline([\n",
    "    ('target_encoder', TargetEncoder(cols='State')),\n",
    "    ('scaler', StandardScaler()),\n",
    "    ('model', GridSearchCV(SVC(kernel='linear'), params, scoring='recall', verbose=3))\n",
    "])\n",
    "\n",
    "gs.fit(Xtrain, ytrain)\n",
    "\n",
    "print('best score:', gs['model'].best_score_)\n",
    "print('best params:', gs['model'].best_params_)"
   ]
  },
  {
   "cell_type": "markdown",
   "metadata": {
    "id": "kjQHf9_nI9BO"
   },
   "source": [
    "Лучше не стало."
   ]
  },
  {
   "cell_type": "markdown",
   "metadata": {
    "id": "ktw52aw9I9BP"
   },
   "source": [
    "#### Добавление признаков"
   ]
  },
  {
   "cell_type": "markdown",
   "metadata": {
    "id": "c6I6vc92I9BP"
   },
   "source": [
    "##### Логистическая регрессия"
   ]
  },
  {
   "cell_type": "code",
   "execution_count": 228,
   "metadata": {
    "executionInfo": {
     "elapsed": 494,
     "status": "ok",
     "timestamp": 1681751119670,
     "user": {
      "displayName": "Klim Chernov",
      "userId": "01467194743770448933"
     },
     "user_tz": -180
    },
    "id": "RC2-5LfUI9BP"
   },
   "outputs": [],
   "source": [
    "p = Pipeline([\n",
    "    ('target_encoder', TargetEncoder(cols='State')),\n",
    "    ('poli', PolynomialFeatures(degree=3)),\n",
    "    ('scaler', StandardScaler()),\n",
    "    ('model', LogisticRegression())\n",
    "])"
   ]
  },
  {
   "cell_type": "code",
   "execution_count": 229,
   "metadata": {
    "executionInfo": {
     "elapsed": 264,
     "status": "ok",
     "timestamp": 1681751122468,
     "user": {
      "displayName": "Klim Chernov",
      "userId": "01467194743770448933"
     },
     "user_tz": -180
    },
    "id": "jSWm8IQiI9BQ"
   },
   "outputs": [],
   "source": [
    "p.fit(Xtrain, ytrain)\n",
    "ypredict = p.predict(Xtest)"
   ]
  },
  {
   "cell_type": "code",
   "execution_count": 230,
   "metadata": {
    "colab": {
     "base_uri": "https://localhost:8080/"
    },
    "executionInfo": {
     "elapsed": 431,
     "status": "ok",
     "timestamp": 1681751124517,
     "user": {
      "displayName": "Klim Chernov",
      "userId": "01467194743770448933"
     },
     "user_tz": -180
    },
    "id": "HFNqs8NXI9BQ",
    "outputId": "b2d514b3-513e-4e8e-be23-feab4c79bd95"
   },
   "outputs": [
    {
     "name": "stdout",
     "output_type": "stream",
     "text": [
      "              precision    recall  f1-score   support\n",
      "\n",
      "          -1       0.94      0.98      0.96       709\n",
      "           1       0.87      0.63      0.73       125\n",
      "\n",
      "    accuracy                           0.93       834\n",
      "   macro avg       0.90      0.81      0.85       834\n",
      "weighted avg       0.93      0.93      0.93       834\n",
      "\n"
     ]
    }
   ],
   "source": [
    "print(classification_report(ytest, ypredict))"
   ]
  },
  {
   "cell_type": "code",
   "execution_count": 231,
   "metadata": {
    "colab": {
     "base_uri": "https://localhost:8080/"
    },
    "executionInfo": {
     "elapsed": 286,
     "status": "ok",
     "timestamp": 1681751141968,
     "user": {
      "displayName": "Klim Chernov",
      "userId": "01467194743770448933"
     },
     "user_tz": -180
    },
    "id": "bl6nzHkSI9BQ",
    "outputId": "1f2e9471-c171-4cb5-d254-e0ae619ff5aa"
   },
   "outputs": [
    {
     "data": {
      "text/plain": [
       "array([[697,  12],\n",
       "       [ 46,  79]])"
      ]
     },
     "execution_count": 231,
     "metadata": {},
     "output_type": "execute_result"
    }
   ],
   "source": [
    "confusion_matrix(ytest, ypredict)"
   ]
  },
  {
   "cell_type": "code",
   "execution_count": 232,
   "metadata": {
    "colab": {
     "base_uri": "https://localhost:8080/"
    },
    "executionInfo": {
     "elapsed": 1475,
     "status": "ok",
     "timestamp": 1681751170305,
     "user": {
      "displayName": "Klim Chernov",
      "userId": "01467194743770448933"
     },
     "user_tz": -180
    },
    "id": "-oRVxgpRI9BR",
    "outputId": "8c9dfdb5-5488-4e50-e0bf-7f8a16b15032"
   },
   "outputs": [
    {
     "name": "stdout",
     "output_type": "stream",
     "text": [
      "accuracy mean: 0.9252950101525814\n",
      "recall mean: 0.627319587628866\n",
      "\n"
     ]
    },
    {
     "data": {
      "text/plain": [
       "{'fit_time': array([0.2477262 , 0.21004081, 0.20456052, 0.23200107, 0.22022343]),\n",
       " 'score_time': array([0.01909304, 0.01516318, 0.01521325, 0.01652288, 0.01545238]),\n",
       " 'test_accuracy': array([0.92053973, 0.91754123, 0.92953523, 0.93093093, 0.92792793]),\n",
       " 'test_recall': array([0.59793814, 0.59793814, 0.69072165, 0.64583333, 0.60416667])}"
      ]
     },
     "execution_count": 232,
     "metadata": {},
     "output_type": "execute_result"
    }
   ],
   "source": [
    "cv = cross_validate(p, X, y, scoring=['accuracy', 'recall'])\n",
    "print('accuracy mean:', cv['test_accuracy'].mean())\n",
    "print('recall mean:', cv['test_recall'].mean())\n",
    "print()\n",
    "cv"
   ]
  },
  {
   "cell_type": "code",
   "execution_count": 233,
   "metadata": {
    "colab": {
     "base_uri": "https://localhost:8080/"
    },
    "collapsed": true,
    "executionInfo": {
     "elapsed": 21615,
     "status": "ok",
     "timestamp": 1681751227241,
     "user": {
      "displayName": "Klim Chernov",
      "userId": "01467194743770448933"
     },
     "user_tz": -180
    },
    "id": "ZfspOBwPI9BR",
    "outputId": "a843345d-8f16-495b-c855-bf95f2ca28ae"
   },
   "outputs": [
    {
     "name": "stdout",
     "output_type": "stream",
     "text": [
      "Fitting 5 folds for each of 40 candidates, totalling 200 fits\n",
      "[CV 1/5] END ............................C=0.25;, score=0.535 total time=   0.1s\n",
      "[CV 2/5] END ............................C=0.25;, score=0.528 total time=   0.1s\n",
      "[CV 3/5] END ............................C=0.25;, score=0.639 total time=   0.1s\n",
      "[CV 4/5] END ............................C=0.25;, score=0.556 total time=   0.1s\n",
      "[CV 5/5] END ............................C=0.25;, score=0.577 total time=   0.1s\n",
      "[CV 1/5] END .............................C=0.5;, score=0.592 total time=   0.1s\n",
      "[CV 2/5] END .............................C=0.5;, score=0.542 total time=   0.1s\n",
      "[CV 3/5] END .............................C=0.5;, score=0.681 total time=   0.1s\n",
      "[CV 4/5] END .............................C=0.5;, score=0.556 total time=   0.1s\n",
      "[CV 5/5] END .............................C=0.5;, score=0.577 total time=   0.1s\n",
      "[CV 1/5] END ............................C=0.75;, score=0.592 total time=   0.1s\n",
      "[CV 2/5] END ............................C=0.75;, score=0.556 total time=   0.1s\n",
      "[CV 3/5] END ............................C=0.75;, score=0.708 total time=   0.1s\n",
      "[CV 4/5] END ............................C=0.75;, score=0.556 total time=   0.1s\n",
      "[CV 5/5] END ............................C=0.75;, score=0.620 total time=   0.1s\n",
      "[CV 1/5] END .............................C=1.0;, score=0.592 total time=   0.1s\n",
      "[CV 2/5] END .............................C=1.0;, score=0.569 total time=   0.1s\n",
      "[CV 3/5] END .............................C=1.0;, score=0.694 total time=   0.1s\n",
      "[CV 4/5] END .............................C=1.0;, score=0.583 total time=   0.1s\n",
      "[CV 5/5] END .............................C=1.0;, score=0.620 total time=   0.1s\n",
      "[CV 1/5] END ............................C=1.25;, score=0.592 total time=   0.1s\n",
      "[CV 2/5] END ............................C=1.25;, score=0.569 total time=   0.1s\n",
      "[CV 3/5] END ............................C=1.25;, score=0.708 total time=   0.1s\n",
      "[CV 4/5] END ............................C=1.25;, score=0.569 total time=   0.1s\n",
      "[CV 5/5] END ............................C=1.25;, score=0.606 total time=   0.1s\n",
      "[CV 1/5] END .............................C=1.5;, score=0.592 total time=   0.1s\n",
      "[CV 2/5] END .............................C=1.5;, score=0.583 total time=   0.1s\n",
      "[CV 3/5] END .............................C=1.5;, score=0.722 total time=   0.1s\n",
      "[CV 4/5] END .............................C=1.5;, score=0.597 total time=   0.1s\n",
      "[CV 5/5] END .............................C=1.5;, score=0.620 total time=   0.1s\n",
      "[CV 1/5] END ............................C=1.75;, score=0.592 total time=   0.1s\n",
      "[CV 2/5] END ............................C=1.75;, score=0.597 total time=   0.1s\n",
      "[CV 3/5] END ............................C=1.75;, score=0.722 total time=   0.1s\n",
      "[CV 4/5] END ............................C=1.75;, score=0.611 total time=   0.1s\n",
      "[CV 5/5] END ............................C=1.75;, score=0.634 total time=   0.1s\n",
      "[CV 1/5] END .............................C=2.0;, score=0.592 total time=   0.1s\n",
      "[CV 2/5] END .............................C=2.0;, score=0.583 total time=   0.1s\n",
      "[CV 3/5] END .............................C=2.0;, score=0.722 total time=   0.1s\n",
      "[CV 4/5] END .............................C=2.0;, score=0.597 total time=   0.1s\n",
      "[CV 5/5] END .............................C=2.0;, score=0.648 total time=   0.1s\n",
      "[CV 1/5] END ............................C=2.25;, score=0.606 total time=   0.1s\n",
      "[CV 2/5] END ............................C=2.25;, score=0.569 total time=   0.1s\n",
      "[CV 3/5] END ............................C=2.25;, score=0.722 total time=   0.1s\n",
      "[CV 4/5] END ............................C=2.25;, score=0.597 total time=   0.1s\n",
      "[CV 5/5] END ............................C=2.25;, score=0.634 total time=   0.1s\n",
      "[CV 1/5] END .............................C=2.5;, score=0.606 total time=   0.1s\n",
      "[CV 2/5] END .............................C=2.5;, score=0.583 total time=   0.1s\n",
      "[CV 3/5] END .............................C=2.5;, score=0.722 total time=   0.1s\n",
      "[CV 4/5] END .............................C=2.5;, score=0.625 total time=   0.1s\n",
      "[CV 5/5] END .............................C=2.5;, score=0.634 total time=   0.1s\n",
      "[CV 1/5] END ............................C=2.75;, score=0.606 total time=   0.1s\n",
      "[CV 2/5] END ............................C=2.75;, score=0.583 total time=   0.1s\n",
      "[CV 3/5] END ............................C=2.75;, score=0.722 total time=   0.1s\n",
      "[CV 4/5] END ............................C=2.75;, score=0.583 total time=   0.1s\n",
      "[CV 5/5] END ............................C=2.75;, score=0.648 total time=   0.1s\n",
      "[CV 1/5] END .............................C=3.0;, score=0.592 total time=   0.1s\n",
      "[CV 2/5] END .............................C=3.0;, score=0.583 total time=   0.1s\n",
      "[CV 3/5] END .............................C=3.0;, score=0.722 total time=   0.1s\n",
      "[CV 4/5] END .............................C=3.0;, score=0.569 total time=   0.1s\n",
      "[CV 5/5] END .............................C=3.0;, score=0.634 total time=   0.1s\n",
      "[CV 1/5] END ............................C=3.25;, score=0.577 total time=   0.1s\n",
      "[CV 2/5] END ............................C=3.25;, score=0.569 total time=   0.1s\n",
      "[CV 3/5] END ............................C=3.25;, score=0.708 total time=   0.2s\n",
      "[CV 4/5] END ............................C=3.25;, score=0.569 total time=   0.1s\n",
      "[CV 5/5] END ............................C=3.25;, score=0.662 total time=   0.1s\n",
      "[CV 1/5] END .............................C=3.5;, score=0.592 total time=   0.1s\n",
      "[CV 2/5] END .............................C=3.5;, score=0.583 total time=   0.1s\n",
      "[CV 3/5] END .............................C=3.5;, score=0.722 total time=   0.1s\n",
      "[CV 4/5] END .............................C=3.5;, score=0.583 total time=   0.1s\n",
      "[CV 5/5] END .............................C=3.5;, score=0.648 total time=   0.1s\n",
      "[CV 1/5] END ............................C=3.75;, score=0.592 total time=   0.1s\n",
      "[CV 2/5] END ............................C=3.75;, score=0.597 total time=   0.1s\n",
      "[CV 3/5] END ............................C=3.75;, score=0.750 total time=   0.1s\n",
      "[CV 4/5] END ............................C=3.75;, score=0.556 total time=   0.1s\n",
      "[CV 5/5] END ............................C=3.75;, score=0.634 total time=   0.1s\n",
      "[CV 1/5] END .............................C=4.0;, score=0.592 total time=   0.1s\n",
      "[CV 2/5] END .............................C=4.0;, score=0.597 total time=   0.1s\n",
      "[CV 3/5] END .............................C=4.0;, score=0.722 total time=   0.1s\n",
      "[CV 4/5] END .............................C=4.0;, score=0.556 total time=   0.1s\n",
      "[CV 5/5] END .............................C=4.0;, score=0.662 total time=   0.1s\n",
      "[CV 1/5] END ............................C=4.25;, score=0.592 total time=   0.1s\n",
      "[CV 2/5] END ............................C=4.25;, score=0.597 total time=   0.1s\n",
      "[CV 3/5] END ............................C=4.25;, score=0.722 total time=   0.1s\n",
      "[CV 4/5] END ............................C=4.25;, score=0.556 total time=   0.1s\n",
      "[CV 5/5] END ............................C=4.25;, score=0.648 total time=   0.1s\n",
      "[CV 1/5] END .............................C=4.5;, score=0.606 total time=   0.1s\n",
      "[CV 2/5] END .............................C=4.5;, score=0.583 total time=   0.1s\n",
      "[CV 3/5] END .............................C=4.5;, score=0.736 total time=   0.1s\n",
      "[CV 4/5] END .............................C=4.5;, score=0.569 total time=   0.1s\n",
      "[CV 5/5] END .............................C=4.5;, score=0.648 total time=   0.1s\n",
      "[CV 1/5] END ............................C=4.75;, score=0.634 total time=   0.1s\n",
      "[CV 2/5] END ............................C=4.75;, score=0.583 total time=   0.1s\n",
      "[CV 3/5] END ............................C=4.75;, score=0.750 total time=   0.1s\n",
      "[CV 4/5] END ............................C=4.75;, score=0.583 total time=   0.2s\n",
      "[CV 5/5] END ............................C=4.75;, score=0.662 total time=   0.2s\n",
      "[CV 1/5] END .............................C=5.0;, score=0.620 total time=   0.2s\n",
      "[CV 2/5] END .............................C=5.0;, score=0.597 total time=   0.1s\n",
      "[CV 3/5] END .............................C=5.0;, score=0.722 total time=   0.1s\n",
      "[CV 4/5] END .............................C=5.0;, score=0.583 total time=   0.1s\n",
      "[CV 5/5] END .............................C=5.0;, score=0.648 total time=   0.1s\n",
      "[CV 1/5] END ............................C=5.25;, score=0.606 total time=   0.1s\n",
      "[CV 2/5] END ............................C=5.25;, score=0.611 total time=   0.1s\n",
      "[CV 3/5] END ............................C=5.25;, score=0.736 total time=   0.1s\n",
      "[CV 4/5] END ............................C=5.25;, score=0.569 total time=   0.1s\n",
      "[CV 5/5] END ............................C=5.25;, score=0.662 total time=   0.1s\n",
      "[CV 1/5] END .............................C=5.5;, score=0.620 total time=   0.1s\n",
      "[CV 2/5] END .............................C=5.5;, score=0.611 total time=   0.1s\n",
      "[CV 3/5] END .............................C=5.5;, score=0.736 total time=   0.1s\n",
      "[CV 4/5] END .............................C=5.5;, score=0.569 total time=   0.1s\n",
      "[CV 5/5] END .............................C=5.5;, score=0.648 total time=   0.1s\n",
      "[CV 1/5] END ............................C=5.75;, score=0.606 total time=   0.1s\n",
      "[CV 2/5] END ............................C=5.75;, score=0.583 total time=   0.1s\n",
      "[CV 3/5] END ............................C=5.75;, score=0.736 total time=   0.1s\n",
      "[CV 4/5] END ............................C=5.75;, score=0.569 total time=   0.1s\n",
      "[CV 5/5] END ............................C=5.75;, score=0.648 total time=   0.1s\n",
      "[CV 1/5] END .............................C=6.0;, score=0.606 total time=   0.1s\n",
      "[CV 2/5] END .............................C=6.0;, score=0.597 total time=   0.1s\n",
      "[CV 3/5] END .............................C=6.0;, score=0.736 total time=   0.1s\n",
      "[CV 4/5] END .............................C=6.0;, score=0.569 total time=   0.1s\n",
      "[CV 5/5] END .............................C=6.0;, score=0.648 total time=   0.1s\n",
      "[CV 1/5] END ............................C=6.25;, score=0.606 total time=   0.1s\n",
      "[CV 2/5] END ............................C=6.25;, score=0.583 total time=   0.1s\n",
      "[CV 3/5] END ............................C=6.25;, score=0.736 total time=   0.1s\n",
      "[CV 4/5] END ............................C=6.25;, score=0.597 total time=   0.1s\n",
      "[CV 5/5] END ............................C=6.25;, score=0.648 total time=   0.1s\n",
      "[CV 1/5] END .............................C=6.5;, score=0.606 total time=   0.1s\n",
      "[CV 2/5] END .............................C=6.5;, score=0.611 total time=   0.1s\n",
      "[CV 3/5] END .............................C=6.5;, score=0.736 total time=   0.1s\n",
      "[CV 4/5] END .............................C=6.5;, score=0.556 total time=   0.1s\n",
      "[CV 5/5] END .............................C=6.5;, score=0.648 total time=   0.1s\n",
      "[CV 1/5] END ............................C=6.75;, score=0.620 total time=   0.1s\n",
      "[CV 2/5] END ............................C=6.75;, score=0.597 total time=   0.1s\n",
      "[CV 3/5] END ............................C=6.75;, score=0.750 total time=   0.1s\n",
      "[CV 4/5] END ............................C=6.75;, score=0.583 total time=   0.1s\n",
      "[CV 5/5] END ............................C=6.75;, score=0.662 total time=   0.1s\n",
      "[CV 1/5] END .............................C=7.0;, score=0.634 total time=   0.1s\n",
      "[CV 2/5] END .............................C=7.0;, score=0.611 total time=   0.1s\n",
      "[CV 3/5] END .............................C=7.0;, score=0.722 total time=   0.1s\n",
      "[CV 4/5] END .............................C=7.0;, score=0.583 total time=   0.1s\n",
      "[CV 5/5] END .............................C=7.0;, score=0.662 total time=   0.1s\n",
      "[CV 1/5] END ............................C=7.25;, score=0.592 total time=   0.1s\n",
      "[CV 2/5] END ............................C=7.25;, score=0.583 total time=   0.1s\n",
      "[CV 3/5] END ............................C=7.25;, score=0.750 total time=   0.1s\n",
      "[CV 4/5] END ............................C=7.25;, score=0.611 total time=   0.1s\n",
      "[CV 5/5] END ............................C=7.25;, score=0.662 total time=   0.1s\n",
      "[CV 1/5] END .............................C=7.5;, score=0.620 total time=   0.1s\n",
      "[CV 2/5] END .............................C=7.5;, score=0.583 total time=   0.1s\n",
      "[CV 3/5] END .............................C=7.5;, score=0.736 total time=   0.1s\n",
      "[CV 4/5] END .............................C=7.5;, score=0.597 total time=   0.1s\n",
      "[CV 5/5] END .............................C=7.5;, score=0.662 total time=   0.1s\n",
      "[CV 1/5] END ............................C=7.75;, score=0.577 total time=   0.1s\n",
      "[CV 2/5] END ............................C=7.75;, score=0.597 total time=   0.1s\n",
      "[CV 3/5] END ............................C=7.75;, score=0.736 total time=   0.1s\n",
      "[CV 4/5] END ............................C=7.75;, score=0.569 total time=   0.1s\n",
      "[CV 5/5] END ............................C=7.75;, score=0.648 total time=   0.1s\n",
      "[CV 1/5] END .............................C=8.0;, score=0.606 total time=   0.1s\n",
      "[CV 2/5] END .............................C=8.0;, score=0.583 total time=   0.1s\n",
      "[CV 3/5] END .............................C=8.0;, score=0.736 total time=   0.1s\n",
      "[CV 4/5] END .............................C=8.0;, score=0.611 total time=   0.1s\n",
      "[CV 5/5] END .............................C=8.0;, score=0.648 total time=   0.1s\n",
      "[CV 1/5] END ............................C=8.25;, score=0.606 total time=   0.1s\n",
      "[CV 2/5] END ............................C=8.25;, score=0.611 total time=   0.1s\n",
      "[CV 3/5] END ............................C=8.25;, score=0.736 total time=   0.1s\n",
      "[CV 4/5] END ............................C=8.25;, score=0.569 total time=   0.1s\n",
      "[CV 5/5] END ............................C=8.25;, score=0.648 total time=   0.1s\n",
      "[CV 1/5] END .............................C=8.5;, score=0.606 total time=   0.1s\n",
      "[CV 2/5] END .............................C=8.5;, score=0.597 total time=   0.1s\n",
      "[CV 3/5] END .............................C=8.5;, score=0.722 total time=   0.1s\n",
      "[CV 4/5] END .............................C=8.5;, score=0.569 total time=   0.1s\n",
      "[CV 5/5] END .............................C=8.5;, score=0.634 total time=   0.1s\n",
      "[CV 1/5] END ............................C=8.75;, score=0.620 total time=   0.1s\n",
      "[CV 2/5] END ............................C=8.75;, score=0.583 total time=   0.1s\n",
      "[CV 3/5] END ............................C=8.75;, score=0.736 total time=   0.1s\n",
      "[CV 4/5] END ............................C=8.75;, score=0.556 total time=   0.1s\n",
      "[CV 5/5] END ............................C=8.75;, score=0.648 total time=   0.1s\n",
      "[CV 1/5] END .............................C=9.0;, score=0.577 total time=   0.1s\n",
      "[CV 2/5] END .............................C=9.0;, score=0.597 total time=   0.1s\n",
      "[CV 3/5] END .............................C=9.0;, score=0.722 total time=   0.1s\n",
      "[CV 4/5] END .............................C=9.0;, score=0.569 total time=   0.1s\n",
      "[CV 5/5] END .............................C=9.0;, score=0.648 total time=   0.1s\n",
      "[CV 1/5] END ............................C=9.25;, score=0.634 total time=   0.1s\n",
      "[CV 2/5] END ............................C=9.25;, score=0.569 total time=   0.1s\n",
      "[CV 3/5] END ............................C=9.25;, score=0.736 total time=   0.1s\n",
      "[CV 4/5] END ............................C=9.25;, score=0.583 total time=   0.1s\n",
      "[CV 5/5] END ............................C=9.25;, score=0.648 total time=   0.1s\n",
      "[CV 1/5] END .............................C=9.5;, score=0.634 total time=   0.1s\n",
      "[CV 2/5] END .............................C=9.5;, score=0.583 total time=   0.1s\n",
      "[CV 3/5] END .............................C=9.5;, score=0.722 total time=   0.1s\n",
      "[CV 4/5] END .............................C=9.5;, score=0.569 total time=   0.1s\n",
      "[CV 5/5] END .............................C=9.5;, score=0.648 total time=   0.1s\n",
      "[CV 1/5] END ............................C=9.75;, score=0.606 total time=   0.1s\n",
      "[CV 2/5] END ............................C=9.75;, score=0.583 total time=   0.1s\n",
      "[CV 3/5] END ............................C=9.75;, score=0.722 total time=   0.1s\n",
      "[CV 4/5] END ............................C=9.75;, score=0.556 total time=   0.1s\n",
      "[CV 5/5] END ............................C=9.75;, score=0.634 total time=   0.1s\n",
      "[CV 1/5] END ............................C=10.0;, score=0.634 total time=   0.1s\n",
      "[CV 2/5] END ............................C=10.0;, score=0.583 total time=   0.1s\n",
      "[CV 3/5] END ............................C=10.0;, score=0.736 total time=   0.1s\n",
      "[CV 4/5] END ............................C=10.0;, score=0.583 total time=   0.1s\n",
      "[CV 5/5] END ............................C=10.0;, score=0.634 total time=   0.1s\n",
      "best score: 0.6424882629107982\n",
      "best params: {'C': 4.75}\n"
     ]
    }
   ],
   "source": [
    "# Подберём коэффициент регуляризации.\n",
    "\n",
    "params = {'C': np.arange(0.25, 10.25, 0.25)}\n",
    "\n",
    "gs= Pipeline([\n",
    "    ('target_encoder', TargetEncoder(cols='State')),\n",
    "    ('poli', PolynomialFeatures(degree=3)),\n",
    "    ('scaler', StandardScaler()),\n",
    "    ('model', GridSearchCV(LogisticRegression(), params, scoring='recall', verbose=3))\n",
    "])\n",
    "\n",
    "gs.fit(Xtrain, ytrain)\n",
    "\n",
    "print('best score:', gs['model'].best_score_)\n",
    "print('best params:', gs['model'].best_params_)"
   ]
  },
  {
   "cell_type": "code",
   "execution_count": 251,
   "metadata": {
    "executionInfo": {
     "elapsed": 559,
     "status": "ok",
     "timestamp": 1681753773927,
     "user": {
      "displayName": "Klim Chernov",
      "userId": "01467194743770448933"
     },
     "user_tz": -180
    },
    "id": "KrSeSXwtI9BS"
   },
   "outputs": [],
   "source": [
    "p= Pipeline([\n",
    "    ('target_encoder', TargetEncoder(cols='State')),\n",
    "    ('poli', PolynomialFeatures(degree=3)),\n",
    "    ('scaler', StandardScaler()),\n",
    "    ('model', LogisticRegression(C=4.75))\n",
    "])\n",
    "\n",
    "p.fit(Xtrain, ytrain)\n",
    "ypredict = p.predict(Xtest)"
   ]
  },
  {
   "cell_type": "code",
   "execution_count": 252,
   "metadata": {
    "colab": {
     "base_uri": "https://localhost:8080/"
    },
    "executionInfo": {
     "elapsed": 450,
     "status": "ok",
     "timestamp": 1681753778246,
     "user": {
      "displayName": "Klim Chernov",
      "userId": "01467194743770448933"
     },
     "user_tz": -180
    },
    "id": "1TucKHaWI9BS",
    "outputId": "0b4f866c-00be-4254-b927-6705e0494a6e"
   },
   "outputs": [
    {
     "name": "stdout",
     "output_type": "stream",
     "text": [
      "              precision    recall  f1-score   support\n",
      "\n",
      "          -1       0.94      0.98      0.96       709\n",
      "           1       0.88      0.66      0.75       125\n",
      "\n",
      "    accuracy                           0.94       834\n",
      "   macro avg       0.91      0.82      0.86       834\n",
      "weighted avg       0.93      0.94      0.93       834\n",
      "\n"
     ]
    }
   ],
   "source": [
    "print(classification_report(ytest, ypredict))"
   ]
  },
  {
   "cell_type": "code",
   "execution_count": 237,
   "metadata": {
    "colab": {
     "base_uri": "https://localhost:8080/"
    },
    "executionInfo": {
     "elapsed": 271,
     "status": "ok",
     "timestamp": 1681751288295,
     "user": {
      "displayName": "Klim Chernov",
      "userId": "01467194743770448933"
     },
     "user_tz": -180
    },
    "id": "DuborcE4I9BT",
    "outputId": "5f06f9bf-41df-42d4-e0ce-01494caf26af"
   },
   "outputs": [
    {
     "data": {
      "text/plain": [
       "array([[698,  11],\n",
       "       [ 43,  82]])"
      ]
     },
     "execution_count": 237,
     "metadata": {},
     "output_type": "execute_result"
    }
   ],
   "source": [
    "confusion_matrix(ytest, ypredict)"
   ]
  },
  {
   "cell_type": "code",
   "execution_count": 238,
   "metadata": {
    "colab": {
     "base_uri": "https://localhost:8080/"
    },
    "executionInfo": {
     "elapsed": 1783,
     "status": "ok",
     "timestamp": 1681751300599,
     "user": {
      "displayName": "Klim Chernov",
      "userId": "01467194743770448933"
     },
     "user_tz": -180
    },
    "id": "YTgBQuyCI9BT",
    "outputId": "746cd086-ff0c-4d81-82fc-3aff5199202c"
   },
   "outputs": [
    {
     "name": "stdout",
     "output_type": "stream",
     "text": [
      "accuracy mean: 0.9267951609780696\n",
      "recall mean: 0.6583762886597938\n",
      "\n"
     ]
    },
    {
     "data": {
      "text/plain": [
       "{'fit_time': array([0.22749138, 0.20572543, 0.19743752, 0.17629218, 0.21763372]),\n",
       " 'score_time': array([0.01597548, 0.01385641, 0.01591372, 0.01416302, 0.01639271]),\n",
       " 'test_accuracy': array([0.92203898, 0.92053973, 0.92953523, 0.92942943, 0.93243243]),\n",
       " 'test_recall': array([0.64948454, 0.62886598, 0.70103093, 0.65625   , 0.65625   ])}"
      ]
     },
     "execution_count": 238,
     "metadata": {},
     "output_type": "execute_result"
    }
   ],
   "source": [
    "cv = cross_validate(p, X, y, scoring=['accuracy', 'recall'])\n",
    "print('accuracy mean:', cv['test_accuracy'].mean())\n",
    "print('recall mean:', cv['test_recall'].mean())\n",
    "print()\n",
    "cv"
   ]
  },
  {
   "cell_type": "markdown",
   "metadata": {
    "id": "HqACcDPII9BT"
   },
   "source": [
    "На кроссвалидации средний `recall` заметно повысился по сравнению с исходным датасетом: с 0.58 до 0.66. Также заметен прирост `precision` на тесте."
   ]
  },
  {
   "cell_type": "markdown",
   "metadata": {
    "id": "G-xzFpBDI9BU"
   },
   "source": [
    "##### Метод опорных векторов"
   ]
  },
  {
   "cell_type": "code",
   "execution_count": 240,
   "metadata": {
    "executionInfo": {
     "elapsed": 368,
     "status": "ok",
     "timestamp": 1681751628903,
     "user": {
      "displayName": "Klim Chernov",
      "userId": "01467194743770448933"
     },
     "user_tz": -180
    },
    "id": "_u1cw-cdI9BU"
   },
   "outputs": [],
   "source": [
    "p = Pipeline([\n",
    "    ('target_encoder', TargetEncoder(cols='State')),\n",
    "    ('poli', PolynomialFeatures(interaction_only=False, degree=3)),\n",
    "    ('scaler', StandardScaler()),\n",
    "    ('model', SVC(kernel='linear'))\n",
    "])"
   ]
  },
  {
   "cell_type": "code",
   "execution_count": 241,
   "metadata": {
    "executionInfo": {
     "elapsed": 2979,
     "status": "ok",
     "timestamp": 1681751634512,
     "user": {
      "displayName": "Klim Chernov",
      "userId": "01467194743770448933"
     },
     "user_tz": -180
    },
    "id": "89wGxqAHI9BU"
   },
   "outputs": [],
   "source": [
    "p.fit(Xtrain, ytrain)\n",
    "ypredict = p.predict(Xtest)"
   ]
  },
  {
   "cell_type": "code",
   "execution_count": 242,
   "metadata": {
    "colab": {
     "base_uri": "https://localhost:8080/"
    },
    "executionInfo": {
     "elapsed": 265,
     "status": "ok",
     "timestamp": 1681751636182,
     "user": {
      "displayName": "Klim Chernov",
      "userId": "01467194743770448933"
     },
     "user_tz": -180
    },
    "id": "eQmDVz6EI9BV",
    "outputId": "1ca86cb0-0bff-4ae9-8631-15e122a09bce"
   },
   "outputs": [
    {
     "name": "stdout",
     "output_type": "stream",
     "text": [
      "              precision    recall  f1-score   support\n",
      "\n",
      "          -1       0.94      0.98      0.96       709\n",
      "           1       0.85      0.62      0.71       125\n",
      "\n",
      "    accuracy                           0.93       834\n",
      "   macro avg       0.89      0.80      0.84       834\n",
      "weighted avg       0.92      0.93      0.92       834\n",
      "\n"
     ]
    }
   ],
   "source": [
    "print(classification_report(ytest, ypredict))"
   ]
  },
  {
   "cell_type": "code",
   "execution_count": 243,
   "metadata": {
    "colab": {
     "base_uri": "https://localhost:8080/"
    },
    "executionInfo": {
     "elapsed": 295,
     "status": "ok",
     "timestamp": 1681751644148,
     "user": {
      "displayName": "Klim Chernov",
      "userId": "01467194743770448933"
     },
     "user_tz": -180
    },
    "id": "CG1vYl3dI9BV",
    "outputId": "a4a8658d-ec15-4fd7-b54f-2bb7db95df18"
   },
   "outputs": [
    {
     "data": {
      "text/plain": [
       "array([[695,  14],\n",
       "       [ 48,  77]])"
      ]
     },
     "execution_count": 243,
     "metadata": {},
     "output_type": "execute_result"
    }
   ],
   "source": [
    "confusion_matrix(ytest, ypredict)"
   ]
  },
  {
   "cell_type": "code",
   "execution_count": 244,
   "metadata": {
    "colab": {
     "base_uri": "https://localhost:8080/"
    },
    "executionInfo": {
     "elapsed": 16553,
     "status": "ok",
     "timestamp": 1681751677221,
     "user": {
      "displayName": "Klim Chernov",
      "userId": "01467194743770448933"
     },
     "user_tz": -180
    },
    "id": "Lg3uMcg9I9BW",
    "outputId": "7296a7ab-aae2-4d83-f5f6-78f480a72f4f"
   },
   "outputs": [
    {
     "name": "stdout",
     "output_type": "stream",
     "text": [
      "accuracy mean: 0.926194560377469\n",
      "recall mean: 0.6458548109965636\n",
      "\n"
     ]
    },
    {
     "data": {
      "text/plain": [
       "{'fit_time': array([3.25793433, 2.57143068, 3.38043022, 3.46261358, 3.46323824]),\n",
       " 'score_time': array([0.02713132, 0.01886463, 0.03041387, 0.02728486, 0.02350831]),\n",
       " 'test_accuracy': array([0.92503748, 0.91604198, 0.93103448, 0.93093093, 0.92792793]),\n",
       " 'test_recall': array([0.64948454, 0.62886598, 0.71134021, 0.64583333, 0.59375   ])}"
      ]
     },
     "execution_count": 244,
     "metadata": {},
     "output_type": "execute_result"
    }
   ],
   "source": [
    "cv = cross_validate(p, X, y, scoring=['accuracy', 'recall'])\n",
    "print('accuracy mean:', cv['test_accuracy'].mean())\n",
    "print('recall mean:', cv['test_recall'].mean())\n",
    "print()\n",
    "cv"
   ]
  },
  {
   "cell_type": "code",
   "execution_count": 245,
   "metadata": {
    "colab": {
     "base_uri": "https://localhost:8080/"
    },
    "collapsed": true,
    "executionInfo": {
     "elapsed": 800526,
     "status": "ok",
     "timestamp": 1681752562374,
     "user": {
      "displayName": "Klim Chernov",
      "userId": "01467194743770448933"
     },
     "user_tz": -180
    },
    "id": "y4MSSPBnI9BW",
    "outputId": "a7c350e2-eb20-4e3c-f20f-735ac6fd74b1"
   },
   "outputs": [
    {
     "name": "stdout",
     "output_type": "stream",
     "text": [
      "Fitting 5 folds for each of 40 candidates, totalling 200 fits\n",
      "[CV 1/5] END ............................C=0.25;, score=0.451 total time=   0.5s\n",
      "[CV 2/5] END ............................C=0.25;, score=0.556 total time=   0.5s\n",
      "[CV 3/5] END ............................C=0.25;, score=0.653 total time=   0.5s\n",
      "[CV 4/5] END ............................C=0.25;, score=0.569 total time=   0.5s\n",
      "[CV 5/5] END ............................C=0.25;, score=0.606 total time=   0.7s\n",
      "[CV 1/5] END .............................C=0.5;, score=0.521 total time=   1.1s\n",
      "[CV 2/5] END .............................C=0.5;, score=0.597 total time=   0.7s\n",
      "[CV 3/5] END .............................C=0.5;, score=0.694 total time=   0.7s\n",
      "[CV 4/5] END .............................C=0.5;, score=0.569 total time=   0.7s\n",
      "[CV 5/5] END .............................C=0.5;, score=0.648 total time=   0.7s\n",
      "[CV 1/5] END ............................C=0.75;, score=0.535 total time=   1.5s\n",
      "[CV 2/5] END ............................C=0.75;, score=0.611 total time=   1.4s\n",
      "[CV 3/5] END ............................C=0.75;, score=0.708 total time=   1.1s\n",
      "[CV 4/5] END ............................C=0.75;, score=0.583 total time=   1.1s\n",
      "[CV 5/5] END ............................C=0.75;, score=0.662 total time=   1.2s\n",
      "[CV 1/5] END .............................C=1.0;, score=0.549 total time=   1.3s\n",
      "[CV 2/5] END .............................C=1.0;, score=0.625 total time=   1.0s\n",
      "[CV 3/5] END .............................C=1.0;, score=0.722 total time=   1.1s\n",
      "[CV 4/5] END .............................C=1.0;, score=0.583 total time=   1.1s\n",
      "[CV 5/5] END .............................C=1.0;, score=0.690 total time=   1.1s\n",
      "[CV 1/5] END ............................C=1.25;, score=0.549 total time=   1.4s\n",
      "[CV 2/5] END ............................C=1.25;, score=0.625 total time=   1.0s\n",
      "[CV 3/5] END ............................C=1.25;, score=0.736 total time=   1.3s\n",
      "[CV 4/5] END ............................C=1.25;, score=0.583 total time=   2.0s\n",
      "[CV 5/5] END ............................C=1.25;, score=0.662 total time=   1.8s\n",
      "[CV 1/5] END .............................C=1.5;, score=0.592 total time=   2.3s\n",
      "[CV 2/5] END .............................C=1.5;, score=0.625 total time=   1.3s\n",
      "[CV 3/5] END .............................C=1.5;, score=0.722 total time=   1.4s\n",
      "[CV 4/5] END .............................C=1.5;, score=0.611 total time=   1.9s\n",
      "[CV 5/5] END .............................C=1.5;, score=0.676 total time=   1.4s\n",
      "[CV 1/5] END ............................C=1.75;, score=0.634 total time=   1.7s\n",
      "[CV 2/5] END ............................C=1.75;, score=0.625 total time=   1.4s\n",
      "[CV 3/5] END ............................C=1.75;, score=0.722 total time=   1.5s\n",
      "[CV 4/5] END ............................C=1.75;, score=0.611 total time=   2.6s\n",
      "[CV 5/5] END ............................C=1.75;, score=0.662 total time=   2.3s\n",
      "[CV 1/5] END .............................C=2.0;, score=0.662 total time=   1.9s\n",
      "[CV 2/5] END .............................C=2.0;, score=0.625 total time=   1.5s\n",
      "[CV 3/5] END .............................C=2.0;, score=0.722 total time=   1.6s\n",
      "[CV 4/5] END .............................C=2.0;, score=0.639 total time=   1.7s\n",
      "[CV 5/5] END .............................C=2.0;, score=0.662 total time=   1.8s\n",
      "[CV 1/5] END ............................C=2.25;, score=0.676 total time=   1.8s\n",
      "[CV 2/5] END ............................C=2.25;, score=0.639 total time=   2.0s\n",
      "[CV 3/5] END ............................C=2.25;, score=0.722 total time=   2.9s\n",
      "[CV 4/5] END ............................C=2.25;, score=0.639 total time=   2.5s\n",
      "[CV 5/5] END ............................C=2.25;, score=0.662 total time=   2.3s\n",
      "[CV 1/5] END .............................C=2.5;, score=0.662 total time=   1.8s\n",
      "[CV 2/5] END .............................C=2.5;, score=0.625 total time=   1.7s\n",
      "[CV 3/5] END .............................C=2.5;, score=0.722 total time=   2.1s\n",
      "[CV 4/5] END .............................C=2.5;, score=0.639 total time=   2.7s\n",
      "[CV 5/5] END .............................C=2.5;, score=0.648 total time=   3.3s\n",
      "[CV 1/5] END ............................C=2.75;, score=0.634 total time=   2.2s\n",
      "[CV 2/5] END ............................C=2.75;, score=0.653 total time=   2.0s\n",
      "[CV 3/5] END ............................C=2.75;, score=0.722 total time=   2.2s\n",
      "[CV 4/5] END ............................C=2.75;, score=0.625 total time=   2.2s\n",
      "[CV 5/5] END ............................C=2.75;, score=0.648 total time=   2.4s\n",
      "[CV 1/5] END .............................C=3.0;, score=0.634 total time=   3.6s\n",
      "[CV 2/5] END .............................C=3.0;, score=0.639 total time=   2.9s\n",
      "[CV 3/5] END .............................C=3.0;, score=0.722 total time=   2.3s\n",
      "[CV 4/5] END .............................C=3.0;, score=0.639 total time=   2.3s\n",
      "[CV 5/5] END .............................C=3.0;, score=0.648 total time=   2.4s\n",
      "[CV 1/5] END ............................C=3.25;, score=0.648 total time=   2.7s\n",
      "[CV 2/5] END ............................C=3.25;, score=0.653 total time=   2.9s\n",
      "[CV 3/5] END ............................C=3.25;, score=0.722 total time=   3.2s\n",
      "[CV 4/5] END ............................C=3.25;, score=0.639 total time=   2.3s\n",
      "[CV 5/5] END ............................C=3.25;, score=0.648 total time=   2.5s\n",
      "[CV 1/5] END .............................C=3.5;, score=0.634 total time=   2.9s\n",
      "[CV 2/5] END .............................C=3.5;, score=0.639 total time=   2.0s\n",
      "[CV 3/5] END .............................C=3.5;, score=0.722 total time=   3.7s\n",
      "[CV 4/5] END .............................C=3.5;, score=0.639 total time=   3.4s\n",
      "[CV 5/5] END .............................C=3.5;, score=0.634 total time=   3.0s\n",
      "[CV 1/5] END ............................C=3.75;, score=0.634 total time=   3.3s\n",
      "[CV 2/5] END ............................C=3.75;, score=0.639 total time=   2.3s\n",
      "[CV 3/5] END ............................C=3.75;, score=0.722 total time=   4.2s\n",
      "[CV 4/5] END ............................C=3.75;, score=0.639 total time=   3.4s\n",
      "[CV 5/5] END ............................C=3.75;, score=0.634 total time=   3.2s\n",
      "[CV 1/5] END .............................C=4.0;, score=0.620 total time=   3.2s\n",
      "[CV 2/5] END .............................C=4.0;, score=0.639 total time=   2.4s\n",
      "[CV 3/5] END .............................C=4.0;, score=0.750 total time=   4.9s\n",
      "[CV 4/5] END .............................C=4.0;, score=0.639 total time=   3.2s\n",
      "[CV 5/5] END .............................C=4.0;, score=0.606 total time=   3.1s\n",
      "[CV 1/5] END ............................C=4.25;, score=0.620 total time=   3.5s\n",
      "[CV 2/5] END ............................C=4.25;, score=0.639 total time=   2.9s\n",
      "[CV 3/5] END ............................C=4.25;, score=0.750 total time=   5.1s\n",
      "[CV 4/5] END ............................C=4.25;, score=0.653 total time=   2.9s\n",
      "[CV 5/5] END ............................C=4.25;, score=0.606 total time=   3.0s\n",
      "[CV 1/5] END .............................C=4.5;, score=0.606 total time=   3.7s\n",
      "[CV 2/5] END .............................C=4.5;, score=0.653 total time=   4.0s\n",
      "[CV 3/5] END .............................C=4.5;, score=0.750 total time=   4.6s\n",
      "[CV 4/5] END .............................C=4.5;, score=0.653 total time=   2.8s\n",
      "[CV 5/5] END .............................C=4.5;, score=0.606 total time=   3.0s\n",
      "[CV 1/5] END ............................C=4.75;, score=0.606 total time=   5.0s\n",
      "[CV 2/5] END ............................C=4.75;, score=0.653 total time=   4.0s\n",
      "[CV 3/5] END ............................C=4.75;, score=0.750 total time=   4.4s\n",
      "[CV 4/5] END ............................C=4.75;, score=0.653 total time=   2.9s\n",
      "[CV 5/5] END ............................C=4.75;, score=0.606 total time=   3.6s\n",
      "[CV 1/5] END .............................C=5.0;, score=0.620 total time=   5.4s\n",
      "[CV 2/5] END .............................C=5.0;, score=0.653 total time=   3.2s\n",
      "[CV 3/5] END .............................C=5.0;, score=0.750 total time=   4.1s\n",
      "[CV 4/5] END .............................C=5.0;, score=0.639 total time=   3.9s\n",
      "[CV 5/5] END .............................C=5.0;, score=0.606 total time=   4.2s\n",
      "[CV 1/5] END ............................C=5.25;, score=0.620 total time=   4.6s\n",
      "[CV 2/5] END ............................C=5.25;, score=0.653 total time=   3.5s\n",
      "[CV 3/5] END ............................C=5.25;, score=0.750 total time=   5.5s\n",
      "[CV 4/5] END ............................C=5.25;, score=0.639 total time=   4.1s\n",
      "[CV 5/5] END ............................C=5.25;, score=0.606 total time=   3.4s\n",
      "[CV 1/5] END .............................C=5.5;, score=0.648 total time=   5.4s\n",
      "[CV 2/5] END .............................C=5.5;, score=0.653 total time=   4.9s\n",
      "[CV 3/5] END .............................C=5.5;, score=0.736 total time=   3.9s\n",
      "[CV 4/5] END .............................C=5.5;, score=0.653 total time=   3.4s\n",
      "[CV 5/5] END .............................C=5.5;, score=0.606 total time=   4.2s\n",
      "[CV 1/5] END ............................C=5.75;, score=0.648 total time=   6.3s\n",
      "[CV 2/5] END ............................C=5.75;, score=0.653 total time=   3.6s\n",
      "[CV 3/5] END ............................C=5.75;, score=0.736 total time=   3.9s\n",
      "[CV 4/5] END ............................C=5.75;, score=0.653 total time=   5.2s\n",
      "[CV 5/5] END ............................C=5.75;, score=0.606 total time=   4.5s\n",
      "[CV 1/5] END .............................C=6.0;, score=0.648 total time=   5.0s\n",
      "[CV 2/5] END .............................C=6.0;, score=0.653 total time=   4.6s\n",
      "[CV 3/5] END .............................C=6.0;, score=0.736 total time=   5.0s\n",
      "[CV 4/5] END .............................C=6.0;, score=0.653 total time=   3.8s\n",
      "[CV 5/5] END .............................C=6.0;, score=0.606 total time=   3.8s\n",
      "[CV 1/5] END ............................C=6.25;, score=0.662 total time=   7.3s\n",
      "[CV 2/5] END ............................C=6.25;, score=0.653 total time=   3.4s\n",
      "[CV 3/5] END ............................C=6.25;, score=0.736 total time=   4.4s\n",
      "[CV 4/5] END ............................C=6.25;, score=0.653 total time=   4.8s\n",
      "[CV 5/5] END ............................C=6.25;, score=0.606 total time=   4.5s\n",
      "[CV 1/5] END .............................C=6.5;, score=0.662 total time=   5.8s\n",
      "[CV 2/5] END .............................C=6.5;, score=0.653 total time=   3.9s\n",
      "[CV 3/5] END .............................C=6.5;, score=0.736 total time=   5.9s\n",
      "[CV 4/5] END .............................C=6.5;, score=0.653 total time=   3.4s\n",
      "[CV 5/5] END .............................C=6.5;, score=0.606 total time=   3.6s\n",
      "[CV 1/5] END ............................C=6.75;, score=0.662 total time=   7.4s\n",
      "[CV 2/5] END ............................C=6.75;, score=0.653 total time=   3.7s\n",
      "[CV 3/5] END ............................C=6.75;, score=0.736 total time=   4.6s\n",
      "[CV 4/5] END ............................C=6.75;, score=0.653 total time=   4.9s\n",
      "[CV 5/5] END ............................C=6.75;, score=0.606 total time=   4.7s\n",
      "[CV 1/5] END .............................C=7.0;, score=0.648 total time=   5.5s\n",
      "[CV 2/5] END .............................C=7.0;, score=0.653 total time=   4.2s\n",
      "[CV 3/5] END .............................C=7.0;, score=0.736 total time=   6.7s\n",
      "[CV 4/5] END .............................C=7.0;, score=0.653 total time=   4.2s\n",
      "[CV 5/5] END .............................C=7.0;, score=0.606 total time=   4.3s\n",
      "[CV 1/5] END ............................C=7.25;, score=0.648 total time=   7.5s\n",
      "[CV 2/5] END ............................C=7.25;, score=0.653 total time=   3.5s\n",
      "[CV 3/5] END ............................C=7.25;, score=0.736 total time=   5.9s\n",
      "[CV 4/5] END ............................C=7.25;, score=0.639 total time=   6.0s\n",
      "[CV 5/5] END ............................C=7.25;, score=0.606 total time=   4.7s\n",
      "[CV 1/5] END .............................C=7.5;, score=0.648 total time=   6.3s\n",
      "[CV 2/5] END .............................C=7.5;, score=0.639 total time=   4.9s\n",
      "[CV 3/5] END .............................C=7.5;, score=0.736 total time=   5.5s\n",
      "[CV 4/5] END .............................C=7.5;, score=0.653 total time=   5.6s\n",
      "[CV 5/5] END .............................C=7.5;, score=0.606 total time=   6.1s\n",
      "[CV 1/5] END ............................C=7.75;, score=0.648 total time=   5.9s\n",
      "[CV 2/5] END ............................C=7.75;, score=0.639 total time=   5.2s\n",
      "[CV 3/5] END ............................C=7.75;, score=0.736 total time=   6.5s\n",
      "[CV 4/5] END ............................C=7.75;, score=0.653 total time=   5.1s\n",
      "[CV 5/5] END ............................C=7.75;, score=0.592 total time=   7.2s\n",
      "[CV 1/5] END .............................C=8.0;, score=0.648 total time=   6.0s\n",
      "[CV 2/5] END .............................C=8.0;, score=0.639 total time=   3.7s\n",
      "[CV 3/5] END .............................C=8.0;, score=0.736 total time=   7.4s\n",
      "[CV 4/5] END .............................C=8.0;, score=0.653 total time=   5.2s\n",
      "[CV 5/5] END .............................C=8.0;, score=0.592 total time=   7.0s\n",
      "[CV 1/5] END ............................C=8.25;, score=0.648 total time=   6.9s\n",
      "[CV 2/5] END ............................C=8.25;, score=0.639 total time=   3.8s\n",
      "[CV 3/5] END ............................C=8.25;, score=0.736 total time=   7.4s\n",
      "[CV 4/5] END ............................C=8.25;, score=0.653 total time=   5.4s\n",
      "[CV 5/5] END ............................C=8.25;, score=0.606 total time=   6.3s\n",
      "[CV 1/5] END .............................C=8.5;, score=0.648 total time=   7.7s\n",
      "[CV 2/5] END .............................C=8.5;, score=0.625 total time=   3.9s\n",
      "[CV 3/5] END .............................C=8.5;, score=0.736 total time=   7.4s\n",
      "[CV 4/5] END .............................C=8.5;, score=0.667 total time=   5.8s\n",
      "[CV 5/5] END .............................C=8.5;, score=0.606 total time=   6.1s\n",
      "[CV 1/5] END ............................C=8.75;, score=0.648 total time=   8.2s\n",
      "[CV 2/5] END ............................C=8.75;, score=0.625 total time=   3.7s\n",
      "[CV 3/5] END ............................C=8.75;, score=0.736 total time=   8.0s\n",
      "[CV 4/5] END ............................C=8.75;, score=0.667 total time=   6.1s\n",
      "[CV 5/5] END ............................C=8.75;, score=0.606 total time=   5.5s\n",
      "[CV 1/5] END .............................C=9.0;, score=0.648 total time=   8.5s\n",
      "[CV 2/5] END .............................C=9.0;, score=0.625 total time=   3.6s\n",
      "[CV 3/5] END .............................C=9.0;, score=0.736 total time=   8.9s\n",
      "[CV 4/5] END .............................C=9.0;, score=0.667 total time=   6.3s\n",
      "[CV 5/5] END .............................C=9.0;, score=0.606 total time=   5.2s\n",
      "[CV 1/5] END ............................C=9.25;, score=0.648 total time=   8.0s\n",
      "[CV 2/5] END ............................C=9.25;, score=0.625 total time=   3.8s\n",
      "[CV 3/5] END ............................C=9.25;, score=0.736 total time=   9.2s\n",
      "[CV 4/5] END ............................C=9.25;, score=0.667 total time=   6.4s\n",
      "[CV 5/5] END ............................C=9.25;, score=0.606 total time=   5.2s\n",
      "[CV 1/5] END .............................C=9.5;, score=0.634 total time=   8.0s\n",
      "[CV 2/5] END .............................C=9.5;, score=0.639 total time=   3.8s\n",
      "[CV 3/5] END .............................C=9.5;, score=0.736 total time=   8.9s\n",
      "[CV 4/5] END .............................C=9.5;, score=0.653 total time=   6.5s\n",
      "[CV 5/5] END .............................C=9.5;, score=0.606 total time=   5.7s\n",
      "[CV 1/5] END ............................C=9.75;, score=0.634 total time=   7.8s\n",
      "[CV 2/5] END ............................C=9.75;, score=0.639 total time=   3.9s\n",
      "[CV 3/5] END ............................C=9.75;, score=0.736 total time=   8.7s\n",
      "[CV 4/5] END ............................C=9.75;, score=0.653 total time=   6.4s\n",
      "[CV 5/5] END ............................C=9.75;, score=0.606 total time=   6.0s\n",
      "[CV 1/5] END ............................C=10.0;, score=0.634 total time=   7.2s\n",
      "[CV 2/5] END ............................C=10.0;, score=0.639 total time=   4.3s\n",
      "[CV 3/5] END ............................C=10.0;, score=0.736 total time=   8.2s\n",
      "[CV 4/5] END ............................C=10.0;, score=0.653 total time=   6.2s\n",
      "[CV 5/5] END ............................C=10.0;, score=0.606 total time=   6.3s\n",
      "best score: 0.6676056338028169\n",
      "best params: {'C': 2.25}\n"
     ]
    }
   ],
   "source": [
    "# Подберём коэффициент регуляризации.\n",
    "\n",
    "params = {'C': np.arange(0.25, 10.25, 0.25)}\n",
    "\n",
    "gs= Pipeline([\n",
    "    ('target_encoder', TargetEncoder(cols='State')),\n",
    "    ('poli', PolynomialFeatures(degree=3)),\n",
    "    ('scaler', StandardScaler()),\n",
    "    ('model', GridSearchCV(SVC(kernel='linear'), params, scoring='recall', verbose=3))\n",
    "])\n",
    "\n",
    "gs.fit(Xtrain, ytrain)\n",
    "\n",
    "print('best score:', gs['model'].best_score_)\n",
    "print('best params:', gs['model'].best_params_)"
   ]
  },
  {
   "cell_type": "code",
   "execution_count": 247,
   "metadata": {
    "executionInfo": {
     "elapsed": 7160,
     "status": "ok",
     "timestamp": 1681752889244,
     "user": {
      "displayName": "Klim Chernov",
      "userId": "01467194743770448933"
     },
     "user_tz": -180
    },
    "id": "RgH14cjYI9BX"
   },
   "outputs": [],
   "source": [
    "p= Pipeline([\n",
    "    ('target_encoder', TargetEncoder(cols='State')),\n",
    "    ('poli', PolynomialFeatures(degree=3)),\n",
    "    ('scaler', StandardScaler()),\n",
    "    ('model', SVC(kernel='linear', C=2.25))\n",
    "])\n",
    "\n",
    "p.fit(Xtrain, ytrain)\n",
    "ypredict = p.predict(Xtest)"
   ]
  },
  {
   "cell_type": "code",
   "execution_count": 248,
   "metadata": {
    "colab": {
     "base_uri": "https://localhost:8080/"
    },
    "executionInfo": {
     "elapsed": 298,
     "status": "ok",
     "timestamp": 1681752909217,
     "user": {
      "displayName": "Klim Chernov",
      "userId": "01467194743770448933"
     },
     "user_tz": -180
    },
    "id": "VQKCIdLYI9BX",
    "outputId": "20f77e58-8d88-4b44-c272-da3a76de6e26"
   },
   "outputs": [
    {
     "name": "stdout",
     "output_type": "stream",
     "text": [
      "              precision    recall  f1-score   support\n",
      "\n",
      "          -1       0.94      0.98      0.96       709\n",
      "           1       0.85      0.63      0.72       125\n",
      "\n",
      "    accuracy                           0.93       834\n",
      "   macro avg       0.89      0.81      0.84       834\n",
      "weighted avg       0.92      0.93      0.92       834\n",
      "\n"
     ]
    }
   ],
   "source": [
    "print(classification_report(ytest, ypredict))"
   ]
  },
  {
   "cell_type": "code",
   "execution_count": 249,
   "metadata": {
    "colab": {
     "base_uri": "https://localhost:8080/"
    },
    "executionInfo": {
     "elapsed": 270,
     "status": "ok",
     "timestamp": 1681752943346,
     "user": {
      "displayName": "Klim Chernov",
      "userId": "01467194743770448933"
     },
     "user_tz": -180
    },
    "id": "15Em1sJJI9BX",
    "outputId": "e5f45f84-825c-41b2-a5d6-1e9d1b38004f"
   },
   "outputs": [
    {
     "data": {
      "text/plain": [
       "array([[695,  14],\n",
       "       [ 46,  79]])"
      ]
     },
     "execution_count": 249,
     "metadata": {},
     "output_type": "execute_result"
    }
   ],
   "source": [
    "confusion_matrix(ytest, ypredict)"
   ]
  },
  {
   "cell_type": "code",
   "execution_count": 250,
   "metadata": {
    "colab": {
     "base_uri": "https://localhost:8080/"
    },
    "executionInfo": {
     "elapsed": 29854,
     "status": "ok",
     "timestamp": 1681752981771,
     "user": {
      "displayName": "Klim Chernov",
      "userId": "01467194743770448933"
     },
     "user_tz": -180
    },
    "id": "ycsm2zavI9BY",
    "outputId": "33eef8ab-7787-461e-bddc-4069216406b4"
   },
   "outputs": [
    {
     "name": "stdout",
     "output_type": "stream",
     "text": [
      "accuracy mean: 0.9267947107527318\n",
      "recall mean: 0.6541881443298969\n",
      "\n"
     ]
    },
    {
     "data": {
      "text/plain": [
       "{'fit_time': array([6.61715627, 5.1541543 , 5.36417866, 5.37709332, 6.71777391]),\n",
       " 'score_time': array([0.03035927, 0.0183332 , 0.01934671, 0.04207802, 0.02329206]),\n",
       " 'test_accuracy': array([0.92203898, 0.92203898, 0.92953523, 0.93243243, 0.92792793]),\n",
       " 'test_recall': array([0.63917526, 0.62886598, 0.72164948, 0.65625   , 0.625     ])}"
      ]
     },
     "execution_count": 250,
     "metadata": {},
     "output_type": "execute_result"
    }
   ],
   "source": [
    "cv = cross_validate(p, X, y, scoring=['accuracy', 'recall'])\n",
    "print('accuracy mean:', cv['test_accuracy'].mean())\n",
    "print('recall mean:', cv['test_recall'].mean())\n",
    "print()\n",
    "cv"
   ]
  },
  {
   "cell_type": "markdown",
   "metadata": {
    "id": "p1rF5Aj7I9Bb"
   },
   "source": [
    "Получилось немного хуже, чем у логистической регрессии."
   ]
  },
  {
   "cell_type": "markdown",
   "metadata": {
    "id": "DlmKzu9KTXNr"
   },
   "source": [
    "## E) Отчёт"
   ]
  },
  {
   "cell_type": "markdown",
   "metadata": {
    "id": "cbkPWgx5U67H"
   },
   "source": [
    "Лучший результат дал следующий пайплайн:\n",
    "1. Удаление признаков `Voice mail plan`, `Total day charge`, `Total eve charge`, `Total night charge`, `Total intl charge`, `Total eve calls`, `Total night calls`, `Area code`.\n",
    "2. Кодировка `State` с помощью Target Encoding.\n",
    "3. Добавление полиномов степеней 2 и 3.\n",
    "4. Логистическая регрессия с коэффициентом регуляризации C = 4.75"
   ]
  },
  {
   "cell_type": "code",
   "execution_count": 262,
   "metadata": {
    "colab": {
     "base_uri": "https://localhost:8080/"
    },
    "executionInfo": {
     "elapsed": 1255,
     "status": "ok",
     "timestamp": 1681754172765,
     "user": {
      "displayName": "Klim Chernov",
      "userId": "01467194743770448933"
     },
     "user_tz": -180
    },
    "id": "OePNuX2W9-tQ",
    "outputId": "7d53757f-78f2-4002-bbbc-a0b1e9934d50"
   },
   "outputs": [
    {
     "name": "stdout",
     "output_type": "stream",
     "text": [
      "accuracy mean: 0.927\n",
      "precision mean: 0.802\n",
      "recall mean: 0.658\n",
      "f1 mean: 0.723\n",
      "roc_auc mean: 0.894\n"
     ]
    }
   ],
   "source": [
    "# Метрики\n",
    "\n",
    "cv = cross_validate(p, X, y, scoring=['accuracy', 'precision', 'recall', 'f1', 'roc_auc'])\n",
    "print('accuracy mean:', round(cv['test_accuracy'].mean(), 3))\n",
    "print('precision mean:', round(cv['test_precision'].mean(), 3))\n",
    "print('recall mean:', round(cv['test_recall'].mean(), 3))\n",
    "print('f1 mean:', round(cv['test_f1'].mean(), 3))\n",
    "print('roc_auc mean:', round(cv['test_roc_auc'].mean(), 3))"
   ]
  },
  {
   "cell_type": "markdown",
   "metadata": {
    "id": "h5dzm0X2U67J"
   },
   "source": [
    "## Часть 2. Оценка качества моделей классификации (6 баллов)."
   ]
  },
  {
   "cell_type": "markdown",
   "metadata": {
    "id": "ClOb4wJMU67L"
   },
   "source": [
    "**Задание 0 (1 балл)**. Закончите определения, начинающиеся так:\n",
    "\n",
    "    * accuracy - это доля правильных ответов среди всех предсказаний ((TP + TN) / (TP + TN + FP + FN)).\n",
    "    \n",
    "    * точность (precision) - это доля правильных ответов среди всех положительных предсказаний (TP / (TP + FP)).\n",
    "    Смысл - доля правильных положительных предсказаний.\n",
    "    \n",
    "    * полнота (recall) - это доля правильных ответов среди всех предсказаний относительно настоящего положительного класса\n",
    "    (TP / (TP + FN)). То же, что и TPR. Смысл - доля пойманных положительных объектов.\n",
    "    \n",
    "    * TPR - это доля правильных ответов среди всех предсказаний относительно настоящего положительного класса\n",
    "    (TP / (TP + FN)). То же, что и recall.\n",
    "    \n",
    "    \n",
    "Продолжите определения прямо в этой ячейке."
   ]
  },
  {
   "cell_type": "markdown",
   "metadata": {
    "id": "n1TgBsIfU67N"
   },
   "source": [
    "_______________________________________________________________________________________________"
   ]
  },
  {
   "cell_type": "markdown",
   "metadata": {
    "id": "ocWxec5VU67O"
   },
   "source": [
    "В этой части вы будете работать с данными в задаче скоринга. За работу с этими данными можно получить **5 баллов.**\n",
    "\n",
    "* Колонки 0, 1, ..., 13 - анонимизированные характеристики клиентов (некоторые числовые, некоторые категориальные). \n",
    "* Target - целевая переменная: 1 - выдать кредит, 0 - не выдать кредит.\n",
    "\n",
    "На этих данных было обучено три различных алгоритма классификации и получены предсказания:\n",
    "* pred1_probs - предсказанные вероятности положительного класса, полученные алгоритмом 1.\n",
    "* pred1_classes - предсказанные алгоритмом 1 классы\n",
    "* pred2_probs, pred2_classes, pred3_probs, pred3_classes - аналогичные величины для алгоритмов 2 и 3\n",
    "\n",
    "Наша задача - оценить качество каждого из трех алгоритмов и разобраться, какой из алгоритмов лучше всего работает в данной задаче."
   ]
  },
  {
   "cell_type": "code",
   "execution_count": 133,
   "metadata": {
    "colab": {
     "base_uri": "https://localhost:8080/",
     "height": 236
    },
    "executionInfo": {
     "elapsed": 307,
     "status": "ok",
     "timestamp": 1681822207120,
     "user": {
      "displayName": "Klim Chernov",
      "userId": "01467194743770448933"
     },
     "user_tz": -180
    },
    "id": "pmzlQ505U67Q",
    "outputId": "228d1966-3744-4e67-ec88-0506156050f5"
   },
   "outputs": [
    {
     "data": {
      "text/html": [
       "\n",
       "  <div id=\"df-84a3970d-e636-403d-89c3-33667257ec01\">\n",
       "    <div class=\"colab-df-container\">\n",
       "      <div>\n",
       "<style scoped>\n",
       "    .dataframe tbody tr th:only-of-type {\n",
       "        vertical-align: middle;\n",
       "    }\n",
       "\n",
       "    .dataframe tbody tr th {\n",
       "        vertical-align: top;\n",
       "    }\n",
       "\n",
       "    .dataframe thead th {\n",
       "        text-align: right;\n",
       "    }\n",
       "</style>\n",
       "<table border=\"1\" class=\"dataframe\">\n",
       "  <thead>\n",
       "    <tr style=\"text-align: right;\">\n",
       "      <th></th>\n",
       "      <th>0</th>\n",
       "      <th>1</th>\n",
       "      <th>2</th>\n",
       "      <th>3</th>\n",
       "      <th>4</th>\n",
       "      <th>5</th>\n",
       "      <th>6</th>\n",
       "      <th>7</th>\n",
       "      <th>8</th>\n",
       "      <th>9</th>\n",
       "      <th>...</th>\n",
       "      <th>11</th>\n",
       "      <th>12</th>\n",
       "      <th>13</th>\n",
       "      <th>target</th>\n",
       "      <th>pred1_probs</th>\n",
       "      <th>pred1_classes</th>\n",
       "      <th>pred2_probs</th>\n",
       "      <th>pred2_classes</th>\n",
       "      <th>pred3_probs</th>\n",
       "      <th>pred3_classes</th>\n",
       "    </tr>\n",
       "  </thead>\n",
       "  <tbody>\n",
       "    <tr>\n",
       "      <th>0</th>\n",
       "      <td>1</td>\n",
       "      <td>22.08</td>\n",
       "      <td>11.46</td>\n",
       "      <td>2</td>\n",
       "      <td>4</td>\n",
       "      <td>4</td>\n",
       "      <td>1.585</td>\n",
       "      <td>0</td>\n",
       "      <td>0</td>\n",
       "      <td>0</td>\n",
       "      <td>...</td>\n",
       "      <td>2</td>\n",
       "      <td>100</td>\n",
       "      <td>1213</td>\n",
       "      <td>0</td>\n",
       "      <td>0.506772</td>\n",
       "      <td>1</td>\n",
       "      <td>0.610853</td>\n",
       "      <td>1</td>\n",
       "      <td>0.375494</td>\n",
       "      <td>0</td>\n",
       "    </tr>\n",
       "    <tr>\n",
       "      <th>1</th>\n",
       "      <td>0</td>\n",
       "      <td>22.67</td>\n",
       "      <td>7.00</td>\n",
       "      <td>2</td>\n",
       "      <td>8</td>\n",
       "      <td>4</td>\n",
       "      <td>0.165</td>\n",
       "      <td>0</td>\n",
       "      <td>0</td>\n",
       "      <td>0</td>\n",
       "      <td>...</td>\n",
       "      <td>2</td>\n",
       "      <td>160</td>\n",
       "      <td>1</td>\n",
       "      <td>0</td>\n",
       "      <td>0.358519</td>\n",
       "      <td>0</td>\n",
       "      <td>0.185941</td>\n",
       "      <td>0</td>\n",
       "      <td>0.200975</td>\n",
       "      <td>0</td>\n",
       "    </tr>\n",
       "    <tr>\n",
       "      <th>2</th>\n",
       "      <td>0</td>\n",
       "      <td>29.58</td>\n",
       "      <td>1.75</td>\n",
       "      <td>1</td>\n",
       "      <td>4</td>\n",
       "      <td>4</td>\n",
       "      <td>1.250</td>\n",
       "      <td>0</td>\n",
       "      <td>0</td>\n",
       "      <td>0</td>\n",
       "      <td>...</td>\n",
       "      <td>2</td>\n",
       "      <td>280</td>\n",
       "      <td>1</td>\n",
       "      <td>0</td>\n",
       "      <td>0.358753</td>\n",
       "      <td>0</td>\n",
       "      <td>0.523009</td>\n",
       "      <td>1</td>\n",
       "      <td>0.160465</td>\n",
       "      <td>0</td>\n",
       "    </tr>\n",
       "    <tr>\n",
       "      <th>3</th>\n",
       "      <td>0</td>\n",
       "      <td>21.67</td>\n",
       "      <td>11.50</td>\n",
       "      <td>1</td>\n",
       "      <td>5</td>\n",
       "      <td>3</td>\n",
       "      <td>0.000</td>\n",
       "      <td>1</td>\n",
       "      <td>1</td>\n",
       "      <td>11</td>\n",
       "      <td>...</td>\n",
       "      <td>2</td>\n",
       "      <td>0</td>\n",
       "      <td>1</td>\n",
       "      <td>1</td>\n",
       "      <td>0.408729</td>\n",
       "      <td>0</td>\n",
       "      <td>0.185941</td>\n",
       "      <td>0</td>\n",
       "      <td>0.357771</td>\n",
       "      <td>0</td>\n",
       "    </tr>\n",
       "    <tr>\n",
       "      <th>4</th>\n",
       "      <td>1</td>\n",
       "      <td>20.17</td>\n",
       "      <td>8.17</td>\n",
       "      <td>2</td>\n",
       "      <td>6</td>\n",
       "      <td>4</td>\n",
       "      <td>1.960</td>\n",
       "      <td>1</td>\n",
       "      <td>1</td>\n",
       "      <td>14</td>\n",
       "      <td>...</td>\n",
       "      <td>2</td>\n",
       "      <td>60</td>\n",
       "      <td>159</td>\n",
       "      <td>1</td>\n",
       "      <td>0.480904</td>\n",
       "      <td>0</td>\n",
       "      <td>0.526646</td>\n",
       "      <td>1</td>\n",
       "      <td>0.260169</td>\n",
       "      <td>0</td>\n",
       "    </tr>\n",
       "  </tbody>\n",
       "</table>\n",
       "<p>5 rows × 21 columns</p>\n",
       "</div>\n",
       "      <button class=\"colab-df-convert\" onclick=\"convertToInteractive('df-84a3970d-e636-403d-89c3-33667257ec01')\"\n",
       "              title=\"Convert this dataframe to an interactive table.\"\n",
       "              style=\"display:none;\">\n",
       "        \n",
       "  <svg xmlns=\"http://www.w3.org/2000/svg\" height=\"24px\"viewBox=\"0 0 24 24\"\n",
       "       width=\"24px\">\n",
       "    <path d=\"M0 0h24v24H0V0z\" fill=\"none\"/>\n",
       "    <path d=\"M18.56 5.44l.94 2.06.94-2.06 2.06-.94-2.06-.94-.94-2.06-.94 2.06-2.06.94zm-11 1L8.5 8.5l.94-2.06 2.06-.94-2.06-.94L8.5 2.5l-.94 2.06-2.06.94zm10 10l.94 2.06.94-2.06 2.06-.94-2.06-.94-.94-2.06-.94 2.06-2.06.94z\"/><path d=\"M17.41 7.96l-1.37-1.37c-.4-.4-.92-.59-1.43-.59-.52 0-1.04.2-1.43.59L10.3 9.45l-7.72 7.72c-.78.78-.78 2.05 0 2.83L4 21.41c.39.39.9.59 1.41.59.51 0 1.02-.2 1.41-.59l7.78-7.78 2.81-2.81c.8-.78.8-2.07 0-2.86zM5.41 20L4 18.59l7.72-7.72 1.47 1.35L5.41 20z\"/>\n",
       "  </svg>\n",
       "      </button>\n",
       "      \n",
       "  <style>\n",
       "    .colab-df-container {\n",
       "      display:flex;\n",
       "      flex-wrap:wrap;\n",
       "      gap: 12px;\n",
       "    }\n",
       "\n",
       "    .colab-df-convert {\n",
       "      background-color: #E8F0FE;\n",
       "      border: none;\n",
       "      border-radius: 50%;\n",
       "      cursor: pointer;\n",
       "      display: none;\n",
       "      fill: #1967D2;\n",
       "      height: 32px;\n",
       "      padding: 0 0 0 0;\n",
       "      width: 32px;\n",
       "    }\n",
       "\n",
       "    .colab-df-convert:hover {\n",
       "      background-color: #E2EBFA;\n",
       "      box-shadow: 0px 1px 2px rgba(60, 64, 67, 0.3), 0px 1px 3px 1px rgba(60, 64, 67, 0.15);\n",
       "      fill: #174EA6;\n",
       "    }\n",
       "\n",
       "    [theme=dark] .colab-df-convert {\n",
       "      background-color: #3B4455;\n",
       "      fill: #D2E3FC;\n",
       "    }\n",
       "\n",
       "    [theme=dark] .colab-df-convert:hover {\n",
       "      background-color: #434B5C;\n",
       "      box-shadow: 0px 1px 3px 1px rgba(0, 0, 0, 0.15);\n",
       "      filter: drop-shadow(0px 1px 2px rgba(0, 0, 0, 0.3));\n",
       "      fill: #FFFFFF;\n",
       "    }\n",
       "  </style>\n",
       "\n",
       "      <script>\n",
       "        const buttonEl =\n",
       "          document.querySelector('#df-84a3970d-e636-403d-89c3-33667257ec01 button.colab-df-convert');\n",
       "        buttonEl.style.display =\n",
       "          google.colab.kernel.accessAllowed ? 'block' : 'none';\n",
       "\n",
       "        async function convertToInteractive(key) {\n",
       "          const element = document.querySelector('#df-84a3970d-e636-403d-89c3-33667257ec01');\n",
       "          const dataTable =\n",
       "            await google.colab.kernel.invokeFunction('convertToInteractive',\n",
       "                                                     [key], {});\n",
       "          if (!dataTable) return;\n",
       "\n",
       "          const docLinkHtml = 'Like what you see? Visit the ' +\n",
       "            '<a target=\"_blank\" href=https://colab.research.google.com/notebooks/data_table.ipynb>data table notebook</a>'\n",
       "            + ' to learn more about interactive tables.';\n",
       "          element.innerHTML = '';\n",
       "          dataTable['output_type'] = 'display_data';\n",
       "          await google.colab.output.renderOutput(dataTable, element);\n",
       "          const docLink = document.createElement('div');\n",
       "          docLink.innerHTML = docLinkHtml;\n",
       "          element.appendChild(docLink);\n",
       "        }\n",
       "      </script>\n",
       "    </div>\n",
       "  </div>\n",
       "  "
      ],
      "text/plain": [
       "   0      1      2  3  4  5      6  7  8   9  ...  11   12    13  target  \\\n",
       "0  1  22.08  11.46  2  4  4  1.585  0  0   0  ...   2  100  1213       0   \n",
       "1  0  22.67   7.00  2  8  4  0.165  0  0   0  ...   2  160     1       0   \n",
       "2  0  29.58   1.75  1  4  4  1.250  0  0   0  ...   2  280     1       0   \n",
       "3  0  21.67  11.50  1  5  3  0.000  1  1  11  ...   2    0     1       1   \n",
       "4  1  20.17   8.17  2  6  4  1.960  1  1  14  ...   2   60   159       1   \n",
       "\n",
       "   pred1_probs  pred1_classes  pred2_probs  pred2_classes  pred3_probs  \\\n",
       "0     0.506772              1     0.610853              1     0.375494   \n",
       "1     0.358519              0     0.185941              0     0.200975   \n",
       "2     0.358753              0     0.523009              1     0.160465   \n",
       "3     0.408729              0     0.185941              0     0.357771   \n",
       "4     0.480904              0     0.526646              1     0.260169   \n",
       "\n",
       "   pred3_classes  \n",
       "0              0  \n",
       "1              0  \n",
       "2              0  \n",
       "3              0  \n",
       "4              0  \n",
       "\n",
       "[5 rows x 21 columns]"
      ]
     },
     "execution_count": 133,
     "metadata": {},
     "output_type": "execute_result"
    }
   ],
   "source": [
    "df = pd.read_csv(\"/content/drive/MyDrive/ML_HW/Hometask4_v2/credit_scoring_example1.csv\")\n",
    "df.head()"
   ]
  },
  {
   "cell_type": "code",
   "execution_count": 134,
   "metadata": {
    "colab": {
     "base_uri": "https://localhost:8080/"
    },
    "executionInfo": {
     "elapsed": 287,
     "status": "ok",
     "timestamp": 1681822209112,
     "user": {
      "displayName": "Klim Chernov",
      "userId": "01467194743770448933"
     },
     "user_tz": -180
    },
    "id": "Lh3t5j0cU67R",
    "outputId": "56825c18-819d-4d34-bf59-8f73d543b24d"
   },
   "outputs": [
    {
     "data": {
      "text/plain": [
       "(689, 21)"
      ]
     },
     "execution_count": 134,
     "metadata": {},
     "output_type": "execute_result"
    }
   ],
   "source": [
    "df.shape"
   ]
  },
  {
   "cell_type": "markdown",
   "metadata": {
    "id": "2cd16Xr1U67T"
   },
   "source": [
    "**Задание 1.** Проверьте target на сбалансированность по классам, сделайте вывод."
   ]
  },
  {
   "cell_type": "code",
   "execution_count": 135,
   "metadata": {
    "colab": {
     "base_uri": "https://localhost:8080/"
    },
    "executionInfo": {
     "elapsed": 296,
     "status": "ok",
     "timestamp": 1681822211185,
     "user": {
      "displayName": "Klim Chernov",
      "userId": "01467194743770448933"
     },
     "user_tz": -180
    },
    "id": "X6Ud4piSU67U",
    "outputId": "16d39b40-09ca-4c5e-ed70-75a1a62b422a"
   },
   "outputs": [
    {
     "data": {
      "text/plain": [
       "0    382\n",
       "1    307\n",
       "Name: target, dtype: int64"
      ]
     },
     "execution_count": 135,
     "metadata": {},
     "output_type": "execute_result"
    }
   ],
   "source": [
    "df.target.value_counts()"
   ]
  },
  {
   "cell_type": "markdown",
   "metadata": {
    "id": "GDOjQrdydyva"
   },
   "source": [
    "Таргет достаточно сбалансированный."
   ]
  },
  {
   "cell_type": "markdown",
   "metadata": {
    "id": "VtGI5mzXU67Y"
   },
   "source": [
    "**Задание 2.** Вычислите accuracy - долю правильных ответов каждого из алгоритмов. Какой алгоритм имеет наибольшую accuracy?"
   ]
  },
  {
   "cell_type": "code",
   "execution_count": 10,
   "metadata": {
    "colab": {
     "base_uri": "https://localhost:8080/"
    },
    "executionInfo": {
     "elapsed": 266,
     "status": "ok",
     "timestamp": 1681806871661,
     "user": {
      "displayName": "Klim Chernov",
      "userId": "01467194743770448933"
     },
     "user_tz": -180
    },
    "id": "p3CaP1h_U67a",
    "outputId": "0ffd3d05-1d72-4f1e-d601-680f3f343262"
   },
   "outputs": [
    {
     "name": "stdout",
     "output_type": "stream",
     "text": [
      "Accuracy 1: 0.662\n",
      "Accuracy 2: 0.672\n",
      "Accuracy 3: 0.64\n"
     ]
    }
   ],
   "source": [
    "print('Accuracy 1:', round(accuracy_score(df.target, df.pred1_classes), 3))\n",
    "print('Accuracy 2:', round(accuracy_score(df.target, df.pred2_classes), 3))\n",
    "print('Accuracy 3:', round(accuracy_score(df.target, df.pred3_classes), 3))"
   ]
  },
  {
   "cell_type": "markdown",
   "metadata": {
    "id": "MhM-cIx5egYR"
   },
   "source": [
    "Наибольшей accuracy обладает алгоритм 2."
   ]
  },
  {
   "cell_type": "markdown",
   "metadata": {
    "id": "JuyWs7-JU67b"
   },
   "source": [
    "**Задание 3.** Теперь вычислите точность и полноту каждого из алгоритмов."
   ]
  },
  {
   "cell_type": "code",
   "execution_count": 11,
   "metadata": {
    "colab": {
     "base_uri": "https://localhost:8080/"
    },
    "executionInfo": {
     "elapsed": 288,
     "status": "ok",
     "timestamp": 1681806877097,
     "user": {
      "displayName": "Klim Chernov",
      "userId": "01467194743770448933"
     },
     "user_tz": -180
    },
    "id": "wBH1oWo5U67c",
    "outputId": "a9ff1b4f-12cc-45b2-9f7a-a5134125b626"
   },
   "outputs": [
    {
     "name": "stdout",
     "output_type": "stream",
     "text": [
      "Precision 1: 0.691\n",
      "Precision 2: 0.61\n",
      "Precision 3: 0.69\n",
      "\n",
      "Recall 1: 0.436\n",
      "Recall 2: 0.73\n",
      "Recall 3: 0.349\n"
     ]
    }
   ],
   "source": [
    "print('Precision 1:', round(precision_score(df.target, df.pred1_classes), 3))\n",
    "print('Precision 2:', round(precision_score(df.target, df.pred2_classes), 3))\n",
    "print('Precision 3:', round(precision_score(df.target, df.pred3_classes), 3))\n",
    "print()\n",
    "print('Recall 1:', round(recall_score(df.target, df.pred1_classes), 3))\n",
    "print('Recall 2:', round(recall_score(df.target, df.pred2_classes), 3))\n",
    "print('Recall 3:', round(recall_score(df.target, df.pred3_classes), 3))"
   ]
  },
  {
   "cell_type": "markdown",
   "metadata": {
    "id": "JRmrYsRofETf"
   },
   "source": [
    "У алгоритмов 1 и 3 почти одинаковая точность.\n",
    "\n",
    "Алгоритм 2 с большим отрывом лидирует по полноте."
   ]
  },
  {
   "cell_type": "markdown",
   "metadata": {
    "id": "hPsXDzFVU67e"
   },
   "source": [
    "Самым полезным инструментом в практических задачах является ***матрица ошибок***. Смотря на неё и регулируя порог, определяющий классы, мы можем достичь оптимального решения нашей задачи.\n",
    "\n",
    "**Задание 4.** Используя функцию plot_confusion_matrix для визуализации матрицы ошибок, нарисуйте матрицы ошибок всех трех алгоритмов."
   ]
  },
  {
   "cell_type": "code",
   "execution_count": 12,
   "metadata": {
    "executionInfo": {
     "elapsed": 396,
     "status": "ok",
     "timestamp": 1681806881614,
     "user": {
      "displayName": "Klim Chernov",
      "userId": "01467194743770448933"
     },
     "user_tz": -180
    },
    "id": "nC0RHgvxU67f"
   },
   "outputs": [],
   "source": [
    "import itertools\n",
    "from sklearn.metrics import confusion_matrix\n",
    "\n",
    "def plot_confusion_matrix(cm, classes,\n",
    "                          normalize=False,\n",
    "                          title='Confusion matrix',\n",
    "                          cmap=plt.cm.Blues):\n",
    " \n",
    "    plt.imshow(cm, interpolation='nearest', cmap=cmap)\n",
    "    plt.title(title)\n",
    "    plt.colorbar()\n",
    "    tick_marks = np.arange(len(classes))\n",
    "    plt.xticks(tick_marks, classes, rotation=45)\n",
    "    plt.yticks(tick_marks, classes)\n",
    " \n",
    "    fmt = '.2f' if normalize else 'd'\n",
    "    thresh = cm.max() / 2.\n",
    "    for i, j in itertools.product(range(cm.shape[0]), range(cm.shape[1])):\n",
    "        plt.text(j, i, format(cm[i, j], fmt),\n",
    "                 horizontalalignment=\"center\",\n",
    "                 color=\"white\" if cm[i, j] > thresh else \"black\")\n",
    " \n",
    "    plt.tight_layout()\n",
    "    plt.ylabel('True label')\n",
    "    plt.xlabel('Predicted label')"
   ]
  },
  {
   "cell_type": "code",
   "execution_count": 13,
   "metadata": {
    "colab": {
     "base_uri": "https://localhost:8080/",
     "height": 506
    },
    "executionInfo": {
     "elapsed": 8,
     "status": "ok",
     "timestamp": 1681806883827,
     "user": {
      "displayName": "Klim Chernov",
      "userId": "01467194743770448933"
     },
     "user_tz": -180
    },
    "id": "PKrwS2czU67h",
    "outputId": "bdc425f2-d2a6-4f76-c40f-6dee15b14dc7"
   },
   "outputs": [
    {
     "data": {
      "image/png": "[encoded data removed]",
      "text/plain": [
       "<Figure size 640x480 with 2 Axes>"
      ]
     },
     "metadata": {},
     "output_type": "display_data"
    }
   ],
   "source": [
    "plot_confusion_matrix(confusion_matrix(df.target, df.pred1_classes), ['0', '1'])"
   ]
  },
  {
   "cell_type": "code",
   "execution_count": 14,
   "metadata": {
    "colab": {
     "base_uri": "https://localhost:8080/",
     "height": 506
    },
    "executionInfo": {
     "elapsed": 295,
     "status": "ok",
     "timestamp": 1681806887082,
     "user": {
      "displayName": "Klim Chernov",
      "userId": "01467194743770448933"
     },
     "user_tz": -180
    },
    "id": "cfEsspWpizYx",
    "outputId": "657d0ca2-34db-4686-8c32-dc560c8853c5"
   },
   "outputs": [
    {
     "data": {
      "image/png": "[encoded data removed]",
      "text/plain": [
       "<Figure size 640x480 with 2 Axes>"
      ]
     },
     "metadata": {},
     "output_type": "display_data"
    }
   ],
   "source": [
    "plot_confusion_matrix(confusion_matrix(df.target, df.pred2_classes), ['0', '1'])"
   ]
  },
  {
   "cell_type": "code",
   "execution_count": 15,
   "metadata": {
    "colab": {
     "base_uri": "https://localhost:8080/",
     "height": 506
    },
    "executionInfo": {
     "elapsed": 561,
     "status": "ok",
     "timestamp": 1681806889339,
     "user": {
      "displayName": "Klim Chernov",
      "userId": "01467194743770448933"
     },
     "user_tz": -180
    },
    "id": "DXkaWWMai0CJ",
    "outputId": "cb160c40-f1ae-4fab-d748-8f03b0d17e99"
   },
   "outputs": [
    {
     "data": {
      "image/png": "[encoded data removed]",
      "text/plain": [
       "<Figure size 640x480 with 2 Axes>"
      ]
     },
     "metadata": {},
     "output_type": "display_data"
    }
   ],
   "source": [
    "plot_confusion_matrix(confusion_matrix(df.target, df.pred3_classes), ['0', '1'])"
   ]
  },
  {
   "cell_type": "markdown",
   "metadata": {
    "id": "fnf9FtCtU670"
   },
   "source": [
    "Давайте определимся с целями нашего предсказания:\n",
    "    \n",
    "* **Вариант 1**: хотим выдать кредит максимальному числу людей среди тех, кто мог бы его вернуть. При этом не хотим много ошибаться (общее число ошибок не более 35%).\n",
    "  \n",
    "1) Мы не хотим, чтобы алгоритм много ошибался: accuracy $\\geq$ 0.65.\n",
    "\n",
    "2) Кроме того полнота должна быть как можно больше (число в левом нижнем квадрате матрицы ошибок минимально).\n",
    "\n",
    "**Задание 5.** Для каждого алгоритма найдите такой порог принятия решения, чтобы выполнялись перечисленные выше условия. Какой максимальной полноты можно добиться у каждой из моделей при условии, что accuracy $\\geq$ 0.65?\n",
    "\n",
    "**Комментарий:** порог можно искать в цикле с небольшим шагом."
   ]
  },
  {
   "cell_type": "code",
   "execution_count": 94,
   "metadata": {
    "executionInfo": {
     "elapsed": 287,
     "status": "ok",
     "timestamp": 1681819024483,
     "user": {
      "displayName": "Klim Chernov",
      "userId": "01467194743770448933"
     },
     "user_tz": -180
    },
    "id": "KJWY1lcCU679"
   },
   "outputs": [],
   "source": [
    "def get_threshold(df, target, proba, accuracy=0.65, step=0.01, add=True):\n",
    "\n",
    "  recall = {}\n",
    "  acc_list = []\n",
    "  col = str(proba+'_t_class')\n",
    "  \n",
    "  for i in np.arange(0, 1 + step, step):\n",
    "    df[col] = df[proba].apply(lambda x: 1 if x >= i else 0)\n",
    "    acc_list.append(accuracy_score(df[target], df[col]))\n",
    "    if accuracy_score(df[target], df[col]) >= accuracy:\n",
    "      recall[round(i, len(str(step)) - 2)] = recall_score(df[target], df[col])\n",
    "\n",
    "  if len(recall) != 0:\n",
    "    max_recall = np.array(list(recall.values())).max()\n",
    "    threshold = list(recall.keys())[list(recall.values()).index(max_recall)]\n",
    "\n",
    "    df[col] = df[proba].apply(lambda x: 1 if x >= threshold else 0)\n",
    "    acc = accuracy_score(df[target], df[col])\n",
    "\n",
    "    if add == False:\n",
    "      df.drop(col, axis=1, inplace=True)\n",
    "\n",
    "    return 'Оптимальный порог = {}.\\nRecall = {}.\\nAccuracy = {}.{}'.format(\n",
    "        threshold, round(max_recall, 3), round(acc, 3), (f'\\nДобавлен столбец предсказанных классов \\'{col}\\'.' if add == True else ''))\n",
    "    \n",
    "  else:\n",
    "    df.drop(col, axis=1, inplace=True)\n",
    "    return 'Заданный уровень accuracy не достигнут.\\nМаксимальный достигнутый accuracy = {}'.format(np.array(acc_list).max())"
   ]
  },
  {
   "cell_type": "code",
   "execution_count": 95,
   "metadata": {
    "colab": {
     "base_uri": "https://localhost:8080/"
    },
    "executionInfo": {
     "elapsed": 1938,
     "status": "ok",
     "timestamp": 1681819028215,
     "user": {
      "displayName": "Klim Chernov",
      "userId": "01467194743770448933"
     },
     "user_tz": -180
    },
    "id": "C1fLYOsIrhj-",
    "outputId": "2585e7c9-90ef-4b16-b023-ea1eef94ad32"
   },
   "outputs": [
    {
     "name": "stdout",
     "output_type": "stream",
     "text": [
      "АЛГОРИТМ 1\n",
      "Оптимальный порог = 0.36.\n",
      "Recall = 0.743.\n",
      "Accuracy = 0.652.\n",
      "Добавлен столбец предсказанных классов 'pred1_probs_t_class'.\n",
      "\n",
      "АЛГОРИТМ 2\n",
      "Оптимальный порог = 0.27.\n",
      "Recall = 0.837.\n",
      "Accuracy = 0.675.\n",
      "Добавлен столбец предсказанных классов 'pred2_probs_t_class'.\n",
      "\n",
      "АЛГОРИТМ 3\n",
      "Заданный уровень accuracy не достигнут.\n",
      "Максимальный достигнутый accuracy = 0.6458635703918723\n"
     ]
    }
   ],
   "source": [
    "print('АЛГОРИТМ 1\\n' + get_threshold(df, 'target', 'pred1_probs', step=0.01, add=True))\n",
    "print()\n",
    "print('АЛГОРИТМ 2\\n' + get_threshold(df, 'target', 'pred2_probs', step=0.01, add=True))\n",
    "print()\n",
    "print('АЛГОРИТМ 3\\n' + get_threshold(df, 'target', 'pred3_probs', step=0.01, add=True))"
   ]
  },
  {
   "cell_type": "code",
   "execution_count": 96,
   "metadata": {
    "colab": {
     "base_uri": "https://localhost:8080/"
    },
    "executionInfo": {
     "elapsed": 544,
     "status": "ok",
     "timestamp": 1681819038085,
     "user": {
      "displayName": "Klim Chernov",
      "userId": "01467194743770448933"
     },
     "user_tz": -180
    },
    "id": "uCFD1CYm52uf",
    "outputId": "2188441d-c291-4ec5-dbc5-62435ff12c74"
   },
   "outputs": [
    {
     "name": "stdout",
     "output_type": "stream",
     "text": [
      "АЛГОРИТМ 3\n",
      "Оптимальный порог = 0.26.\n",
      "Recall = 0.609.\n",
      "Accuracy = 0.646.\n",
      "Добавлен столбец предсказанных классов 'pred3_probs_t_class'.\n"
     ]
    }
   ],
   "source": [
    "print('АЛГОРИТМ 3\\n' + get_threshold(df, 'target', 'pred3_probs', accuracy=0.6458635703918723, step=0.01, add=True))"
   ]
  },
  {
   "cell_type": "markdown",
   "metadata": {
    "id": "_9JB2_msU68M"
   },
   "source": [
    "**Задание 6.** Визуализируйте матрицу ошибок для каждого из трех алгоритмов с подобранным порогом."
   ]
  },
  {
   "cell_type": "code",
   "execution_count": 20,
   "metadata": {
    "colab": {
     "base_uri": "https://localhost:8080/",
     "height": 506
    },
    "executionInfo": {
     "elapsed": 1195,
     "status": "ok",
     "timestamp": 1681807729249,
     "user": {
      "displayName": "Klim Chernov",
      "userId": "01467194743770448933"
     },
     "user_tz": -180
    },
    "id": "OLw1hLWJhVV0",
    "outputId": "8c15679d-956c-4cac-cb1c-c5aed8e034d1"
   },
   "outputs": [
    {
     "data": {
      "image/png": "[encoded data removed]",
      "text/plain": [
       "<Figure size 640x480 with 2 Axes>"
      ]
     },
     "metadata": {},
     "output_type": "display_data"
    }
   ],
   "source": [
    "plot_confusion_matrix(confusion_matrix(df.target, df.pred1_probs_t_class), ['0', '1'])"
   ]
  },
  {
   "cell_type": "code",
   "execution_count": 21,
   "metadata": {
    "colab": {
     "base_uri": "https://localhost:8080/",
     "height": 506
    },
    "executionInfo": {
     "elapsed": 971,
     "status": "ok",
     "timestamp": 1681807761822,
     "user": {
      "displayName": "Klim Chernov",
      "userId": "01467194743770448933"
     },
     "user_tz": -180
    },
    "id": "mASaS_vJhVWE",
    "outputId": "3a29a890-4fed-4842-fab0-9ba09ac0d971"
   },
   "outputs": [
    {
     "data": {
      "image/png": "[encoded data removed]",
      "text/plain": [
       "<Figure size 640x480 with 2 Axes>"
      ]
     },
     "metadata": {},
     "output_type": "display_data"
    }
   ],
   "source": [
    "plot_confusion_matrix(confusion_matrix(df.target, df.pred2_probs_t_class), ['0', '1'])"
   ]
  },
  {
   "cell_type": "code",
   "execution_count": 22,
   "metadata": {
    "colab": {
     "base_uri": "https://localhost:8080/",
     "height": 506
    },
    "executionInfo": {
     "elapsed": 1364,
     "status": "ok",
     "timestamp": 1681807777287,
     "user": {
      "displayName": "Klim Chernov",
      "userId": "01467194743770448933"
     },
     "user_tz": -180
    },
    "id": "R_G53GqzhVWF",
    "outputId": "d479e304-a901-4ed9-96e7-399ed887987e"
   },
   "outputs": [
    {
     "data": {
      "image/png": "[encoded data removed]",
      "text/plain": [
       "<Figure size 640x480 with 2 Axes>"
      ]
     },
     "metadata": {},
     "output_type": "display_data"
    }
   ],
   "source": [
    "plot_confusion_matrix(confusion_matrix(df.target, df.pred3_probs_t_class), ['0', '1'])"
   ]
  },
  {
   "cell_type": "markdown",
   "metadata": {
    "id": "DkcfoNJpU68Q"
   },
   "source": [
    "**Выводы:** Модель 2, у которой уже был самый высокий `recall`, лучше остальных справилась с этой задачей. В результате подбора порога у неё вырос `recall` на 10% и не снизился `accuracy`."
   ]
  },
  {
   "cell_type": "markdown",
   "metadata": {
    "id": "qqpseFIXU68R"
   },
   "source": [
    "Наша цель может звучать и по-другому:\n",
    "    \n",
    "* **Вариант 2**: среди тех, кому модель выдает кредит, должно быть меньше всего ошибок (мало людей, кто его на самом деле не вернет - на них будем терять деньги). \n",
    "    При этом не хотим много ошибаться (общее число ошибок не более 35%).\n",
    "  \n",
    "1) Мы не хотим, чтобы алгоритм много ошибался: accuracy $\\geq$ 0.65.\n",
    "\n",
    "2) Кроме того точность должна быть как можно больше (число в правом верхнем квадрате матрицы ошибок минимально).\n",
    "\n",
    "**Задание 7.** Для каждого алгоритма найдите порог принятия решения, чтобы выполнялись перечисленные выше условия. Какой максимальной точности можно добиться у каждой из моделей при условии, что accuracy $\\geq$ 0.65? "
   ]
  },
  {
   "cell_type": "code",
   "execution_count": 161,
   "metadata": {
    "executionInfo": {
     "elapsed": 267,
     "status": "ok",
     "timestamp": 1681823451251,
     "user": {
      "displayName": "Klim Chernov",
      "userId": "01467194743770448933"
     },
     "user_tz": -180
    },
    "id": "kp0i9ph_U68T"
   },
   "outputs": [],
   "source": [
    "# Допилим функцию, чтобы она умела находить максимум разных метрик.\n",
    "\n",
    "def get_threshold(df, target, proba, scoring=recall_score, scorer_average='binary', accuracy=0.65, step=0.01, add=True):\n",
    "\n",
    "  score = {}\n",
    "  acc_list = []\n",
    "  col = str(proba+'_t_class')\n",
    "  \n",
    "  for i in np.arange(0, 1 + step, step):\n",
    "    df[col] = df[proba].apply(lambda x: 1 if x >= i else 0)\n",
    "    acc_list.append(accuracy_score(df[target], df[col]))\n",
    "    if accuracy_score(df[target], df[col]) >= accuracy:\n",
    "      score[round(i, len(str(step)) - 2)] = scoring(df[target], df[col], average=scorer_average)\n",
    "\n",
    "  if len(score) != 0:\n",
    "    max_score = np.array(list(score.values())).max()\n",
    "    threshold = list(score.keys())[list(score.values()).index(max_score)]\n",
    "\n",
    "    df[col] = df[proba].apply(lambda x: 1 if x >= threshold else 0)\n",
    "    acc = accuracy_score(df[target], df[col])\n",
    "\n",
    "    if add == False:\n",
    "      df.drop(col, axis=1, inplace=True)\n",
    "\n",
    "    return 'Оптимальный порог = {}.\\n{} = {}. ({} average)\\nAccuracy = {}.{}'.format(\n",
    "        threshold, str(scoring).split(' ')[1], round(max_score, 3), scorer_average, round(acc, 3), (f'\\nДобавлен столбец предсказанных классов \\'{col}\\'.' if add == True else ''))\n",
    "    \n",
    "  else:\n",
    "    df.drop(col, axis=1, inplace=True)\n",
    "    return 'Заданный уровень accuracy не достигнут.\\nМаксимальный достигнутый accuracy = {}'.format(np.array(acc_list).max())"
   ]
  },
  {
   "cell_type": "code",
   "execution_count": 162,
   "metadata": {
    "colab": {
     "base_uri": "https://localhost:8080/"
    },
    "executionInfo": {
     "elapsed": 2915,
     "status": "ok",
     "timestamp": 1681823455902,
     "user": {
      "displayName": "Klim Chernov",
      "userId": "01467194743770448933"
     },
     "user_tz": -180
    },
    "id": "FVOG-RtgKlvB",
    "outputId": "328738c9-08d4-4e72-b751-0a494c3bab82"
   },
   "outputs": [
    {
     "name": "stdout",
     "output_type": "stream",
     "text": [
      "АЛГОРИТМ 1\n",
      "Оптимальный порог = 0.54.\n",
      "precision_score = 0.737. (binary average)\n",
      "Accuracy = 0.662.\n",
      "Добавлен столбец предсказанных классов 'pred1_probs_t_class'.\n",
      "\n",
      "АЛГОРИТМ 2\n",
      "Оптимальный порог = 0.73.\n",
      "precision_score = 0.837. (binary average)\n",
      "Accuracy = 0.65.\n",
      "Добавлен столбец предсказанных классов 'pred2_probs_t_class'.\n",
      "\n",
      "АЛГОРИТМ 3\n",
      "Заданный уровень accuracy не достигнут.\n",
      "Максимальный достигнутый accuracy = 0.6458635703918723\n"
     ]
    }
   ],
   "source": [
    "print('АЛГОРИТМ 1\\n' + get_threshold(df, 'target', 'pred1_probs', scoring=precision_score, step=0.01, add=True))\n",
    "print()\n",
    "print('АЛГОРИТМ 2\\n' + get_threshold(df, 'target', 'pred2_probs', scoring=precision_score, step=0.01, add=True))\n",
    "print()\n",
    "print('АЛГОРИТМ 3\\n' + get_threshold(df, 'target', 'pred3_probs', scoring=precision_score, step=0.01, add=True))"
   ]
  },
  {
   "cell_type": "code",
   "execution_count": 163,
   "metadata": {
    "colab": {
     "base_uri": "https://localhost:8080/"
    },
    "executionInfo": {
     "elapsed": 260,
     "status": "ok",
     "timestamp": 1681823502045,
     "user": {
      "displayName": "Klim Chernov",
      "userId": "01467194743770448933"
     },
     "user_tz": -180
    },
    "id": "CmeceELIMI49",
    "outputId": "7456f121-d12f-4fbe-b1f7-b1f5dd2dd8b2"
   },
   "outputs": [
    {
     "name": "stdout",
     "output_type": "stream",
     "text": [
      "АЛГОРИТМ 3\n",
      "Оптимальный порог = 0.4.\n",
      "precision_score = 0.665. (binary average)\n",
      "Accuracy = 0.646.\n",
      "Добавлен столбец предсказанных классов 'pred3_probs_t_class'.\n"
     ]
    }
   ],
   "source": [
    "print('АЛГОРИТМ 3\\n' + get_threshold(df, 'target', 'pred3_probs', scoring=precision_score, accuracy=0.6458635703918723, step=0.01, add=True))"
   ]
  },
  {
   "cell_type": "markdown",
   "metadata": {
    "id": "yzWJwNaqU68W"
   },
   "source": [
    "**Задание 8.** Нарисуйте матрицы ошибок для каждого из алгоритмов с найденными значениями порога. Какая модель лучше всех справилась с этой задачей?"
   ]
  },
  {
   "cell_type": "code",
   "execution_count": 101,
   "metadata": {
    "colab": {
     "base_uri": "https://localhost:8080/",
     "height": 506
    },
    "executionInfo": {
     "elapsed": 764,
     "status": "ok",
     "timestamp": 1681819517926,
     "user": {
      "displayName": "Klim Chernov",
      "userId": "01467194743770448933"
     },
     "user_tz": -180
    },
    "id": "-zwcfYTmQR7g",
    "outputId": "9bbb0867-6df2-4bcd-97d9-8b469c0ff226"
   },
   "outputs": [
    {
     "data": {
      "image/png": "[encoded data removed]",
      "text/plain": [
       "<Figure size 640x480 with 2 Axes>"
      ]
     },
     "metadata": {},
     "output_type": "display_data"
    }
   ],
   "source": [
    "plot_confusion_matrix(confusion_matrix(df.target, df.pred1_probs_t_class), ['0', '1'])"
   ]
  },
  {
   "cell_type": "code",
   "execution_count": 102,
   "metadata": {
    "colab": {
     "base_uri": "https://localhost:8080/",
     "height": 506
    },
    "executionInfo": {
     "elapsed": 656,
     "status": "ok",
     "timestamp": 1681819591194,
     "user": {
      "displayName": "Klim Chernov",
      "userId": "01467194743770448933"
     },
     "user_tz": -180
    },
    "id": "bG-Jc_fiQR7v",
    "outputId": "20a8323e-e268-4b35-c3f7-da8899bbf405"
   },
   "outputs": [
    {
     "data": {
      "image/png": "[encoded data removed]",
      "text/plain": [
       "<Figure size 640x480 with 2 Axes>"
      ]
     },
     "metadata": {},
     "output_type": "display_data"
    }
   ],
   "source": [
    "plot_confusion_matrix(confusion_matrix(df.target, df.pred2_probs_t_class), ['0', '1'])"
   ]
  },
  {
   "cell_type": "code",
   "execution_count": 105,
   "metadata": {
    "colab": {
     "base_uri": "https://localhost:8080/",
     "height": 506
    },
    "executionInfo": {
     "elapsed": 839,
     "status": "ok",
     "timestamp": 1681819687657,
     "user": {
      "displayName": "Klim Chernov",
      "userId": "01467194743770448933"
     },
     "user_tz": -180
    },
    "id": "1p0vdyjuQR7w",
    "outputId": "a6e4176c-1ab1-4fe1-9784-d7518c38c953"
   },
   "outputs": [
    {
     "data": {
      "image/png": "[encoded data removed]",
      "text/plain": [
       "<Figure size 640x480 with 2 Axes>"
      ]
     },
     "metadata": {},
     "output_type": "display_data"
    }
   ],
   "source": [
    "plot_confusion_matrix(confusion_matrix(df.target, df.pred3_probs_t_class), ['0', '1'])"
   ]
  },
  {
   "cell_type": "markdown",
   "metadata": {
    "id": "Vbl4ei-iRPdx"
   },
   "source": [
    "С этой задачей опять лучше всех справился второй алгоритм. Он выдаёт такой же максимум `precision`, что и `recall`, только на более высоком пороге."
   ]
  },
  {
   "cell_type": "markdown",
   "metadata": {
    "id": "p1Pwmy8DU68Y"
   },
   "source": [
    "Также (**Вариант 3**) можно потребовать, чтобы и точность, и полнота были высокими, то есть обе ошибки в матрице ошибок были маленькие. Как вариант - можно максимизировать F1-score (среднее гармоническое между точностью и полнотой).\n",
    "\n",
    "**Задание 9.** Найдите пороги для достижения максимального F1-score для каждой из трех моделей и нарисуйте матрицы ошибок. Какая модель решает поставленную задачу лучше остальных?"
   ]
  },
  {
   "cell_type": "code",
   "execution_count": 164,
   "metadata": {
    "colab": {
     "base_uri": "https://localhost:8080/"
    },
    "executionInfo": {
     "elapsed": 1036,
     "status": "ok",
     "timestamp": 1681823565489,
     "user": {
      "displayName": "Klim Chernov",
      "userId": "01467194743770448933"
     },
     "user_tz": -180
    },
    "id": "OTNQaNskVh9b",
    "outputId": "ff1cd06b-a81c-4c4f-e2e8-e30f0ab130eb"
   },
   "outputs": [
    {
     "name": "stdout",
     "output_type": "stream",
     "text": [
      "АЛГОРИТМ 1\n",
      "Оптимальный порог = 0.36.\n",
      "f1_score = 0.655. (binary average)\n",
      "Accuracy = 0.652.\n",
      "Добавлен столбец предсказанных классов 'pred1_probs_t_class'.\n",
      "\n",
      "АЛГОРИТМ 2\n",
      "Оптимальный порог = 0.32.\n",
      "f1_score = 0.699. (binary average)\n",
      "Accuracy = 0.685.\n",
      "Добавлен столбец предсказанных классов 'pred2_probs_t_class'.\n",
      "\n",
      "АЛГОРИТМ 3\n",
      "Заданный уровень accuracy не достигнут.\n",
      "Максимальный достигнутый accuracy = 0.6458635703918723\n"
     ]
    }
   ],
   "source": [
    "print('АЛГОРИТМ 1\\n' + get_threshold(df, 'target', 'pred1_probs', scoring=f1_score, step=0.01, add=True))\n",
    "print()\n",
    "print('АЛГОРИТМ 2\\n' + get_threshold(df, 'target', 'pred2_probs', scoring=f1_score, step=0.01, add=True))\n",
    "print()\n",
    "print('АЛГОРИТМ 3\\n' + get_threshold(df, 'target', 'pred3_probs', scoring=f1_score, step=0.01, add=True))"
   ]
  },
  {
   "cell_type": "code",
   "execution_count": 165,
   "metadata": {
    "colab": {
     "base_uri": "https://localhost:8080/"
    },
    "executionInfo": {
     "elapsed": 267,
     "status": "ok",
     "timestamp": 1681823580147,
     "user": {
      "displayName": "Klim Chernov",
      "userId": "01467194743770448933"
     },
     "user_tz": -180
    },
    "id": "2SEkNzu1Vh9q",
    "outputId": "b9e914ac-2eec-4e2c-cd3f-05dc7f98bb70"
   },
   "outputs": [
    {
     "name": "stdout",
     "output_type": "stream",
     "text": [
      "АЛГОРИТМ 3\n",
      "Оптимальный порог = 0.26.\n",
      "f1_score = 0.605. (binary average)\n",
      "Accuracy = 0.646.\n",
      "Добавлен столбец предсказанных классов 'pred3_probs_t_class'.\n"
     ]
    }
   ],
   "source": [
    "print('АЛГОРИТМ 3\\n' + get_threshold(df, 'target', 'pred3_probs', scoring=f1_score, accuracy=0.6458635703918723, step=0.01, add=True))"
   ]
  },
  {
   "cell_type": "code",
   "execution_count": 111,
   "metadata": {
    "colab": {
     "base_uri": "https://localhost:8080/",
     "height": 506
    },
    "executionInfo": {
     "elapsed": 607,
     "status": "ok",
     "timestamp": 1681821107397,
     "user": {
      "displayName": "Klim Chernov",
      "userId": "01467194743770448933"
     },
     "user_tz": -180
    },
    "id": "8pTbTnNeWUjL",
    "outputId": "8e414605-8324-403f-b174-9e714cabb7a1"
   },
   "outputs": [
    {
     "data": {
      "image/png": "[encoded data removed]",
      "text/plain": [
       "<Figure size 640x480 with 2 Axes>"
      ]
     },
     "metadata": {},
     "output_type": "display_data"
    }
   ],
   "source": [
    "plot_confusion_matrix(confusion_matrix(df.target, df.pred1_probs_t_class), ['0', '1'])"
   ]
  },
  {
   "cell_type": "code",
   "execution_count": 157,
   "metadata": {
    "colab": {
     "base_uri": "https://localhost:8080/",
     "height": 506
    },
    "executionInfo": {
     "elapsed": 850,
     "status": "ok",
     "timestamp": 1681822921969,
     "user": {
      "displayName": "Klim Chernov",
      "userId": "01467194743770448933"
     },
     "user_tz": -180
    },
    "id": "vgJA0mt5WUjM",
    "outputId": "8d79fc61-08da-4749-be0a-da578c3e45a5"
   },
   "outputs": [
    {
     "data": {
      "image/png": "[encoded data removed]",
      "text/plain": [
       "<Figure size 640x480 with 2 Axes>"
      ]
     },
     "metadata": {},
     "output_type": "display_data"
    }
   ],
   "source": [
    "plot_confusion_matrix(confusion_matrix(df.target, df.pred2_probs_t_class), ['0', '1'])"
   ]
  },
  {
   "cell_type": "code",
   "execution_count": 113,
   "metadata": {
    "colab": {
     "base_uri": "https://localhost:8080/",
     "height": 506
    },
    "executionInfo": {
     "elapsed": 1077,
     "status": "ok",
     "timestamp": 1681821143737,
     "user": {
      "displayName": "Klim Chernov",
      "userId": "01467194743770448933"
     },
     "user_tz": -180
    },
    "id": "m76UXX8OWUjN",
    "outputId": "5d355837-9e2b-471a-dba8-5cef7733df06"
   },
   "outputs": [
    {
     "data": {
      "image/png": "[encoded data removed]",
      "text/plain": [
       "<Figure size 640x480 with 2 Axes>"
      ]
     },
     "metadata": {},
     "output_type": "display_data"
    }
   ],
   "source": [
    "plot_confusion_matrix(confusion_matrix(df.target, df.pred3_probs_t_class), ['0', '1'])"
   ]
  },
  {
   "cell_type": "markdown",
   "metadata": {
    "id": "Ii8xPXtcWGXW"
   },
   "source": [
    "И снова наш лидер - алгоритм № 2."
   ]
  },
  {
   "cell_type": "markdown",
   "metadata": {
    "id": "zwHKRBF1U69C"
   },
   "source": [
    "#### Кстати\n",
    "\n",
    "В python есть удобная функция classification_report, которая выводит значения нескольких метрик."
   ]
  },
  {
   "cell_type": "code",
   "execution_count": 190,
   "metadata": {
    "colab": {
     "base_uri": "https://localhost:8080/"
    },
    "executionInfo": {
     "elapsed": 286,
     "status": "ok",
     "timestamp": 1681824734459,
     "user": {
      "displayName": "Klim Chernov",
      "userId": "01467194743770448933"
     },
     "user_tz": -180
    },
    "id": "pMdOYoqDU69E",
    "outputId": "f618da6c-374e-4939-b878-25c62f2f5767"
   },
   "outputs": [
    {
     "name": "stdout",
     "output_type": "stream",
     "text": [
      "              precision    recall  f1-score   support\n",
      "\n",
      "           0       0.65      0.84      0.73       382\n",
      "           1       0.69      0.44      0.53       307\n",
      "\n",
      "    accuracy                           0.66       689\n",
      "   macro avg       0.67      0.64      0.63       689\n",
      "weighted avg       0.67      0.66      0.65       689\n",
      "\n"
     ]
    }
   ],
   "source": [
    "from sklearn.metrics import classification_report\n",
    "\n",
    "print(classification_report(df['target'],df['pred1_classes']))"
   ]
  },
  {
   "cell_type": "markdown",
   "metadata": {
    "id": "fHr2fvL_U69F"
   },
   "source": [
    "### Обучим свою модель для предсказания target.\n",
    "\n",
    "**Задание 10.** Отнормируйте признаки в задаче и обучите логистическую регрессию предсказывать target."
   ]
  },
  {
   "cell_type": "code",
   "execution_count": 247,
   "metadata": {
    "executionInfo": {
     "elapsed": 248,
     "status": "ok",
     "timestamp": 1681826687637,
     "user": {
      "displayName": "Klim Chernov",
      "userId": "01467194743770448933"
     },
     "user_tz": -180
    },
    "id": "dmdIYq3NU69I"
   },
   "outputs": [],
   "source": [
    "X = df.loc[:, df.columns[0:14]]\n",
    "y = df.target"
   ]
  },
  {
   "cell_type": "code",
   "execution_count": 209,
   "metadata": {
    "executionInfo": {
     "elapsed": 447,
     "status": "ok",
     "timestamp": 1681825479344,
     "user": {
      "displayName": "Klim Chernov",
      "userId": "01467194743770448933"
     },
     "user_tz": -180
    },
    "id": "wtAl-_ayl9qP"
   },
   "outputs": [],
   "source": [
    "Xtrain, Xtest, ytrain, ytest = train_test_split(X, y, test_size=0.25, random_state=42)"
   ]
  },
  {
   "cell_type": "code",
   "execution_count": 248,
   "metadata": {
    "executionInfo": {
     "elapsed": 518,
     "status": "ok",
     "timestamp": 1681826700508,
     "user": {
      "displayName": "Klim Chernov",
      "userId": "01467194743770448933"
     },
     "user_tz": -180
    },
    "id": "98ru-juPnw3f"
   },
   "outputs": [],
   "source": [
    "p = Pipeline([\n",
    "    ('scaler', StandardScaler()),\n",
    "    ('model', LogisticRegression())\n",
    "])"
   ]
  },
  {
   "cell_type": "code",
   "execution_count": 249,
   "metadata": {
    "executionInfo": {
     "elapsed": 414,
     "status": "ok",
     "timestamp": 1681826702771,
     "user": {
      "displayName": "Klim Chernov",
      "userId": "01467194743770448933"
     },
     "user_tz": -180
    },
    "id": "Hc1z9b-Vnw3g"
   },
   "outputs": [],
   "source": [
    "p.fit(Xtrain, ytrain)\n",
    "ypredict = p.predict(Xtest)"
   ]
  },
  {
   "cell_type": "code",
   "execution_count": 250,
   "metadata": {
    "colab": {
     "base_uri": "https://localhost:8080/"
    },
    "executionInfo": {
     "elapsed": 273,
     "status": "ok",
     "timestamp": 1681826707778,
     "user": {
      "displayName": "Klim Chernov",
      "userId": "01467194743770448933"
     },
     "user_tz": -180
    },
    "id": "kSc9B9yzrcWg",
    "outputId": "d06c3357-0e0c-43fd-b361-4eb5e26c40e7"
   },
   "outputs": [
    {
     "name": "stdout",
     "output_type": "stream",
     "text": [
      "              precision    recall  f1-score   support\n",
      "\n",
      "           0       0.90      0.84      0.87       277\n",
      "           1       0.83      0.90      0.86       239\n",
      "\n",
      "    accuracy                           0.87       516\n",
      "   macro avg       0.87      0.87      0.87       516\n",
      "weighted avg       0.87      0.87      0.87       516\n",
      "\n"
     ]
    }
   ],
   "source": [
    "print(classification_report(ytrain, p.predict(Xtrain)))"
   ]
  },
  {
   "cell_type": "code",
   "execution_count": 251,
   "metadata": {
    "colab": {
     "base_uri": "https://localhost:8080/"
    },
    "executionInfo": {
     "elapsed": 279,
     "status": "ok",
     "timestamp": 1681826714952,
     "user": {
      "displayName": "Klim Chernov",
      "userId": "01467194743770448933"
     },
     "user_tz": -180
    },
    "id": "XRD5nwX9nw3g",
    "outputId": "a2cfcb75-516d-4449-fcef-408a77b5992b"
   },
   "outputs": [
    {
     "name": "stdout",
     "output_type": "stream",
     "text": [
      "              precision    recall  f1-score   support\n",
      "\n",
      "           0       0.95      0.87      0.91       105\n",
      "           1       0.82      0.93      0.87        68\n",
      "\n",
      "    accuracy                           0.89       173\n",
      "   macro avg       0.88      0.90      0.89       173\n",
      "weighted avg       0.90      0.89      0.89       173\n",
      "\n"
     ]
    }
   ],
   "source": [
    "print(classification_report(ytest, ypredict))"
   ]
  },
  {
   "cell_type": "markdown",
   "metadata": {
    "id": "spgpJLtBnw3h"
   },
   "source": [
    "Прямо очень хороший репорт. И на тесте показатели в среднем чуть-чуть лучше. Значит, модель не переобучена."
   ]
  },
  {
   "cell_type": "code",
   "execution_count": 252,
   "metadata": {
    "colab": {
     "base_uri": "https://localhost:8080/"
    },
    "executionInfo": {
     "elapsed": 292,
     "status": "ok",
     "timestamp": 1681827174148,
     "user": {
      "displayName": "Klim Chernov",
      "userId": "01467194743770448933"
     },
     "user_tz": -180
    },
    "id": "AHl4yHXDnw3h",
    "outputId": "3f3ca364-61c6-414d-8f5e-000dcf843962"
   },
   "outputs": [
    {
     "data": {
      "text/plain": [
       "array([[91, 14],\n",
       "       [ 5, 63]])"
      ]
     },
     "execution_count": 252,
     "metadata": {},
     "output_type": "execute_result"
    }
   ],
   "source": [
    "confusion_matrix(ytest, ypredict)"
   ]
  },
  {
   "cell_type": "code",
   "execution_count": 253,
   "metadata": {
    "colab": {
     "base_uri": "https://localhost:8080/"
    },
    "executionInfo": {
     "elapsed": 285,
     "status": "ok",
     "timestamp": 1681827187853,
     "user": {
      "displayName": "Klim Chernov",
      "userId": "01467194743770448933"
     },
     "user_tz": -180
    },
    "id": "dqGqayWQnw3h",
    "outputId": "f85fa793-00ec-4224-eccf-f188b7583d62"
   },
   "outputs": [
    {
     "name": "stdout",
     "output_type": "stream",
     "text": [
      "accuracy mean: 0.8563310450038139\n",
      "recall mean: 0.8662016088486677\n",
      "\n"
     ]
    },
    {
     "data": {
      "text/plain": [
       "{'fit_time': array([0.01392055, 0.00768685, 0.00800538, 0.01047659, 0.00827765,\n",
       "        0.00739217]),\n",
       " 'score_time': array([0.00425625, 0.00426435, 0.00386262, 0.00398207, 0.00381684,\n",
       "        0.00368047]),\n",
       " 'test_accuracy': array([0.88695652, 0.83478261, 0.82608696, 0.84347826, 0.87826087,\n",
       "        0.86842105]),\n",
       " 'test_recall': array([0.84313725, 0.8627451 , 0.82352941, 0.84313725, 0.94230769,\n",
       "        0.88235294])}"
      ]
     },
     "execution_count": 253,
     "metadata": {},
     "output_type": "execute_result"
    }
   ],
   "source": [
    "cv = cross_validate(p, X, y, scoring=['accuracy', 'recall'], cv=6)\n",
    "print('accuracy mean:', cv['test_accuracy'].mean())\n",
    "print('recall mean:', cv['test_recall'].mean())\n",
    "print()\n",
    "cv"
   ]
  },
  {
   "cell_type": "code",
   "execution_count": 260,
   "metadata": {
    "colab": {
     "base_uri": "https://localhost:8080/"
    },
    "collapsed": true,
    "executionInfo": {
     "elapsed": 3932,
     "status": "ok",
     "timestamp": 1681827612430,
     "user": {
      "displayName": "Klim Chernov",
      "userId": "01467194743770448933"
     },
     "user_tz": -180
    },
    "id": "yOD_aoRonw3h",
    "outputId": "2c453c3c-7446-46e4-d310-cf046045e198"
   },
   "outputs": [
    {
     "name": "stdout",
     "output_type": "stream",
     "text": [
      "Fitting 6 folds for each of 40 candidates, totalling 240 fits\n",
      "best score: 0.8522566462756908\n",
      "best params: {'C': 0.25}\n"
     ]
    }
   ],
   "source": [
    "# Подберём коэффициент регуляризации. Ловить будем обычный F1.\n",
    "\n",
    "params = {'C': np.arange(0.25, 10.25, 0.25)}\n",
    "\n",
    "gs= Pipeline([\n",
    "    ('scaler', StandardScaler()),\n",
    "    ('model', GridSearchCV(LogisticRegression(), params, scoring='f1', verbose=1, cv=6))\n",
    "])\n",
    "\n",
    "gs.fit(Xtrain, ytrain)\n",
    "\n",
    "print('best score:', gs['model'].best_score_)\n",
    "print('best params:', gs['model'].best_params_)"
   ]
  },
  {
   "cell_type": "markdown",
   "metadata": {
    "id": "MeMVkzyCvUGD"
   },
   "source": [
    "C = 0.25. На других метриках - такой же."
   ]
  },
  {
   "cell_type": "code",
   "execution_count": 267,
   "metadata": {
    "executionInfo": {
     "elapsed": 278,
     "status": "ok",
     "timestamp": 1681827741540,
     "user": {
      "displayName": "Klim Chernov",
      "userId": "01467194743770448933"
     },
     "user_tz": -180
    },
    "id": "go3KZ3CLvcTw"
   },
   "outputs": [],
   "source": [
    "p = Pipeline([\n",
    "    ('scaler', StandardScaler()),\n",
    "    ('model', LogisticRegression(C=0.25))\n",
    "])"
   ]
  },
  {
   "cell_type": "code",
   "execution_count": 268,
   "metadata": {
    "executionInfo": {
     "elapsed": 306,
     "status": "ok",
     "timestamp": 1681827742856,
     "user": {
      "displayName": "Klim Chernov",
      "userId": "01467194743770448933"
     },
     "user_tz": -180
    },
    "id": "8-Ky3VODvcTx"
   },
   "outputs": [],
   "source": [
    "p.fit(Xtrain, ytrain)\n",
    "ypredict = p.predict(Xtest)"
   ]
  },
  {
   "cell_type": "code",
   "execution_count": 271,
   "metadata": {
    "colab": {
     "base_uri": "https://localhost:8080/"
    },
    "executionInfo": {
     "elapsed": 290,
     "status": "ok",
     "timestamp": 1681827822643,
     "user": {
      "displayName": "Klim Chernov",
      "userId": "01467194743770448933"
     },
     "user_tz": -180
    },
    "id": "qyEweqWwv-ts",
    "outputId": "3bd962c3-aa49-4522-8eb2-7aae02273f8c"
   },
   "outputs": [
    {
     "name": "stdout",
     "output_type": "stream",
     "text": [
      "              precision    recall  f1-score   support\n",
      "\n",
      "           0       0.95      0.87      0.91       105\n",
      "           1       0.82      0.93      0.87        68\n",
      "\n",
      "    accuracy                           0.89       173\n",
      "   macro avg       0.88      0.90      0.89       173\n",
      "weighted avg       0.90      0.89      0.89       173\n",
      "\n"
     ]
    }
   ],
   "source": [
    "print(classification_report(ytest, ypredict))"
   ]
  },
  {
   "cell_type": "markdown",
   "metadata": {
    "id": "wXYXqN8QwE-p"
   },
   "source": [
    "Отчёт такой же."
   ]
  },
  {
   "cell_type": "code",
   "execution_count": 269,
   "metadata": {
    "colab": {
     "base_uri": "https://localhost:8080/"
    },
    "executionInfo": {
     "elapsed": 290,
     "status": "ok",
     "timestamp": 1681827744692,
     "user": {
      "displayName": "Klim Chernov",
      "userId": "01467194743770448933"
     },
     "user_tz": -180
    },
    "id": "y5PmocTCvcTy",
    "outputId": "e5651655-d832-4012-f7e6-3d3176da4692"
   },
   "outputs": [
    {
     "data": {
      "text/plain": [
       "array([[91, 14],\n",
       "       [ 5, 63]])"
      ]
     },
     "execution_count": 269,
     "metadata": {},
     "output_type": "execute_result"
    }
   ],
   "source": [
    "confusion_matrix(ytest, ypredict)"
   ]
  },
  {
   "cell_type": "markdown",
   "metadata": {
    "id": "Q6x5-L7Nv3Ch"
   },
   "source": [
    "Матрица такая же."
   ]
  },
  {
   "cell_type": "code",
   "execution_count": 270,
   "metadata": {
    "colab": {
     "base_uri": "https://localhost:8080/"
    },
    "executionInfo": {
     "elapsed": 297,
     "status": "ok",
     "timestamp": 1681827746494,
     "user": {
      "displayName": "Klim Chernov",
      "userId": "01467194743770448933"
     },
     "user_tz": -180
    },
    "id": "4Un5J6mpvcTz",
    "outputId": "66ccb92b-b392-4ca4-e2eb-d827881289e8"
   },
   "outputs": [
    {
     "name": "stdout",
     "output_type": "stream",
     "text": [
      "accuracy mean: 0.8621281464530893\n",
      "recall mean: 0.8694695827048768\n",
      "\n"
     ]
    },
    {
     "data": {
      "text/plain": [
       "{'fit_time': array([0.01056957, 0.01115394, 0.01316381, 0.00806737, 0.00773692,\n",
       "        0.00827622]),\n",
       " 'score_time': array([0.0039506 , 0.00520492, 0.00488043, 0.00441146, 0.00400019,\n",
       "        0.00420284]),\n",
       " 'test_accuracy': array([0.89565217, 0.84347826, 0.83478261, 0.84347826, 0.88695652,\n",
       "        0.86842105]),\n",
       " 'test_recall': array([0.8627451 , 0.8627451 , 0.84313725, 0.82352941, 0.94230769,\n",
       "        0.88235294])}"
      ]
     },
     "execution_count": 270,
     "metadata": {},
     "output_type": "execute_result"
    }
   ],
   "source": [
    "cv = cross_validate(p, X, y, scoring=['accuracy', 'recall'], cv=6)\n",
    "print('accuracy mean:', cv['test_accuracy'].mean())\n",
    "print('recall mean:', cv['test_recall'].mean())\n",
    "print()\n",
    "cv"
   ]
  },
  {
   "cell_type": "markdown",
   "metadata": {
    "id": "uHKu5mZ7wJqp"
   },
   "source": [
    "Кроссвалидация лучше. Оставим вариант с C=0.25."
   ]
  },
  {
   "cell_type": "markdown",
   "metadata": {
    "id": "dGdI82EcU69K"
   },
   "source": [
    "**Задание 11.** Подберите порог для перевода предсказания в классы, чтобы максимизировать:\n",
    "    а) точность \n",
    "    б) полноту \n",
    "    в) f1-score. \n",
    "Лучше ли логистическая регрессия справилась с задачей, чем три готовые модели, предсказания которых мы анализировали выше?"
   ]
  },
  {
   "cell_type": "code",
   "execution_count": 283,
   "metadata": {
    "executionInfo": {
     "elapsed": 340,
     "status": "ok",
     "timestamp": 1681828483229,
     "user": {
      "displayName": "Klim Chernov",
      "userId": "01467194743770448933"
     },
     "user_tz": -180
    },
    "id": "OG65W95jvGBt"
   },
   "outputs": [],
   "source": [
    "df['pred4_probs'] = p.predict_proba(X)[:, 1]"
   ]
  },
  {
   "cell_type": "code",
   "execution_count": 285,
   "metadata": {
    "colab": {
     "base_uri": "https://localhost:8080/"
    },
    "executionInfo": {
     "elapsed": 3393,
     "status": "ok",
     "timestamp": 1681829157677,
     "user": {
      "displayName": "Klim Chernov",
      "userId": "01467194743770448933"
     },
     "user_tz": -180
    },
    "id": "q34zupxG0sE1",
    "outputId": "f122f796-5cad-48de-8904-1434988c81f1"
   },
   "outputs": [
    {
     "name": "stdout",
     "output_type": "stream",
     "text": [
      "АЛГОРИТМ 2\n",
      "Оптимальный порог = 0.27.\n",
      "recall_score = 0.837. (binary average)\n",
      "Accuracy = 0.675.\n",
      "Добавлен столбец предсказанных классов 'pred2_probs_t_class'.\n",
      "\n",
      "АЛГОРИТМ 4\n",
      "Оптимальный порог = 0.07.\n",
      "recall_score = 0.987. (binary average)\n",
      "Accuracy = 0.669.\n",
      "Добавлен столбец предсказанных классов 'pred4_probs_t_class'.\n"
     ]
    }
   ],
   "source": [
    "print('АЛГОРИТМ 2\\n' + get_threshold(df, 'target', 'pred2_probs', scoring=recall_score, accuracy=0.65, step=0.01, add=True))\n",
    "print()\n",
    "print('АЛГОРИТМ 4\\n' + get_threshold(df, 'target', 'pred4_probs', scoring=recall_score, accuracy=0.65, step=0.01, add=True))"
   ]
  },
  {
   "cell_type": "code",
   "execution_count": 286,
   "metadata": {
    "colab": {
     "base_uri": "https://localhost:8080/"
    },
    "executionInfo": {
     "elapsed": 283,
     "status": "ok",
     "timestamp": 1681829196081,
     "user": {
      "displayName": "Klim Chernov",
      "userId": "01467194743770448933"
     },
     "user_tz": -180
    },
    "id": "PaZX1bUj0sFH",
    "outputId": "8cd1b4de-95d9-4037-d3af-435c45d9174f"
   },
   "outputs": [
    {
     "name": "stdout",
     "output_type": "stream",
     "text": [
      "              precision    recall  f1-score   support\n",
      "\n",
      "           0       0.98      0.41      0.58       382\n",
      "           1       0.57      0.99      0.73       307\n",
      "\n",
      "    accuracy                           0.67       689\n",
      "   macro avg       0.78      0.70      0.65       689\n",
      "weighted avg       0.80      0.67      0.65       689\n",
      "\n"
     ]
    }
   ],
   "source": [
    "print(classification_report(df['target'],df['pred4_probs_t_class']))"
   ]
  },
  {
   "cell_type": "code",
   "execution_count": 287,
   "metadata": {
    "colab": {
     "base_uri": "https://localhost:8080/",
     "height": 506
    },
    "executionInfo": {
     "elapsed": 1347,
     "status": "ok",
     "timestamp": 1681829212224,
     "user": {
      "displayName": "Klim Chernov",
      "userId": "01467194743770448933"
     },
     "user_tz": -180
    },
    "id": "VtXLEW6h0sFI",
    "outputId": "3a5a4f32-3418-4919-fa22-96b28a9e12f6"
   },
   "outputs": [
    {
     "data": {
      "image/png": "[encoded data removed]",
      "text/plain": [
       "<Figure size 640x480 with 2 Axes>"
      ]
     },
     "metadata": {},
     "output_type": "display_data"
    }
   ],
   "source": [
    "plot_confusion_matrix(confusion_matrix(df.target, df.pred4_probs_t_class), ['0', '1'])"
   ]
  },
  {
   "cell_type": "markdown",
   "metadata": {
    "id": "IzkHOsIs1XpH"
   },
   "source": [
    "Наш алгоритм лучше максимизирует `recall`, чем предыдущий лидер, но при этом очень сильно ошибается на негативном классе."
   ]
  },
  {
   "cell_type": "code",
   "execution_count": 288,
   "metadata": {
    "colab": {
     "base_uri": "https://localhost:8080/"
    },
    "executionInfo": {
     "elapsed": 824,
     "status": "ok",
     "timestamp": 1681829436621,
     "user": {
      "displayName": "Klim Chernov",
      "userId": "01467194743770448933"
     },
     "user_tz": -180
    },
    "id": "uxIahVQ52DXi",
    "outputId": "7da142cb-4149-4e2b-d06d-8ca217044766"
   },
   "outputs": [
    {
     "name": "stdout",
     "output_type": "stream",
     "text": [
      "АЛГОРИТМ 2\n",
      "Оптимальный порог = 0.73.\n",
      "precision_score = 0.837. (binary average)\n",
      "Accuracy = 0.65.\n",
      "Добавлен столбец предсказанных классов 'pred2_probs_t_class'.\n",
      "\n",
      "АЛГОРИТМ 4\n",
      "Оптимальный порог = 0.88.\n",
      "precision_score = 0.979. (binary average)\n",
      "Accuracy = 0.753.\n",
      "Добавлен столбец предсказанных классов 'pred4_probs_t_class'.\n"
     ]
    }
   ],
   "source": [
    "print('АЛГОРИТМ 2\\n' + get_threshold(df, 'target', 'pred2_probs', scoring=precision_score, accuracy=0.65, step=0.01, add=True))\n",
    "print()\n",
    "print('АЛГОРИТМ 4\\n' + get_threshold(df, 'target', 'pred4_probs', scoring=precision_score, accuracy=0.65, step=0.01, add=True))"
   ]
  },
  {
   "cell_type": "code",
   "execution_count": 289,
   "metadata": {
    "colab": {
     "base_uri": "https://localhost:8080/"
    },
    "executionInfo": {
     "elapsed": 264,
     "status": "ok",
     "timestamp": 1681829450346,
     "user": {
      "displayName": "Klim Chernov",
      "userId": "01467194743770448933"
     },
     "user_tz": -180
    },
    "id": "pFve-BAD2DXj",
    "outputId": "23541a8c-18d4-4bac-f9c4-6ccf9d0fe543"
   },
   "outputs": [
    {
     "name": "stdout",
     "output_type": "stream",
     "text": [
      "              precision    recall  f1-score   support\n",
      "\n",
      "           0       0.69      0.99      0.82       382\n",
      "           1       0.98      0.46      0.62       307\n",
      "\n",
      "    accuracy                           0.75       689\n",
      "   macro avg       0.84      0.72      0.72       689\n",
      "weighted avg       0.82      0.75      0.73       689\n",
      "\n"
     ]
    }
   ],
   "source": [
    "print(classification_report(df['target'],df['pred4_probs_t_class']))"
   ]
  },
  {
   "cell_type": "code",
   "execution_count": 290,
   "metadata": {
    "colab": {
     "base_uri": "https://localhost:8080/",
     "height": 506
    },
    "executionInfo": {
     "elapsed": 460,
     "status": "ok",
     "timestamp": 1681829453215,
     "user": {
      "displayName": "Klim Chernov",
      "userId": "01467194743770448933"
     },
     "user_tz": -180
    },
    "id": "4cEXebpK2DXj",
    "outputId": "db6c160f-bc03-4078-bb2b-fa8b2e6a4eb2"
   },
   "outputs": [
    {
     "data": {
      "image/png": "[encoded data removed]",
      "text/plain": [
       "<Figure size 640x480 with 2 Axes>"
      ]
     },
     "metadata": {},
     "output_type": "display_data"
    }
   ],
   "source": [
    "plot_confusion_matrix(confusion_matrix(df.target, df.pred4_probs_t_class), ['0', '1'])"
   ]
  },
  {
   "cell_type": "markdown",
   "metadata": {
    "id": "CAnYAM2P2DXj"
   },
   "source": [
    "Зеркальная ситуация."
   ]
  },
  {
   "cell_type": "code",
   "execution_count": 291,
   "metadata": {
    "colab": {
     "base_uri": "https://localhost:8080/"
    },
    "executionInfo": {
     "elapsed": 2064,
     "status": "ok",
     "timestamp": 1681829504745,
     "user": {
      "displayName": "Klim Chernov",
      "userId": "01467194743770448933"
     },
     "user_tz": -180
    },
    "id": "NgVfdusM2Ven",
    "outputId": "ab6ce03b-6e6f-4608-9d38-555d6b27766c"
   },
   "outputs": [
    {
     "name": "stdout",
     "output_type": "stream",
     "text": [
      "АЛГОРИТМ 2\n",
      "Оптимальный порог = 0.32.\n",
      "f1_score = 0.699. (binary average)\n",
      "Accuracy = 0.685.\n",
      "Добавлен столбец предсказанных классов 'pred2_probs_t_class'.\n",
      "\n",
      "АЛГОРИТМ 4\n",
      "Оптимальный порог = 0.58.\n",
      "f1_score = 0.868. (binary average)\n",
      "Accuracy = 0.884.\n",
      "Добавлен столбец предсказанных классов 'pred4_probs_t_class'.\n"
     ]
    }
   ],
   "source": [
    "print('АЛГОРИТМ 2\\n' + get_threshold(df, 'target', 'pred2_probs', scoring=f1_score, accuracy=0.65, step=0.01, add=True))\n",
    "print()\n",
    "print('АЛГОРИТМ 4\\n' + get_threshold(df, 'target', 'pred4_probs', scoring=f1_score, accuracy=0.65, step=0.01, add=True))"
   ]
  },
  {
   "cell_type": "code",
   "execution_count": 292,
   "metadata": {
    "colab": {
     "base_uri": "https://localhost:8080/"
    },
    "executionInfo": {
     "elapsed": 256,
     "status": "ok",
     "timestamp": 1681829518305,
     "user": {
      "displayName": "Klim Chernov",
      "userId": "01467194743770448933"
     },
     "user_tz": -180
    },
    "id": "seOm8hJD2Vep",
    "outputId": "e6c42944-2708-43d9-af65-096f97b6304f"
   },
   "outputs": [
    {
     "name": "stdout",
     "output_type": "stream",
     "text": [
      "              precision    recall  f1-score   support\n",
      "\n",
      "           0       0.89      0.90      0.90       382\n",
      "           1       0.88      0.86      0.87       307\n",
      "\n",
      "    accuracy                           0.88       689\n",
      "   macro avg       0.88      0.88      0.88       689\n",
      "weighted avg       0.88      0.88      0.88       689\n",
      "\n"
     ]
    }
   ],
   "source": [
    "print(classification_report(df['target'],df['pred4_probs_t_class']))"
   ]
  },
  {
   "cell_type": "code",
   "execution_count": 293,
   "metadata": {
    "colab": {
     "base_uri": "https://localhost:8080/",
     "height": 506
    },
    "executionInfo": {
     "elapsed": 570,
     "status": "ok",
     "timestamp": 1681829528210,
     "user": {
      "displayName": "Klim Chernov",
      "userId": "01467194743770448933"
     },
     "user_tz": -180
    },
    "id": "8SdjDQwM2Vep",
    "outputId": "7bf9d561-feb2-4964-96d1-6f6441b2f83b"
   },
   "outputs": [
    {
     "data": {
      "image/png": "[encoded data removed]",
      "text/plain": [
       "<Figure size 640x480 with 2 Axes>"
      ]
     },
     "metadata": {},
     "output_type": "display_data"
    }
   ],
   "source": [
    "plot_confusion_matrix(confusion_matrix(df.target, df.pred4_probs_t_class), ['0', '1'])"
   ]
  },
  {
   "cell_type": "markdown",
   "metadata": {
    "id": "yLiEbPzn2Vep"
   },
   "source": [
    "Однозначно лучший результат, но порог близок к порогу по умолчанию."
   ]
  },
  {
   "cell_type": "code",
   "execution_count": 294,
   "metadata": {
    "executionInfo": {
     "elapsed": 252,
     "status": "ok",
     "timestamp": 1681829973941,
     "user": {
      "displayName": "Klim Chernov",
      "userId": "01467194743770448933"
     },
     "user_tz": -180
    },
    "id": "T4hL2u001SgY"
   },
   "outputs": [],
   "source": [
    "df.pred4_probs_t_class = df.pred4_probs.apply(lambda x: 1 if x >= 0.5 else 0)"
   ]
  },
  {
   "cell_type": "code",
   "execution_count": 298,
   "metadata": {
    "colab": {
     "base_uri": "https://localhost:8080/"
    },
    "executionInfo": {
     "elapsed": 258,
     "status": "ok",
     "timestamp": 1681830230018,
     "user": {
      "displayName": "Klim Chernov",
      "userId": "01467194743770448933"
     },
     "user_tz": -180
    },
    "id": "h4Y2yAcH4rO3",
    "outputId": "a2efc59f-7ab5-4d0f-8468-431a0e8bc939"
   },
   "outputs": [
    {
     "name": "stdout",
     "output_type": "stream",
     "text": [
      "              precision    recall  f1-score   support\n",
      "\n",
      "           0       0.92      0.85      0.88       382\n",
      "           1       0.83      0.90      0.87       307\n",
      "\n",
      "    accuracy                           0.88       689\n",
      "   macro avg       0.87      0.88      0.87       689\n",
      "weighted avg       0.88      0.88      0.88       689\n",
      "\n"
     ]
    }
   ],
   "source": [
    "print(classification_report(df['target'],df['pred4_probs_t_class']))"
   ]
  },
  {
   "cell_type": "code",
   "execution_count": 295,
   "metadata": {
    "colab": {
     "base_uri": "https://localhost:8080/",
     "height": 506
    },
    "executionInfo": {
     "elapsed": 1134,
     "status": "ok",
     "timestamp": 1681829994697,
     "user": {
      "displayName": "Klim Chernov",
      "userId": "01467194743770448933"
     },
     "user_tz": -180
    },
    "id": "T6Cln_e04Mz8",
    "outputId": "34620e23-4c0a-4269-9f3b-6d23324196f3"
   },
   "outputs": [
    {
     "data": {
      "image/png": "[encoded data removed]",
      "text/plain": [
       "<Figure size 640x480 with 2 Axes>"
      ]
     },
     "metadata": {},
     "output_type": "display_data"
    }
   ],
   "source": [
    "plot_confusion_matrix(confusion_matrix(df.target, df.pred4_probs_t_class), ['0', '1'])"
   ]
  },
  {
   "cell_type": "markdown",
   "metadata": {
    "id": "cY0O3Ngt5VJ-"
   },
   "source": [
    "Результат по умолчанию действительно близок к подобранному с предсказуемыми отличиями."
   ]
  },
  {
   "cell_type": "markdown",
   "metadata": {
    "id": "KBclDcHm5zVS"
   },
   "source": [
    "**Вывод**: построенная логистическая регрессия оказалась лучше алгоритмов 1-3. Особо стоит отметить её высокую чувствительость к выбору порога, что позволяет адаптировать её для разных задач."
   ]
  },
  {
   "cell_type": "markdown",
   "metadata": {
    "id": "99jfKqzD6USy"
   },
   "source": [
    "# Бонус. Подбор порога для выбранной модели из Задачи 1."
   ]
  },
  {
   "cell_type": "code",
   "execution_count": 317,
   "metadata": {
    "executionInfo": {
     "elapsed": 261,
     "status": "ok",
     "timestamp": 1681831423149,
     "user": {
      "displayName": "Klim Chernov",
      "userId": "01467194743770448933"
     },
     "user_tz": -180
    },
    "id": "8EPn0qyi4e-f"
   },
   "outputs": [],
   "source": [
    "df = pd.read_csv('/content/drive/MyDrive/ML_HW/Hometask4_v2/telecom_churn.csv')"
   ]
  },
  {
   "cell_type": "code",
   "execution_count": 318,
   "metadata": {
    "executionInfo": {
     "elapsed": 674,
     "status": "ok",
     "timestamp": 1681831424792,
     "user": {
      "displayName": "Klim Chernov",
      "userId": "01467194743770448933"
     },
     "user_tz": -180
    },
    "id": "5_sgw-nH8Wtx"
   },
   "outputs": [],
   "source": [
    "df[['International plan', 'Voice mail plan']] = df[['International plan', 'Voice mail plan']].replace({'No': 0, 'Yes': 1})"
   ]
  },
  {
   "cell_type": "code",
   "execution_count": 319,
   "metadata": {
    "executionInfo": {
     "elapsed": 273,
     "status": "ok",
     "timestamp": 1681831427588,
     "user": {
      "displayName": "Klim Chernov",
      "userId": "01467194743770448933"
     },
     "user_tz": -180
    },
    "id": "RIri1Ywe8Wtx"
   },
   "outputs": [],
   "source": [
    "df['Churn'] = df['Churn'].replace({False: 0, True: 1})"
   ]
  },
  {
   "cell_type": "code",
   "execution_count": 320,
   "metadata": {
    "executionInfo": {
     "elapsed": 277,
     "status": "ok",
     "timestamp": 1681831429743,
     "user": {
      "displayName": "Klim Chernov",
      "userId": "01467194743770448933"
     },
     "user_tz": -180
    },
    "id": "Q57puDZu7KPB"
   },
   "outputs": [],
   "source": [
    "to_drop = ['Voice mail plan', 'Total day charge', 'Total eve charge', 'Total night charge', 'Total intl charge', 'Total eve calls', 'Total night calls', 'Area code']\n",
    "\n",
    "df = df.drop(to_drop, axis=1)"
   ]
  },
  {
   "cell_type": "code",
   "execution_count": 321,
   "metadata": {
    "executionInfo": {
     "elapsed": 260,
     "status": "ok",
     "timestamp": 1681831430993,
     "user": {
      "displayName": "Klim Chernov",
      "userId": "01467194743770448933"
     },
     "user_tz": -180
    },
    "id": "dNHARV4f66ay"
   },
   "outputs": [],
   "source": [
    "X = df.drop('Churn', axis=1)\n",
    "y = df['Churn']"
   ]
  },
  {
   "cell_type": "code",
   "execution_count": 360,
   "metadata": {
    "executionInfo": {
     "elapsed": 700,
     "status": "ok",
     "timestamp": 1681832327677,
     "user": {
      "displayName": "Klim Chernov",
      "userId": "01467194743770448933"
     },
     "user_tz": -180
    },
    "id": "cyXLJlmx66az"
   },
   "outputs": [],
   "source": [
    "Xtrain, Xtest, ytrain, ytest = train_test_split(X, y, test_size=0.25, random_state=42)"
   ]
  },
  {
   "cell_type": "code",
   "execution_count": 364,
   "metadata": {
    "executionInfo": {
     "elapsed": 293,
     "status": "ok",
     "timestamp": 1681832392854,
     "user": {
      "displayName": "Klim Chernov",
      "userId": "01467194743770448933"
     },
     "user_tz": -180
    },
    "id": "2XKNK5F77iD8"
   },
   "outputs": [],
   "source": [
    "p= Pipeline([\n",
    "    ('target_encoder', TargetEncoder(cols='State')),\n",
    "    ('poli', PolynomialFeatures(degree=3)),\n",
    "    ('scaler', StandardScaler()),\n",
    "    ('model', LogisticRegression(C=4.75))\n",
    "])\n",
    "\n",
    "p.fit(Xtrain, ytrain)\n",
    "ypredict = p.predict(X)"
   ]
  },
  {
   "cell_type": "code",
   "execution_count": 365,
   "metadata": {
    "colab": {
     "base_uri": "https://localhost:8080/"
    },
    "executionInfo": {
     "elapsed": 263,
     "status": "ok",
     "timestamp": 1681832394224,
     "user": {
      "displayName": "Klim Chernov",
      "userId": "01467194743770448933"
     },
     "user_tz": -180
    },
    "id": "AC1iqtJG7iD9",
    "outputId": "28041533-9537-45bb-d550-5d7f280fb8ae"
   },
   "outputs": [
    {
     "name": "stdout",
     "output_type": "stream",
     "text": [
      "              precision    recall  f1-score   support\n",
      "\n",
      "           0       0.96      0.99      0.97      2850\n",
      "           1       0.91      0.75      0.82       483\n",
      "\n",
      "    accuracy                           0.95      3333\n",
      "   macro avg       0.93      0.87      0.90      3333\n",
      "weighted avg       0.95      0.95      0.95      3333\n",
      "\n"
     ]
    }
   ],
   "source": [
    "print(classification_report(y, ypredict))"
   ]
  },
  {
   "cell_type": "markdown",
   "metadata": {
    "id": "sx17Y4UjBhcL"
   },
   "source": [
    "Если предсказывать стразу весь датасет, `recall` получается выше, чем только на трейне."
   ]
  },
  {
   "cell_type": "code",
   "execution_count": 366,
   "metadata": {
    "colab": {
     "base_uri": "https://localhost:8080/",
     "height": 506
    },
    "executionInfo": {
     "elapsed": 603,
     "status": "ok",
     "timestamp": 1681832499392,
     "user": {
      "displayName": "Klim Chernov",
      "userId": "01467194743770448933"
     },
     "user_tz": -180
    },
    "id": "JML3KAxb8jx5",
    "outputId": "4959fc67-fa13-4c2d-fa1c-da4b569ea518"
   },
   "outputs": [
    {
     "data": {
      "image/png": "[encoded data removed]",
      "text/plain": [
       "<Figure size 640x480 with 2 Axes>"
      ]
     },
     "metadata": {},
     "output_type": "display_data"
    }
   ],
   "source": [
    "plot_confusion_matrix(confusion_matrix(y, ypredict), ['0', '1'])"
   ]
  },
  {
   "cell_type": "code",
   "execution_count": 367,
   "metadata": {
    "executionInfo": {
     "elapsed": 608,
     "status": "ok",
     "timestamp": 1681832518528,
     "user": {
      "displayName": "Klim Chernov",
      "userId": "01467194743770448933"
     },
     "user_tz": -180
    },
    "id": "mXf7nGhq8yKd"
   },
   "outputs": [],
   "source": [
    "df['logit_probs'] = p.predict_proba(X)[:, 1]"
   ]
  },
  {
   "cell_type": "code",
   "execution_count": 368,
   "metadata": {
    "colab": {
     "base_uri": "https://localhost:8080/"
    },
    "executionInfo": {
     "elapsed": 624,
     "status": "ok",
     "timestamp": 1681832520473,
     "user": {
      "displayName": "Klim Chernov",
      "userId": "01467194743770448933"
     },
     "user_tz": -180
    },
    "id": "3oWEBEBg9M5Z",
    "outputId": "f1229a65-3390-48ab-ecce-ef872ef5447a"
   },
   "outputs": [
    {
     "name": "stdout",
     "output_type": "stream",
     "text": [
      "LOGIT\n",
      "Оптимальный порог = 0.27.\n",
      "recall_score = 0.83. (binary average)\n",
      "Accuracy = 0.941.\n",
      "Добавлен столбец предсказанных классов 'logit_probs_t_class'.\n"
     ]
    }
   ],
   "source": [
    "print('LOGIT\\n' + get_threshold(df, 'Churn', 'logit_probs', scoring=recall_score, accuracy=0.94, step=0.01, add=True))"
   ]
  },
  {
   "cell_type": "code",
   "execution_count": 369,
   "metadata": {
    "colab": {
     "base_uri": "https://localhost:8080/",
     "height": 506
    },
    "executionInfo": {
     "elapsed": 428,
     "status": "ok",
     "timestamp": 1681832533134,
     "user": {
      "displayName": "Klim Chernov",
      "userId": "01467194743770448933"
     },
     "user_tz": -180
    },
    "id": "YsxDUA7h9M5a",
    "outputId": "5ab87bb5-9085-4825-d036-8ea5da72eabc"
   },
   "outputs": [
    {
     "data": {
      "image/png": "[encoded data removed]",
      "text/plain": [
       "<Figure size 640x480 with 2 Axes>"
      ]
     },
     "metadata": {},
     "output_type": "display_data"
    }
   ],
   "source": [
    "plot_confusion_matrix(confusion_matrix(df.Churn, df.logit_probs_t_class), ['0', '1'])"
   ]
  },
  {
   "cell_type": "markdown",
   "metadata": {
    "id": "yn69Rr3G-a-B"
   },
   "source": [
    "Подбор порога позволяет установить баланс между полнотой и ошибкой на негативном классе."
   ]
  }
 ],
 "metadata": {
  "colab": {
   "provenance": []
  },
  "kernelspec": {
   "display_name": "Python 3 (ipykernel)",
   "language": "python",
   "name": "python3"
  },
  "language_info": {
   "codemirror_mode": {
    "name": "ipython",
    "version": 3
   },
   "file_extension": ".py",
   "mimetype": "text/x-python",
   "name": "python",
   "nbconvert_exporter": "python",
   "pygments_lexer": "ipython3",
   "version": "3.9.12"
  }
 },
 "nbformat": 4,
 "nbformat_minor": 1
}
