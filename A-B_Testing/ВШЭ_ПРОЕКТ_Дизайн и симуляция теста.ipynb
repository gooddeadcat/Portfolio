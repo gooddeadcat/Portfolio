{
  "cells": [
    {
      "cell_type": "code",
      "execution_count": 2,
      "id": "c85088c9",
      "metadata": {
        "colab": {
          "base_uri": "https://localhost:8080/"
        },
        "id": "c85088c9",
        "outputId": "d9d9148b-c386-4076-888c-e323439f0448"
      },
      "outputs": [
        {
          "output_type": "stream",
          "name": "stdout",
          "text": [
            "Mounted at /content/drive\n"
          ]
        }
      ],
      "source": [
        "import numpy as np\n",
        "import scipy\n",
        "import matplotlib.pyplot as plt\n",
        "import scipy.stats as stats\n",
        "import statsmodels\n",
        "import statsmodels.sandbox.stats.multicomp\n",
        "import pandas as pd\n",
        "from statsmodels.stats.weightstats import ztest\n",
        "\n",
        "import matplotlib.pyplot as plt\n",
        "import seaborn as sns\n",
        "\n",
        "from tqdm import tqdm\n",
        "from sklearn.utils import shuffle\n",
        "import hashlib\n",
        "from base64 import b64encode\n",
        "import collections\n",
        "import datetime\n",
        "\n",
        "from google.colab import drive\n",
        "drive.mount('/content/drive')"
      ]
    },
    {
      "cell_type": "markdown",
      "id": "ef9bd172",
      "metadata": {
        "id": "ef9bd172"
      },
      "source": [
        "# ДЗ 4 (проект):\n",
        "\n",
        "Вам будут даны 2 датафрейма: один с действиями пользователей в онлайн-кинотеатре (просмотр разного контента), другой - с информацией о пользователях (примерный возраст, пол, доход, наличие детей)\n",
        "\n",
        "Допустим, мы хотим провести АВ-эксперимент с 1 по 14 августа.\n",
        "Будем тестировать новую модель, которая, как мы полагаем будет воздействовать на всех пользователей (и тех, кто смотрит, и кто не смотрит)\n",
        "\n",
        "Не смотрящие пользователи - те, у кого total_duration < 500\n",
        "\n",
        "Их НЕ УБИРАЕМ, а просто обрабатываем эти значения, принимая за нулевые, но пользователей также учитываем в эксперименте\n",
        "\n",
        "1. Перед тестом нам надо понять, какой MDE мы можем поймать на 2-х неделях (наше время ограничено), каким критерием будем пользоваться и какую метрику будем считать целевой. Поэтому проводим полноценный дизайн: \n",
        "    - выбираем целевую метрику (обычно это среднее время смотрения на юзера за период теста, но она высокодисперсионная, надо подумать, можно ли какую-то прокси метрику найти) (0.5 балла)\n",
        "    - подбираем статистический критерий (и подробно объясняем, почему такой, а не другой) (1.5 балла)\n",
        "    - исследуем метрику(и), как положено: проверяем надежность, чувствительность (0.5 балла)\n",
        "    - определяем MDE, который можем поймать на 2-х неделях (1 балл)\n",
        "    - находим (при необходимости) варианты увеличения чувствительности, исходя из особенностей метрики (2 балла)\n",
        "\n",
        "\n",
        "    \n",
        "2. А теперь представляем себе, что тест прошел:\n",
        "    - разбивка была нашим обычным сплиттером, соль - 'kiontestmodel20210114', групп было 2\n",
        "    - оказалось, что модель в группе В показала себя лучше, чем в группе А на 2.5%, причем эффект распространился неравномерно и преимущественно на 10% самых активных пользователей\n",
        "    \n",
        "Пришло время оценить результаты.\n",
        "\n",
        "Но для начала надо реализовать разбивку (0.5 балла) и подобрать вариант наложения эффекта, отвечающий нашему условию (1.5 балла)\n",
        "\n",
        "Сделать выводы, что сработало хорошо, что плохо, почему (0.5 балла)"
      ]
    },
    {
      "cell_type": "markdown",
      "id": "b2a5d327",
      "metadata": {
        "id": "b2a5d327"
      },
      "source": [
        "# Загрузка датасетов, EDA и предобработка"
      ]
    },
    {
      "cell_type": "markdown",
      "id": "63f8148e",
      "metadata": {
        "id": "63f8148e"
      },
      "source": [
        "## Users"
      ]
    },
    {
      "cell_type": "code",
      "execution_count": 117,
      "id": "2d646857",
      "metadata": {
        "colab": {
          "base_uri": "https://localhost:8080/",
          "height": 206
        },
        "id": "2d646857",
        "outputId": "f20da41e-157c-461c-deec-5746d2caab5f"
      },
      "outputs": [
        {
          "output_type": "execute_result",
          "data": {
            "text/plain": [
              "   user_id        age        income sex  kids_flg\n",
              "0   973171  age_25_34  income_60_90   М         1\n",
              "1   962099  age_18_24  income_20_40   М         0\n",
              "2  1047345  age_45_54  income_40_60   Ж         0\n",
              "3   721985  age_45_54  income_20_40   Ж         0\n",
              "4   704055  age_35_44  income_60_90   Ж         0"
            ],
            "text/html": [
              "\n",
              "  <div id=\"df-80e8fc35-e56d-4cc0-a16a-814bd78d8a7a\">\n",
              "    <div class=\"colab-df-container\">\n",
              "      <div>\n",
              "<style scoped>\n",
              "    .dataframe tbody tr th:only-of-type {\n",
              "        vertical-align: middle;\n",
              "    }\n",
              "\n",
              "    .dataframe tbody tr th {\n",
              "        vertical-align: top;\n",
              "    }\n",
              "\n",
              "    .dataframe thead th {\n",
              "        text-align: right;\n",
              "    }\n",
              "</style>\n",
              "<table border=\"1\" class=\"dataframe\">\n",
              "  <thead>\n",
              "    <tr style=\"text-align: right;\">\n",
              "      <th></th>\n",
              "      <th>user_id</th>\n",
              "      <th>age</th>\n",
              "      <th>income</th>\n",
              "      <th>sex</th>\n",
              "      <th>kids_flg</th>\n",
              "    </tr>\n",
              "  </thead>\n",
              "  <tbody>\n",
              "    <tr>\n",
              "      <th>0</th>\n",
              "      <td>973171</td>\n",
              "      <td>age_25_34</td>\n",
              "      <td>income_60_90</td>\n",
              "      <td>М</td>\n",
              "      <td>1</td>\n",
              "    </tr>\n",
              "    <tr>\n",
              "      <th>1</th>\n",
              "      <td>962099</td>\n",
              "      <td>age_18_24</td>\n",
              "      <td>income_20_40</td>\n",
              "      <td>М</td>\n",
              "      <td>0</td>\n",
              "    </tr>\n",
              "    <tr>\n",
              "      <th>2</th>\n",
              "      <td>1047345</td>\n",
              "      <td>age_45_54</td>\n",
              "      <td>income_40_60</td>\n",
              "      <td>Ж</td>\n",
              "      <td>0</td>\n",
              "    </tr>\n",
              "    <tr>\n",
              "      <th>3</th>\n",
              "      <td>721985</td>\n",
              "      <td>age_45_54</td>\n",
              "      <td>income_20_40</td>\n",
              "      <td>Ж</td>\n",
              "      <td>0</td>\n",
              "    </tr>\n",
              "    <tr>\n",
              "      <th>4</th>\n",
              "      <td>704055</td>\n",
              "      <td>age_35_44</td>\n",
              "      <td>income_60_90</td>\n",
              "      <td>Ж</td>\n",
              "      <td>0</td>\n",
              "    </tr>\n",
              "  </tbody>\n",
              "</table>\n",
              "</div>\n",
              "      <button class=\"colab-df-convert\" onclick=\"convertToInteractive('df-80e8fc35-e56d-4cc0-a16a-814bd78d8a7a')\"\n",
              "              title=\"Convert this dataframe to an interactive table.\"\n",
              "              style=\"display:none;\">\n",
              "        \n",
              "  <svg xmlns=\"http://www.w3.org/2000/svg\" height=\"24px\"viewBox=\"0 0 24 24\"\n",
              "       width=\"24px\">\n",
              "    <path d=\"M0 0h24v24H0V0z\" fill=\"none\"/>\n",
              "    <path d=\"M18.56 5.44l.94 2.06.94-2.06 2.06-.94-2.06-.94-.94-2.06-.94 2.06-2.06.94zm-11 1L8.5 8.5l.94-2.06 2.06-.94-2.06-.94L8.5 2.5l-.94 2.06-2.06.94zm10 10l.94 2.06.94-2.06 2.06-.94-2.06-.94-.94-2.06-.94 2.06-2.06.94z\"/><path d=\"M17.41 7.96l-1.37-1.37c-.4-.4-.92-.59-1.43-.59-.52 0-1.04.2-1.43.59L10.3 9.45l-7.72 7.72c-.78.78-.78 2.05 0 2.83L4 21.41c.39.39.9.59 1.41.59.51 0 1.02-.2 1.41-.59l7.78-7.78 2.81-2.81c.8-.78.8-2.07 0-2.86zM5.41 20L4 18.59l7.72-7.72 1.47 1.35L5.41 20z\"/>\n",
              "  </svg>\n",
              "      </button>\n",
              "      \n",
              "  <style>\n",
              "    .colab-df-container {\n",
              "      display:flex;\n",
              "      flex-wrap:wrap;\n",
              "      gap: 12px;\n",
              "    }\n",
              "\n",
              "    .colab-df-convert {\n",
              "      background-color: #E8F0FE;\n",
              "      border: none;\n",
              "      border-radius: 50%;\n",
              "      cursor: pointer;\n",
              "      display: none;\n",
              "      fill: #1967D2;\n",
              "      height: 32px;\n",
              "      padding: 0 0 0 0;\n",
              "      width: 32px;\n",
              "    }\n",
              "\n",
              "    .colab-df-convert:hover {\n",
              "      background-color: #E2EBFA;\n",
              "      box-shadow: 0px 1px 2px rgba(60, 64, 67, 0.3), 0px 1px 3px 1px rgba(60, 64, 67, 0.15);\n",
              "      fill: #174EA6;\n",
              "    }\n",
              "\n",
              "    [theme=dark] .colab-df-convert {\n",
              "      background-color: #3B4455;\n",
              "      fill: #D2E3FC;\n",
              "    }\n",
              "\n",
              "    [theme=dark] .colab-df-convert:hover {\n",
              "      background-color: #434B5C;\n",
              "      box-shadow: 0px 1px 3px 1px rgba(0, 0, 0, 0.15);\n",
              "      filter: drop-shadow(0px 1px 2px rgba(0, 0, 0, 0.3));\n",
              "      fill: #FFFFFF;\n",
              "    }\n",
              "  </style>\n",
              "\n",
              "      <script>\n",
              "        const buttonEl =\n",
              "          document.querySelector('#df-80e8fc35-e56d-4cc0-a16a-814bd78d8a7a button.colab-df-convert');\n",
              "        buttonEl.style.display =\n",
              "          google.colab.kernel.accessAllowed ? 'block' : 'none';\n",
              "\n",
              "        async function convertToInteractive(key) {\n",
              "          const element = document.querySelector('#df-80e8fc35-e56d-4cc0-a16a-814bd78d8a7a');\n",
              "          const dataTable =\n",
              "            await google.colab.kernel.invokeFunction('convertToInteractive',\n",
              "                                                     [key], {});\n",
              "          if (!dataTable) return;\n",
              "\n",
              "          const docLinkHtml = 'Like what you see? Visit the ' +\n",
              "            '<a target=\"_blank\" href=https://colab.research.google.com/notebooks/data_table.ipynb>data table notebook</a>'\n",
              "            + ' to learn more about interactive tables.';\n",
              "          element.innerHTML = '';\n",
              "          dataTable['output_type'] = 'display_data';\n",
              "          await google.colab.output.renderOutput(dataTable, element);\n",
              "          const docLink = document.createElement('div');\n",
              "          docLink.innerHTML = docLinkHtml;\n",
              "          element.appendChild(docLink);\n",
              "        }\n",
              "      </script>\n",
              "    </div>\n",
              "  </div>\n",
              "  "
            ]
          },
          "metadata": {},
          "execution_count": 117
        }
      ],
      "source": [
        "users = pd.read_csv('/content/drive/MyDrive/HW/users.csv')\n",
        "users.head()\n",
        "\n",
        "# user_id - уникальный идентификатор пользователя\n",
        "# kids_flg = 0 - детей нет, если 1 - дети есть\n",
        "# income - группа, в которую юзер отнесен по доходу\n",
        "# age - группа, в которую юзер отнесен по возрасту\n",
        "# sex - пол"
      ]
    },
    {
      "cell_type": "code",
      "execution_count": null,
      "id": "d297b993",
      "metadata": {
        "colab": {
          "base_uri": "https://localhost:8080/"
        },
        "id": "d297b993",
        "outputId": "b152251d-4a8a-4e5d-8f86-f9201343e75a"
      },
      "outputs": [
        {
          "output_type": "stream",
          "name": "stdout",
          "text": [
            "<class 'pandas.core.frame.DataFrame'>\n",
            "RangeIndex: 840197 entries, 0 to 840196\n",
            "Data columns (total 5 columns):\n",
            " #   Column    Non-Null Count   Dtype \n",
            "---  ------    --------------   ----- \n",
            " 0   user_id   840197 non-null  int64 \n",
            " 1   age       826102 non-null  object\n",
            " 2   income    825421 non-null  object\n",
            " 3   sex       826366 non-null  object\n",
            " 4   kids_flg  840197 non-null  int64 \n",
            "dtypes: int64(2), object(3)\n",
            "memory usage: 32.1+ MB\n"
          ]
        }
      ],
      "source": [
        "users.info()"
      ]
    },
    {
      "cell_type": "code",
      "execution_count": null,
      "id": "bd56371b",
      "metadata": {
        "colab": {
          "base_uri": "https://localhost:8080/"
        },
        "id": "bd56371b",
        "outputId": "b637270f-b4bc-4a23-ff50-7a548788c832"
      },
      "outputs": [
        {
          "output_type": "execute_result",
          "data": {
            "text/plain": [
              "840197"
            ]
          },
          "metadata": {},
          "execution_count": 7
        }
      ],
      "source": [
        "users.user_id.nunique()"
      ]
    },
    {
      "cell_type": "markdown",
      "id": "dc0b8cd6",
      "metadata": {
        "id": "dc0b8cd6"
      },
      "source": [
        "Все пользователи уникальные. Около 840 тысяч."
      ]
    },
    {
      "cell_type": "code",
      "execution_count": null,
      "id": "7c594742",
      "metadata": {
        "colab": {
          "base_uri": "https://localhost:8080/"
        },
        "id": "7c594742",
        "outputId": "209f44fe-f77c-4d70-a3b8-7b466b902fff"
      },
      "outputs": [
        {
          "output_type": "stream",
          "name": "stdout",
          "text": [
            "86.86% пропусков по возрасту совпадают с пропусками по доходу.\n"
          ]
        }
      ],
      "source": [
        "print('{}% пропусков по возрасту совпадают с пропусками по доходу.'.format(\n",
        "    round(users.query('income.isna() == True').age.isna().sum() / users.age.isna().sum() * 100, 2)\n",
        "    ))"
      ]
    },
    {
      "cell_type": "code",
      "execution_count": null,
      "id": "56ed3f58",
      "metadata": {
        "colab": {
          "base_uri": "https://localhost:8080/"
        },
        "id": "56ed3f58",
        "outputId": "f7bd7035-b9e6-49d7-e24d-f0ecfb4702b6"
      },
      "outputs": [
        {
          "output_type": "stream",
          "name": "stdout",
          "text": [
            "63.6% пропусков по полу совпадают с пропусками по доходу.\n"
          ]
        }
      ],
      "source": [
        "print('{}% пропусков по полу совпадают с пропусками по доходу.'.format(\n",
        "    round(users.query('income.isna() == True').sex.isna().sum() / users.sex.isna().sum() * 100, 2)\n",
        "    ))"
      ]
    },
    {
      "cell_type": "code",
      "execution_count": null,
      "id": "b0be74e4",
      "metadata": {
        "colab": {
          "base_uri": "https://localhost:8080/"
        },
        "id": "b0be74e4",
        "outputId": "db4cf318-8413-4a3b-8c1f-df5fbdff89f5"
      },
      "outputs": [
        {
          "output_type": "stream",
          "name": "stdout",
          "text": [
            "60.83% пропусков по полу совпадают с пропусками по возрасту и доходу.\n"
          ]
        }
      ],
      "source": [
        "print('{}% пропусков по полу совпадают с пропусками по возрасту и доходу.'.format(\n",
        "    round(users.query('age.isna() == True & income.isna() == True').sex.isna().sum() / users.sex.isna().sum() * 100, 2)\n",
        "    ))"
      ]
    },
    {
      "cell_type": "markdown",
      "id": "8b5be2a8",
      "metadata": {
        "id": "8b5be2a8"
      },
      "source": [
        "**Вывод:** Если придётся использовать эти данные для стратификации, бОльшая часть пропусков совпадает и мы не потеряем очень много объектов. С пропусками по полу меньше всего совпадений."
      ]
    },
    {
      "cell_type": "code",
      "execution_count": null,
      "id": "77723203",
      "metadata": {
        "colab": {
          "base_uri": "https://localhost:8080/"
        },
        "id": "77723203",
        "outputId": "baa4b949-5f0c-4502-80d8-1d00bcbed63b"
      },
      "outputs": [
        {
          "output_type": "execute_result",
          "data": {
            "text/plain": [
              "age_25_34     233926\n",
              "age_35_44     207043\n",
              "age_45_54     135925\n",
              "age_18_24     127672\n",
              "age_55_64      75265\n",
              "age_65_inf     46271\n",
              "Name: age, dtype: int64"
            ]
          },
          "metadata": {},
          "execution_count": 11
        }
      ],
      "source": [
        "users.age.value_counts()"
      ]
    },
    {
      "cell_type": "markdown",
      "id": "3555105d",
      "metadata": {
        "id": "3555105d"
      },
      "source": [
        "Все возрастные группы достаточно хорошо представлены. Все перекосы логичны. Ядро аудитории - 18-54. Жёсткое ядро - 25-44."
      ]
    },
    {
      "cell_type": "code",
      "execution_count": null,
      "id": "90ff38ae",
      "metadata": {
        "colab": {
          "base_uri": "https://localhost:8080/"
        },
        "id": "90ff38ae",
        "outputId": "12d5fd95-8972-4eda-9c8a-0e8123692151"
      },
      "outputs": [
        {
          "output_type": "execute_result",
          "data": {
            "text/plain": [
              "Ж    425270\n",
              "М    401096\n",
              "Name: sex, dtype: int64"
            ]
          },
          "metadata": {},
          "execution_count": 12
        }
      ],
      "source": [
        "users.sex.value_counts()"
      ]
    },
    {
      "cell_type": "markdown",
      "id": "1b54a800",
      "metadata": {
        "id": "1b54a800"
      },
      "source": [
        "Распределение по полу почти равное."
      ]
    },
    {
      "cell_type": "code",
      "execution_count": null,
      "id": "677d770a",
      "metadata": {
        "colab": {
          "base_uri": "https://localhost:8080/"
        },
        "id": "677d770a",
        "outputId": "bf075ee0-e43a-4a3e-9ad8-4af349da9e06"
      },
      "outputs": [
        {
          "output_type": "execute_result",
          "data": {
            "text/plain": [
              "0.30110557404989546"
            ]
          },
          "metadata": {},
          "execution_count": 13
        }
      ],
      "source": [
        "users.kids_flg.mean()"
      ]
    },
    {
      "cell_type": "markdown",
      "id": "6fe8e187",
      "metadata": {
        "id": "6fe8e187"
      },
      "source": [
        "Только 30% аудитории с детьми. Есть подозрение, что все пропуски записаны как нули, потому что пропусков нет только в этом признаке и в `user_id`."
      ]
    },
    {
      "cell_type": "code",
      "execution_count": null,
      "id": "5078f1bd",
      "metadata": {
        "colab": {
          "base_uri": "https://localhost:8080/"
        },
        "id": "5078f1bd",
        "outputId": "cadf33ae-4861-4938-b0ce-64cfcce15edf"
      },
      "outputs": [
        {
          "output_type": "execute_result",
          "data": {
            "text/plain": [
              "income_20_40      471519\n",
              "income_40_60      248330\n",
              "income_60_90       68674\n",
              "income_0_20        21836\n",
              "income_90_150      13985\n",
              "income_150_inf      1077\n",
              "Name: income, dtype: int64"
            ]
          },
          "metadata": {},
          "execution_count": 14
        }
      ],
      "source": [
        "users.income.value_counts()"
      ]
    },
    {
      "cell_type": "markdown",
      "id": "a37d1123",
      "metadata": {
        "id": "a37d1123"
      },
      "source": [
        "Основная часть аудитории обладает невысоким и средним доходом."
      ]
    },
    {
      "cell_type": "markdown",
      "id": "03cfd8ad",
      "metadata": {
        "id": "03cfd8ad"
      },
      "source": [
        "## Interactions"
      ]
    },
    {
      "cell_type": "code",
      "execution_count": null,
      "id": "d8fcaced",
      "metadata": {
        "colab": {
          "base_uri": "https://localhost:8080/",
          "height": 206
        },
        "id": "d8fcaced",
        "outputId": "1927acb3-87a5-448a-95df-60efad76ca9b"
      },
      "outputs": [
        {
          "output_type": "execute_result",
          "data": {
            "text/plain": [
              "   user_id  item_id last_watch_dt  total_dur  watched_pct\n",
              "0   176549     9506    2021-05-11       4250         72.0\n",
              "1   699317     1659    2021-05-29       8317        100.0\n",
              "2   656683     7107    2021-05-09         10          0.0\n",
              "3   864613     7638    2021-07-05      14483        100.0\n",
              "4   964868     9506    2021-04-30       6725        100.0"
            ],
            "text/html": [
              "\n",
              "  <div id=\"df-e30be9ca-24a5-490d-b903-56f584b28330\">\n",
              "    <div class=\"colab-df-container\">\n",
              "      <div>\n",
              "<style scoped>\n",
              "    .dataframe tbody tr th:only-of-type {\n",
              "        vertical-align: middle;\n",
              "    }\n",
              "\n",
              "    .dataframe tbody tr th {\n",
              "        vertical-align: top;\n",
              "    }\n",
              "\n",
              "    .dataframe thead th {\n",
              "        text-align: right;\n",
              "    }\n",
              "</style>\n",
              "<table border=\"1\" class=\"dataframe\">\n",
              "  <thead>\n",
              "    <tr style=\"text-align: right;\">\n",
              "      <th></th>\n",
              "      <th>user_id</th>\n",
              "      <th>item_id</th>\n",
              "      <th>last_watch_dt</th>\n",
              "      <th>total_dur</th>\n",
              "      <th>watched_pct</th>\n",
              "    </tr>\n",
              "  </thead>\n",
              "  <tbody>\n",
              "    <tr>\n",
              "      <th>0</th>\n",
              "      <td>176549</td>\n",
              "      <td>9506</td>\n",
              "      <td>2021-05-11</td>\n",
              "      <td>4250</td>\n",
              "      <td>72.0</td>\n",
              "    </tr>\n",
              "    <tr>\n",
              "      <th>1</th>\n",
              "      <td>699317</td>\n",
              "      <td>1659</td>\n",
              "      <td>2021-05-29</td>\n",
              "      <td>8317</td>\n",
              "      <td>100.0</td>\n",
              "    </tr>\n",
              "    <tr>\n",
              "      <th>2</th>\n",
              "      <td>656683</td>\n",
              "      <td>7107</td>\n",
              "      <td>2021-05-09</td>\n",
              "      <td>10</td>\n",
              "      <td>0.0</td>\n",
              "    </tr>\n",
              "    <tr>\n",
              "      <th>3</th>\n",
              "      <td>864613</td>\n",
              "      <td>7638</td>\n",
              "      <td>2021-07-05</td>\n",
              "      <td>14483</td>\n",
              "      <td>100.0</td>\n",
              "    </tr>\n",
              "    <tr>\n",
              "      <th>4</th>\n",
              "      <td>964868</td>\n",
              "      <td>9506</td>\n",
              "      <td>2021-04-30</td>\n",
              "      <td>6725</td>\n",
              "      <td>100.0</td>\n",
              "    </tr>\n",
              "  </tbody>\n",
              "</table>\n",
              "</div>\n",
              "      <button class=\"colab-df-convert\" onclick=\"convertToInteractive('df-e30be9ca-24a5-490d-b903-56f584b28330')\"\n",
              "              title=\"Convert this dataframe to an interactive table.\"\n",
              "              style=\"display:none;\">\n",
              "        \n",
              "  <svg xmlns=\"http://www.w3.org/2000/svg\" height=\"24px\"viewBox=\"0 0 24 24\"\n",
              "       width=\"24px\">\n",
              "    <path d=\"M0 0h24v24H0V0z\" fill=\"none\"/>\n",
              "    <path d=\"M18.56 5.44l.94 2.06.94-2.06 2.06-.94-2.06-.94-.94-2.06-.94 2.06-2.06.94zm-11 1L8.5 8.5l.94-2.06 2.06-.94-2.06-.94L8.5 2.5l-.94 2.06-2.06.94zm10 10l.94 2.06.94-2.06 2.06-.94-2.06-.94-.94-2.06-.94 2.06-2.06.94z\"/><path d=\"M17.41 7.96l-1.37-1.37c-.4-.4-.92-.59-1.43-.59-.52 0-1.04.2-1.43.59L10.3 9.45l-7.72 7.72c-.78.78-.78 2.05 0 2.83L4 21.41c.39.39.9.59 1.41.59.51 0 1.02-.2 1.41-.59l7.78-7.78 2.81-2.81c.8-.78.8-2.07 0-2.86zM5.41 20L4 18.59l7.72-7.72 1.47 1.35L5.41 20z\"/>\n",
              "  </svg>\n",
              "      </button>\n",
              "      \n",
              "  <style>\n",
              "    .colab-df-container {\n",
              "      display:flex;\n",
              "      flex-wrap:wrap;\n",
              "      gap: 12px;\n",
              "    }\n",
              "\n",
              "    .colab-df-convert {\n",
              "      background-color: #E8F0FE;\n",
              "      border: none;\n",
              "      border-radius: 50%;\n",
              "      cursor: pointer;\n",
              "      display: none;\n",
              "      fill: #1967D2;\n",
              "      height: 32px;\n",
              "      padding: 0 0 0 0;\n",
              "      width: 32px;\n",
              "    }\n",
              "\n",
              "    .colab-df-convert:hover {\n",
              "      background-color: #E2EBFA;\n",
              "      box-shadow: 0px 1px 2px rgba(60, 64, 67, 0.3), 0px 1px 3px 1px rgba(60, 64, 67, 0.15);\n",
              "      fill: #174EA6;\n",
              "    }\n",
              "\n",
              "    [theme=dark] .colab-df-convert {\n",
              "      background-color: #3B4455;\n",
              "      fill: #D2E3FC;\n",
              "    }\n",
              "\n",
              "    [theme=dark] .colab-df-convert:hover {\n",
              "      background-color: #434B5C;\n",
              "      box-shadow: 0px 1px 3px 1px rgba(0, 0, 0, 0.15);\n",
              "      filter: drop-shadow(0px 1px 2px rgba(0, 0, 0, 0.3));\n",
              "      fill: #FFFFFF;\n",
              "    }\n",
              "  </style>\n",
              "\n",
              "      <script>\n",
              "        const buttonEl =\n",
              "          document.querySelector('#df-e30be9ca-24a5-490d-b903-56f584b28330 button.colab-df-convert');\n",
              "        buttonEl.style.display =\n",
              "          google.colab.kernel.accessAllowed ? 'block' : 'none';\n",
              "\n",
              "        async function convertToInteractive(key) {\n",
              "          const element = document.querySelector('#df-e30be9ca-24a5-490d-b903-56f584b28330');\n",
              "          const dataTable =\n",
              "            await google.colab.kernel.invokeFunction('convertToInteractive',\n",
              "                                                     [key], {});\n",
              "          if (!dataTable) return;\n",
              "\n",
              "          const docLinkHtml = 'Like what you see? Visit the ' +\n",
              "            '<a target=\"_blank\" href=https://colab.research.google.com/notebooks/data_table.ipynb>data table notebook</a>'\n",
              "            + ' to learn more about interactive tables.';\n",
              "          element.innerHTML = '';\n",
              "          dataTable['output_type'] = 'display_data';\n",
              "          await google.colab.output.renderOutput(dataTable, element);\n",
              "          const docLink = document.createElement('div');\n",
              "          docLink.innerHTML = docLinkHtml;\n",
              "          element.appendChild(docLink);\n",
              "        }\n",
              "      </script>\n",
              "    </div>\n",
              "  </div>\n",
              "  "
            ]
          },
          "metadata": {},
          "execution_count": 15
        }
      ],
      "source": [
        "interactions = pd.read_csv('/content/drive/MyDrive/HW/interactions.csv')\n",
        "interactions.head()\n",
        "\n",
        "# user_id - уникальный идентификатор пользователя\n",
        "# item_id - уникальный идентификатор контента\n",
        "# last_watch_dt - последняя дата просмотра юзером определенного контента\n",
        "# total_dur - суммарная продолжительность просмотра определенного контента юзером (в секундах)\n",
        "# watched_pct - процент просмотренного контента от общей продолжительности"
      ]
    },
    {
      "cell_type": "markdown",
      "id": "a900f705",
      "metadata": {
        "id": "a900f705"
      },
      "source": [
        "Главный признак, на который мы будем ориентироваться, - **продолжительность просмотра**. Для удобства будем называть его **целевой метрикой**. В дальнейшем мы постепенно перейдём от продолжительности просмотра единицы контента к суммарному смотрению пользователя и к среднему смотрению пользователей за определённый период."
      ]
    },
    {
      "cell_type": "code",
      "execution_count": null,
      "id": "2b4cc560",
      "metadata": {
        "colab": {
          "base_uri": "https://localhost:8080/"
        },
        "id": "2b4cc560",
        "outputId": "f2fe4f0e-a1af-4046-af6f-6ae363ae40a0"
      },
      "outputs": [
        {
          "output_type": "stream",
          "name": "stdout",
          "text": [
            "<class 'pandas.core.frame.DataFrame'>\n",
            "RangeIndex: 5476251 entries, 0 to 5476250\n",
            "Data columns (total 5 columns):\n",
            " #   Column         Dtype  \n",
            "---  ------         -----  \n",
            " 0   user_id        int64  \n",
            " 1   item_id        int64  \n",
            " 2   last_watch_dt  object \n",
            " 3   total_dur      int64  \n",
            " 4   watched_pct    float64\n",
            "dtypes: float64(1), int64(3), object(1)\n",
            "memory usage: 208.9+ MB\n"
          ]
        }
      ],
      "source": [
        "interactions.info()"
      ]
    },
    {
      "cell_type": "markdown",
      "id": "d2e0103a",
      "metadata": {
        "id": "d2e0103a"
      },
      "source": [
        "Всего около 5.5 миллионов взаимодействий."
      ]
    },
    {
      "cell_type": "code",
      "execution_count": null,
      "id": "f9777247",
      "metadata": {
        "colab": {
          "base_uri": "https://localhost:8080/"
        },
        "id": "f9777247",
        "outputId": "d2e53579-8b4e-4020-9af6-ad2713fa5398"
      },
      "outputs": [
        {
          "output_type": "execute_result",
          "data": {
            "text/plain": [
              "user_id            0\n",
              "item_id            0\n",
              "last_watch_dt      0\n",
              "total_dur          0\n",
              "watched_pct      828\n",
              "dtype: int64"
            ]
          },
          "metadata": {},
          "execution_count": 17
        }
      ],
      "source": [
        "interactions.isna().sum()"
      ]
    },
    {
      "cell_type": "markdown",
      "id": "c6095afa",
      "metadata": {
        "id": "c6095afa"
      },
      "source": [
        "В данных есть пропуски. Обработаем их чуть позже."
      ]
    },
    {
      "cell_type": "code",
      "execution_count": null,
      "id": "d558453f",
      "metadata": {
        "colab": {
          "base_uri": "https://localhost:8080/"
        },
        "id": "d558453f",
        "outputId": "f06bba71-254a-4b6d-a130-e769552a0339"
      },
      "outputs": [
        {
          "output_type": "stream",
          "name": "stdout",
          "text": [
            "1\n"
          ]
        },
        {
          "output_type": "execute_result",
          "data": {
            "text/plain": [
              "(0.0, 100.0)"
            ]
          },
          "metadata": {},
          "execution_count": 18
        }
      ],
      "source": [
        "# Проверим корректность числовых данных. Длительность не должна быть меньше 0, а процент просмотра должен быть от 0 до 100.\n",
        "\n",
        "print(interactions.total_dur.min())\n",
        "interactions.watched_pct.min(), interactions.watched_pct.max()"
      ]
    },
    {
      "cell_type": "code",
      "execution_count": null,
      "id": "eed78cdb",
      "metadata": {
        "colab": {
          "base_uri": "https://localhost:8080/"
        },
        "id": "eed78cdb",
        "outputId": "ab64774f-3524-4d61-df00-d78ff9aeba6c"
      },
      "outputs": [
        {
          "output_type": "execute_result",
          "data": {
            "text/plain": [
              "1863186    2021-03-13\n",
              "3224846    2021-03-13\n",
              "2162720    2021-03-13\n",
              "3551672    2021-03-13\n",
              "1299803    2021-03-13\n",
              "              ...    \n",
              "5250503    2021-08-22\n",
              "2890284    2021-08-22\n",
              "5168092    2021-08-22\n",
              "179709     2021-08-22\n",
              "714056     2021-08-22\n",
              "Name: last_watch_dt, Length: 5476251, dtype: object"
            ]
          },
          "metadata": {},
          "execution_count": 19
        }
      ],
      "source": [
        "interactions.last_watch_dt.sort_values()"
      ]
    },
    {
      "cell_type": "markdown",
      "id": "cf88b1d4",
      "metadata": {
        "id": "cf88b1d4"
      },
      "source": [
        "Предэкспериментальные данные собраны с марта по июль. Для дизайна 2-недельного эксперимента информации должно хватить."
      ]
    },
    {
      "cell_type": "code",
      "execution_count": null,
      "id": "ee65f14a",
      "metadata": {
        "colab": {
          "base_uri": "https://localhost:8080/"
        },
        "id": "ee65f14a",
        "outputId": "c334758e-4ddb-4515-edca-20c123af3172"
      },
      "outputs": [
        {
          "output_type": "execute_result",
          "data": {
            "text/plain": [
              "962179"
            ]
          },
          "metadata": {},
          "execution_count": 20
        }
      ],
      "source": [
        "interactions.user_id.nunique()"
      ]
    },
    {
      "cell_type": "code",
      "execution_count": null,
      "id": "85c79be6",
      "metadata": {
        "colab": {
          "base_uri": "https://localhost:8080/"
        },
        "id": "85c79be6",
        "outputId": "3c0fb0ce-866b-4833-f3e4-6bacd1f4f1bf"
      },
      "outputs": [
        {
          "output_type": "execute_result",
          "data": {
            "text/plain": [
              "1.1451826178860434"
            ]
          },
          "metadata": {},
          "execution_count": 21
        }
      ],
      "source": [
        "interactions.user_id.nunique() / users.user_id.nunique()"
      ]
    },
    {
      "cell_type": "markdown",
      "id": "b79ace35",
      "metadata": {
        "id": "b79ace35"
      },
      "source": [
        "Уникальных пользователей в `interactions` в 1.145 раз больше, чем в `users`. Объединять таблицы надо осторожно."
      ]
    },
    {
      "cell_type": "markdown",
      "id": "5d0b12d4",
      "metadata": {
        "id": "5d0b12d4"
      },
      "source": [
        "### Обработка выбросов"
      ]
    },
    {
      "cell_type": "code",
      "execution_count": null,
      "id": "ec7accf8",
      "metadata": {
        "colab": {
          "base_uri": "https://localhost:8080/",
          "height": 426
        },
        "id": "ec7accf8",
        "outputId": "92eb4fcb-80fa-4e2b-809c-e9b5ec6707bb"
      },
      "outputs": [
        {
          "output_type": "display_data",
          "data": {
            "text/plain": [
              "<Figure size 640x480 with 1 Axes>"
            ],
            "image/png": "[encoded data removed]"
          },
          "metadata": {}
        }
      ],
      "source": [
        "sns.boxplot(data=interactions, y='total_dur');"
      ]
    },
    {
      "cell_type": "markdown",
      "id": "7bdc70f7",
      "metadata": {
        "id": "7bdc70f7"
      },
      "source": [
        "Очевидно, в целевой метрике есть выбросы."
      ]
    },
    {
      "cell_type": "code",
      "execution_count": null,
      "id": "624c0a9c",
      "metadata": {
        "colab": {
          "base_uri": "https://localhost:8080/"
        },
        "id": "624c0a9c",
        "outputId": "249cc920-04b3-46f4-a49b-55b739d44d71"
      },
      "outputs": [
        {
          "output_type": "execute_result",
          "data": {
            "text/plain": [
              "count    5.476251e+06\n",
              "mean     8.295490e+03\n",
              "std      4.856799e+04\n",
              "min      1.000000e+00\n",
              "25%      3.710000e+02\n",
              "50%      2.898000e+03\n",
              "75%      7.116000e+03\n",
              "max      8.041167e+07\n",
              "Name: total_dur, dtype: float64"
            ]
          },
          "metadata": {},
          "execution_count": 23
        }
      ],
      "source": [
        "interactions.total_dur.describe()"
      ]
    },
    {
      "cell_type": "markdown",
      "id": "142a7e52",
      "metadata": {
        "id": "142a7e52"
      },
      "source": [
        "Целевая метрика сейчас обладает сильной дисперсией, а максимальное значение на 4 разряда больше третьего квартиля."
      ]
    },
    {
      "cell_type": "markdown",
      "id": "a839b8e4",
      "metadata": {
        "id": "a839b8e4"
      },
      "source": [
        "Согласно заданию, эксперимент будет длиться 2 недели. Поэтому удалим все просмотры дольше 2 недель."
      ]
    },
    {
      "cell_type": "code",
      "execution_count": null,
      "id": "bb9e7708",
      "metadata": {
        "colab": {
          "base_uri": "https://localhost:8080/"
        },
        "id": "bb9e7708",
        "outputId": "bba06cbd-9a27-4cb2-8ab4-1cb76328af7e"
      },
      "outputs": [
        {
          "output_type": "stream",
          "name": "stdout",
          "text": [
            "504\n",
            "0.01%\n"
          ]
        }
      ],
      "source": [
        "print(interactions.query('total_dur > 14 * 24 * 60 * 60').shape[0])\n",
        "print('{}%'.format(round(interactions.query('total_dur > 14 * 24 * 60 * 60').shape[0] / len(interactions) * 100, 2)))"
      ]
    },
    {
      "cell_type": "markdown",
      "id": "b324a768",
      "metadata": {
        "id": "b324a768"
      },
      "source": [
        "Таких всего 504, или одна сотая процента от всех данных."
      ]
    },
    {
      "cell_type": "code",
      "execution_count": null,
      "id": "db0d2cf7",
      "metadata": {
        "id": "db0d2cf7"
      },
      "outputs": [],
      "source": [
        "interactions = interactions.drop(interactions.query('total_dur > 14 * 24 * 60 * 60').index, axis=0)"
      ]
    },
    {
      "cell_type": "code",
      "execution_count": null,
      "id": "8c8c011d",
      "metadata": {
        "colab": {
          "base_uri": "https://localhost:8080/",
          "height": 426
        },
        "id": "8c8c011d",
        "outputId": "6b5595d8-cb7f-4f1b-f5a0-07e292c7d00f"
      },
      "outputs": [
        {
          "output_type": "display_data",
          "data": {
            "text/plain": [
              "<Figure size 640x480 with 1 Axes>"
            ],
            "image/png": "[encoded data removed]"
          },
          "metadata": {}
        }
      ],
      "source": [
        "sns.boxplot(data=interactions, y='total_dur');"
      ]
    },
    {
      "cell_type": "markdown",
      "id": "a1143c14",
      "metadata": {
        "id": "a1143c14"
      },
      "source": [
        "Метрика всё равно несбалансированна, но других критериев для удаления выбросов по отдельным просмотрам у нас нет."
      ]
    },
    {
      "cell_type": "code",
      "execution_count": null,
      "id": "f43158db",
      "metadata": {
        "colab": {
          "base_uri": "https://localhost:8080/"
        },
        "id": "f43158db",
        "outputId": "1ede6178-3034-49d4-d021-15b01ab0024c"
      },
      "outputs": [
        {
          "output_type": "execute_result",
          "data": {
            "text/plain": [
              "count    5.475747e+06\n",
              "mean     8.112076e+03\n",
              "std      2.673518e+04\n",
              "min      1.000000e+00\n",
              "25%      3.710000e+02\n",
              "50%      2.897000e+03\n",
              "75%      7.115000e+03\n",
              "max      1.208365e+06\n",
              "Name: total_dur, dtype: float64"
            ]
          },
          "metadata": {},
          "execution_count": 27
        }
      ],
      "source": [
        "interactions.total_dur.describe()"
      ]
    },
    {
      "cell_type": "markdown",
      "id": "731fa7a5",
      "metadata": {
        "id": "731fa7a5"
      },
      "source": [
        "Дисперсия сократилась в 1.8 раза, а максимальное значение потеряло один разряд."
      ]
    },
    {
      "cell_type": "markdown",
      "id": "6e35d43b",
      "metadata": {
        "id": "6e35d43b"
      },
      "source": [
        "### Обработка пропусков"
      ]
    },
    {
      "cell_type": "code",
      "execution_count": null,
      "id": "bdcf319e",
      "metadata": {
        "colab": {
          "base_uri": "https://localhost:8080/"
        },
        "id": "bdcf319e",
        "outputId": "63b7bb3a-e7f0-406c-8e20-a406416579f7"
      },
      "outputs": [
        {
          "output_type": "execute_result",
          "data": {
            "text/plain": [
              "user_id            0\n",
              "item_id            0\n",
              "last_watch_dt      0\n",
              "total_dur          0\n",
              "watched_pct      828\n",
              "dtype: int64"
            ]
          },
          "metadata": {},
          "execution_count": 28
        }
      ],
      "source": [
        "interactions.isna().sum()"
      ]
    },
    {
      "cell_type": "code",
      "execution_count": null,
      "id": "1c29b6bc",
      "metadata": {
        "colab": {
          "base_uri": "https://localhost:8080/",
          "height": 480
        },
        "id": "1c29b6bc",
        "outputId": "b13d3982-8839-43d4-9e61-098782c46d11"
      },
      "outputs": [
        {
          "output_type": "display_data",
          "data": {
            "text/plain": [
              "<Figure size 1500x500 with 1 Axes>"
            ],
            "image/png": "[encoded data removed]"
          },
          "metadata": {}
        }
      ],
      "source": [
        "# Запомним, как выглядит распределение watched_pct. Если мы всё сделаем правильно, оно не должно измениться.\n",
        "\n",
        "fig, ax = plt.subplots(figsize=(15, 5))\n",
        "sns.histplot(data=interactions, x='watched_pct', bins=200, color='blue');"
      ]
    },
    {
      "cell_type": "markdown",
      "id": "c407f951",
      "metadata": {
        "id": "c407f951"
      },
      "source": [
        "Заметим также большую долю 100% досмотров. А именно:"
      ]
    },
    {
      "cell_type": "code",
      "execution_count": null,
      "id": "59820d04",
      "metadata": {
        "colab": {
          "base_uri": "https://localhost:8080/"
        },
        "id": "59820d04",
        "outputId": "c32456eb-4320-4dee-a78c-733e6b59e177"
      },
      "outputs": [
        {
          "output_type": "execute_result",
          "data": {
            "text/plain": [
              "0.25697315818280136"
            ]
          },
          "metadata": {},
          "execution_count": 30
        }
      ],
      "source": [
        "interactions.query('watched_pct == 100').shape[0] / len(interactions)"
      ]
    },
    {
      "cell_type": "code",
      "execution_count": null,
      "id": "0aa7abed",
      "metadata": {
        "id": "0aa7abed"
      },
      "outputs": [],
      "source": [
        "# Запомним также квартили до обработки.\n",
        "\n",
        "before_25 = interactions.watched_pct.quantile(0.25)\n",
        "before_50 = interactions.watched_pct.quantile(0.5)\n",
        "before_75 = interactions.watched_pct.quantile(0.75)"
      ]
    },
    {
      "cell_type": "markdown",
      "id": "78c60e6e",
      "metadata": {
        "id": "78c60e6e"
      },
      "source": [
        "**Приступим.**"
      ]
    },
    {
      "cell_type": "code",
      "execution_count": null,
      "id": "a3f8e217",
      "metadata": {
        "colab": {
          "base_uri": "https://localhost:8080/",
          "height": 423
        },
        "id": "a3f8e217",
        "outputId": "e056a26a-b889-4b69-b728-abb1d430d78d"
      },
      "outputs": [
        {
          "output_type": "execute_result",
          "data": {
            "text/plain": [
              "         user_id  item_id last_watch_dt  total_dur  watched_pct\n",
              "18473     296886      617    2021-06-29       1043          NaN\n",
              "37129    1001166     2228    2021-04-20        215          NaN\n",
              "42969      54778     9882    2021-08-04        314          NaN\n",
              "51067    1059297      617    2021-07-13       8501          NaN\n",
              "56856     571265      617    2021-07-07       2825          NaN\n",
              "...          ...      ...           ...        ...          ...\n",
              "5453471  1003564     1130    2021-04-19          2          NaN\n",
              "5460370   709070      617    2021-06-23         29          NaN\n",
              "5461941    13284    13950    2021-04-18        136          NaN\n",
              "5474507  1049024      174    2021-07-08       7560          NaN\n",
              "5475366   403904      617    2021-06-23        149          NaN\n",
              "\n",
              "[828 rows x 5 columns]"
            ],
            "text/html": [
              "\n",
              "  <div id=\"df-098021fd-8d5f-459b-a317-b3d4184b3362\">\n",
              "    <div class=\"colab-df-container\">\n",
              "      <div>\n",
              "<style scoped>\n",
              "    .dataframe tbody tr th:only-of-type {\n",
              "        vertical-align: middle;\n",
              "    }\n",
              "\n",
              "    .dataframe tbody tr th {\n",
              "        vertical-align: top;\n",
              "    }\n",
              "\n",
              "    .dataframe thead th {\n",
              "        text-align: right;\n",
              "    }\n",
              "</style>\n",
              "<table border=\"1\" class=\"dataframe\">\n",
              "  <thead>\n",
              "    <tr style=\"text-align: right;\">\n",
              "      <th></th>\n",
              "      <th>user_id</th>\n",
              "      <th>item_id</th>\n",
              "      <th>last_watch_dt</th>\n",
              "      <th>total_dur</th>\n",
              "      <th>watched_pct</th>\n",
              "    </tr>\n",
              "  </thead>\n",
              "  <tbody>\n",
              "    <tr>\n",
              "      <th>18473</th>\n",
              "      <td>296886</td>\n",
              "      <td>617</td>\n",
              "      <td>2021-06-29</td>\n",
              "      <td>1043</td>\n",
              "      <td>NaN</td>\n",
              "    </tr>\n",
              "    <tr>\n",
              "      <th>37129</th>\n",
              "      <td>1001166</td>\n",
              "      <td>2228</td>\n",
              "      <td>2021-04-20</td>\n",
              "      <td>215</td>\n",
              "      <td>NaN</td>\n",
              "    </tr>\n",
              "    <tr>\n",
              "      <th>42969</th>\n",
              "      <td>54778</td>\n",
              "      <td>9882</td>\n",
              "      <td>2021-08-04</td>\n",
              "      <td>314</td>\n",
              "      <td>NaN</td>\n",
              "    </tr>\n",
              "    <tr>\n",
              "      <th>51067</th>\n",
              "      <td>1059297</td>\n",
              "      <td>617</td>\n",
              "      <td>2021-07-13</td>\n",
              "      <td>8501</td>\n",
              "      <td>NaN</td>\n",
              "    </tr>\n",
              "    <tr>\n",
              "      <th>56856</th>\n",
              "      <td>571265</td>\n",
              "      <td>617</td>\n",
              "      <td>2021-07-07</td>\n",
              "      <td>2825</td>\n",
              "      <td>NaN</td>\n",
              "    </tr>\n",
              "    <tr>\n",
              "      <th>...</th>\n",
              "      <td>...</td>\n",
              "      <td>...</td>\n",
              "      <td>...</td>\n",
              "      <td>...</td>\n",
              "      <td>...</td>\n",
              "    </tr>\n",
              "    <tr>\n",
              "      <th>5453471</th>\n",
              "      <td>1003564</td>\n",
              "      <td>1130</td>\n",
              "      <td>2021-04-19</td>\n",
              "      <td>2</td>\n",
              "      <td>NaN</td>\n",
              "    </tr>\n",
              "    <tr>\n",
              "      <th>5460370</th>\n",
              "      <td>709070</td>\n",
              "      <td>617</td>\n",
              "      <td>2021-06-23</td>\n",
              "      <td>29</td>\n",
              "      <td>NaN</td>\n",
              "    </tr>\n",
              "    <tr>\n",
              "      <th>5461941</th>\n",
              "      <td>13284</td>\n",
              "      <td>13950</td>\n",
              "      <td>2021-04-18</td>\n",
              "      <td>136</td>\n",
              "      <td>NaN</td>\n",
              "    </tr>\n",
              "    <tr>\n",
              "      <th>5474507</th>\n",
              "      <td>1049024</td>\n",
              "      <td>174</td>\n",
              "      <td>2021-07-08</td>\n",
              "      <td>7560</td>\n",
              "      <td>NaN</td>\n",
              "    </tr>\n",
              "    <tr>\n",
              "      <th>5475366</th>\n",
              "      <td>403904</td>\n",
              "      <td>617</td>\n",
              "      <td>2021-06-23</td>\n",
              "      <td>149</td>\n",
              "      <td>NaN</td>\n",
              "    </tr>\n",
              "  </tbody>\n",
              "</table>\n",
              "<p>828 rows × 5 columns</p>\n",
              "</div>\n",
              "      <button class=\"colab-df-convert\" onclick=\"convertToInteractive('df-098021fd-8d5f-459b-a317-b3d4184b3362')\"\n",
              "              title=\"Convert this dataframe to an interactive table.\"\n",
              "              style=\"display:none;\">\n",
              "        \n",
              "  <svg xmlns=\"http://www.w3.org/2000/svg\" height=\"24px\"viewBox=\"0 0 24 24\"\n",
              "       width=\"24px\">\n",
              "    <path d=\"M0 0h24v24H0V0z\" fill=\"none\"/>\n",
              "    <path d=\"M18.56 5.44l.94 2.06.94-2.06 2.06-.94-2.06-.94-.94-2.06-.94 2.06-2.06.94zm-11 1L8.5 8.5l.94-2.06 2.06-.94-2.06-.94L8.5 2.5l-.94 2.06-2.06.94zm10 10l.94 2.06.94-2.06 2.06-.94-2.06-.94-.94-2.06-.94 2.06-2.06.94z\"/><path d=\"M17.41 7.96l-1.37-1.37c-.4-.4-.92-.59-1.43-.59-.52 0-1.04.2-1.43.59L10.3 9.45l-7.72 7.72c-.78.78-.78 2.05 0 2.83L4 21.41c.39.39.9.59 1.41.59.51 0 1.02-.2 1.41-.59l7.78-7.78 2.81-2.81c.8-.78.8-2.07 0-2.86zM5.41 20L4 18.59l7.72-7.72 1.47 1.35L5.41 20z\"/>\n",
              "  </svg>\n",
              "      </button>\n",
              "      \n",
              "  <style>\n",
              "    .colab-df-container {\n",
              "      display:flex;\n",
              "      flex-wrap:wrap;\n",
              "      gap: 12px;\n",
              "    }\n",
              "\n",
              "    .colab-df-convert {\n",
              "      background-color: #E8F0FE;\n",
              "      border: none;\n",
              "      border-radius: 50%;\n",
              "      cursor: pointer;\n",
              "      display: none;\n",
              "      fill: #1967D2;\n",
              "      height: 32px;\n",
              "      padding: 0 0 0 0;\n",
              "      width: 32px;\n",
              "    }\n",
              "\n",
              "    .colab-df-convert:hover {\n",
              "      background-color: #E2EBFA;\n",
              "      box-shadow: 0px 1px 2px rgba(60, 64, 67, 0.3), 0px 1px 3px 1px rgba(60, 64, 67, 0.15);\n",
              "      fill: #174EA6;\n",
              "    }\n",
              "\n",
              "    [theme=dark] .colab-df-convert {\n",
              "      background-color: #3B4455;\n",
              "      fill: #D2E3FC;\n",
              "    }\n",
              "\n",
              "    [theme=dark] .colab-df-convert:hover {\n",
              "      background-color: #434B5C;\n",
              "      box-shadow: 0px 1px 3px 1px rgba(0, 0, 0, 0.15);\n",
              "      filter: drop-shadow(0px 1px 2px rgba(0, 0, 0, 0.3));\n",
              "      fill: #FFFFFF;\n",
              "    }\n",
              "  </style>\n",
              "\n",
              "      <script>\n",
              "        const buttonEl =\n",
              "          document.querySelector('#df-098021fd-8d5f-459b-a317-b3d4184b3362 button.colab-df-convert');\n",
              "        buttonEl.style.display =\n",
              "          google.colab.kernel.accessAllowed ? 'block' : 'none';\n",
              "\n",
              "        async function convertToInteractive(key) {\n",
              "          const element = document.querySelector('#df-098021fd-8d5f-459b-a317-b3d4184b3362');\n",
              "          const dataTable =\n",
              "            await google.colab.kernel.invokeFunction('convertToInteractive',\n",
              "                                                     [key], {});\n",
              "          if (!dataTable) return;\n",
              "\n",
              "          const docLinkHtml = 'Like what you see? Visit the ' +\n",
              "            '<a target=\"_blank\" href=https://colab.research.google.com/notebooks/data_table.ipynb>data table notebook</a>'\n",
              "            + ' to learn more about interactive tables.';\n",
              "          element.innerHTML = '';\n",
              "          dataTable['output_type'] = 'display_data';\n",
              "          await google.colab.output.renderOutput(dataTable, element);\n",
              "          const docLink = document.createElement('div');\n",
              "          docLink.innerHTML = docLinkHtml;\n",
              "          element.appendChild(docLink);\n",
              "        }\n",
              "      </script>\n",
              "    </div>\n",
              "  </div>\n",
              "  "
            ]
          },
          "metadata": {},
          "execution_count": 32
        }
      ],
      "source": [
        "interactions.query('watched_pct.isna() == True')"
      ]
    },
    {
      "cell_type": "markdown",
      "id": "3357117f",
      "metadata": {
        "id": "3357117f"
      },
      "source": [
        "Попробуем заполнить пропуски, исходя из информации о полной длительности соответствующего контента."
      ]
    },
    {
      "cell_type": "code",
      "execution_count": null,
      "id": "141d5bda",
      "metadata": {
        "colab": {
          "base_uri": "https://localhost:8080/"
        },
        "id": "141d5bda",
        "outputId": "4f525202-0732-4b2b-c2c1-34fbe1b922eb"
      },
      "outputs": [
        {
          "output_type": "execute_result",
          "data": {
            "text/plain": [
              "array([nan])"
            ]
          },
          "metadata": {},
          "execution_count": 33
        }
      ],
      "source": [
        "interactions.query('item_id == 617').watched_pct.unique()"
      ]
    },
    {
      "cell_type": "code",
      "execution_count": null,
      "id": "99b7667a",
      "metadata": {
        "colab": {
          "base_uri": "https://localhost:8080/"
        },
        "id": "99b7667a",
        "outputId": "dce69f88-6ceb-40ee-b6f9-68448d99a32b"
      },
      "outputs": [
        {
          "output_type": "execute_result",
          "data": {
            "text/plain": [
              "array([nan])"
            ]
          },
          "metadata": {},
          "execution_count": 34
        }
      ],
      "source": [
        "interactions.query('item_id == 13950').watched_pct.unique()"
      ]
    },
    {
      "cell_type": "markdown",
      "id": "bc29baf2",
      "metadata": {
        "id": "bc29baf2"
      },
      "source": [
        "Видимо, есть айтемы, для которых вообще не рассчитывается процент досмотра. Найдём их."
      ]
    },
    {
      "cell_type": "code",
      "execution_count": null,
      "id": "6e028a9b",
      "metadata": {
        "id": "6e028a9b"
      },
      "outputs": [],
      "source": [
        "# Составим список таких айтемов.\n",
        "\n",
        "missed = interactions.query('watched_pct.isna() == True').item_id.unique()\n",
        "missed_inter = interactions[interactions.item_id.isin(missed)]"
      ]
    },
    {
      "cell_type": "code",
      "execution_count": null,
      "id": "6697f9f3",
      "metadata": {
        "colab": {
          "base_uri": "https://localhost:8080/"
        },
        "id": "6697f9f3",
        "outputId": "a41954c8-0d82-4819-ad27-95b4dec8ccf1"
      },
      "outputs": [
        {
          "output_type": "execute_result",
          "data": {
            "text/plain": [
              "array([nan])"
            ]
          },
          "metadata": {},
          "execution_count": 36
        }
      ],
      "source": [
        "# Проверим, есть ли для них процент досмотра во всём датасете.\n",
        "\n",
        "missed_inter.watched_pct.unique()"
      ]
    },
    {
      "cell_type": "code",
      "execution_count": null,
      "id": "be7632b6",
      "metadata": {
        "colab": {
          "base_uri": "https://localhost:8080/"
        },
        "id": "be7632b6",
        "outputId": "89628a7e-7bf8-4788-b212-b734df2becca"
      },
      "outputs": [
        {
          "output_type": "execute_result",
          "data": {
            "text/plain": [
              "101"
            ]
          },
          "metadata": {},
          "execution_count": 37
        }
      ],
      "source": [
        "len(missed)"
      ]
    },
    {
      "cell_type": "markdown",
      "id": "6ce784cb",
      "metadata": {
        "id": "6ce784cb"
      },
      "source": [
        "101 айтем для нас - тёмные лошадки. Восстановим их watched_pct по перцентилям total_dur"
      ]
    },
    {
      "cell_type": "code",
      "execution_count": null,
      "id": "45eb917c",
      "metadata": {
        "id": "45eb917c"
      },
      "outputs": [],
      "source": [
        "# Найдём перцентили метрики total_dur по айтемам из списка missed.\n",
        "\n",
        "missed_stats = {}\n",
        "\n",
        "for i in range(len(missed)):\n",
        "    missed_quantiles = {}\n",
        "    for j in np.arange(0, 1.01, 0.01):\n",
        "        missed_quantiles[round(j, 2)] = missed_inter[missed_inter.item_id == missed[i]].total_dur.quantile(j)\n",
        "    missed_stats[missed[i]] = missed_quantiles"
      ]
    },
    {
      "cell_type": "code",
      "execution_count": null,
      "id": "3ef39125",
      "metadata": {
        "colab": {
          "base_uri": "https://localhost:8080/"
        },
        "id": "3ef39125",
        "outputId": "d89b9156-85ff-499a-a15e-320b79f2a605"
      },
      "outputs": [
        {
          "output_type": "stream",
          "name": "stderr",
          "text": [
            "100%|██████████| 101/101 [13:12<00:00,  7.85s/it]\n"
          ]
        }
      ],
      "source": [
        "# Восстановим watched_pct согласно найденным перцентилям.\n",
        "\n",
        "for i in tqdm(missed_stats):\n",
        "    for j in missed_stats[i]:\n",
        "        if j == 0:\n",
        "            interactions.loc[interactions[\n",
        "                (\n",
        "                    (interactions['item_id'] == i) & \n",
        "                    (interactions['total_dur'] == missed_stats[i][j])\n",
        "                )].index, 'watched_pct'] = j * 100\n",
        "        elif j == 1:\n",
        "            interactions.loc[interactions[\n",
        "                (\n",
        "                    (interactions['item_id'] == i) & \n",
        "                    (interactions['total_dur'] >= missed_stats[i][round(j - 0.01, 2)]) &\n",
        "                    (interactions['total_dur'] <= missed_stats[i][j])\n",
        "                )].index, 'watched_pct'] = j * 100\n",
        "        else:\n",
        "            interactions.loc[interactions[\n",
        "                (\n",
        "                    (interactions['item_id'] == i) & \n",
        "                    (interactions['total_dur'] >= missed_stats[i][round(j - 0.01, 2)]) &\n",
        "                    (interactions['total_dur'] < missed_stats[i][j])\n",
        "                )].index, 'watched_pct'] = j * 100"
      ]
    },
    {
      "cell_type": "code",
      "execution_count": null,
      "id": "c9e914b5",
      "metadata": {
        "colab": {
          "base_uri": "https://localhost:8080/"
        },
        "id": "c9e914b5",
        "outputId": "b258057a-ceb0-4197-8b30-330d6f053566"
      },
      "outputs": [
        {
          "output_type": "execute_result",
          "data": {
            "text/plain": [
              "user_id          0\n",
              "item_id          0\n",
              "last_watch_dt    0\n",
              "total_dur        0\n",
              "watched_pct      0\n",
              "dtype: int64"
            ]
          },
          "metadata": {},
          "execution_count": 40
        }
      ],
      "source": [
        "interactions.isna().sum()"
      ]
    },
    {
      "cell_type": "markdown",
      "id": "252d5f35",
      "metadata": {
        "id": "252d5f35"
      },
      "source": [
        "Теперь в датасете нет пропусков."
      ]
    },
    {
      "cell_type": "code",
      "execution_count": null,
      "id": "c1f95075",
      "metadata": {
        "colab": {
          "base_uri": "https://localhost:8080/",
          "height": 480
        },
        "id": "c1f95075",
        "outputId": "dac6f9f7-bbc8-43e1-fa8f-5cc5a4152a85"
      },
      "outputs": [
        {
          "output_type": "display_data",
          "data": {
            "text/plain": [
              "<Figure size 1500x500 with 1 Axes>"
            ],
            "image/png": "[encoded data removed]"
          },
          "metadata": {}
        }
      ],
      "source": [
        "# Проверим, что распределение watched_pct не изменилось.\n",
        "\n",
        "fig, ax = plt.subplots(figsize=(15, 5))\n",
        "sns.histplot(data=interactions, x='watched_pct', bins=200, color='blue');"
      ]
    },
    {
      "cell_type": "code",
      "execution_count": null,
      "id": "206e4a7a",
      "metadata": {
        "colab": {
          "base_uri": "https://localhost:8080/"
        },
        "id": "206e4a7a",
        "outputId": "55e7583a-2e62-46c7-8ae0-c5b84a4763e5"
      },
      "outputs": [
        {
          "output_type": "stream",
          "name": "stdout",
          "text": [
            "True\n",
            "True\n",
            "True\n"
          ]
        }
      ],
      "source": [
        "# Сравним квартили до и после обработки.\n",
        "\n",
        "print(before_25 == interactions.watched_pct.quantile(0.25))\n",
        "print(before_50 == interactions.watched_pct.quantile(0.5))\n",
        "print(before_75 == interactions.watched_pct.quantile(0.75))"
      ]
    },
    {
      "cell_type": "code",
      "execution_count": null,
      "id": "83db8990",
      "metadata": {
        "colab": {
          "base_uri": "https://localhost:8080/",
          "height": 423
        },
        "id": "83db8990",
        "outputId": "6ca7a7a6-9500-4c4f-ff26-59b38cc6315f"
      },
      "outputs": [
        {
          "output_type": "execute_result",
          "data": {
            "text/plain": [
              "         user_id  item_id last_watch_dt  total_dur  watched_pct\n",
              "18473     296886      617    2021-06-29       1043         63.0\n",
              "51067    1059297      617    2021-07-13       8501         80.0\n",
              "56856     571265      617    2021-07-07       2825         71.0\n",
              "63596     529068      617    2021-06-25         12         11.0\n",
              "64131     621917      617    2021-07-05         19         16.0\n",
              "...          ...      ...           ...        ...          ...\n",
              "5410192  1053855      617    2021-06-29        824         60.0\n",
              "5425736   223362      617    2021-07-01      78144         93.0\n",
              "5436026   363638      617    2021-06-30       7129         79.0\n",
              "5460370   709070      617    2021-06-23         29         21.0\n",
              "5475366   403904      617    2021-06-23        149         37.0\n",
              "\n",
              "[394 rows x 5 columns]"
            ],
            "text/html": [
              "\n",
              "  <div id=\"df-312750c5-e351-4ae4-8cde-ff1f3dcf42e8\">\n",
              "    <div class=\"colab-df-container\">\n",
              "      <div>\n",
              "<style scoped>\n",
              "    .dataframe tbody tr th:only-of-type {\n",
              "        vertical-align: middle;\n",
              "    }\n",
              "\n",
              "    .dataframe tbody tr th {\n",
              "        vertical-align: top;\n",
              "    }\n",
              "\n",
              "    .dataframe thead th {\n",
              "        text-align: right;\n",
              "    }\n",
              "</style>\n",
              "<table border=\"1\" class=\"dataframe\">\n",
              "  <thead>\n",
              "    <tr style=\"text-align: right;\">\n",
              "      <th></th>\n",
              "      <th>user_id</th>\n",
              "      <th>item_id</th>\n",
              "      <th>last_watch_dt</th>\n",
              "      <th>total_dur</th>\n",
              "      <th>watched_pct</th>\n",
              "    </tr>\n",
              "  </thead>\n",
              "  <tbody>\n",
              "    <tr>\n",
              "      <th>18473</th>\n",
              "      <td>296886</td>\n",
              "      <td>617</td>\n",
              "      <td>2021-06-29</td>\n",
              "      <td>1043</td>\n",
              "      <td>63.0</td>\n",
              "    </tr>\n",
              "    <tr>\n",
              "      <th>51067</th>\n",
              "      <td>1059297</td>\n",
              "      <td>617</td>\n",
              "      <td>2021-07-13</td>\n",
              "      <td>8501</td>\n",
              "      <td>80.0</td>\n",
              "    </tr>\n",
              "    <tr>\n",
              "      <th>56856</th>\n",
              "      <td>571265</td>\n",
              "      <td>617</td>\n",
              "      <td>2021-07-07</td>\n",
              "      <td>2825</td>\n",
              "      <td>71.0</td>\n",
              "    </tr>\n",
              "    <tr>\n",
              "      <th>63596</th>\n",
              "      <td>529068</td>\n",
              "      <td>617</td>\n",
              "      <td>2021-06-25</td>\n",
              "      <td>12</td>\n",
              "      <td>11.0</td>\n",
              "    </tr>\n",
              "    <tr>\n",
              "      <th>64131</th>\n",
              "      <td>621917</td>\n",
              "      <td>617</td>\n",
              "      <td>2021-07-05</td>\n",
              "      <td>19</td>\n",
              "      <td>16.0</td>\n",
              "    </tr>\n",
              "    <tr>\n",
              "      <th>...</th>\n",
              "      <td>...</td>\n",
              "      <td>...</td>\n",
              "      <td>...</td>\n",
              "      <td>...</td>\n",
              "      <td>...</td>\n",
              "    </tr>\n",
              "    <tr>\n",
              "      <th>5410192</th>\n",
              "      <td>1053855</td>\n",
              "      <td>617</td>\n",
              "      <td>2021-06-29</td>\n",
              "      <td>824</td>\n",
              "      <td>60.0</td>\n",
              "    </tr>\n",
              "    <tr>\n",
              "      <th>5425736</th>\n",
              "      <td>223362</td>\n",
              "      <td>617</td>\n",
              "      <td>2021-07-01</td>\n",
              "      <td>78144</td>\n",
              "      <td>93.0</td>\n",
              "    </tr>\n",
              "    <tr>\n",
              "      <th>5436026</th>\n",
              "      <td>363638</td>\n",
              "      <td>617</td>\n",
              "      <td>2021-06-30</td>\n",
              "      <td>7129</td>\n",
              "      <td>79.0</td>\n",
              "    </tr>\n",
              "    <tr>\n",
              "      <th>5460370</th>\n",
              "      <td>709070</td>\n",
              "      <td>617</td>\n",
              "      <td>2021-06-23</td>\n",
              "      <td>29</td>\n",
              "      <td>21.0</td>\n",
              "    </tr>\n",
              "    <tr>\n",
              "      <th>5475366</th>\n",
              "      <td>403904</td>\n",
              "      <td>617</td>\n",
              "      <td>2021-06-23</td>\n",
              "      <td>149</td>\n",
              "      <td>37.0</td>\n",
              "    </tr>\n",
              "  </tbody>\n",
              "</table>\n",
              "<p>394 rows × 5 columns</p>\n",
              "</div>\n",
              "      <button class=\"colab-df-convert\" onclick=\"convertToInteractive('df-312750c5-e351-4ae4-8cde-ff1f3dcf42e8')\"\n",
              "              title=\"Convert this dataframe to an interactive table.\"\n",
              "              style=\"display:none;\">\n",
              "        \n",
              "  <svg xmlns=\"http://www.w3.org/2000/svg\" height=\"24px\"viewBox=\"0 0 24 24\"\n",
              "       width=\"24px\">\n",
              "    <path d=\"M0 0h24v24H0V0z\" fill=\"none\"/>\n",
              "    <path d=\"M18.56 5.44l.94 2.06.94-2.06 2.06-.94-2.06-.94-.94-2.06-.94 2.06-2.06.94zm-11 1L8.5 8.5l.94-2.06 2.06-.94-2.06-.94L8.5 2.5l-.94 2.06-2.06.94zm10 10l.94 2.06.94-2.06 2.06-.94-2.06-.94-.94-2.06-.94 2.06-2.06.94z\"/><path d=\"M17.41 7.96l-1.37-1.37c-.4-.4-.92-.59-1.43-.59-.52 0-1.04.2-1.43.59L10.3 9.45l-7.72 7.72c-.78.78-.78 2.05 0 2.83L4 21.41c.39.39.9.59 1.41.59.51 0 1.02-.2 1.41-.59l7.78-7.78 2.81-2.81c.8-.78.8-2.07 0-2.86zM5.41 20L4 18.59l7.72-7.72 1.47 1.35L5.41 20z\"/>\n",
              "  </svg>\n",
              "      </button>\n",
              "      \n",
              "  <style>\n",
              "    .colab-df-container {\n",
              "      display:flex;\n",
              "      flex-wrap:wrap;\n",
              "      gap: 12px;\n",
              "    }\n",
              "\n",
              "    .colab-df-convert {\n",
              "      background-color: #E8F0FE;\n",
              "      border: none;\n",
              "      border-radius: 50%;\n",
              "      cursor: pointer;\n",
              "      display: none;\n",
              "      fill: #1967D2;\n",
              "      height: 32px;\n",
              "      padding: 0 0 0 0;\n",
              "      width: 32px;\n",
              "    }\n",
              "\n",
              "    .colab-df-convert:hover {\n",
              "      background-color: #E2EBFA;\n",
              "      box-shadow: 0px 1px 2px rgba(60, 64, 67, 0.3), 0px 1px 3px 1px rgba(60, 64, 67, 0.15);\n",
              "      fill: #174EA6;\n",
              "    }\n",
              "\n",
              "    [theme=dark] .colab-df-convert {\n",
              "      background-color: #3B4455;\n",
              "      fill: #D2E3FC;\n",
              "    }\n",
              "\n",
              "    [theme=dark] .colab-df-convert:hover {\n",
              "      background-color: #434B5C;\n",
              "      box-shadow: 0px 1px 3px 1px rgba(0, 0, 0, 0.15);\n",
              "      filter: drop-shadow(0px 1px 2px rgba(0, 0, 0, 0.3));\n",
              "      fill: #FFFFFF;\n",
              "    }\n",
              "  </style>\n",
              "\n",
              "      <script>\n",
              "        const buttonEl =\n",
              "          document.querySelector('#df-312750c5-e351-4ae4-8cde-ff1f3dcf42e8 button.colab-df-convert');\n",
              "        buttonEl.style.display =\n",
              "          google.colab.kernel.accessAllowed ? 'block' : 'none';\n",
              "\n",
              "        async function convertToInteractive(key) {\n",
              "          const element = document.querySelector('#df-312750c5-e351-4ae4-8cde-ff1f3dcf42e8');\n",
              "          const dataTable =\n",
              "            await google.colab.kernel.invokeFunction('convertToInteractive',\n",
              "                                                     [key], {});\n",
              "          if (!dataTable) return;\n",
              "\n",
              "          const docLinkHtml = 'Like what you see? Visit the ' +\n",
              "            '<a target=\"_blank\" href=https://colab.research.google.com/notebooks/data_table.ipynb>data table notebook</a>'\n",
              "            + ' to learn more about interactive tables.';\n",
              "          element.innerHTML = '';\n",
              "          dataTable['output_type'] = 'display_data';\n",
              "          await google.colab.output.renderOutput(dataTable, element);\n",
              "          const docLink = document.createElement('div');\n",
              "          docLink.innerHTML = docLinkHtml;\n",
              "          element.appendChild(docLink);\n",
              "        }\n",
              "      </script>\n",
              "    </div>\n",
              "  </div>\n",
              "  "
            ]
          },
          "metadata": {},
          "execution_count": 43
        }
      ],
      "source": [
        "# Посмотрим на какой-нибудь айтем.\n",
        "\n",
        "interactions.query('item_id == 617')"
      ]
    },
    {
      "cell_type": "markdown",
      "id": "0900f5e5",
      "metadata": {
        "id": "0900f5e5"
      },
      "source": [
        "Вроде неплохо."
      ]
    },
    {
      "cell_type": "code",
      "execution_count": null,
      "id": "dff7175f",
      "metadata": {
        "colab": {
          "base_uri": "https://localhost:8080/",
          "height": 81
        },
        "id": "dff7175f",
        "outputId": "fe987d6e-6417-4780-e65c-c1d5fad9cea3"
      },
      "outputs": [
        {
          "output_type": "execute_result",
          "data": {
            "text/plain": [
              "       user_id  item_id last_watch_dt  total_dur  watched_pct\n",
              "64751   618365    15554    2021-04-06         39        100.0"
            ],
            "text/html": [
              "\n",
              "  <div id=\"df-0d2292bd-d76c-47e6-b7eb-c9d1ae68ab3f\">\n",
              "    <div class=\"colab-df-container\">\n",
              "      <div>\n",
              "<style scoped>\n",
              "    .dataframe tbody tr th:only-of-type {\n",
              "        vertical-align: middle;\n",
              "    }\n",
              "\n",
              "    .dataframe tbody tr th {\n",
              "        vertical-align: top;\n",
              "    }\n",
              "\n",
              "    .dataframe thead th {\n",
              "        text-align: right;\n",
              "    }\n",
              "</style>\n",
              "<table border=\"1\" class=\"dataframe\">\n",
              "  <thead>\n",
              "    <tr style=\"text-align: right;\">\n",
              "      <th></th>\n",
              "      <th>user_id</th>\n",
              "      <th>item_id</th>\n",
              "      <th>last_watch_dt</th>\n",
              "      <th>total_dur</th>\n",
              "      <th>watched_pct</th>\n",
              "    </tr>\n",
              "  </thead>\n",
              "  <tbody>\n",
              "    <tr>\n",
              "      <th>64751</th>\n",
              "      <td>618365</td>\n",
              "      <td>15554</td>\n",
              "      <td>2021-04-06</td>\n",
              "      <td>39</td>\n",
              "      <td>100.0</td>\n",
              "    </tr>\n",
              "  </tbody>\n",
              "</table>\n",
              "</div>\n",
              "      <button class=\"colab-df-convert\" onclick=\"convertToInteractive('df-0d2292bd-d76c-47e6-b7eb-c9d1ae68ab3f')\"\n",
              "              title=\"Convert this dataframe to an interactive table.\"\n",
              "              style=\"display:none;\">\n",
              "        \n",
              "  <svg xmlns=\"http://www.w3.org/2000/svg\" height=\"24px\"viewBox=\"0 0 24 24\"\n",
              "       width=\"24px\">\n",
              "    <path d=\"M0 0h24v24H0V0z\" fill=\"none\"/>\n",
              "    <path d=\"M18.56 5.44l.94 2.06.94-2.06 2.06-.94-2.06-.94-.94-2.06-.94 2.06-2.06.94zm-11 1L8.5 8.5l.94-2.06 2.06-.94-2.06-.94L8.5 2.5l-.94 2.06-2.06.94zm10 10l.94 2.06.94-2.06 2.06-.94-2.06-.94-.94-2.06-.94 2.06-2.06.94z\"/><path d=\"M17.41 7.96l-1.37-1.37c-.4-.4-.92-.59-1.43-.59-.52 0-1.04.2-1.43.59L10.3 9.45l-7.72 7.72c-.78.78-.78 2.05 0 2.83L4 21.41c.39.39.9.59 1.41.59.51 0 1.02-.2 1.41-.59l7.78-7.78 2.81-2.81c.8-.78.8-2.07 0-2.86zM5.41 20L4 18.59l7.72-7.72 1.47 1.35L5.41 20z\"/>\n",
              "  </svg>\n",
              "      </button>\n",
              "      \n",
              "  <style>\n",
              "    .colab-df-container {\n",
              "      display:flex;\n",
              "      flex-wrap:wrap;\n",
              "      gap: 12px;\n",
              "    }\n",
              "\n",
              "    .colab-df-convert {\n",
              "      background-color: #E8F0FE;\n",
              "      border: none;\n",
              "      border-radius: 50%;\n",
              "      cursor: pointer;\n",
              "      display: none;\n",
              "      fill: #1967D2;\n",
              "      height: 32px;\n",
              "      padding: 0 0 0 0;\n",
              "      width: 32px;\n",
              "    }\n",
              "\n",
              "    .colab-df-convert:hover {\n",
              "      background-color: #E2EBFA;\n",
              "      box-shadow: 0px 1px 2px rgba(60, 64, 67, 0.3), 0px 1px 3px 1px rgba(60, 64, 67, 0.15);\n",
              "      fill: #174EA6;\n",
              "    }\n",
              "\n",
              "    [theme=dark] .colab-df-convert {\n",
              "      background-color: #3B4455;\n",
              "      fill: #D2E3FC;\n",
              "    }\n",
              "\n",
              "    [theme=dark] .colab-df-convert:hover {\n",
              "      background-color: #434B5C;\n",
              "      box-shadow: 0px 1px 3px 1px rgba(0, 0, 0, 0.15);\n",
              "      filter: drop-shadow(0px 1px 2px rgba(0, 0, 0, 0.3));\n",
              "      fill: #FFFFFF;\n",
              "    }\n",
              "  </style>\n",
              "\n",
              "      <script>\n",
              "        const buttonEl =\n",
              "          document.querySelector('#df-0d2292bd-d76c-47e6-b7eb-c9d1ae68ab3f button.colab-df-convert');\n",
              "        buttonEl.style.display =\n",
              "          google.colab.kernel.accessAllowed ? 'block' : 'none';\n",
              "\n",
              "        async function convertToInteractive(key) {\n",
              "          const element = document.querySelector('#df-0d2292bd-d76c-47e6-b7eb-c9d1ae68ab3f');\n",
              "          const dataTable =\n",
              "            await google.colab.kernel.invokeFunction('convertToInteractive',\n",
              "                                                     [key], {});\n",
              "          if (!dataTable) return;\n",
              "\n",
              "          const docLinkHtml = 'Like what you see? Visit the ' +\n",
              "            '<a target=\"_blank\" href=https://colab.research.google.com/notebooks/data_table.ipynb>data table notebook</a>'\n",
              "            + ' to learn more about interactive tables.';\n",
              "          element.innerHTML = '';\n",
              "          dataTable['output_type'] = 'display_data';\n",
              "          await google.colab.output.renderOutput(dataTable, element);\n",
              "          const docLink = document.createElement('div');\n",
              "          docLink.innerHTML = docLinkHtml;\n",
              "          element.appendChild(docLink);\n",
              "        }\n",
              "      </script>\n",
              "    </div>\n",
              "  </div>\n",
              "  "
            ]
          },
          "metadata": {},
          "execution_count": 44
        }
      ],
      "source": [
        "# Посмотрим, как обработался айтем с одним просмотром.\n",
        "\n",
        "interactions.query('item_id == 15554')"
      ]
    },
    {
      "cell_type": "markdown",
      "id": "fae95d46",
      "metadata": {
        "id": "fae95d46"
      },
      "source": [
        "За неимением другой информации будем считать это 100%."
      ]
    },
    {
      "cell_type": "markdown",
      "id": "87f8a045",
      "metadata": {
        "id": "87f8a045"
      },
      "source": [
        "### Обнуление коротких просмотров."
      ]
    },
    {
      "cell_type": "code",
      "execution_count": null,
      "id": "ec8a1bf9",
      "metadata": {
        "id": "ec8a1bf9"
      },
      "outputs": [],
      "source": [
        "interactions.loc[interactions.query('total_dur < 500').index, ['total_dur', 'watched_pct']] = 0"
      ]
    },
    {
      "cell_type": "code",
      "execution_count": null,
      "id": "8ab1917b",
      "metadata": {
        "id": "8ab1917b"
      },
      "outputs": [],
      "source": [
        "interactions.to_parquet('/content/drive/MyDrive/HW/interactions_02.parquet')\n",
        "#interactions.to_csv('/content/drive/MyDrive/HW/interactions_02.csv')"
      ]
    },
    {
      "cell_type": "code",
      "source": [
        "# Мы удаляли выбросы. Поэтому переиндексуем датасет.\n",
        "\n",
        "interactions.reset_index(drop=True, inplace=True)"
      ],
      "metadata": {
        "id": "B5M3aE9MIwdj"
      },
      "id": "B5M3aE9MIwdj",
      "execution_count": null,
      "outputs": []
    },
    {
      "cell_type": "markdown",
      "id": "f8f98a29",
      "metadata": {
        "id": "f8f98a29"
      },
      "source": [
        "# Дизайн эксперимента"
      ]
    },
    {
      "cell_type": "markdown",
      "source": [
        "## Создание агрегированного датасета"
      ],
      "metadata": {
        "id": "aWwlyIIOk319"
      },
      "id": "aWwlyIIOk319"
    },
    {
      "cell_type": "code",
      "execution_count": 3,
      "id": "c402dd4b",
      "metadata": {
        "id": "c402dd4b"
      },
      "outputs": [],
      "source": [
        "interactions = pd.read_parquet('/content/drive/MyDrive/HW/interactions_02.parquet')\n",
        "interactions.reset_index(drop=True, inplace=True)"
      ]
    },
    {
      "cell_type": "markdown",
      "id": "a79eb8cd",
      "metadata": {
        "id": "a79eb8cd"
      },
      "source": [
        "Мы знаем, что эксперимент будет длиться 2 недели: с 01 по 14 августа. Допустим, сейчас 26 июля 2021 г. и у нас неделя на подготовку. Тогда период, за который у нас есть исторические данные, - 13.03.2021-25.07.2021. При этом у нас нет данных за предыдущие годы, чтобы на их основе выявить сезонность. Поэтому для дизайна возьмём самые свежие данные: **12.07-25.07**."
      ]
    },
    {
      "cell_type": "code",
      "execution_count": 5,
      "id": "737530aa",
      "metadata": {
        "id": "737530aa"
      },
      "outputs": [],
      "source": [
        "# Возьмём нужные 2 недели.\n",
        "\n",
        "interactions.last_watch_dt = pd.to_datetime(interactions.last_watch_dt)\n",
        "\n",
        "inter2 = interactions[(interactions.last_watch_dt >= pd.to_datetime('2021-07-12'))\n",
        "              & (interactions.last_watch_dt <= pd.to_datetime('2021-07-25'))]"
      ]
    },
    {
      "cell_type": "code",
      "execution_count": 6,
      "id": "45f98457",
      "metadata": {
        "id": "45f98457"
      },
      "outputs": [],
      "source": [
        "# Сагрегируем датасет и дропнем то, что не войдёт в агрегацию.\n",
        "\n",
        "sim = inter2.drop(['last_watch_dt', 'item_id'], axis=1)\n",
        "\n",
        "sim = sim.groupby('user_id', as_index=False).agg(\n",
        "    quantity=('total_dur', 'count'),\n",
        "    total_dur=('total_dur', np.sum),\n",
        "    watched_pct=('watched_pct', np.mean))\n",
        "\n",
        "sim.loc[sim.query('total_dur == 0').index, 'quantity'] = 0"
      ]
    },
    {
      "cell_type": "code",
      "execution_count": 7,
      "id": "8949d85c",
      "metadata": {
        "colab": {
          "base_uri": "https://localhost:8080/"
        },
        "id": "8949d85c",
        "outputId": "d3bae35f-72fa-45f4-ce44-91e4217a2ad3"
      },
      "outputs": [
        {
          "output_type": "stream",
          "name": "stdout",
          "text": [
            "<class 'pandas.core.frame.DataFrame'>\n",
            "RangeIndex: 219356 entries, 0 to 219355\n",
            "Data columns (total 4 columns):\n",
            " #   Column       Non-Null Count   Dtype  \n",
            "---  ------       --------------   -----  \n",
            " 0   user_id      219356 non-null  int64  \n",
            " 1   quantity     219356 non-null  int64  \n",
            " 2   total_dur    219356 non-null  int64  \n",
            " 3   watched_pct  219356 non-null  float64\n",
            "dtypes: float64(1), int64(3)\n",
            "memory usage: 6.7 MB\n"
          ]
        }
      ],
      "source": [
        "sim.info()"
      ]
    },
    {
      "cell_type": "markdown",
      "source": [
        "В симуляцию вошло 219356 уникальных пользователей."
      ],
      "metadata": {
        "id": "MkIU5TwvOJqo"
      },
      "id": "MkIU5TwvOJqo"
    },
    {
      "cell_type": "code",
      "source": [
        "print(sim.query('total_dur > 14 * 24 * 60 * 60').shape[0])\n",
        "print('{}%'.format(round(sim.query('total_dur > 14 * 24 * 60 * 60').shape[0] / sim.shape[0] * 100, 2)))"
      ],
      "metadata": {
        "colab": {
          "base_uri": "https://localhost:8080/"
        },
        "id": "1rwJYVTeOSyU",
        "outputId": "facb37f5-c6b5-4969-8970-b658913589c6"
      },
      "id": "1rwJYVTeOSyU",
      "execution_count": 8,
      "outputs": [
        {
          "output_type": "stream",
          "name": "stdout",
          "text": [
            "14\n",
            "0.01%\n"
          ]
        }
      ]
    },
    {
      "cell_type": "markdown",
      "source": [
        "Из них 14, или 0.01% посмотрели суммарно за две недели больше двух недель. Дропнем их. "
      ],
      "metadata": {
        "id": "zRDJEmOGcfUH"
      },
      "id": "zRDJEmOGcfUH"
    },
    {
      "cell_type": "code",
      "source": [
        "sim = sim.drop(sim.query('total_dur > 14 * 24 * 60 * 60').index, axis=0)"
      ],
      "metadata": {
        "id": "CqMhnGK9dGlN"
      },
      "id": "CqMhnGK9dGlN",
      "execution_count": 9,
      "outputs": []
    },
    {
      "cell_type": "markdown",
      "id": "94334bc6",
      "metadata": {
        "id": "94334bc6"
      },
      "source": [
        "## Обзор потенциальных метрик"
      ]
    },
    {
      "cell_type": "markdown",
      "id": "64ed3012",
      "metadata": {
        "id": "64ed3012"
      },
      "source": [
        "### total_dur"
      ]
    },
    {
      "cell_type": "code",
      "execution_count": null,
      "id": "1ea09c98",
      "metadata": {
        "colab": {
          "base_uri": "https://localhost:8080/",
          "height": 465
        },
        "id": "1ea09c98",
        "outputId": "3d3debb4-79d5-4bc3-ac94-029e595a3d26"
      },
      "outputs": [
        {
          "output_type": "display_data",
          "data": {
            "text/plain": [
              "<Figure size 1500x500 with 1 Axes>"
            ],
            "image/png": "[encoded data removed]"
          },
          "metadata": {}
        }
      ],
      "source": [
        "fig, ax = plt.subplots(figsize=(15, 5))\n",
        "ax.set_xlim(0, 40000)\n",
        "sns.histplot(data=sim, x='total_dur', bins=5000, color='blue');"
      ]
    },
    {
      "cell_type": "markdown",
      "source": [
        "На гистограмме хорошо видно нулевые просмотры, гэп до 500 секунд и остальное распределение. Преобладает короткое смотрение, затем частоты идут на спад с некоторым подъёмом в районе 6000 секунд. Это соответствует продолжительности одного полнометражного фильма. Стоит ожидать большого числа единиц в `quantity`."
      ],
      "metadata": {
        "id": "v6LGhLEzer_Z"
      },
      "id": "v6LGhLEzer_Z"
    },
    {
      "cell_type": "markdown",
      "id": "40f959a9",
      "metadata": {
        "id": "40f959a9"
      },
      "source": [
        "### quantity"
      ]
    },
    {
      "cell_type": "code",
      "execution_count": null,
      "id": "ab1e22d9",
      "metadata": {
        "colab": {
          "base_uri": "https://localhost:8080/",
          "height": 465
        },
        "id": "ab1e22d9",
        "outputId": "670d86fa-b3e5-4058-93d3-10e8c18713cc"
      },
      "outputs": [
        {
          "output_type": "display_data",
          "data": {
            "text/plain": [
              "<Figure size 1500x500 with 1 Axes>"
            ],
            "image/png": "[encoded data removed]"
          },
          "metadata": {}
        }
      ],
      "source": [
        "fig, ax = plt.subplots(figsize=(15, 5))\n",
        "ax.set_xlim(0, 40)\n",
        "sns.histplot(data=sim, x='quantity', bins=1000, color='blue');"
      ]
    },
    {
      "cell_type": "markdown",
      "id": "fae5ca58",
      "metadata": {
        "id": "fae5ca58"
      },
      "source": [
        "Большинство пользователей зашло 1 раз за две недели."
      ]
    },
    {
      "cell_type": "markdown",
      "id": "09da6749",
      "metadata": {
        "id": "09da6749"
      },
      "source": [
        "### watched_pct"
      ]
    },
    {
      "cell_type": "code",
      "execution_count": null,
      "id": "e9cd0eb4",
      "metadata": {
        "colab": {
          "base_uri": "https://localhost:8080/",
          "height": 465
        },
        "id": "e9cd0eb4",
        "outputId": "0b2221b6-d7f7-4372-ca61-60f9050a73bf"
      },
      "outputs": [
        {
          "output_type": "display_data",
          "data": {
            "text/plain": [
              "<Figure size 1500x500 with 1 Axes>"
            ],
            "image/png": "[encoded data removed]"
          },
          "metadata": {}
        }
      ],
      "source": [
        "fig, ax = plt.subplots(figsize=(15, 5))\n",
        "ax.set_xlim(0, 100)\n",
        "sns.histplot(data=sim, x='watched_pct', bins=200, color='blue');"
      ]
    },
    {
      "cell_type": "markdown",
      "id": "f806ab99",
      "metadata": {
        "id": "f806ab99"
      },
      "source": [
        "`watched_pct` показывает, что многие пользователи, если смотрят контент, то до конца."
      ]
    },
    {
      "cell_type": "code",
      "execution_count": null,
      "id": "bf24b1d6",
      "metadata": {
        "colab": {
          "base_uri": "https://localhost:8080/",
          "height": 465
        },
        "id": "bf24b1d6",
        "outputId": "f9e7c82a-3a3f-420d-edba-fb092d0a1cf6"
      },
      "outputs": [
        {
          "output_type": "display_data",
          "data": {
            "text/plain": [
              "<Figure size 1500x500 with 1 Axes>"
            ],
            "image/png": "[encoded data removed]"
          },
          "metadata": {}
        }
      ],
      "source": [
        "# Остальные выглядят вот так.\n",
        "\n",
        "fig, ax = plt.subplots(figsize=(15, 5))\n",
        "ax.set_xlim(0, 100)\n",
        "sns.histplot(data=sim.query('0 < watched_pct < 100'), x='watched_pct', bins=500, color='blue');"
      ]
    },
    {
      "cell_type": "markdown",
      "source": [
        "Явная мода в 50%."
      ],
      "metadata": {
        "id": "s-Szi2WvtDMX"
      },
      "id": "s-Szi2WvtDMX"
    },
    {
      "cell_type": "markdown",
      "id": "32ca6442",
      "metadata": {
        "id": "32ca6442"
      },
      "source": [
        "## Проверка метрик на ЦПТ"
      ]
    },
    {
      "cell_type": "code",
      "execution_count": 11,
      "id": "96fa3509",
      "metadata": {
        "id": "96fa3509"
      },
      "outputs": [],
      "source": [
        "def test_CPT(a, alpha=0.05):\n",
        "    \n",
        "    normaltest_pv = stats.normaltest(a)[1]\n",
        "    shapiro_pv = stats.shapiro(a)[1]\n",
        "        \n",
        "    fig = plt.figure()\n",
        "    ax = fig.add_subplot(111)\n",
        "    res = scipy.stats.probplot(a, dist='norm', plot=ax)\n",
        "    plt.show()\n",
        "\n",
        "    return {'normaltest': [normaltest_pv, normaltest_pv > alpha], 'shapiro': [shapiro_pv, shapiro_pv > alpha]}"
      ]
    },
    {
      "cell_type": "code",
      "execution_count": 12,
      "id": "9af598d0",
      "metadata": {
        "id": "9af598d0"
      },
      "outputs": [],
      "source": [
        "def get_bootstrap_array(arr):\n",
        "    return np.random.choice(arr, replace=True, size=len(arr))\n",
        "\n",
        "def calc_bootstrap_mean(arr, size=1000):\n",
        "    result = np.empty(size)\n",
        "    for i in range(size):\n",
        "        result[i] = np.mean(get_bootstrap_array(arr))\n",
        "    return result"
      ]
    },
    {
      "cell_type": "code",
      "execution_count": null,
      "id": "2fdd4d6c",
      "metadata": {
        "colab": {
          "base_uri": "https://localhost:8080/",
          "height": 1000
        },
        "id": "2fdd4d6c",
        "outputId": "eb542b35-72ff-4b3f-a80f-5658ba6c6d93"
      },
      "outputs": [
        {
          "output_type": "display_data",
          "data": {
            "text/plain": [
              "<Figure size 700x700 with 1 Axes>"
            ],
            "image/png": "[encoded data removed]"
          },
          "metadata": {}
        },
        {
          "output_type": "display_data",
          "data": {
            "text/plain": [
              "<Figure size 640x480 with 1 Axes>"
            ],
            "image/png": "[encoded data removed]"
          },
          "metadata": {}
        },
        {
          "output_type": "execute_result",
          "data": {
            "text/plain": [
              "{'normaltest': [0.5954403248209799, True],\n",
              " 'shapiro': [0.38321933150291443, True]}"
            ]
          },
          "metadata": {},
          "execution_count": 22
        }
      ],
      "source": [
        "# total_dur\n",
        "\n",
        "a = calc_bootstrap_mean(sim.total_dur, size=1000)\n",
        "\n",
        "plt.figure(figsize=(7,7))\n",
        "plt.hist(a, bins=50, color='red',  linewidth=2);\n",
        "plt.show()\n",
        "\n",
        "test_CPT(a, alpha=0.05)"
      ]
    },
    {
      "cell_type": "code",
      "execution_count": 15,
      "id": "c2c94f2e",
      "metadata": {
        "colab": {
          "base_uri": "https://localhost:8080/",
          "height": 1000
        },
        "id": "c2c94f2e",
        "outputId": "cb34cc92-3b40-4443-db9b-414a4941d476"
      },
      "outputs": [
        {
          "output_type": "display_data",
          "data": {
            "text/plain": [
              "<Figure size 700x700 with 1 Axes>"
            ],
            "image/png": "[encoded data removed]"
          },
          "metadata": {}
        },
        {
          "output_type": "display_data",
          "data": {
            "text/plain": [
              "<Figure size 640x480 with 1 Axes>"
            ],
            "image/png": "[encoded data removed]"
          },
          "metadata": {}
        },
        {
          "output_type": "execute_result",
          "data": {
            "text/plain": [
              "{'normaltest': [0.09484455874758371, True],\n",
              " 'shapiro': [0.13371391594409943, True]}"
            ]
          },
          "metadata": {},
          "execution_count": 15
        }
      ],
      "source": [
        "# quantity\n",
        "\n",
        "a = calc_bootstrap_mean(sim.quantity, size=1000)\n",
        "\n",
        "plt.figure(figsize=(7,7))\n",
        "plt.hist(a, bins=50, color='red',  linewidth=2);\n",
        "plt.show()\n",
        "\n",
        "test_CPT(a, alpha=0.05)"
      ]
    },
    {
      "cell_type": "code",
      "execution_count": 16,
      "id": "4fa5033d",
      "metadata": {
        "colab": {
          "base_uri": "https://localhost:8080/",
          "height": 1000
        },
        "id": "4fa5033d",
        "outputId": "0f1122b7-832c-42a5-9223-0e14913daa02"
      },
      "outputs": [
        {
          "output_type": "display_data",
          "data": {
            "text/plain": [
              "<Figure size 700x700 with 1 Axes>"
            ],
            "image/png": "[encoded data removed]"
          },
          "metadata": {}
        },
        {
          "output_type": "display_data",
          "data": {
            "text/plain": [
              "<Figure size 640x480 with 1 Axes>"
            ],
            "image/png": "[encoded data removed]"
          },
          "metadata": {}
        },
        {
          "output_type": "execute_result",
          "data": {
            "text/plain": [
              "{'normaltest': [0.7695171117894353, True],\n",
              " 'shapiro': [0.8573013544082642, True]}"
            ]
          },
          "metadata": {},
          "execution_count": 16
        }
      ],
      "source": [
        "# watched_pct\n",
        "\n",
        "a = calc_bootstrap_mean(sim.watched_pct, size=1000)\n",
        "\n",
        "plt.figure(figsize=(7,7))\n",
        "plt.hist(a, bins=50, color='red',  linewidth=2);\n",
        "plt.show()\n",
        "\n",
        "test_CPT(a, alpha=0.05)"
      ]
    },
    {
      "cell_type": "markdown",
      "id": "f9e5f785",
      "metadata": {
        "id": "f9e5f785"
      },
      "source": [
        "1. Все метрики чаще всего удовлетворяют ЦПТ на 1000 случайных величин. Значит, для них можно вычислить MDE и к ним можно применять параметрические тесты."
      ]
    },
    {
      "cell_type": "markdown",
      "id": "228679d0",
      "metadata": {
        "id": "228679d0"
      },
      "source": [
        "## Расчёт MDE метрик"
      ]
    },
    {
      "cell_type": "code",
      "execution_count": 17,
      "id": "32af0131",
      "metadata": {
        "id": "32af0131"
      },
      "outputs": [],
      "source": [
        "def get_mde(metric, alpha=0.05, beta=0.2):\n",
        "    \n",
        "    metric_mean, metric_std, metric_n = metric.mean(), metric.std(), metric.shape[0]\n",
        "    \n",
        "    z_alpha = stats.norm.ppf(1-(alpha / 2), loc=0, scale=1)\n",
        "    z_beta = stats.norm.ppf(1-beta, loc=0, scale=1)\n",
        "    \n",
        "    mde = (z_alpha + z_beta)*metric_std / np.sqrt(metric_n)\n",
        "    \n",
        "    return mde*100/metric_mean"
      ]
    },
    {
      "cell_type": "code",
      "execution_count": 18,
      "id": "774cca08",
      "metadata": {
        "colab": {
          "base_uri": "https://localhost:8080/"
        },
        "id": "774cca08",
        "outputId": "3fe1b681-8fff-4d05-e642-9cf481ab527e"
      },
      "outputs": [
        {
          "output_type": "stream",
          "name": "stdout",
          "text": [
            "MDE total_dur = 1.3957049419055167\n",
            "MDE quantity = 0.8747070573666043\n",
            "MDE watched_pct = 0.48182133863333565\n"
          ]
        }
      ],
      "source": [
        "print('MDE total_dur =', get_mde(sim.total_dur, alpha=0.05, beta=0.2))\n",
        "print('MDE quantity =', get_mde(sim.quantity, alpha=0.05, beta=0.2))\n",
        "print('MDE watched_pct =', get_mde(sim.watched_pct, alpha=0.05, beta=0.2))"
      ]
    },
    {
      "cell_type": "markdown",
      "id": "08e3bbbd",
      "metadata": {
        "id": "08e3bbbd"
      },
      "source": [
        "Все метрики на 2 неделях позволяют поймать достаточно малый эффект."
      ]
    },
    {
      "cell_type": "markdown",
      "id": "e1ec8657",
      "metadata": {
        "id": "e1ec8657"
      },
      "source": [
        "## Проверка мощности и корректности метрик на t-тесте с эффектом 1.02"
      ]
    },
    {
      "cell_type": "code",
      "execution_count": 10,
      "id": "cf746f85",
      "metadata": {
        "id": "cf746f85"
      },
      "outputs": [],
      "source": [
        "def salt_generator(salt=None):\n",
        "    import os\n",
        "    from base64 import b64encode\n",
        "    salt = os.urandom(8)\n",
        "    \n",
        "    return b64encode(salt).decode('ascii')"
      ]
    },
    {
      "cell_type": "code",
      "execution_count": 11,
      "id": "0db6646e",
      "metadata": {
        "id": "0db6646e"
      },
      "outputs": [],
      "source": [
        "def groups_splitter(df, user_salt=None):\n",
        "    \n",
        "    if user_salt == None:\n",
        "        salt = salt_generator()\n",
        "    else:\n",
        "        salt = user_salt\n",
        "    \n",
        "    df['hash'] = ((df['user_id'].astype(str)) + '#' + salt).apply(lambda x: hashlib.sha256(x.encode('utf-8')).hexdigest())\n",
        "\n",
        "    df['group'] = ((df['hash'].str.slice(start=-6).apply(int, base=16) % 2).map(lambda x: 'A' if x == 0 else 'B'))\n",
        "\n",
        "    return df[['user_id', 'group']].drop_duplicates()"
      ]
    },
    {
      "cell_type": "code",
      "execution_count": null,
      "id": "a0299134",
      "metadata": {
        "colab": {
          "base_uri": "https://localhost:8080/",
          "height": 503
        },
        "id": "a0299134",
        "outputId": "db4175c5-4b29-49dc-da04-bd436ab0fa25"
      },
      "outputs": [
        {
          "output_type": "stream",
          "name": "stderr",
          "text": [
            "100%|██████████| 1000/1000 [11:44<00:00,  1.42it/s]\n"
          ]
        },
        {
          "output_type": "stream",
          "name": "stdout",
          "text": [
            "Effect = 1.97%\n"
          ]
        },
        {
          "output_type": "display_data",
          "data": {
            "text/plain": [
              "<Figure size 1500x500 with 2 Axes>"
            ],
            "image/png": "[encoded data removed]"
          },
          "metadata": {}
        }
      ],
      "source": [
        "# total_dur - t-тест\n",
        "\n",
        "effect = []\n",
        "power = []\n",
        "correctness = []\n",
        "\n",
        "for i in tqdm(range(1000)):\n",
        "    \n",
        "    groups = groups_splitter(sim.copy(), user_salt=salt_generator())\n",
        "    df = pd.merge(sim, groups, how=\"left\", on=['user_id']).drop_duplicates()\n",
        "    \n",
        "    a = df[df['group'] == 'A']['total_dur']\n",
        "    b = df[df['group'] == 'B']['total_dur']\n",
        "    b_effect = b * 1.02\n",
        "    \n",
        "    effect.append((b_effect.mean() - a.mean()) / a.mean())\n",
        "\n",
        "    p_power, p_cor = stats.ttest_ind(a, b_effect)[1], stats.ttest_ind(a, b)[1]\n",
        "    power.append(p_power)\n",
        "    correctness.append(p_cor)\n",
        "    \n",
        "power = np.array(power)\n",
        "correctness = np.array(correctness)\n",
        "\n",
        "fig, ax = plt.subplots(1, 2, figsize=(15, 5))\n",
        "\n",
        "sns.histplot(data=power, bins=10, color='blue', ax=ax[0])\n",
        "ax[0].set_title(f'POWER = {power[power < 0.05].shape[0] / power.shape[0]}')\n",
        "\n",
        "sns.histplot(data=correctness, bins=10, color='purple', ax=ax[1])\n",
        "ax[1].set_title(f'CORRECTNESS = {1 - (correctness[correctness < 0.05].shape[0] / correctness.shape[0])}')\n",
        "\n",
        "print(f'Effect = {round(np.array(effect).mean() * 100, 2)}%')"
      ]
    },
    {
      "cell_type": "code",
      "execution_count": null,
      "id": "27122533",
      "metadata": {
        "colab": {
          "base_uri": "https://localhost:8080/",
          "height": 503
        },
        "id": "27122533",
        "outputId": "8cf30699-120f-4171-8c30-2fedc814773f"
      },
      "outputs": [
        {
          "output_type": "stream",
          "name": "stderr",
          "text": [
            "100%|██████████| 1000/1000 [11:57<00:00,  1.39it/s]\n"
          ]
        },
        {
          "output_type": "stream",
          "name": "stdout",
          "text": [
            "Effect = 2.02%\n"
          ]
        },
        {
          "output_type": "display_data",
          "data": {
            "text/plain": [
              "<Figure size 1500x500 with 2 Axes>"
            ],
            "image/png": "[encoded data removed]"
          },
          "metadata": {}
        }
      ],
      "source": [
        "# quantity - t-тест\n",
        "\n",
        "effect = []\n",
        "power = []\n",
        "correctness = []\n",
        "\n",
        "for i in tqdm(range(1000)):\n",
        "    \n",
        "    groups = groups_splitter(sim.copy(), user_salt=salt_generator())\n",
        "    df = pd.merge(sim, groups, how=\"left\", on=['user_id']).drop_duplicates()\n",
        "    \n",
        "    a = df[df['group'] == 'A']['quantity']\n",
        "    b = df[df['group'] == 'B']['quantity']\n",
        "    b_effect = b * 1.02\n",
        "    \n",
        "    effect.append((b_effect.mean() - a.mean()) / a.mean())\n",
        "\n",
        "    p_power, p_cor = stats.ttest_ind(a, b_effect)[1], stats.ttest_ind(a, b)[1]\n",
        "    power.append(p_power)\n",
        "    correctness.append(p_cor)\n",
        "    \n",
        "power = np.array(power)\n",
        "correctness = np.array(correctness)\n",
        "\n",
        "fig, ax = plt.subplots(1, 2, figsize=(15, 5))\n",
        "\n",
        "sns.histplot(data=power, bins=10, color='blue', ax=ax[0])\n",
        "ax[0].set_title(f'POWER = {power[power < 0.05].shape[0] / power.shape[0]}')\n",
        "\n",
        "sns.histplot(data=correctness, bins=10, color='purple', ax=ax[1])\n",
        "ax[1].set_title(f'CORRECTNESS = {1 - (correctness[correctness < 0.05].shape[0] / correctness.shape[0])}')\n",
        "\n",
        "print(f'Effect = {round(np.array(effect).mean() * 100, 2)}%')"
      ]
    },
    {
      "cell_type": "code",
      "source": [
        "# watched_pct - t-тест\n",
        "\n",
        "effect = []\n",
        "power = []\n",
        "correctness = []\n",
        "\n",
        "for i in tqdm(range(1000)):\n",
        "    \n",
        "    groups = groups_splitter(sim.copy(), user_salt=salt_generator())\n",
        "    df = pd.merge(sim, groups, how=\"left\", on=['user_id']).drop_duplicates()\n",
        "    \n",
        "    a = df[df['group'] == 'A']['watched_pct']\n",
        "    b = df[df['group'] == 'B']['watched_pct']\n",
        "    b_effect = b * 1.02\n",
        "    \n",
        "    effect.append((b_effect.mean() - a.mean()) / a.mean())\n",
        "\n",
        "    p_power, p_cor = stats.ttest_ind(a, b_effect)[1], stats.ttest_ind(a, b)[1]\n",
        "    power.append(p_power)\n",
        "    correctness.append(p_cor)\n",
        "    \n",
        "power = np.array(power)\n",
        "correctness = np.array(correctness)\n",
        "\n",
        "fig, ax = plt.subplots(1, 2, figsize=(15, 5))\n",
        "\n",
        "sns.histplot(data=power, bins=10, color='blue', ax=ax[0])\n",
        "ax[0].set_title(f'POWER = {power[power < 0.05].shape[0] / power.shape[0]}')\n",
        "\n",
        "sns.histplot(data=correctness, bins=10, color='purple', ax=ax[1])\n",
        "ax[1].set_title(f'CORRECTNESS = {1 - (correctness[correctness < 0.05].shape[0] / correctness.shape[0])}')\n",
        "\n",
        "print(f'Effect = {round(np.array(effect).mean() * 100, 2)}%')"
      ],
      "metadata": {
        "colab": {
          "base_uri": "https://localhost:8080/",
          "height": 505
        },
        "id": "ugGqvXwqBgN_",
        "outputId": "2f0ce936-9489-4dc1-b490-062bc33e5e7d"
      },
      "id": "ugGqvXwqBgN_",
      "execution_count": 21,
      "outputs": [
        {
          "output_type": "stream",
          "name": "stderr",
          "text": [
            "100%|██████████| 1000/1000 [17:23<00:00,  1.04s/it]\n"
          ]
        },
        {
          "output_type": "stream",
          "name": "stdout",
          "text": [
            "Effect = 2.01%\n"
          ]
        },
        {
          "output_type": "display_data",
          "data": {
            "text/plain": [
              "<Figure size 1500x500 with 2 Axes>"
            ],
            "image/png": "[encoded data removed]"
          },
          "metadata": {}
        }
      ]
    },
    {
      "cell_type": "markdown",
      "id": "1324f8ca",
      "metadata": {
        "id": "1324f8ca"
      },
      "source": [
        "**Выводы**\n",
        "- В качестве метрики хотелось бы использовать `total_dur`. Но для этого её надо улучшить преобразованиями или использовать другие статистистические критерии.\n",
        "- `quantity` уже сейчас показывает себя неплохо. Можно её поулучшать и использовать в качестве запасного варианта.\n",
        "- `watched_pct` показывает мощность 100%, но использовать мы эту метрику будем только в крайнем случае."
      ]
    },
    {
      "cell_type": "markdown",
      "source": [
        "## Повышение мощности и выбор метрик"
      ],
      "metadata": {
        "id": "AuTegHJ9lhBj"
      },
      "id": "AuTegHJ9lhBj"
    },
    {
      "cell_type": "markdown",
      "id": "9a6b1a7d",
      "metadata": {
        "id": "9a6b1a7d"
      },
      "source": [
        "### CUPED"
      ]
    },
    {
      "cell_type": "code",
      "source": [
        "# Возьмём все более ранние взаимодействия.\n",
        "\n",
        "inter1 = interactions[interactions.last_watch_dt <= pd.to_datetime('2021-07-11')]"
      ],
      "metadata": {
        "id": "OdK_eV3oQ1Qk"
      },
      "id": "OdK_eV3oQ1Qk",
      "execution_count": 22,
      "outputs": []
    },
    {
      "cell_type": "code",
      "source": [
        "# Количество уникальных пользователей.\n",
        "\n",
        "inter1.user_id.nunique()"
      ],
      "metadata": {
        "colab": {
          "base_uri": "https://localhost:8080/"
        },
        "id": "O60d7DTC1ZYG",
        "outputId": "c411a19e-8ec0-4b91-fcf3-a3167d900f65"
      },
      "id": "O60d7DTC1ZYG",
      "execution_count": 23,
      "outputs": [
        {
          "output_type": "execute_result",
          "data": {
            "text/plain": [
              "646412"
            ]
          },
          "metadata": {},
          "execution_count": 23
        }
      ]
    },
    {
      "cell_type": "code",
      "source": [
        "wanted_users = sim.user_id.unique()\n",
        "print(inter1[inter1.user_id.isin(wanted_users)].user_id.nunique())\n",
        "print(round(inter1[inter1.user_id.isin(wanted_users)].user_id.nunique() / len(sim), 2))"
      ],
      "metadata": {
        "colab": {
          "base_uri": "https://localhost:8080/"
        },
        "id": "on8aYVh603Y5",
        "outputId": "b1e4d5c9-835e-45a8-b1ad-d2d5fbffc3fb"
      },
      "id": "on8aYVh603Y5",
      "execution_count": 24,
      "outputs": [
        {
          "output_type": "stream",
          "name": "stdout",
          "text": [
            "123510\n",
            "0.56\n"
          ]
        }
      ]
    },
    {
      "cell_type": "markdown",
      "source": [
        "У нас есть исторические данные только по 56% пользователей. С таким `retention` CUPED использовать нельзя."
      ],
      "metadata": {
        "id": "-TFB8xvN18yH"
      },
      "id": "-TFB8xvN18yH"
    },
    {
      "cell_type": "markdown",
      "source": [
        "### Улучшения `total_dur`"
      ],
      "metadata": {
        "id": "-QrNHlwzCqBU"
      },
      "id": "-QrNHlwzCqBU"
    },
    {
      "cell_type": "code",
      "source": [
        "# total_dur - децильный метод - преобразование Бокса-Кокса - t-тест с корректировкой Бенджамини-Хохберга\n",
        "\n",
        "from statsmodels.sandbox.stats.multicomp import multipletests \n",
        "\n",
        "deciles = np.quantile(np.array(sim['total_dur']), np.arange(0.2, 1, 0.2))\n",
        "\n",
        "effect = []\n",
        "power = []\n",
        "correctness = []\n",
        "\n",
        "for i in tqdm(range(1000)):\n",
        "\n",
        "  groups = groups_splitter(sim.copy(), user_salt=salt_generator())\n",
        "  df = pd.merge(sim, groups, how=\"left\", on=['user_id']).drop_duplicates()\n",
        "\n",
        "  effect_d = []\n",
        "  power_d = []\n",
        "  correctness_d = []\n",
        "\n",
        "  for d in range(0, len(deciles)+1):\n",
        "\n",
        "    if d == 0:\n",
        "      a = df[(df['group'] == 'A') & (df['total_dur'] <= deciles[d])]['total_dur']\n",
        "      b = df[(df['group'] == 'B') & (df['total_dur'] <= deciles[d])]['total_dur']\n",
        "    elif d == len(deciles):\n",
        "      a = df[(df['group'] == 'A') & (df['total_dur'] > deciles[d-1])]['total_dur']\n",
        "      b = df[(df['group'] == 'B') & (df['total_dur'] > deciles[d-1])]['total_dur']\n",
        "    else:\n",
        "      a = df[(df['group'] == 'A') & (df['total_dur'] > deciles[d-1]) & (df['total_dur'] <= deciles[d])]['total_dur']\n",
        "      b = df[(df['group'] == 'B') & (df['total_dur'] > deciles[d-1]) & (df['total_dur'] <= deciles[d])]['total_dur']\n",
        "      \n",
        "    b_effect = b * 1.02\n",
        "  \n",
        "    effect_d.append((b_effect.mean() - a.mean()) / a.mean())\n",
        "    power_d.append(stats.ttest_ind(stats.boxcox(a + 1, lmbda=stats.boxcox(a + 1)[1]), stats.boxcox(b_effect + 1, lmbda=stats.boxcox(a + 1)[1]))[1])\n",
        "    correctness_d.append(stats.ttest_ind(stats.boxcox(a + 1, lmbda=stats.boxcox(a + 1)[1]), stats.boxcox(b + 1, lmbda=stats.boxcox(a + 1)[1]))[1])\n",
        "    \n",
        "  effect.append(np.array(effect_d).mean()) \n",
        "  power.extend(multipletests(np.array(power_d), alpha = 0.05, method = 'fdr_bh')[1])\n",
        "  correctness.extend(multipletests(np.array(correctness_d), alpha = 0.05, method = 'fdr_bh')[1])\n",
        "      \n",
        "power = np.array(power)\n",
        "correctness = np.array(correctness)\n",
        "\n",
        "fig, ax = plt.subplots(1, 2, figsize=(15, 5))\n",
        "\n",
        "sns.histplot(data=power, bins=10, color='blue', ax=ax[0])\n",
        "ax[0].set_title(f'POWER = {power[power < 0.05].shape[0] / power.shape[0]}')\n",
        "\n",
        "sns.histplot(data=correctness, bins=10, color='purple', ax=ax[1])\n",
        "ax[1].set_title(f'CORRECTNESS = {1 - (correctness[correctness < 0.05].shape[0] / correctness.shape[0])}')\n",
        "\n",
        "print(f'Effect = {round(np.array(effect).mean() * 100, 2)}%')"
      ],
      "metadata": {
        "colab": {
          "base_uri": "https://localhost:8080/",
          "height": 505
        },
        "outputId": "f934c43e-1153-494b-945d-410a72f14f9a",
        "id": "RUSVPv57C4vo"
      },
      "execution_count": 114,
      "outputs": [
        {
          "output_type": "stream",
          "name": "stderr",
          "text": [
            "100%|██████████| 1000/1000 [31:50<00:00,  1.91s/it]\n"
          ]
        },
        {
          "output_type": "stream",
          "name": "stdout",
          "text": [
            "Effect = 1.99%\n"
          ]
        },
        {
          "output_type": "display_data",
          "data": {
            "text/plain": [
              "<Figure size 1500x500 with 2 Axes>"
            ],
            "image/png": "[encoded data removed]"
          },
          "metadata": {}
        }
      ],
      "id": "RUSVPv57C4vo"
    },
    {
      "cell_type": "code",
      "source": [
        "# total_dur - децильный метод - тест Манна-Уитни с корректировкой Бенджамини-Хохберга\n",
        "\n",
        "from statsmodels.sandbox.stats.multicomp import multipletests \n",
        "\n",
        "deciles = np.quantile(np.array(sim['total_dur']), np.arange(0.2, 1, 0.2))\n",
        "\n",
        "effect = []\n",
        "power = []\n",
        "correctness = []\n",
        "\n",
        "for i in tqdm(range(1000)):\n",
        "\n",
        "  groups = groups_splitter(sim.copy(), user_salt=salt_generator())\n",
        "  df = pd.merge(sim, groups, how=\"left\", on=['user_id']).drop_duplicates()\n",
        "\n",
        "  effect_d = []\n",
        "  power_d = []\n",
        "  correctness_d = []\n",
        "\n",
        "  for d in range(0, len(deciles)+1):\n",
        "\n",
        "    if d == 0:\n",
        "      a = df[(df['group'] == 'A') & (df['total_dur'] <= deciles[d])]['total_dur']\n",
        "      b = df[(df['group'] == 'B') & (df['total_dur'] <= deciles[d])]['total_dur']\n",
        "    elif d == len(deciles):\n",
        "      a = df[(df['group'] == 'A') & (df['total_dur'] > deciles[d-1])]['total_dur']\n",
        "      b = df[(df['group'] == 'B') & (df['total_dur'] > deciles[d-1])]['total_dur']\n",
        "    else:\n",
        "      a = df[(df['group'] == 'A') & (df['total_dur'] > deciles[d-1]) & (df['total_dur'] <= deciles[d])]['total_dur']\n",
        "      b = df[(df['group'] == 'B') & (df['total_dur'] > deciles[d-1]) & (df['total_dur'] <= deciles[d])]['total_dur']\n",
        "      \n",
        "    b_effect = b * 1.02\n",
        "  \n",
        "    effect_d.append((b_effect.mean() - a.mean()) / a.mean())\n",
        "    power_d.append(stats.mannwhitneyu(a, b_effect)[1])\n",
        "    correctness_d.append(stats.mannwhitneyu(a, b)[1])\n",
        "    \n",
        "  effect.append(np.array(effect_d).mean()) \n",
        "  power.extend(multipletests(np.array(power_d), alpha = 0.05, method = 'fdr_bh')[1])\n",
        "  correctness.extend(multipletests(np.array(correctness_d), alpha = 0.05, method = 'fdr_bh')[1])\n",
        "    \n",
        "power = np.array(power)\n",
        "correctness = np.array(correctness)\n",
        "\n",
        "fig, ax = plt.subplots(1, 2, figsize=(15, 5))\n",
        "\n",
        "sns.histplot(data=power, bins=10, color='blue', ax=ax[0])\n",
        "ax[0].set_title(f'POWER = {power[power < 0.05].shape[0] / power.shape[0]}')\n",
        "\n",
        "sns.histplot(data=correctness, bins=10, color='purple', ax=ax[1])\n",
        "ax[1].set_title(f'CORRECTNESS = {1 - (correctness[correctness < 0.05].shape[0] / correctness.shape[0])}')\n",
        "\n",
        "print(f'Effect = {round(np.array(effect).mean() * 100, 2)}%')"
      ],
      "metadata": {
        "colab": {
          "base_uri": "https://localhost:8080/",
          "height": 505
        },
        "id": "N8OeQbMy8Xik",
        "outputId": "28abe5be-ba10-4669-a1b0-4e121923c3b1"
      },
      "id": "N8OeQbMy8Xik",
      "execution_count": 115,
      "outputs": [
        {
          "output_type": "stream",
          "name": "stderr",
          "text": [
            "100%|██████████| 1000/1000 [27:26<00:00,  1.65s/it]\n"
          ]
        },
        {
          "output_type": "stream",
          "name": "stdout",
          "text": [
            "Effect = 2.01%\n"
          ]
        },
        {
          "output_type": "display_data",
          "data": {
            "text/plain": [
              "<Figure size 1500x500 with 2 Axes>"
            ],
            "image/png": "[encoded data removed]"
          },
          "metadata": {}
        }
      ]
    },
    {
      "cell_type": "markdown",
      "source": [
        "### Улучшения `quantity`"
      ],
      "metadata": {
        "id": "ufzo4rfzPGvo"
      },
      "id": "ufzo4rfzPGvo"
    },
    {
      "cell_type": "markdown",
      "source": [
        "#### Стратификация"
      ],
      "metadata": {
        "id": "GPNuhCzx20Ye"
      },
      "id": "GPNuhCzx20Ye"
    },
    {
      "cell_type": "code",
      "source": [
        "# Найдём, по скольки пользователям у нас есть информация.\n",
        "\n",
        "wanted_users = sim.user_id.unique()\n",
        "print(users[users.user_id.isin(wanted_users)].user_id.nunique())\n",
        "print(round(users[users.user_id.isin(wanted_users)].user_id.nunique() / len(sim), 2))"
      ],
      "metadata": {
        "colab": {
          "base_uri": "https://localhost:8080/"
        },
        "id": "9WsFcWOy10vH",
        "outputId": "33be2e87-a61b-4da4-a152-2b44b2d9a250"
      },
      "id": "9WsFcWOy10vH",
      "execution_count": 118,
      "outputs": [
        {
          "output_type": "stream",
          "name": "stdout",
          "text": [
            "174631\n",
            "0.8\n"
          ]
        }
      ]
    },
    {
      "cell_type": "markdown",
      "source": [
        "Далеко не все. Но попробуем с этим поработать."
      ],
      "metadata": {
        "id": "Rd828ayN3f6L"
      },
      "id": "Rd828ayN3f6L"
    },
    {
      "cell_type": "code",
      "source": [
        "sims = pd.merge(sim, users, on=['user_id'], how='left')"
      ],
      "metadata": {
        "id": "2Ob2WmiP1kmY"
      },
      "id": "2Ob2WmiP1kmY",
      "execution_count": 119,
      "outputs": []
    },
    {
      "cell_type": "code",
      "source": [
        "sims['strats'] = sims.sex + '+' + sims.kids_flg.astype(str)\n",
        "sims.strats = sims.strats.replace(np.nan, 'unknown')"
      ],
      "metadata": {
        "id": "mPuaOZDSrLLF"
      },
      "id": "mPuaOZDSrLLF",
      "execution_count": 120,
      "outputs": []
    },
    {
      "cell_type": "code",
      "source": [
        "def poststrat(df, feature, strats, hue):\n",
        "  n = df[hue].nunique()\n",
        "  weights = {}\n",
        "  for i in range(0, df[strats].nunique()):\n",
        "    key = df[strats].value_counts().index[i]\n",
        "    weights[key] = df[strats].value_counts()[i] / n\n",
        "\n",
        "  df_mean = 0\n",
        "  df_var = 0\n",
        "  for i in weights:\n",
        "    df_mean += df[df[strats] == i][feature].mean() * weights[i]\n",
        "    df_var += df[df[strats] == i][feature].var() * weights[i]\n",
        "\n",
        "  df_std = np.sqrt(df_var)\n",
        "  df_n = len(df)\n",
        "\n",
        "  return df_mean, df_std, df_n"
      ],
      "metadata": {
        "id": "YF22Z3v4f6Tb"
      },
      "id": "YF22Z3v4f6Tb",
      "execution_count": 121,
      "outputs": []
    },
    {
      "cell_type": "code",
      "source": [
        "# quantity - постстратификация - t-тест\n",
        "\n",
        "effect = []\n",
        "power = []\n",
        "correctness = []\n",
        "\n",
        "a_mean = []\n",
        "b_mean = []\n",
        "\n",
        "a_strat_mean = []\n",
        "b_strat_mean = []\n",
        "\n",
        "a_var = []\n",
        "b_var = []\n",
        "\n",
        "a_strat_var = []\n",
        "b_strat_var = []\n",
        "\n",
        "a_var_diff = []\n",
        "b_var_diff = []\n",
        "\n",
        "for i in tqdm(range(1000)):\n",
        "    \n",
        "    groups = groups_splitter(sims.copy(), user_salt=salt_generator())\n",
        "    df = pd.merge(sims, groups, how=\"left\", on=['user_id']).drop_duplicates()\n",
        "    \n",
        "    a = df[df['group'] == 'A']\n",
        "    a_strat_stats = poststrat(a, 'quantity', 'strats', 'user_id')\n",
        "    a = a.quantity\n",
        "\n",
        "\n",
        "    b = df[df['group'] == 'B']\n",
        "    b_strat_stats = poststrat(b, 'quantity', 'strats', 'user_id')\n",
        "    b_values = b.quantity\n",
        "\n",
        "    b_effect = b_values * 1.02\n",
        "\n",
        "    b_effect_df = b.drop(columns=['quantity'])\n",
        "    b_effect_df['quantity'] = list(b_effect)\n",
        "    b_effect_strat_stats = poststrat(b_effect_df, 'quantity', 'strats', 'user_id')\n",
        "    b = b_values\n",
        "    \n",
        "    effect.append((b_effect.mean() - a.mean()) / a.mean())\n",
        "\n",
        "    p_power, p_cor = stats.ttest_ind_from_stats(*a_strat_stats, *b_effect_strat_stats)[1], stats.ttest_ind_from_stats(*a_strat_stats, *b_strat_stats)[1]\n",
        "    power.append(p_power)\n",
        "    correctness.append(p_cor)\n",
        "    \n",
        "\n",
        "    a_mean.append(a.mean())\n",
        "    b_mean.append(b.mean())\n",
        "\n",
        "    a_strat_mean.append(a_strat_stats[0])\n",
        "    b_strat_mean.append(b_strat_stats[0])\n",
        "\n",
        "    a_var.append(a.var())\n",
        "    b_var.append(b.var())\n",
        "\n",
        "    a_strat_var.append(a_strat_stats[1] ** 2)\n",
        "    b_strat_var.append(b_strat_stats[1] ** 2)\n",
        "\n",
        "    a_var_diff.append(a_strat_var == a_var)\n",
        "    b_var_diff.append(b_strat_var == b_var)\n",
        "    \n",
        "power = np.array(power)\n",
        "correctness = np.array(correctness)\n",
        "\n",
        "fig, ax = plt.subplots(1, 2, figsize=(15, 5))\n",
        "\n",
        "sns.histplot(data=power, bins=10, color='blue', ax=ax[0])\n",
        "ax[0].set_title(f'POWER = {power[power < 0.05].shape[0] / power.shape[0]}')\n",
        "\n",
        "sns.histplot(data=correctness, bins=10, color='purple', ax=ax[1])\n",
        "ax[1].set_title(f'CORRECTNESS = {1 - (correctness[correctness < 0.05].shape[0] / correctness.shape[0])}')\n",
        "\n",
        "print(f'Effect = {round(np.array(effect).mean() * 100, 2)}%')\n",
        "print()\n",
        "print('СРЕДНЯЯ МЕТРИК: \\nГруппа A: {}, Группа B: {} \\n\\\n",
        "СРЕДНЯЯ POSTSTRAT МЕТРИК: \\nГруппа A: {}, Группа B: {} \\n\\n\\\n",
        "ДИСПЕРСИЯ МЕТРИК: \\nГруппа A: {}, Группа B: {} \\n\\\n",
        "ДИСПЕРСИЯ POSTSTRAT МЕТРИК: \\nГруппа A: {}, Группа B: {} \\n\\\n",
        "ПОЛНОЕ СОВПАДЕНИЕ ДИСПЕРСИЙ POSTSTRAT И ИСХОДНЫХ МЕТРИК: \\nГруппа A: {} случаев, Группа B: {} случаев \\n'.format\n",
        "     (\n",
        "      round(np.array(a_mean).mean(), 3), round(np.array(b_mean).mean(), 3),\n",
        "      round(np.array(a_strat_mean).mean(), 3), round(np.array(b_strat_mean).mean(), 3),\n",
        "      round(np.array(a_var).mean(), 5), round(np.array(b_var).mean(), 5),\n",
        "      round(np.array(a_strat_var).mean(), 5), round(np.array(b_strat_var).mean(), 5),\n",
        "      round(sum(a_var_diff) / len(a_var_diff), 3), round(sum(b_var_diff) / len(b_var_diff), 3)\n",
        "     ))"
      ],
      "metadata": {
        "colab": {
          "base_uri": "https://localhost:8080/",
          "height": 742
        },
        "id": "msNeFwQPD_5M",
        "outputId": "e48e2255-00a8-4177-ef88-2939f52b552b"
      },
      "id": "msNeFwQPD_5M",
      "execution_count": 30,
      "outputs": [
        {
          "output_type": "stream",
          "name": "stderr",
          "text": [
            "100%|██████████| 1000/1000 [36:00<00:00,  2.16s/it]\n"
          ]
        },
        {
          "output_type": "stream",
          "name": "stdout",
          "text": [
            "Effect = 2.01%\n",
            "\n",
            "СРЕДНЯЯ МЕТРИК: \n",
            "Группа A: 2.757, Группа B: 2.758 \n",
            "СРЕДНЯЯ POSTSTRAT МЕТРИК: \n",
            "Группа A: 2.757, Группа B: 2.758 \n",
            "\n",
            "ДИСПЕРСИЯ МЕТРИК: \n",
            "Группа A: 16.25281, Группа B: 16.26107 \n",
            "ДИСПЕРСИЯ POSTSTRAT МЕТРИК: \n",
            "Группа A: 16.24578, Группа B: 16.25401 \n",
            "ПОЛНОЕ СОВПАДЕНИЕ ДИСПЕРСИЙ POSTSTRAT И ИСХОДНЫХ МЕТРИК: \n",
            "Группа A: 0.0 случаев, Группа B: 0.0 случаев \n",
            "\n"
          ]
        },
        {
          "output_type": "display_data",
          "data": {
            "text/plain": [
              "<Figure size 1500x500 with 2 Axes>"
            ],
            "image/png": "[encoded data removed]"
          },
          "metadata": {}
        }
      ]
    },
    {
      "cell_type": "markdown",
      "source": [
        "#### Ранговая трансформация"
      ],
      "metadata": {
        "id": "OohnRQv77Hv2"
      },
      "id": "OohnRQv77Hv2"
    },
    {
      "cell_type": "code",
      "source": [
        "def df_ranker(a, b, metric):\n",
        "    df = pd.concat([a, b], axis = 0)\n",
        "    df['rank'] = df[metric].rank()\n",
        "    return df"
      ],
      "metadata": {
        "id": "Sn3qewJN7NdR"
      },
      "id": "Sn3qewJN7NdR",
      "execution_count": 122,
      "outputs": []
    },
    {
      "cell_type": "code",
      "source": [
        "# quantity - ранговая трансформация - t-тест\n",
        "\n",
        "effect = []\n",
        "power = []\n",
        "correctness = []\n",
        "\n",
        "for i in tqdm(range(1000)):\n",
        "    \n",
        "    groups = groups_splitter(sim.copy(), user_salt=salt_generator())\n",
        "    df = pd.merge(sim, groups, how=\"left\", on=['user_id']).drop_duplicates()\n",
        "    \n",
        "    a = df[df['group'] == 'A']['quantity']\n",
        "    b = df[df['group'] == 'B']['quantity']\n",
        "    b_effect = b * 1.02\n",
        "    \n",
        "    effect.append((b_effect.mean() - a.mean()) / a.mean())\n",
        "    \n",
        "    df_ranked = df_ranker(df[df.group == 'A'], df[df.group == 'B'], 'quantity')\n",
        "    a_ranks = df_ranked[(df_ranked['group'] == 'A')]['rank']\n",
        "    b_ranks = df_ranked[(df_ranked['group'] == 'B')]['rank']\n",
        "    \n",
        "    df_b = df[df.group == 'B'].drop(columns=['quantity'])\n",
        "    df_b['quantity'] = list(b_effect)\n",
        "    \n",
        "    df_effect_ranked = df_ranker(df[df.group == 'A'], df_b, 'quantity')\n",
        "    a_ranks_effect = df_effect_ranked[(df_ranked['group'] == 'A')]['rank']\n",
        "    b_effect_ranks = df_effect_ranked[(df_ranked['group'] == 'B')]['rank']\n",
        "\n",
        "    p_power, p_cor = stats.ttest_ind(a_ranks_effect, b_effect_ranks)[1], stats.ttest_ind(a_ranks, b_ranks)[1]\n",
        "    power.append(p_power)\n",
        "    correctness.append(p_cor)\n",
        "    \n",
        "power = np.array(power)\n",
        "correctness = np.array(correctness)\n",
        "\n",
        "fig, ax = plt.subplots(1, 2, figsize=(15, 5))\n",
        "\n",
        "sns.histplot(data=power, bins=10, color='blue', ax=ax[0])\n",
        "ax[0].set_title(f'POWER = {power[power < 0.05].shape[0] / power.shape[0]}')\n",
        "\n",
        "sns.histplot(data=correctness, bins=10, color='purple', ax=ax[1])\n",
        "ax[1].set_title(f'CORRECTNESS = {1 - (correctness[correctness < 0.05].shape[0] / correctness.shape[0])}')\n",
        "\n",
        "print(f'Effect = {round(np.array(effect).mean() * 100, 2)}%')"
      ],
      "metadata": {
        "colab": {
          "base_uri": "https://localhost:8080/",
          "height": 505
        },
        "id": "IyX4a9dzC9dT",
        "outputId": "3f518b66-0ad8-4cc9-995c-93037755bef1"
      },
      "id": "IyX4a9dzC9dT",
      "execution_count": 32,
      "outputs": [
        {
          "output_type": "stream",
          "name": "stderr",
          "text": [
            "100%|██████████| 1000/1000 [19:43<00:00,  1.18s/it]\n"
          ]
        },
        {
          "output_type": "stream",
          "name": "stdout",
          "text": [
            "Effect = 1.98%\n"
          ]
        },
        {
          "output_type": "display_data",
          "data": {
            "text/plain": [
              "<Figure size 1500x500 with 2 Axes>"
            ],
            "image/png": "[encoded data removed]"
          },
          "metadata": {}
        }
      ]
    },
    {
      "cell_type": "markdown",
      "source": [
        "**Выводы**\n",
        "\n",
        "Итого у нас 5 вариантов метрики:\n",
        "1. `total_dur` с разбивкой на 0.2 квантили с нормализацией и параметрическим тестом - наиболее предпочтительный, хоть и наименее мощный вариант.\n",
        "2. `total_dur` с разбивкой на 0.2 квантили с ранговым тестом - вариант второго порядка.\n",
        "3. `quantity` с ранговой трансформацией и t-тестом - должен поймать самый слабый эффект и всё ещё информативен.\n",
        "4. `quantity` с постстратификацией и t-тестом - попробуем ради интереса. Очень зависит от того, по какому проценту пользователей у нас будет информация.\n",
        "5. `watched_pct` с t-тестом - тоже можно, но на него ориентируемся в последнюю очередь."
      ],
      "metadata": {
        "id": "sdYM1R2lQTvL"
      },
      "id": "sdYM1R2lQTvL"
    },
    {
      "cell_type": "markdown",
      "source": [
        "# Эксперимент"
      ],
      "metadata": {
        "id": "huEaNkqTQB2V"
      },
      "id": "huEaNkqTQB2V"
    },
    {
      "cell_type": "markdown",
      "source": [
        "## Создание датасета и наложение эффекта"
      ],
      "metadata": {
        "id": "kephVDr5H6nj"
      },
      "id": "kephVDr5H6nj"
    },
    {
      "cell_type": "code",
      "execution_count": 123,
      "metadata": {
        "id": "uWZddEF2S1dT"
      },
      "outputs": [],
      "source": [
        "# Возьмём нужные 2 недели.\n",
        "\n",
        "interactions.last_watch_dt = pd.to_datetime(interactions.last_watch_dt)\n",
        "\n",
        "inter_exp = interactions[(interactions.last_watch_dt >= pd.to_datetime('2021-08-01'))\n",
        "              & (interactions.last_watch_dt <= pd.to_datetime('2021-08-14'))]"
      ],
      "id": "uWZddEF2S1dT"
    },
    {
      "cell_type": "code",
      "execution_count": 259,
      "metadata": {
        "id": "9gbxPF1MS1dU"
      },
      "outputs": [],
      "source": [
        "# Сагрегируем датасет и дропнем то, что не войдёт в агрегацию.\n",
        "\n",
        "exp = inter_exp.drop(['last_watch_dt', 'item_id'], axis=1)\n",
        "\n",
        "exp = exp.groupby('user_id', as_index=False).agg(\n",
        "    quantity=('total_dur', 'count'),\n",
        "    total_dur=('total_dur', np.sum),\n",
        "    watched_pct=('watched_pct', np.mean))\n",
        "\n",
        "exp.loc[exp.query('total_dur == 0').index, 'quantity'] = 0"
      ],
      "id": "9gbxPF1MS1dU"
    },
    {
      "cell_type": "code",
      "execution_count": 125,
      "metadata": {
        "colab": {
          "base_uri": "https://localhost:8080/"
        },
        "outputId": "31794653-b6f9-4a66-a7f2-7f68db11fc30",
        "id": "HxhLN3B4S1dU"
      },
      "outputs": [
        {
          "output_type": "stream",
          "name": "stdout",
          "text": [
            "<class 'pandas.core.frame.DataFrame'>\n",
            "RangeIndex: 252140 entries, 0 to 252139\n",
            "Data columns (total 4 columns):\n",
            " #   Column       Non-Null Count   Dtype  \n",
            "---  ------       --------------   -----  \n",
            " 0   user_id      252140 non-null  int64  \n",
            " 1   quantity     252140 non-null  int64  \n",
            " 2   total_dur    252140 non-null  int64  \n",
            " 3   watched_pct  252140 non-null  float64\n",
            "dtypes: float64(1), int64(3)\n",
            "memory usage: 7.7 MB\n"
          ]
        }
      ],
      "source": [
        "exp.info()"
      ],
      "id": "HxhLN3B4S1dU"
    },
    {
      "cell_type": "markdown",
      "source": [
        "Эксперимент затронул 252140 уникальных пользователей."
      ],
      "metadata": {
        "id": "PhlFgGo_S1dV"
      },
      "id": "PhlFgGo_S1dV"
    },
    {
      "cell_type": "code",
      "source": [
        "# Разобьём датасет на группы.\n",
        "\n",
        "groups = groups_splitter(exp.copy(), user_salt='kiontestmodel20210114')\n",
        "df = pd.merge(exp, groups, how=\"left\", on=['user_id']).drop_duplicates()"
      ],
      "metadata": {
        "id": "HAoTOqPzUIVJ"
      },
      "id": "HAoTOqPzUIVJ",
      "execution_count": 260,
      "outputs": []
    },
    {
      "cell_type": "code",
      "source": [
        "# Поделим на децили.\n",
        "\n",
        "deciles = np.quantile(np.array(df['total_dur']), np.arange(0.1, 1, 0.1))"
      ],
      "metadata": {
        "id": "zumZxs7fvs_8"
      },
      "id": "zumZxs7fvs_8",
      "execution_count": 277,
      "outputs": []
    },
    {
      "cell_type": "code",
      "source": [
        "# Поищем уже существующий эффект.\n",
        "\n",
        "effect = []\n",
        "\n",
        "for d in range(0, len(deciles)+1):\n",
        "\n",
        "  if d == 0:\n",
        "    a = df[(df['group'] == 'A') & (df['total_dur'] <= deciles[d])]['total_dur']\n",
        "    b = df[(df['group'] == 'B') & (df['total_dur'] <= deciles[d])]['total_dur']\n",
        "  elif d == len(deciles):\n",
        "    a = df[(df['group'] == 'A') & (df['total_dur'] > deciles[d-1])]['total_dur']\n",
        "    b = df[(df['group'] == 'B') & (df['total_dur'] > deciles[d-1])]['total_dur']\n",
        "  else:\n",
        "    a = df[(df['group'] == 'A') & (df['total_dur'] > deciles[d-1]) & (df['total_dur'] <= deciles[d])]['total_dur']\n",
        "    b = df[(df['group'] == 'B') & (df['total_dur'] > deciles[d-1]) & (df['total_dur'] <= deciles[d])]['total_dur']\n",
        "\n",
        "  if a.mean() == 0:\n",
        "    effect.append(0)\n",
        "  else:\n",
        "    effect.append(np.round((b.mean() - a.mean()) / a.mean(), 3))\n",
        "\n",
        "print(f'Эффект по децилям: {effect}')"
      ],
      "metadata": {
        "colab": {
          "base_uri": "https://localhost:8080/"
        },
        "id": "lY_i6HdQvxbm",
        "outputId": "5d165789-886c-43b0-b8bc-08b40a98f121"
      },
      "id": "lY_i6HdQvxbm",
      "execution_count": 278,
      "outputs": [
        {
          "output_type": "stream",
          "name": "stdout",
          "text": [
            "Эффект по децилям: [0, 0.004, -0.001, -0.0, 0.001, -0.001, 0.003, 0.001, 0.004, 0.037]\n"
          ]
        }
      ]
    },
    {
      "cell_type": "code",
      "source": [
        "a = df[df['group'] == 'A']['total_dur']\n",
        "b = df[df['group'] == 'B']['total_dur']\n",
        "\n",
        "np.round((b.mean() - a.mean()) / a.mean(), 3)"
      ],
      "metadata": {
        "colab": {
          "base_uri": "https://localhost:8080/"
        },
        "id": "Wjf1wf2V3Bzb",
        "outputId": "2adfaf30-3492-4806-a31c-9e1af64c60e6"
      },
      "id": "Wjf1wf2V3Bzb",
      "execution_count": 276,
      "outputs": [
        {
          "output_type": "execute_result",
          "data": {
            "text/plain": [
              "0.025"
            ]
          },
          "metadata": {},
          "execution_count": 276
        }
      ]
    },
    {
      "cell_type": "markdown",
      "source": [
        "Нам повезло: эффект есть, и именно такой, как нам надо! И он больше, чем MDE для метрики `total_dur`."
      ],
      "metadata": {
        "id": "b8y6E0JivfQL"
      },
      "id": "b8y6E0JivfQL"
    },
    {
      "cell_type": "markdown",
      "source": [
        "## Тестирование"
      ],
      "metadata": {
        "id": "3sPolIo_IHla"
      },
      "id": "3sPolIo_IHla"
    },
    {
      "cell_type": "code",
      "source": [
        "# total_dur - децильный метод - преобразование Бокса-Кокса - t-тест с корректировкой Бенджамини-Хохберга\n",
        "\n",
        "from statsmodels.sandbox.stats.multicomp import multipletests\n",
        "\n",
        "deciles = np.quantile(np.array(df['total_dur']), np.arange(0.2, 1, 0.2))\n",
        "\n",
        "p_d = []\n",
        "\n",
        "for d in range(0, len(deciles)+1):\n",
        "  if d == 0:\n",
        "    a = df[(df['group'] == 'A') & (df['total_dur'] <= deciles[d])]['total_dur']\n",
        "    b = df[(df['group'] == 'B') & (df['total_dur'] <= deciles[d])]['total_dur']\n",
        "  elif d == len(deciles):\n",
        "    a = df[(df['group'] == 'A') & (df['total_dur'] > deciles[d-1])]['total_dur']\n",
        "    b = df[(df['group'] == 'B') & (df['total_dur'] > deciles[d-1])]['total_dur']\n",
        "  else:\n",
        "    a = df[(df['group'] == 'A') & (df['total_dur'] > deciles[d-1]) & (df['total_dur'] <= deciles[d])]['total_dur']\n",
        "    b = df[(df['group'] == 'B') & (df['total_dur'] > deciles[d-1]) & (df['total_dur'] <= deciles[d])]['total_dur']\n",
        "\n",
        "  p_d.append(stats.ttest_ind(stats.boxcox(a + 1, lmbda=stats.boxcox(a + 1)[1]), stats.boxcox(b + 1, lmbda=stats.boxcox(a + 1)[1]))[1])\n",
        "    \n",
        "multipletests(np.array(p_d), alpha = 0.05, method = 'fdr_bh')[1]"
      ],
      "metadata": {
        "colab": {
          "base_uri": "https://localhost:8080/"
        },
        "id": "s4EuNS99fkwH",
        "outputId": "44d30b95-3650-4ce1-8942-bd5194b9458c"
      },
      "id": "s4EuNS99fkwH",
      "execution_count": 268,
      "outputs": [
        {
          "output_type": "execute_result",
          "data": {
            "text/plain": [
              "array([0.69771928, 0.44258774, 0.44258774, 0.97720902, 0.97720902])"
            ]
          },
          "metadata": {},
          "execution_count": 268
        }
      ]
    },
    {
      "cell_type": "code",
      "source": [
        "# total_dur - децильный метод - тест Манна-Уитни с корректировкой Бенджамини-Хохберга\n",
        "\n",
        "from statsmodels.sandbox.stats.multicomp import multipletests\n",
        "\n",
        "deciles = np.quantile(np.array(df['total_dur']), np.arange(0.2, 1, 0.2))\n",
        "\n",
        "p_d = []\n",
        "\n",
        "for d in range(0, len(deciles)+1):\n",
        "  if d == 0:\n",
        "    a = df[(df['group'] == 'A') & (df['total_dur'] <= deciles[d])]['total_dur']\n",
        "    b = df[(df['group'] == 'B') & (df['total_dur'] <= deciles[d])]['total_dur']\n",
        "  elif d == len(deciles):\n",
        "    a = df[(df['group'] == 'A') & (df['total_dur'] > deciles[d-1])]['total_dur']\n",
        "    b = df[(df['group'] == 'B') & (df['total_dur'] > deciles[d-1])]['total_dur']\n",
        "  else:\n",
        "    a = df[(df['group'] == 'A') & (df['total_dur'] > deciles[d-1]) & (df['total_dur'] <= deciles[d])]['total_dur']\n",
        "    b = df[(df['group'] == 'B') & (df['total_dur'] > deciles[d-1]) & (df['total_dur'] <= deciles[d])]['total_dur']\n",
        "\n",
        "  p_d.append(stats.mannwhitneyu(a, b)[1])\n",
        "    \n",
        "multipletests(np.array(p_d), alpha = 0.05, method = 'fdr_bh')[1]"
      ],
      "metadata": {
        "colab": {
          "base_uri": "https://localhost:8080/"
        },
        "id": "qc3xhDZJ-iws",
        "outputId": "268e4e6a-8155-4389-aac9-bd6c4875d5a0"
      },
      "id": "qc3xhDZJ-iws",
      "execution_count": 269,
      "outputs": [
        {
          "output_type": "execute_result",
          "data": {
            "text/plain": [
              "array([0.81071554, 0.43392358, 0.43392358, 0.96543058, 0.96543058])"
            ]
          },
          "metadata": {},
          "execution_count": 269
        }
      ]
    },
    {
      "cell_type": "markdown",
      "source": [
        "Оба теста на метрику `total_dur` оказались нечувствительны к изменениям."
      ],
      "metadata": {
        "id": "Qj9GSBDtCCXI"
      },
      "id": "Qj9GSBDtCCXI"
    },
    {
      "cell_type": "code",
      "source": [
        "# Найдём эффект по метрике quantity\n",
        "\n",
        "a = df[df['group'] == 'A']['quantity']\n",
        "b = df[df['group'] == 'B']['quantity']\n",
        "\n",
        "np.round((b.mean() - a.mean()) / a.mean(), 3)"
      ],
      "metadata": {
        "colab": {
          "base_uri": "https://localhost:8080/"
        },
        "id": "5AKPUIfoArsx",
        "outputId": "f41c96d8-f6ae-4104-c63a-ededf0ec477b"
      },
      "id": "5AKPUIfoArsx",
      "execution_count": 296,
      "outputs": [
        {
          "output_type": "execute_result",
          "data": {
            "text/plain": [
              "0.004"
            ]
          },
          "metadata": {},
          "execution_count": 296
        }
      ]
    },
    {
      "cell_type": "markdown",
      "source": [
        "Эффект `quantity` меньше MDE."
      ],
      "metadata": {
        "id": "DnDrbWZ-Dew-"
      },
      "id": "DnDrbWZ-Dew-"
    },
    {
      "cell_type": "code",
      "source": [
        "# quantity - ранговая трансформация - t-тест\n",
        "\n",
        "a = df[df['group'] == 'A']['quantity']\n",
        "b = df[df['group'] == 'B']['quantity']\n",
        "\n",
        "df_ranked = df_ranker(df[df.group == 'A'], df[df.group == 'B'], 'quantity')\n",
        "a_ranks = df_ranked[(df_ranked['group'] == 'A')]['rank']\n",
        "b_ranks = df_ranked[(df_ranked['group'] == 'B')]['rank']\n",
        "\n",
        "stats.ttest_ind(a_ranks, b_ranks)[1]"
      ],
      "metadata": {
        "colab": {
          "base_uri": "https://localhost:8080/"
        },
        "id": "n1_fjvnBBVVN",
        "outputId": "1a6e7bd0-b76e-41a2-80bd-952c58d19106"
      },
      "id": "n1_fjvnBBVVN",
      "execution_count": 280,
      "outputs": [
        {
          "output_type": "execute_result",
          "data": {
            "text/plain": [
              "0.5121781918897095"
            ]
          },
          "metadata": {},
          "execution_count": 280
        }
      ]
    },
    {
      "cell_type": "markdown",
      "source": [
        "Эффект не найден. Попробуем тест с постстратификацией."
      ],
      "metadata": {
        "id": "5Y6tpp3_ItV5"
      },
      "id": "5Y6tpp3_ItV5"
    },
    {
      "cell_type": "code",
      "source": [
        "# Найдём, по скольки пользователям у нас есть информация.\n",
        "\n",
        "wanted_users = exp.user_id.unique()\n",
        "print(users[users.user_id.isin(wanted_users)].user_id.nunique())\n",
        "print(round(users[users.user_id.isin(wanted_users)].user_id.nunique() / len(exp), 2))"
      ],
      "metadata": {
        "colab": {
          "base_uri": "https://localhost:8080/"
        },
        "outputId": "0e5ad093-6d3d-4707-dbd3-df6b98197c33",
        "id": "eFx2aGJWEOyT"
      },
      "execution_count": 281,
      "outputs": [
        {
          "output_type": "stream",
          "name": "stdout",
          "text": [
            "199170\n",
            "0.79\n"
          ]
        }
      ],
      "id": "eFx2aGJWEOyT"
    },
    {
      "cell_type": "markdown",
      "source": [
        "Доля как на дизайне."
      ],
      "metadata": {
        "id": "dXxR8y7KEOyV"
      },
      "id": "dXxR8y7KEOyV"
    },
    {
      "cell_type": "code",
      "source": [
        "dfs = pd.merge(df, users, on=['user_id'], how='left')"
      ],
      "metadata": {
        "id": "RXg_ANhXEOyW"
      },
      "execution_count": 286,
      "outputs": [],
      "id": "RXg_ANhXEOyW"
    },
    {
      "cell_type": "code",
      "source": [
        "dfs['strats'] = dfs.sex + '+' + dfs.kids_flg.astype(str)\n",
        "dfs.strats = dfs.strats.replace(np.nan, 'unknown')"
      ],
      "metadata": {
        "id": "9LE5qkykEOyW"
      },
      "execution_count": 287,
      "outputs": [],
      "id": "9LE5qkykEOyW"
    },
    {
      "cell_type": "code",
      "source": [
        "# quantity - постстратификация - t-тест\n",
        "\n",
        "a = dfs[dfs['group'] == 'A']\n",
        "a_strat_stats = poststrat(a, 'quantity', 'strats', 'user_id')\n",
        "\n",
        "b = dfs[dfs['group'] == 'B']\n",
        "b_strat_stats = poststrat(b, 'quantity', 'strats', 'user_id')\n",
        "\n",
        "stats.ttest_ind_from_stats(*a_strat_stats, *b_strat_stats)[1]"
      ],
      "metadata": {
        "colab": {
          "base_uri": "https://localhost:8080/"
        },
        "id": "MueFX3bqEpFa",
        "outputId": "87fba005-5042-4575-f365-993704d5783c"
      },
      "id": "MueFX3bqEpFa",
      "execution_count": 288,
      "outputs": [
        {
          "output_type": "execute_result",
          "data": {
            "text/plain": [
              "0.5192118734466356"
            ]
          },
          "metadata": {},
          "execution_count": 288
        }
      ]
    },
    {
      "cell_type": "markdown",
      "source": [
        "Оба теста на `quantity` не нашли различий между группами."
      ],
      "metadata": {
        "id": "N2Sn0oTYF1Jx"
      },
      "id": "N2Sn0oTYF1Jx"
    },
    {
      "cell_type": "code",
      "source": [
        "# Найдём эффект по метрике watched_pct\n",
        "\n",
        "a = df[df['group'] == 'A']['watched_pct']\n",
        "b = df[df['group'] == 'B']['watched_pct']\n",
        "\n",
        "np.round((b.mean() - a.mean()) / a.mean(), 3)"
      ],
      "metadata": {
        "colab": {
          "base_uri": "https://localhost:8080/"
        },
        "id": "a49_nOYOFGuQ",
        "outputId": "25e3d4b4-2019-439b-e138-0bd45844c8cc"
      },
      "id": "a49_nOYOFGuQ",
      "execution_count": 297,
      "outputs": [
        {
          "output_type": "execute_result",
          "data": {
            "text/plain": [
              "0.009"
            ]
          },
          "metadata": {},
          "execution_count": 297
        }
      ]
    },
    {
      "cell_type": "markdown",
      "source": [
        "Он больше MDE и vanilla тест показывал 100-процентную мощность."
      ],
      "metadata": {
        "id": "sehahdbTJEgA"
      },
      "id": "sehahdbTJEgA"
    },
    {
      "cell_type": "code",
      "source": [
        "# watched_pct - t-тест\n",
        "\n",
        "a = df[df['group'] == 'A']['watched_pct']\n",
        "b = df[df['group'] == 'B']['watched_pct']\n",
        "\n",
        "stats.ttest_ind(a, b)[1]"
      ],
      "metadata": {
        "colab": {
          "base_uri": "https://localhost:8080/"
        },
        "id": "9tFx4ZTfGN1d",
        "outputId": "45d48b3f-4e89-4e70-eafb-ad304f0495dc"
      },
      "id": "9tFx4ZTfGN1d",
      "execution_count": 293,
      "outputs": [
        {
          "output_type": "execute_result",
          "data": {
            "text/plain": [
              "0.016129806259451044"
            ]
          },
          "metadata": {},
          "execution_count": 293
        }
      ]
    },
    {
      "cell_type": "markdown",
      "source": [
        "Эффект обнаружен."
      ],
      "metadata": {
        "id": "KDsmvrIqGtil"
      },
      "id": "KDsmvrIqGtil"
    },
    {
      "cell_type": "markdown",
      "source": [
        "**Выводы**\n",
        "1. Сложное распределение эффекта и недостаточная мощность не позволили тестам на `total_dur` обнаружить эффект.\n",
        "2. Создание \"запасных\" тестов на других метриках - опасная практика. Тем более если не была проверена корреляция между основной метрикой и прокси. Нужно дизайниться либо подо что-то одно, либо под хорошо коррелирующие метрики.\n",
        "3. Даже высокая мощность не позволила найти эффект меньше MDE на метрике `quantity`.\n",
        "4. Только 100-процентная мощность и эффект выше MDE позволили сработать тесту на `watched_pct`. Но это чистая случайность.\n",
        "5. Эксперимент можно считать неудачным."
      ],
      "metadata": {
        "id": "Far7JJ0KJn3v"
      },
      "id": "Far7JJ0KJn3v"
    }
  ],
  "metadata": {
    "kernelspec": {
      "display_name": "Python 3 (ipykernel)",
      "language": "python",
      "name": "python3"
    },
    "language_info": {
      "codemirror_mode": {
        "name": "ipython",
        "version": 3
      },
      "file_extension": ".py",
      "mimetype": "text/x-python",
      "name": "python",
      "nbconvert_exporter": "python",
      "pygments_lexer": "ipython3",
      "version": "3.9.12"
    },
    "colab": {
      "provenance": []
    }
  },
  "nbformat": 4,
  "nbformat_minor": 5
}