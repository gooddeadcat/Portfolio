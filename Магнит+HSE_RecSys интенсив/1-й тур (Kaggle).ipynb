{
 "cells": [
  {
   "cell_type": "markdown",
   "id": "5b272efa-fdb0-43ec-ab5b-abf7ca37b21d",
   "metadata": {
    "id": "5b272efa-fdb0-43ec-ab5b-abf7ca37b21d"
   },
   "source": [
    "Для первой задачи мы используем данные [Jester Online Joke Recommender System](https://goldberg.berkeley.edu/jester-data/)"
   ]
  },
  {
   "cell_type": "markdown",
   "id": "85eb8247-1067-47e5-9a19-f5d20d4b2fd5",
   "metadata": {
    "id": "85eb8247-1067-47e5-9a19-f5d20d4b2fd5"
   },
   "source": [
    "**Описание данных**\n",
    "\n",
    "Файл `train_joke_df.csv` содержит:\n",
    "- UID - id пользователей\n",
    "- JID - id шуток, которые \n",
    "- Ratin - рейтинг шутки, который проставил пользователь \n",
    "\n",
    "\n",
    "Рейтинг имеет значение от -10.00 до 10.00. Могут встречаться значения 99.00, но это обозначает Null (нет рейтинга от пользователя).\n",
    "\n",
    "Метрика для оценки [RMSE](https://www.codecamp.ru/blog/how-to-interpret-rmse/)\n",
    "\n",
    "Минимальный RMSE: `4.2238`\n",
    "\n"
   ]
  },
  {
   "cell_type": "code",
   "execution_count": null,
   "id": "ec9f8af1-f94e-4955-a420-39aa18f37806",
   "metadata": {
    "colab": {
     "background_save": true,
     "base_uri": "https://localhost:8080/"
    },
    "id": "ec9f8af1-f94e-4955-a420-39aa18f37806",
    "outputId": "4e780d72-a30e-44d4-8c56-0ce1660c937f"
   },
   "outputs": [
    {
     "name": "stdout",
     "output_type": "stream",
     "text": [
      "Looking in indexes: https://pypi.org/simple, https://us-python.pkg.dev/colab-wheels/public/simple/\n",
      "Collecting scikit-surprise==1.1.3\n",
      "  Downloading scikit-surprise-1.1.3.tar.gz (771 kB)\n",
      "\u001b[2K     \u001b[90m━━━━━━━━━━━━━━━━━━━━━━━━━━━━━━━━━━━━━━\u001b[0m \u001b[32m772.0/772.0 kB\u001b[0m \u001b[31m12.9 MB/s\u001b[0m eta \u001b[36m0:00:00\u001b[0m\n",
      "\u001b[?25h  Preparing metadata (setup.py) ... \u001b[?25l\u001b[?25hdone\n",
      "Requirement already satisfied: joblib>=1.0.0 in /usr/local/lib/python3.10/dist-packages (from scikit-surprise==1.1.3) (1.2.0)\n",
      "Requirement already satisfied: numpy>=1.17.3 in /usr/local/lib/python3.10/dist-packages (from scikit-surprise==1.1.3) (1.22.4)\n",
      "Requirement already satisfied: scipy>=1.3.2 in /usr/local/lib/python3.10/dist-packages (from scikit-surprise==1.1.3) (1.10.1)\n",
      "Building wheels for collected packages: scikit-surprise\n",
      "  Building wheel for scikit-surprise (setup.py) ... \u001b[?25l\u001b[?25hdone\n",
      "  Created wheel for scikit-surprise: filename=scikit_surprise-1.1.3-cp310-cp310-linux_x86_64.whl size=3095451 sha256=5718577cdda82fbaedf22b3c5e6d1e421ae2c7b227d06ee66e106547638ac1f9\n",
      "  Stored in directory: /root/.cache/pip/wheels/a5/ca/a8/4e28def53797fdc4363ca4af740db15a9c2f1595ebc51fb445\n",
      "Successfully built scikit-surprise\n",
      "Installing collected packages: scikit-surprise\n",
      "Successfully installed scikit-surprise-1.1.3\n",
      "Looking in indexes: https://pypi.org/simple, https://us-python.pkg.dev/colab-wheels/public/simple/\n",
      "Requirement already satisfied: xlrd==2.0.1 in /usr/local/lib/python3.10/dist-packages (2.0.1)\n",
      "\u001b[2K     \u001b[90m━━━━━━━━━━━━━━━━━━━━━━━━━━━━━━━━━━━━━━━\u001b[0m \u001b[32m365.7/365.7 kB\u001b[0m \u001b[31m7.2 MB/s\u001b[0m eta \u001b[36m0:00:00\u001b[0m\n",
      "\u001b[2K     \u001b[90m━━━━━━━━━━━━━━━━━━━━━━━━━━━━━━━━━━━━━━\u001b[0m \u001b[32m212.9/212.9 kB\u001b[0m \u001b[31m15.3 MB/s\u001b[0m eta \u001b[36m0:00:00\u001b[0m\n",
      "\u001b[2K     \u001b[90m━━━━━━━━━━━━━━━━━━━━━━━━━━━━━━━━━━━━━━━━\u001b[0m \u001b[32m78.7/78.7 kB\u001b[0m \u001b[31m7.1 MB/s\u001b[0m eta \u001b[36m0:00:00\u001b[0m\n",
      "\u001b[?25h"
     ]
    }
   ],
   "source": [
    "!pip install \"scikit-surprise==1.1.3\"\n",
    "!pip install \"xlrd==2.0.1\"\n",
    "!pip install optuna -q"
   ]
  },
  {
   "cell_type": "markdown",
   "id": "f4fc3daa-2632-4ad6-b904-752bd2308fc8",
   "metadata": {
    "id": "f4fc3daa-2632-4ad6-b904-752bd2308fc8"
   },
   "source": [
    "### Import"
   ]
  },
  {
   "cell_type": "code",
   "execution_count": null,
   "id": "427278c8-3010-4e10-9271-dc3b7723e0e7",
   "metadata": {
    "colab": {
     "base_uri": "https://localhost:8080/"
    },
    "id": "427278c8-3010-4e10-9271-dc3b7723e0e7",
    "outputId": "1df9bb76-38da-49a0-c551-738e9474778b"
   },
   "outputs": [
    {
     "name": "stdout",
     "output_type": "stream",
     "text": [
      "Mounted at /content/drive\n"
     ]
    }
   ],
   "source": [
    "import numpy as np\n",
    "import pandas as pd\n",
    "from collections import defaultdict\n",
    "from surprise import Dataset, Reader, KNNWithMeans, accuracy, SVD, SVDpp, NMF, SlopeOne, KNNWithZScore\n",
    "from surprise.model_selection import GridSearchCV\n",
    "from surprise.model_selection import train_test_split\n",
    "from sklearn.model_selection import train_test_split as tts\n",
    "from surprise.model_selection import KFold\n",
    "import optuna\n",
    "\n",
    "from google.colab import drive\n",
    "drive.mount('/content/drive')\n",
    "\n",
    "np.random.seed(42)"
   ]
  },
  {
   "cell_type": "markdown",
   "id": "0011beb8-385e-4fab-a946-7c5972cd7727",
   "metadata": {
    "id": "0011beb8-385e-4fab-a946-7c5972cd7727"
   },
   "source": [
    "### Базовые функции для скоринга и получения рекомендаций"
   ]
  },
  {
   "cell_type": "code",
   "execution_count": null,
   "id": "95b435cb-6972-4a46-b086-bc5ae5a89b8e",
   "metadata": {
    "id": "95b435cb-6972-4a46-b086-bc5ae5a89b8e"
   },
   "outputs": [],
   "source": [
    "def get_num_user_ratings(uid):\n",
    "    \"\"\" возвращает кол-во рейтингов у пользователя \n",
    "    args: \n",
    "      uid: id пользователей\n",
    "    returns: \n",
    "      кол-во объектов, которые оценил пользователь\n",
    "    \"\"\"\n",
    "    try:\n",
    "        return len(trainset.ur[trainset.to_inner_uid(uid)])\n",
    "    except ValueError: # пользователя не было во время обучения (новый, отправить на стартовые рекомендации)\n",
    "        return 0\n",
    "    \n",
    "def get_num_item_ratings(iid):\n",
    "    \"\"\" возвращает кол-во пользователей, которые оценили выбранный элемент \n",
    "    args:\n",
    "      iid: строка с элементов рекомендации\n",
    "    returns:\n",
    "      кол-во пользователей, которые дали оценки по элементу\n",
    "    \"\"\"\n",
    "    try: \n",
    "        return len(trainset.ir[trainset.to_inner_iid(iid)])\n",
    "    except ValueError:\n",
    "        return 0\n",
    "    \n",
    "# На основе Surprise FAQ построим рекомендации Топ-N\n",
    "def get_top_n(predictions, n=5):\n",
    "    \"\"\"Определят Топ-N рекомендаций\n",
    "\n",
    "    Args:\n",
    "        predictions(list of Prediction objects): Списко рекомендаций, из алгоритма Surprise\n",
    "        n(int): Кол-во топ рекомендаций\n",
    "\n",
    "    Returns:\n",
    "        Словарь пользователь - список рекомендакиций для пользователей\n",
    "        [(raw item id, rating estimation), ...]\n",
    "    \"\"\"\n",
    "\n",
    "    # Предикт для каждого пользователя\n",
    "    top_n = defaultdict(list)\n",
    "    for uid, iid, true_r, est, _ in predictions:\n",
    "        top_n[uid].append((iid, est))\n",
    "\n",
    "    # Сортировка предикта (по пользователям)\n",
    "    for uid, user_ratings in top_n.items():\n",
    "        user_ratings.sort(key=lambda x: x[1], reverse=True)\n",
    "        top_n[uid] = user_ratings[:n]\n",
    "\n",
    "    return top_n    "
   ]
  },
  {
   "cell_type": "markdown",
   "id": "d3f82a04-60f8-4338-8175-84409a9226ae",
   "metadata": {
    "id": "d3f82a04-60f8-4338-8175-84409a9226ae"
   },
   "source": [
    "### Загрузка и обработка данных"
   ]
  },
  {
   "cell_type": "code",
   "execution_count": null,
   "id": "6c7c4800-84cc-48ec-b5a4-0e0cb5a69c18",
   "metadata": {
    "colab": {
     "base_uri": "https://localhost:8080/",
     "height": 206
    },
    "id": "6c7c4800-84cc-48ec-b5a4-0e0cb5a69c18",
    "outputId": "aa3d8430-473e-48cb-ab5d-a68d3d64f65c"
   },
   "outputs": [
    {
     "data": {
      "text/html": [
       "\n",
       "  <div id=\"df-37b79f54-dd2b-4e64-88c7-0c69a5f6a1e3\">\n",
       "    <div class=\"colab-df-container\">\n",
       "      <div>\n",
       "<style scoped>\n",
       "    .dataframe tbody tr th:only-of-type {\n",
       "        vertical-align: middle;\n",
       "    }\n",
       "\n",
       "    .dataframe tbody tr th {\n",
       "        vertical-align: top;\n",
       "    }\n",
       "\n",
       "    .dataframe thead th {\n",
       "        text-align: right;\n",
       "    }\n",
       "</style>\n",
       "<table border=\"1\" class=\"dataframe\">\n",
       "  <thead>\n",
       "    <tr style=\"text-align: right;\">\n",
       "      <th></th>\n",
       "      <th>UID</th>\n",
       "      <th>JID</th>\n",
       "      <th>Rating</th>\n",
       "    </tr>\n",
       "  </thead>\n",
       "  <tbody>\n",
       "    <tr>\n",
       "      <th>0</th>\n",
       "      <td>18029</td>\n",
       "      <td>6</td>\n",
       "      <td>-1.26</td>\n",
       "    </tr>\n",
       "    <tr>\n",
       "      <th>1</th>\n",
       "      <td>3298</td>\n",
       "      <td>64</td>\n",
       "      <td>-4.17</td>\n",
       "    </tr>\n",
       "    <tr>\n",
       "      <th>2</th>\n",
       "      <td>3366</td>\n",
       "      <td>58</td>\n",
       "      <td>0.92</td>\n",
       "    </tr>\n",
       "    <tr>\n",
       "      <th>3</th>\n",
       "      <td>12735</td>\n",
       "      <td>92</td>\n",
       "      <td>3.69</td>\n",
       "    </tr>\n",
       "    <tr>\n",
       "      <th>4</th>\n",
       "      <td>11365</td>\n",
       "      <td>38</td>\n",
       "      <td>-6.60</td>\n",
       "    </tr>\n",
       "  </tbody>\n",
       "</table>\n",
       "</div>\n",
       "      <button class=\"colab-df-convert\" onclick=\"convertToInteractive('df-37b79f54-dd2b-4e64-88c7-0c69a5f6a1e3')\"\n",
       "              title=\"Convert this dataframe to an interactive table.\"\n",
       "              style=\"display:none;\">\n",
       "        \n",
       "  <svg xmlns=\"http://www.w3.org/2000/svg\" height=\"24px\"viewBox=\"0 0 24 24\"\n",
       "       width=\"24px\">\n",
       "    <path d=\"M0 0h24v24H0V0z\" fill=\"none\"/>\n",
       "    <path d=\"M18.56 5.44l.94 2.06.94-2.06 2.06-.94-2.06-.94-.94-2.06-.94 2.06-2.06.94zm-11 1L8.5 8.5l.94-2.06 2.06-.94-2.06-.94L8.5 2.5l-.94 2.06-2.06.94zm10 10l.94 2.06.94-2.06 2.06-.94-2.06-.94-.94-2.06-.94 2.06-2.06.94z\"/><path d=\"M17.41 7.96l-1.37-1.37c-.4-.4-.92-.59-1.43-.59-.52 0-1.04.2-1.43.59L10.3 9.45l-7.72 7.72c-.78.78-.78 2.05 0 2.83L4 21.41c.39.39.9.59 1.41.59.51 0 1.02-.2 1.41-.59l7.78-7.78 2.81-2.81c.8-.78.8-2.07 0-2.86zM5.41 20L4 18.59l7.72-7.72 1.47 1.35L5.41 20z\"/>\n",
       "  </svg>\n",
       "      </button>\n",
       "      \n",
       "  <style>\n",
       "    .colab-df-container {\n",
       "      display:flex;\n",
       "      flex-wrap:wrap;\n",
       "      gap: 12px;\n",
       "    }\n",
       "\n",
       "    .colab-df-convert {\n",
       "      background-color: #E8F0FE;\n",
       "      border: none;\n",
       "      border-radius: 50%;\n",
       "      cursor: pointer;\n",
       "      display: none;\n",
       "      fill: #1967D2;\n",
       "      height: 32px;\n",
       "      padding: 0 0 0 0;\n",
       "      width: 32px;\n",
       "    }\n",
       "\n",
       "    .colab-df-convert:hover {\n",
       "      background-color: #E2EBFA;\n",
       "      box-shadow: 0px 1px 2px rgba(60, 64, 67, 0.3), 0px 1px 3px 1px rgba(60, 64, 67, 0.15);\n",
       "      fill: #174EA6;\n",
       "    }\n",
       "\n",
       "    [theme=dark] .colab-df-convert {\n",
       "      background-color: #3B4455;\n",
       "      fill: #D2E3FC;\n",
       "    }\n",
       "\n",
       "    [theme=dark] .colab-df-convert:hover {\n",
       "      background-color: #434B5C;\n",
       "      box-shadow: 0px 1px 3px 1px rgba(0, 0, 0, 0.15);\n",
       "      filter: drop-shadow(0px 1px 2px rgba(0, 0, 0, 0.3));\n",
       "      fill: #FFFFFF;\n",
       "    }\n",
       "  </style>\n",
       "\n",
       "      <script>\n",
       "        const buttonEl =\n",
       "          document.querySelector('#df-37b79f54-dd2b-4e64-88c7-0c69a5f6a1e3 button.colab-df-convert');\n",
       "        buttonEl.style.display =\n",
       "          google.colab.kernel.accessAllowed ? 'block' : 'none';\n",
       "\n",
       "        async function convertToInteractive(key) {\n",
       "          const element = document.querySelector('#df-37b79f54-dd2b-4e64-88c7-0c69a5f6a1e3');\n",
       "          const dataTable =\n",
       "            await google.colab.kernel.invokeFunction('convertToInteractive',\n",
       "                                                     [key], {});\n",
       "          if (!dataTable) return;\n",
       "\n",
       "          const docLinkHtml = 'Like what you see? Visit the ' +\n",
       "            '<a target=\"_blank\" href=https://colab.research.google.com/notebooks/data_table.ipynb>data table notebook</a>'\n",
       "            + ' to learn more about interactive tables.';\n",
       "          element.innerHTML = '';\n",
       "          dataTable['output_type'] = 'display_data';\n",
       "          await google.colab.output.renderOutput(dataTable, element);\n",
       "          const docLink = document.createElement('div');\n",
       "          docLink.innerHTML = docLinkHtml;\n",
       "          element.appendChild(docLink);\n",
       "        }\n",
       "      </script>\n",
       "    </div>\n",
       "  </div>\n",
       "  "
      ],
      "text/plain": [
       "     UID  JID  Rating\n",
       "0  18029    6   -1.26\n",
       "1   3298   64   -4.17\n",
       "2   3366   58    0.92\n",
       "3  12735   92    3.69\n",
       "4  11365   38   -6.60"
      ]
     },
     "execution_count": 4,
     "metadata": {},
     "output_type": "execute_result"
    }
   ],
   "source": [
    "df = pd.read_csv('/content/drive/MyDrive/Bootcamp_Магнит/train_joke_df.csv')\n",
    "\n",
    "df.head(5)"
   ]
  },
  {
   "cell_type": "code",
   "execution_count": null,
   "id": "08f07545-6735-407c-b549-822e9c701c70",
   "metadata": {
    "id": "08f07545-6735-407c-b549-822e9c701c70"
   },
   "outputs": [],
   "source": [
    "# сделаем сортировку и перепишем index\n",
    "df = df.sort_values(by=['UID', 'JID'])\n",
    "df = df.reset_index(drop=True)"
   ]
  },
  {
   "cell_type": "code",
   "execution_count": null,
   "id": "c6569d6a-5e39-43ee-96c8-283d788573d3",
   "metadata": {
    "id": "c6569d6a-5e39-43ee-96c8-283d788573d3"
   },
   "outputs": [],
   "source": [
    "# создадим на основе набора данных\n",
    "# поднабор, который требуется для библиотеки Surprise\n",
    "\n",
    "# указываем минимальный и максимальный рейтинги\n",
    "reader = Reader(rating_scale=(-10, 10))\n",
    "\n",
    "# передаём набор, указывая последовательность колонок: user (raw) ids, item (raw) ids, ratings\n",
    "# для Surprise - это обязательно\n",
    "data = Dataset.load_from_df(df[['UID', 'JID', 'Rating']], reader)"
   ]
  },
  {
   "cell_type": "code",
   "execution_count": null,
   "id": "ae962279-bafb-408e-a1a9-1c698d75157e",
   "metadata": {
    "id": "ae962279-bafb-408e-a1a9-1c698d75157e"
   },
   "outputs": [],
   "source": [
    "trainset_data = data.build_full_trainset()\n",
    "\n",
    "# сделаем разделение на обучающую и тестовую выборку\n",
    "trainset, testset = train_test_split(data, test_size=0.2, random_state=42)"
   ]
  },
  {
   "cell_type": "markdown",
   "id": "879fe08d-1317-4028-b797-03baee7f7311",
   "metadata": {
    "id": "879fe08d-1317-4028-b797-03baee7f7311"
   },
   "source": [
    "### Обучение модели"
   ]
  },
  {
   "cell_type": "code",
   "execution_count": null,
   "id": "rjPfUAdYlNdl",
   "metadata": {
    "colab": {
     "base_uri": "https://localhost:8080/"
    },
    "collapsed": true,
    "id": "rjPfUAdYlNdl",
    "outputId": "ffc8224d-6ce8-440e-e502-fc39a7ddc5f9"
   },
   "outputs": [
    {
     "name": "stderr",
     "output_type": "stream",
     "text": [
      "\u001b[32m[I 2023-04-26 09:18:06,993]\u001b[0m A new study created in memory with name: no-name-a88de648-8763-4bab-9283-138289238824\u001b[0m\n"
     ]
    },
    {
     "name": "stdout",
     "output_type": "stream",
     "text": [
      "RMSE: 4.0683\n",
      "RMSE: 4.0696\n",
      "RMSE: 4.0702\n"
     ]
    },
    {
     "name": "stderr",
     "output_type": "stream",
     "text": [
      "\u001b[32m[I 2023-04-26 09:21:08,885]\u001b[0m Trial 0 finished with value: 4.069347680962569 and parameters: {'reg_pu': 1.220855211403125e-06, 'reg_qi': 0.5478595913941109, 'reg_bu': 0.00780509079637674, 'reg_bi': 0.0012921586468483987, 'lr_pu': 0.009294438389589607, 'lr_qi': 0.00019683272170000586, 'lr_bu': 0.0005726084296876974, 'lr_bi': 0.00018818090671546834, 'n_factors': 640, 'n_epochs': 13}. Best is trial 0 with value: 4.069347680962569.\u001b[0m\n"
     ]
    },
    {
     "name": "stdout",
     "output_type": "stream",
     "text": [
      "RMSE: 4.1962\n",
      "RMSE: 4.1943\n",
      "RMSE: 4.1973\n"
     ]
    },
    {
     "name": "stderr",
     "output_type": "stream",
     "text": [
      "\u001b[32m[I 2023-04-26 09:36:44,688]\u001b[0m Trial 1 finished with value: 4.195945833771931 and parameters: {'reg_pu': 0.0019942266906958377, 'reg_qi': 0.037036423070412106, 'reg_bu': 0.00019715290218143904, 'reg_bi': 5.490703496667441e-06, 'lr_pu': 0.00039099856905620763, 'lr_qi': 0.00016099608012160935, 'lr_bu': 0.0008818558544526172, 'lr_bi': 0.0036613617252923927, 'n_factors': 1839, 'n_epochs': 34}. Best is trial 0 with value: 4.069347680962569.\u001b[0m\n"
     ]
    },
    {
     "name": "stdout",
     "output_type": "stream",
     "text": [
      "RMSE: 4.1886\n",
      "RMSE: 4.2028\n"
     ]
    },
    {
     "name": "stderr",
     "output_type": "stream",
     "text": [
      "\u001b[32m[I 2023-04-26 09:41:55,708]\u001b[0m Trial 2 finished with value: 4.192363626829882 and parameters: {'reg_pu': 0.0007969842363138854, 'reg_qi': 0.016253200220686367, 'reg_bu': 8.121801535473412e-05, 'reg_bi': 0.008886165598068426, 'lr_pu': 0.005347088594248675, 'lr_qi': 0.00029168565734931915, 'lr_bu': 0.0007175303753531704, 'lr_bi': 0.006648389973054777, 'n_factors': 1297, 'n_epochs': 14}. Best is trial 0 with value: 4.069347680962569.\u001b[0m\n"
     ]
    },
    {
     "name": "stdout",
     "output_type": "stream",
     "text": [
      "RMSE: 4.1858\n",
      "RMSE: 4.1214\n",
      "RMSE: 4.1265\n",
      "RMSE: 4.1197\n"
     ]
    },
    {
     "name": "stderr",
     "output_type": "stream",
     "text": [
      "\u001b[32m[I 2023-04-26 09:55:27,141]\u001b[0m Trial 3 finished with value: 4.122528670571615 and parameters: {'reg_pu': 1.3616042593652704e-06, 'reg_qi': 0.014942486769864854, 'reg_bu': 1.4317384525713946e-07, 'reg_bi': 7.779775389798357e-06, 'lr_pu': 0.005403789992560395, 'lr_qi': 0.009579321229141523, 'lr_bu': 0.003659067690444993, 'lr_bi': 0.001913371054920376, 'n_factors': 1231, 'n_epochs': 43}. Best is trial 0 with value: 4.069347680962569.\u001b[0m\n"
     ]
    },
    {
     "name": "stdout",
     "output_type": "stream",
     "text": [
      "RMSE: 4.3822\n",
      "RMSE: 4.3835\n",
      "RMSE: 4.3860\n"
     ]
    },
    {
     "name": "stderr",
     "output_type": "stream",
     "text": [
      "\u001b[32m[I 2023-04-26 10:00:08,627]\u001b[0m Trial 4 finished with value: 4.38390104108916 and parameters: {'reg_pu': 0.0014653870776635616, 'reg_qi': 0.6922045165833495, 'reg_bu': 0.000143151742615965, 'reg_bi': 2.357427407019533e-07, 'lr_pu': 0.0016407177378766921, 'lr_qi': 0.00014468809264199878, 'lr_bu': 0.0020706090619958422, 'lr_bi': 0.004840749212596454, 'n_factors': 1347, 'n_epochs': 12}. Best is trial 0 with value: 4.069347680962569.\u001b[0m\n"
     ]
    },
    {
     "name": "stdout",
     "output_type": "stream",
     "text": [
      "RMSE: 4.2786\n",
      "RMSE: 4.2688\n",
      "RMSE: 4.2711\n"
     ]
    },
    {
     "name": "stderr",
     "output_type": "stream",
     "text": [
      "\u001b[32m[I 2023-04-26 10:06:16,912]\u001b[0m Trial 5 finished with value: 4.272835475998927 and parameters: {'reg_pu': 4.772605638738243e-05, 'reg_qi': 0.03895886091665082, 'reg_bu': 6.672822515634316e-07, 'reg_bi': 0.0007108299267626391, 'lr_pu': 0.00022676657072262727, 'lr_qi': 0.0007755557835238138, 'lr_bu': 0.002315620733778612, 'lr_bi': 0.003555804693465876, 'n_factors': 1719, 'n_epochs': 13}. Best is trial 0 with value: 4.069347680962569.\u001b[0m\n"
     ]
    },
    {
     "name": "stdout",
     "output_type": "stream",
     "text": [
      "RMSE: 4.1377\n",
      "RMSE: 4.1372\n",
      "RMSE: 4.1419\n"
     ]
    },
    {
     "name": "stderr",
     "output_type": "stream",
     "text": [
      "\u001b[32m[I 2023-04-26 10:20:46,037]\u001b[0m Trial 6 finished with value: 4.138916609489358 and parameters: {'reg_pu': 1.504497854736823e-06, 'reg_qi': 0.0206356145130677, 'reg_bu': 0.00048164832496169074, 'reg_bi': 0.0023321945401795054, 'lr_pu': 0.002338693925194916, 'lr_qi': 0.0024975144767897294, 'lr_bu': 0.001553555699099695, 'lr_bi': 0.0040593800534453285, 'n_factors': 1497, 'n_epochs': 38}. Best is trial 0 with value: 4.069347680962569.\u001b[0m\n"
     ]
    },
    {
     "name": "stdout",
     "output_type": "stream",
     "text": [
      "RMSE: 4.1140\n",
      "RMSE: 4.1141\n"
     ]
    },
    {
     "name": "stderr",
     "output_type": "stream",
     "text": [
      "\u001b[32m[I 2023-04-26 10:25:51,705]\u001b[0m Trial 7 finished with value: 4.1175282350206395 and parameters: {'reg_pu': 9.74156899694228e-06, 'reg_qi': 0.08273200747392112, 'reg_bu': 0.002799068491688402, 'reg_bi': 0.001296552126160083, 'lr_pu': 0.0028651064301063603, 'lr_qi': 0.00022202296110747816, 'lr_bu': 0.0017955258643710954, 'lr_bi': 0.006954232868573051, 'n_factors': 383, 'n_epochs': 37}. Best is trial 0 with value: 4.069347680962569.\u001b[0m\n"
     ]
    },
    {
     "name": "stdout",
     "output_type": "stream",
     "text": [
      "RMSE: 4.1245\n",
      "RMSE: 4.3280\n",
      "RMSE: 4.3222\n",
      "RMSE: 4.3317\n"
     ]
    },
    {
     "name": "stderr",
     "output_type": "stream",
     "text": [
      "\u001b[32m[I 2023-04-26 10:40:48,036]\u001b[0m Trial 8 finished with value: 4.3272708179542025 and parameters: {'reg_pu': 0.004283072593711643, 'reg_qi': 0.7544230618458196, 'reg_bu': 0.00018769404887984025, 'reg_bi': 1.7023464049833718e-07, 'lr_pu': 0.0007240867510964138, 'lr_qi': 0.0007894454593676848, 'lr_bu': 0.0012832180463941164, 'lr_bi': 0.00012978851412077583, 'n_factors': 1571, 'n_epochs': 37}. Best is trial 0 with value: 4.069347680962569.\u001b[0m\n"
     ]
    },
    {
     "name": "stdout",
     "output_type": "stream",
     "text": [
      "RMSE: 4.1942\n",
      "RMSE: 4.1937\n",
      "RMSE: 4.1904\n"
     ]
    },
    {
     "name": "stderr",
     "output_type": "stream",
     "text": [
      "\u001b[32m[I 2023-04-26 10:47:13,633]\u001b[0m Trial 9 finished with value: 4.19275445208685 and parameters: {'reg_pu': 1.3512497277892724e-05, 'reg_qi': 0.020682803612200013, 'reg_bu': 1.4023002760507664e-05, 'reg_bi': 0.0003762664206645498, 'lr_pu': 0.001861054061201455, 'lr_qi': 0.00034476709505164256, 'lr_bu': 0.0004497319846523098, 'lr_bi': 0.000527282261037241, 'n_factors': 1026, 'n_epochs': 22}. Best is trial 0 with value: 4.069347680962569.\u001b[0m\n"
     ]
    },
    {
     "name": "stdout",
     "output_type": "stream",
     "text": [
      "RMSE: 4.1079\n",
      "RMSE: 4.1112\n",
      "RMSE: 4.1040\n"
     ]
    },
    {
     "name": "stderr",
     "output_type": "stream",
     "text": [
      "\u001b[32m[I 2023-04-26 10:51:54,965]\u001b[0m Trial 10 finished with value: 4.107732444302745 and parameters: {'reg_pu': 0.00023271930110466227, 'reg_qi': 0.31508744670316163, 'reg_bu': 0.007156188868231573, 'reg_bi': 9.429715865880254e-05, 'lr_pu': 0.008357825761103027, 'lr_qi': 0.00010193305929239357, 'lr_bu': 0.00015932563540421832, 'lr_bi': 0.00016216618841812932, 'n_factors': 563, 'n_epochs': 25}. Best is trial 0 with value: 4.069347680962569.\u001b[0m\n"
     ]
    },
    {
     "name": "stdout",
     "output_type": "stream",
     "text": [
      "RMSE: 4.1166\n",
      "RMSE: 4.1119\n",
      "RMSE: 4.1077\n"
     ]
    },
    {
     "name": "stderr",
     "output_type": "stream",
     "text": [
      "\u001b[32m[I 2023-04-26 10:56:28,106]\u001b[0m Trial 11 finished with value: 4.112061290755882 and parameters: {'reg_pu': 0.00023347151703521343, 'reg_qi': 0.29832079745907897, 'reg_bu': 0.00915197452489221, 'reg_bi': 0.00010713633346185188, 'lr_pu': 0.009552037219055301, 'lr_qi': 0.00010025996894298352, 'lr_bu': 0.00012768897408282025, 'lr_bi': 0.00012648826758674702, 'n_factors': 581, 'n_epochs': 24}. Best is trial 0 with value: 4.069347680962569.\u001b[0m\n"
     ]
    },
    {
     "name": "stdout",
     "output_type": "stream",
     "text": [
      "RMSE: 4.1263\n",
      "RMSE: 4.1199\n",
      "RMSE: 4.1182\n"
     ]
    },
    {
     "name": "stderr",
     "output_type": "stream",
     "text": [
      "\u001b[32m[I 2023-04-26 11:02:00,505]\u001b[0m Trial 12 finished with value: 4.121473961408932 and parameters: {'reg_pu': 0.00014833232933947547, 'reg_qi': 0.24928817906800307, 'reg_bu': 0.008901173044930571, 'reg_bi': 9.267078336052883e-05, 'lr_pu': 0.009741495222122214, 'lr_qi': 0.00010390582076046136, 'lr_bu': 0.0002639823128078807, 'lr_bi': 0.0003015924062223725, 'n_factors': 740, 'n_epochs': 24}. Best is trial 0 with value: 4.069347680962569.\u001b[0m\n"
     ]
    },
    {
     "name": "stdout",
     "output_type": "stream",
     "text": [
      "RMSE: 4.6642\n",
      "RMSE: 4.6720\n",
      "RMSE: 4.6675\n"
     ]
    },
    {
     "name": "stderr",
     "output_type": "stream",
     "text": [
      "\u001b[32m[I 2023-04-26 11:05:21,018]\u001b[0m Trial 13 finished with value: 4.667891083752379 and parameters: {'reg_pu': 0.0003647804987371024, 'reg_qi': 0.31963762407816115, 'reg_bu': 0.0008835286010255344, 'reg_bi': 0.00016823060912782444, 'lr_pu': 0.0001024025450759609, 'lr_qi': 0.0003953325188773842, 'lr_bu': 0.00013133369206649084, 'lr_bi': 0.000265562588975178, 'n_factors': 102, 'n_epochs': 50}. Best is trial 0 with value: 4.069347680962569.\u001b[0m\n"
     ]
    },
    {
     "name": "stdout",
     "output_type": "stream",
     "text": [
      "RMSE: 4.1586\n",
      "RMSE: 4.1581\n"
     ]
    },
    {
     "name": "stderr",
     "output_type": "stream",
     "text": [
      "\u001b[32m[I 2023-04-26 11:10:41,745]\u001b[0m Trial 14 finished with value: 4.160278596004262 and parameters: {'reg_pu': 6.158736311658782e-05, 'reg_qi': 0.975811210029159, 'reg_bu': 0.0018319135193855217, 'reg_bi': 3.941262979057673e-05, 'lr_pu': 0.00449209063976818, 'lr_qi': 0.00020582788841394506, 'lr_bu': 0.007393268626783481, 'lr_bi': 0.0009744590146383508, 'n_factors': 884, 'n_epochs': 20}. Best is trial 0 with value: 4.069347680962569.\u001b[0m\n"
     ]
    },
    {
     "name": "stdout",
     "output_type": "stream",
     "text": [
      "RMSE: 4.1641\n",
      "RMSE: 4.1388\n",
      "RMSE: 4.1289\n",
      "RMSE: 4.1300\n"
     ]
    },
    {
     "name": "stderr",
     "output_type": "stream",
     "text": [
      "\u001b[32m[I 2023-04-26 11:13:40,167]\u001b[0m Trial 15 finished with value: 4.132584770003148 and parameters: {'reg_pu': 1.983331936141918e-05, 'reg_qi': 0.1458286204633049, 'reg_bu': 0.004379793101643873, 'reg_bi': 0.009720873778759803, 'lr_pu': 0.009189484079056233, 'lr_qi': 0.00010593453001661308, 'lr_bu': 0.000288633795788231, 'lr_bi': 0.00011400972458049842, 'n_factors': 413, 'n_epochs': 18}. Best is trial 0 with value: 4.069347680962569.\u001b[0m\n"
     ]
    },
    {
     "name": "stdout",
     "output_type": "stream",
     "text": [
      "RMSE: 4.0648\n",
      "RMSE: 4.0597\n",
      "RMSE: 4.0553\n"
     ]
    },
    {
     "name": "stderr",
     "output_type": "stream",
     "text": [
      "\u001b[32m[I 2023-04-26 11:19:22,231]\u001b[0m Trial 16 finished with value: 4.059935038660574 and parameters: {'reg_pu': 0.006860932459696676, 'reg_qi': 0.47139271254371795, 'reg_bu': 0.0009185925246949851, 'reg_bi': 0.00043330790755112915, 'lr_pu': 0.0033674666058948802, 'lr_qi': 0.00047438563657017485, 'lr_bu': 0.0005581939382888749, 'lr_bi': 0.00022699462617129364, 'n_factors': 603, 'n_epochs': 30}. Best is trial 16 with value: 4.059935038660574.\u001b[0m\n"
     ]
    },
    {
     "name": "stdout",
     "output_type": "stream",
     "text": [
      "RMSE: 4.0747\n",
      "RMSE: 4.0679\n",
      "RMSE: 4.0660\n"
     ]
    },
    {
     "name": "stderr",
     "output_type": "stream",
     "text": [
      "\u001b[32m[I 2023-04-26 11:22:35,294]\u001b[0m Trial 17 finished with value: 4.069526399002403 and parameters: {'reg_pu': 0.007982258272184519, 'reg_qi': 0.536949773958323, 'reg_bu': 0.0019247157217938827, 'reg_bi': 0.0024170064622656886, 'lr_pu': 0.0036738744493047615, 'lr_qi': 0.0005032362728669625, 'lr_bu': 0.0006304285839637224, 'lr_bi': 0.00026077337806543015, 'n_factors': 253, 'n_epochs': 29}. Best is trial 16 with value: 4.059935038660574.\u001b[0m\n"
     ]
    },
    {
     "name": "stdout",
     "output_type": "stream",
     "text": [
      "RMSE: 4.1730\n",
      "RMSE: 4.1678\n",
      "RMSE: 4.1683\n"
     ]
    },
    {
     "name": "stderr",
     "output_type": "stream",
     "text": [
      "\u001b[32m[I 2023-04-26 11:29:40,826]\u001b[0m Trial 18 finished with value: 4.169685945669799 and parameters: {'reg_pu': 0.009944799097605235, 'reg_qi': 0.470006773782788, 'reg_bu': 0.0010527846721787128, 'reg_bi': 0.00042104273836623507, 'lr_pu': 0.0013094871106525687, 'lr_qi': 0.0004919944576193361, 'lr_bu': 0.0004895961684844297, 'lr_bi': 0.000475575869804684, 'n_factors': 786, 'n_epochs': 31}. Best is trial 16 with value: 4.059935038660574.\u001b[0m\n"
     ]
    },
    {
     "name": "stdout",
     "output_type": "stream",
     "text": [
      "RMSE: 4.0890\n",
      "RMSE: 4.0900\n",
      "RMSE: 4.0972\n"
     ]
    },
    {
     "name": "stderr",
     "output_type": "stream",
     "text": [
      "\u001b[32m[I 2023-04-26 11:42:38,275]\u001b[0m Trial 19 finished with value: 4.092055095610925 and parameters: {'reg_pu': 0.0006717778659573299, 'reg_qi': 0.9981234244336206, 'reg_bu': 0.0005435923099611964, 'reg_bi': 0.0028701691789307896, 'lr_pu': 0.0029337131325243245, 'lr_qi': 0.000250946474558989, 'lr_bu': 0.0009625422471838119, 'lr_bi': 0.00019281942651043252, 'n_factors': 1058, 'n_epochs': 46}. Best is trial 16 with value: 4.059935038660574.\u001b[0m\n"
     ]
    },
    {
     "name": "stdout",
     "output_type": "stream",
     "text": [
      "RMSE: 4.0814\n",
      "RMSE: 4.0884\n",
      "RMSE: 4.0795\n"
     ]
    },
    {
     "name": "stderr",
     "output_type": "stream",
     "text": [
      "\u001b[32m[I 2023-04-26 11:45:47,683]\u001b[0m Trial 20 finished with value: 4.083095735361381 and parameters: {'reg_pu': 3.6011433966490665e-06, 'reg_qi': 0.1791270617665813, 'reg_bu': 3.525838261569544e-05, 'reg_bi': 0.0007949849054680316, 'lr_pu': 0.004897438235858445, 'lr_qi': 0.0013867752316819608, 'lr_bu': 0.0003407754586104081, 'lr_bi': 0.00037023438358311226, 'n_factors': 508, 'n_epochs': 17}. Best is trial 16 with value: 4.059935038660574.\u001b[0m\n"
     ]
    },
    {
     "name": "stdout",
     "output_type": "stream",
     "text": [
      "RMSE: 4.0703\n",
      "RMSE: 4.0735\n",
      "RMSE: 4.0755\n"
     ]
    },
    {
     "name": "stderr",
     "output_type": "stream",
     "text": [
      "\u001b[32m[I 2023-04-26 11:48:36,954]\u001b[0m Trial 21 finished with value: 4.073086237984274 and parameters: {'reg_pu': 0.008479792022686339, 'reg_qi': 0.5055609826148751, 'reg_bu': 0.0021498605479624514, 'reg_bi': 0.005057918362328946, 'lr_pu': 0.0035239925660773756, 'lr_qi': 0.0005013992942403064, 'lr_bu': 0.0006652119327618975, 'lr_bi': 0.00022192180672981008, 'n_factors': 199, 'n_epochs': 28}. Best is trial 16 with value: 4.059935038660574.\u001b[0m\n"
     ]
    },
    {
     "name": "stdout",
     "output_type": "stream",
     "text": [
      "RMSE: 4.0648\n",
      "RMSE: 4.0619\n",
      "RMSE: 4.0724\n"
     ]
    },
    {
     "name": "stderr",
     "output_type": "stream",
     "text": [
      "\u001b[32m[I 2023-04-26 11:52:09,735]\u001b[0m Trial 22 finished with value: 4.066366889563345 and parameters: {'reg_pu': 0.003391036974797534, 'reg_qi': 0.5179641629429279, 'reg_bu': 0.0021776414910895303, 'reg_bi': 0.001244757871822412, 'lr_pu': 0.006480589525971267, 'lr_qi': 0.0005362978701218122, 'lr_bu': 0.0005814337000109186, 'lr_bi': 0.00019382646995729378, 'n_factors': 302, 'n_epochs': 29}. Best is trial 16 with value: 4.059935038660574.\u001b[0m\n"
     ]
    },
    {
     "name": "stdout",
     "output_type": "stream",
     "text": [
      "RMSE: 4.0874\n",
      "RMSE: 4.0825\n",
      "RMSE: 4.0988\n"
     ]
    },
    {
     "name": "stderr",
     "output_type": "stream",
     "text": [
      "\u001b[32m[I 2023-04-26 11:54:45,456]\u001b[0m Trial 23 finished with value: 4.089554510778698 and parameters: {'reg_pu': 0.0031385799199041423, 'reg_qi': 0.4210425698518158, 'reg_bu': 0.004058709576625114, 'reg_bi': 0.0013099453835175754, 'lr_pu': 0.006333127611732297, 'lr_qi': 0.0003189023983411477, 'lr_bu': 0.0004472303569877998, 'lr_bi': 0.0001783754015959838, 'n_factors': 687, 'n_epochs': 10}. Best is trial 16 with value: 4.059935038660574.\u001b[0m\n"
     ]
    },
    {
     "name": "stdout",
     "output_type": "stream",
     "text": [
      "RMSE: 4.0564\n",
      "RMSE: 4.0630\n",
      "RMSE: 4.0610\n"
     ]
    },
    {
     "name": "stderr",
     "output_type": "stream",
     "text": [
      "\u001b[32m[I 2023-04-26 11:58:44,032]\u001b[0m Trial 24 finished with value: 4.060142164640057 and parameters: {'reg_pu': 0.0013180673282654862, 'reg_qi': 0.6415238195441398, 'reg_bu': 0.0004897255366887051, 'reg_bi': 0.0003044085840748599, 'lr_pu': 0.006069222664881346, 'lr_qi': 0.00023047021143624238, 'lr_bu': 0.0010835362831689897, 'lr_bi': 0.0004149185967572896, 'n_factors': 309, 'n_epochs': 33}. Best is trial 16 with value: 4.059935038660574.\u001b[0m\n"
     ]
    },
    {
     "name": "stdout",
     "output_type": "stream",
     "text": [
      "RMSE: 4.0686\n",
      "RMSE: 4.0709\n",
      "RMSE: 4.0606\n"
     ]
    },
    {
     "name": "stderr",
     "output_type": "stream",
     "text": [
      "\u001b[32m[I 2023-04-26 12:02:43,481]\u001b[0m Trial 25 finished with value: 4.066682869640386 and parameters: {'reg_pu': 0.0035855941264400604, 'reg_qi': 0.6601151320884462, 'reg_bu': 0.0004874893142170764, 'reg_bi': 0.0002821668718548798, 'lr_pu': 0.00633858794769581, 'lr_qi': 0.0006712948139931583, 'lr_bu': 0.001108286186700535, 'lr_bi': 0.00010135099960302646, 'n_factors': 321, 'n_epochs': 32}. Best is trial 16 with value: 4.059935038660574.\u001b[0m\n"
     ]
    },
    {
     "name": "stdout",
     "output_type": "stream",
     "text": [
      "RMSE: 4.0991\n",
      "RMSE: 4.0998\n",
      "RMSE: 4.0959\n"
     ]
    },
    {
     "name": "stderr",
     "output_type": "stream",
     "text": [
      "\u001b[32m[I 2023-04-26 12:05:05,401]\u001b[0m Trial 26 finished with value: 4.098277514920463 and parameters: {'reg_pu': 0.0013481302028524962, 'reg_qi': 0.3608217238128755, 'reg_bu': 0.0008083965311095959, 'reg_bi': 0.0003790082344666294, 'lr_pu': 0.00227547899833502, 'lr_qi': 0.0011793205865280871, 'lr_bu': 0.0008685717623759074, 'lr_bi': 0.0006398944595847253, 'n_factors': 138, 'n_epochs': 27}. Best is trial 16 with value: 4.059935038660574.\u001b[0m\n"
     ]
    },
    {
     "name": "stdout",
     "output_type": "stream",
     "text": [
      "RMSE: 4.0842\n",
      "RMSE: 4.0722\n",
      "RMSE: 4.0835\n"
     ]
    },
    {
     "name": "stderr",
     "output_type": "stream",
     "text": [
      "\u001b[32m[I 2023-04-26 12:10:37,160]\u001b[0m Trial 27 finished with value: 4.079955652199207 and parameters: {'reg_pu': 0.004676132130383527, 'reg_qi': 0.22202279214870585, 'reg_bu': 0.00031991260473212976, 'reg_bi': 0.0006083418710579757, 'lr_pu': 0.0038579231809831257, 'lr_qi': 0.00039111889961355035, 'lr_bu': 0.0012302187814743127, 'lr_bi': 0.0003532173719886821, 'n_factors': 460, 'n_epochs': 34}. Best is trial 16 with value: 4.059935038660574.\u001b[0m\n"
     ]
    },
    {
     "name": "stdout",
     "output_type": "stream",
     "text": [
      "RMSE: 4.0727\n",
      "RMSE: 4.0625\n",
      "RMSE: 4.0677\n"
     ]
    },
    {
     "name": "stderr",
     "output_type": "stream",
     "text": [
      "\u001b[32m[I 2023-04-26 12:20:38,342]\u001b[0m Trial 28 finished with value: 4.067624890444767 and parameters: {'reg_pu': 0.0024226553933977516, 'reg_qi': 0.4075003664038142, 'reg_bu': 0.0019098050325954885, 'reg_bi': 0.0002204048523656522, 'lr_pu': 0.0034575649331490357, 'lr_qi': 0.0002645967038701215, 'lr_bu': 0.00021766941036812466, 'lr_bi': 0.0007507508157748616, 'n_factors': 872, 'n_epochs': 41}. Best is trial 16 with value: 4.059935038660574.\u001b[0m\n"
     ]
    },
    {
     "name": "stdout",
     "output_type": "stream",
     "text": [
      "RMSE: 4.0636\n",
      "RMSE: 4.0684\n",
      "RMSE: 4.0687\n"
     ]
    },
    {
     "name": "stderr",
     "output_type": "stream",
     "text": [
      "\u001b[32m[I 2023-04-26 12:24:44,045]\u001b[0m Trial 29 finished with value: 4.0669022815206235 and parameters: {'reg_pu': 0.0007921438376957107, 'reg_qi': 0.6647960752122282, 'reg_bu': 0.00408408515074921, 'reg_bi': 0.0014463350240161374, 'lr_pu': 0.007238020839424441, 'lr_qi': 0.00017810556916478753, 'lr_bu': 0.00035527547774395497, 'lr_bi': 0.00040852399082183614, 'n_factors': 313, 'n_epochs': 34}. Best is trial 16 with value: 4.059935038660574.\u001b[0m\n"
     ]
    },
    {
     "name": "stdout",
     "output_type": "stream",
     "text": [
      "RMSE: 4.0623\n",
      "RMSE: 4.0570\n",
      "RMSE: 4.0714\n"
     ]
    },
    {
     "name": "stderr",
     "output_type": "stream",
     "text": [
      "\u001b[32m[I 2023-04-26 12:30:33,898]\u001b[0m Trial 30 finished with value: 4.063600980441148 and parameters: {'reg_pu': 0.0014017976729172265, 'reg_qi': 0.5744371915485587, 'reg_bu': 0.0010011788003054232, 'reg_bi': 0.00448689109038143, 'lr_pu': 0.006666617833037113, 'lr_qi': 0.00022377022647243223, 'lr_bu': 0.000577359192246206, 'lr_bi': 0.00024668222963762984, 'n_factors': 626, 'n_epochs': 30}. Best is trial 16 with value: 4.059935038660574.\u001b[0m\n"
     ]
    },
    {
     "name": "stdout",
     "output_type": "stream",
     "text": [
      "RMSE: 4.0663\n",
      "RMSE: 4.0677\n",
      "RMSE: 4.0705\n"
     ]
    },
    {
     "name": "stderr",
     "output_type": "stream",
     "text": [
      "\u001b[32m[I 2023-04-26 12:36:26,552]\u001b[0m Trial 31 finished with value: 4.0681626543751515 and parameters: {'reg_pu': 0.0017554661375340276, 'reg_qi': 0.5370882664026599, 'reg_bu': 0.0003857907566165102, 'reg_bi': 0.0038811380546217634, 'lr_pu': 0.0067030266309959, 'lr_qi': 0.00021783850777769376, 'lr_bu': 0.0006114681757365961, 'lr_bi': 0.00023219059834706917, 'n_factors': 599, 'n_epochs': 31}. Best is trial 16 with value: 4.059935038660574.\u001b[0m\n"
     ]
    },
    {
     "name": "stdout",
     "output_type": "stream",
     "text": [
      "RMSE: 4.0734\n",
      "RMSE: 4.0833\n",
      "RMSE: 4.0718\n"
     ]
    },
    {
     "name": "stderr",
     "output_type": "stream",
     "text": [
      "\u001b[32m[I 2023-04-26 12:40:47,753]\u001b[0m Trial 32 finished with value: 4.0761553828831465 and parameters: {'reg_pu': 0.005223053182924145, 'reg_qi': 0.4014919215307297, 'reg_bu': 0.001294970487460451, 'reg_bi': 0.0010218061585334827, 'lr_pu': 0.004768910711071791, 'lr_qi': 0.0001520747455797809, 'lr_bu': 0.00077208495533309, 'lr_bi': 0.00030889783544760046, 'n_factors': 462, 'n_epochs': 27}. Best is trial 16 with value: 4.059935038660574.\u001b[0m\n"
     ]
    },
    {
     "name": "stdout",
     "output_type": "stream",
     "text": [
      "RMSE: 4.0592\n",
      "RMSE: 4.0608\n",
      "RMSE: 4.0579\n"
     ]
    },
    {
     "name": "stderr",
     "output_type": "stream",
     "text": [
      "\u001b[32m[I 2023-04-26 12:44:22,745]\u001b[0m Trial 33 finished with value: 4.059263639479627 and parameters: {'reg_pu': 0.0021912351750206205, 'reg_qi': 0.7915188201515515, 'reg_bu': 0.0009673018808533263, 'reg_bi': 0.006260490667591867, 'lr_pu': 0.006871714795534729, 'lr_qi': 0.0003386926164997961, 'lr_bu': 0.0005122341846165309, 'lr_bi': 0.00020594120210956946, 'n_factors': 259, 'n_epochs': 33}. Best is trial 33 with value: 4.059263639479627.\u001b[0m\n"
     ]
    },
    {
     "name": "stdout",
     "output_type": "stream",
     "text": [
      "RMSE: 4.0562\n",
      "RMSE: 4.0596\n"
     ]
    },
    {
     "name": "stderr",
     "output_type": "stream",
     "text": [
      "\u001b[32m[I 2023-04-26 12:51:36,457]\u001b[0m Trial 34 finished with value: 4.056740405924985 and parameters: {'reg_pu': 0.0011580526718134555, 'reg_qi': 0.817145278582794, 'reg_bu': 0.0002618106813715463, 'reg_bi': 0.00780263023185707, 'lr_pu': 0.005232350700168847, 'lr_qi': 0.0002801604175511963, 'lr_bu': 0.0009154923180480234, 'lr_bi': 0.0001553326131031038, 'n_factors': 688, 'n_epochs': 35}. Best is trial 34 with value: 4.056740405924985.\u001b[0m\n"
     ]
    },
    {
     "name": "stdout",
     "output_type": "stream",
     "text": [
      "RMSE: 4.0544\n",
      "RMSE: 4.0582\n",
      "RMSE: 4.0619\n",
      "RMSE: 4.0629\n"
     ]
    },
    {
     "name": "stderr",
     "output_type": "stream",
     "text": [
      "\u001b[32m[I 2023-04-26 13:01:12,592]\u001b[0m Trial 35 finished with value: 4.061011928255468 and parameters: {'reg_pu': 0.0005662216629940967, 'reg_qi': 0.8269376061992388, 'reg_bu': 0.00011631887768228272, 'reg_bi': 0.008014414191224095, 'lr_pu': 0.004006230423214899, 'lr_qi': 0.0003253770749366739, 'lr_bu': 0.0008707754584092834, 'lr_bi': 0.00014470026269708345, 'n_factors': 860, 'n_epochs': 40}. Best is trial 34 with value: 4.056740405924985.\u001b[0m\n"
     ]
    },
    {
     "name": "stdout",
     "output_type": "stream",
     "text": [
      "RMSE: 4.0542\n",
      "RMSE: 4.0610\n",
      "RMSE: 4.0587\n"
     ]
    },
    {
     "name": "stderr",
     "output_type": "stream",
     "text": [
      "\u001b[32m[I 2023-04-26 13:10:46,674]\u001b[0m Trial 36 finished with value: 4.057922735960098 and parameters: {'reg_pu': 0.0011621159309778387, 'reg_qi': 0.7831590735500998, 'reg_bu': 0.00030941352065079095, 'reg_bi': 0.009732137030109026, 'lr_pu': 0.00517053155399731, 'lr_qi': 0.00030390337929455795, 'lr_bu': 0.0010044044100407663, 'lr_bi': 0.00015082711256712364, 'n_factors': 1030, 'n_epochs': 34}. Best is trial 34 with value: 4.056740405924985.\u001b[0m\n"
     ]
    },
    {
     "name": "stdout",
     "output_type": "stream",
     "text": [
      "RMSE: 4.0583\n",
      "RMSE: 4.0580\n",
      "RMSE: 4.0556\n"
     ]
    },
    {
     "name": "stderr",
     "output_type": "stream",
     "text": [
      "\u001b[32m[I 2023-04-26 13:21:09,277]\u001b[0m Trial 37 finished with value: 4.057295637723957 and parameters: {'reg_pu': 0.0011448591457074886, 'reg_qi': 0.8440497048460534, 'reg_bu': 6.467071058997201e-05, 'reg_bi': 0.009931275642834672, 'lr_pu': 0.004968717128433608, 'lr_qi': 0.00029736607033096607, 'lr_bu': 0.0007493116095528266, 'lr_bi': 0.00017629806864810502, 'n_factors': 1072, 'n_epochs': 36}. Best is trial 34 with value: 4.056740405924985.\u001b[0m\n"
     ]
    },
    {
     "name": "stdout",
     "output_type": "stream",
     "text": [
      "RMSE: 4.0622\n",
      "RMSE: 4.0572\n",
      "RMSE: 4.0570\n"
     ]
    },
    {
     "name": "stderr",
     "output_type": "stream",
     "text": [
      "\u001b[32m[I 2023-04-26 13:32:43,295]\u001b[0m Trial 38 finished with value: 4.058804900798624 and parameters: {'reg_pu': 0.0022192574554651193, 'reg_qi': 0.8788468775231728, 'reg_bu': 6.608676746683275e-05, 'reg_bi': 0.007097475449305056, 'lr_pu': 0.005231319116966904, 'lr_qi': 0.0001408221010353754, 'lr_bu': 0.0014584506966893265, 'lr_bi': 0.00016119034201014532, 'n_factors': 1177, 'n_epochs': 37}. Best is trial 34 with value: 4.056740405924985.\u001b[0m\n"
     ]
    },
    {
     "name": "stdout",
     "output_type": "stream",
     "text": [
      "RMSE: 4.0568\n",
      "RMSE: 4.0497\n",
      "RMSE: 4.0567\n"
     ]
    },
    {
     "name": "stderr",
     "output_type": "stream",
     "text": [
      "\u001b[32m[I 2023-04-26 13:46:49,912]\u001b[0m Trial 39 finished with value: 4.054419398620368 and parameters: {'reg_pu': 0.0010398462453200708, 'reg_qi': 0.975481537099458, 'reg_bu': 6.405279534313364e-05, 'reg_bi': 0.008446937909973943, 'lr_pu': 0.005037130407846973, 'lr_qi': 0.0001532653071418146, 'lr_bu': 0.0016783726294656905, 'lr_bi': 0.00014842221255242954, 'n_factors': 1235, 'n_epochs': 44}. Best is trial 39 with value: 4.054419398620368.\u001b[0m\n"
     ]
    }
   ],
   "source": [
    "# Подберём гиперпараметры\n",
    "\n",
    "def objective_SVD(trial):    \n",
    "    reg_pu = trial.suggest_float(\"reg_pu\", 1e-6, 0.01, log=True)\n",
    "    reg_qi = trial.suggest_float(\"reg_qi\", 0.01, 1, log=True)\n",
    "    reg_bu = trial.suggest_float(\"reg_bu\", 1e-7, 0.01, log=True)\n",
    "    reg_bi = trial.suggest_float(\"reg_bi\", 1e-7, 0.01, log=True)\n",
    "    \n",
    "    lr_pu = trial.suggest_float(\"lr_pu\", 0.0001, 0.01, log=True)\n",
    "    lr_qi = trial.suggest_float(\"lr_qi\", 0.0001, 0.01, log=True)\n",
    "    lr_bu = trial.suggest_float(\"lr_bu\", 0.0001, 0.01, log=True)\n",
    "    lr_bi = trial.suggest_float(\"lr_bi\", 0.0001, 0.01, log=True)\n",
    "    \n",
    "\n",
    "    #reg_all = trial.suggest_float(\"reg_all\", 1e-5, 2, log=True)\n",
    "    #lr_all = trial.suggest_float(\"lr_all\", 0.0001, 0.01, log=True)\n",
    "    n_factors = trial.suggest_int(\"n_factors\", 100, 2000)\n",
    "    n_epochs = trial.suggest_int(\"n_epochs\", 10, 50)\n",
    "\n",
    "    #init_mean = trial.suggest_float(\"init_mean\", 0, 10, log=False)\n",
    "    #init_std_dev = trial.suggest_float(\"init_std_dev\", 0.01, 2, log=True)\n",
    "    \n",
    "    kf = KFold(n_splits=3)\n",
    "\n",
    "    algo = SVD(reg_pu=reg_pu, reg_qi=reg_qi, reg_bu=reg_bu, reg_bi=reg_bi,\n",
    "               lr_pu=lr_pu, lr_qi=lr_qi, lr_bu=lr_bu, lr_bi=lr_bi,\n",
    "               n_factors=n_factors, n_epochs=n_epochs)\n",
    "\n",
    "    rmse = []\n",
    "    \n",
    "    for trainset, testset in kf.split(data):\n",
    "\n",
    "      algo.fit(trainset)\n",
    "      predictions = algo.test(testset)\n",
    "\n",
    "      rmse.append(accuracy.rmse(predictions))\n",
    "\n",
    "    score = np.array(rmse).mean()\n",
    "\n",
    "    return score\n",
    "\n",
    "\n",
    "study = optuna.create_study(direction=\"minimize\")\n",
    "study.optimize(objective_SVD, n_trials=40)"
   ]
  },
  {
   "cell_type": "code",
   "execution_count": null,
   "id": "KjCJLfcEsW_1",
   "metadata": {
    "colab": {
     "base_uri": "https://localhost:8080/"
    },
    "id": "KjCJLfcEsW_1",
    "outputId": "ec2acfd5-6e4f-4751-e31f-0a108a6e1036"
   },
   "outputs": [
    {
     "name": "stdout",
     "output_type": "stream",
     "text": [
      "RMSE: 4.0176\n"
     ]
    },
    {
     "data": {
      "text/plain": [
       "4.017592166765312"
      ]
     },
     "execution_count": 31,
     "metadata": {},
     "output_type": "execute_result"
    }
   ],
   "source": [
    "# Kaggle Score = 3.97333\n",
    "\n",
    "# обучим с лучшими параметрами (Trial 39 из ячейки выше)\n",
    "params = {'reg_pu': 0.0010398462453200708, 'reg_qi': 0.975481537099458, 'reg_bu': 6.405279534313364e-05, 'reg_bi': 0.008446937909973943, 'lr_pu': 0.005037130407846973, 'lr_qi': 0.0001532653071418146, 'lr_bu': 0.0016783726294656905, 'lr_bi': 0.00014842221255242954, 'n_factors': 1235, 'n_epochs': 44}\n",
    "\n",
    "algo = SVD(reg_pu=params['reg_pu'], reg_qi=params['reg_qi'], reg_bu=params['reg_bu'], reg_bi=params['reg_bi'], \n",
    "           lr_pu=params['lr_pu'], lr_qi=params['lr_qi'], lr_bu=params['lr_bu'], lr_bi=params['lr_bi'],\n",
    "            n_factors=params['n_factors'], n_epochs=params['n_epochs'])\n",
    "algo.fit(trainset)\n",
    "\n",
    "# получим предикт и посмотрим метрику\n",
    "predictions = algo.test(testset)\n",
    "accuracy.rmse(predictions)"
   ]
  },
  {
   "cell_type": "code",
   "execution_count": null,
   "id": "DKo5xLVIQheV",
   "metadata": {
    "colab": {
     "base_uri": "https://localhost:8080/"
    },
    "id": "DKo5xLVIQheV",
    "outputId": "5a9d1a78-02df-418e-e4f2-0eb11663b4e1"
   },
   "outputs": [
    {
     "data": {
      "text/plain": [
       "<surprise.prediction_algorithms.matrix_factorization.SVD at 0x7ff256539ac0>"
      ]
     },
     "execution_count": 22,
     "metadata": {},
     "output_type": "execute_result"
    }
   ],
   "source": [
    "# обучим с лучшими параметрами на всём трейне\n",
    "algo.fit(trainset_data)"
   ]
  },
  {
   "cell_type": "markdown",
   "id": "b072635d-739a-48cd-812f-8fd04e3f9d32",
   "metadata": {
    "id": "b072635d-739a-48cd-812f-8fd04e3f9d32"
   },
   "source": [
    "### Тестирование и результаты"
   ]
  },
  {
   "cell_type": "code",
   "execution_count": null,
   "id": "c2be3189-9e9e-469a-916e-9c78a93e6aa2",
   "metadata": {
    "colab": {
     "base_uri": "https://localhost:8080/"
    },
    "id": "c2be3189-9e9e-469a-916e-9c78a93e6aa2",
    "outputId": "f76c17d9-dbe6-4205-dcfd-554ed081731a"
   },
   "outputs": [
    {
     "name": "stdout",
     "output_type": "stream",
     "text": [
      "user: 1          item: 1          r_ui = -7.82   est = -7.49   {'was_impossible': False}\n"
     ]
    }
   ],
   "source": [
    "# получаем предикт\n",
    "uid = 1  # id пользователя \n",
    "iid = 1  # iв шутки\n",
    "\n",
    "# получим предик на основе обученных данных\n",
    "# -7.82 - это фактический рейтинг, но посмотрим, какой ответ будет в предикте\n",
    "pred = algo.predict(uid, iid, r_ui=-7.82, verbose=True)"
   ]
  },
  {
   "cell_type": "code",
   "execution_count": null,
   "id": "a6cca0fb-7536-45f5-8ad9-9233831bb5f7",
   "metadata": {
    "colab": {
     "base_uri": "https://localhost:8080/"
    },
    "id": "a6cca0fb-7536-45f5-8ad9-9233831bb5f7",
    "outputId": "8d3cea02-88e9-4ea0-a971-855eb0988c18"
   },
   "outputs": [
    {
     "name": "stdout",
     "output_type": "stream",
     "text": [
      "user: 24983      item: 62         r_ui = -0.29   est = -0.05   {'was_impossible': False}\n"
     ]
    }
   ],
   "source": [
    "uid = 24983  # id пользователя \n",
    "iid = 62     # iв шутки\n",
    "\n",
    "pred = algo.predict(uid, iid, r_ui=-0.29, verbose=True)"
   ]
  },
  {
   "cell_type": "markdown",
   "id": "09debb1b-0ffa-4dc4-a91b-c06124e0d8b7",
   "metadata": {
    "id": "09debb1b-0ffa-4dc4-a91b-c06124e0d8b7"
   },
   "source": [
    "### Обзор рекомендаций"
   ]
  },
  {
   "cell_type": "code",
   "execution_count": null,
   "id": "d942cdd3-af9d-4cc4-a294-0f451b0944ab",
   "metadata": {
    "id": "d942cdd3-af9d-4cc4-a294-0f451b0944ab"
   },
   "outputs": [],
   "source": [
    "# построим таблицу для обзора набора рекомендаций\n",
    "# посмотрим, какие элементы и в каком кол-ве рекомендуем\n",
    "trainset = algo.trainset\n",
    "\n",
    "predictions_df = pd.DataFrame(predictions, columns=['uid', 'iid', 'rui', 'est', 'details'])\n",
    "\n",
    "predictions_df['№ кол-во пользовательских рейтингов'] = predictions_df.uid.apply(get_num_user_ratings)\n",
    "predictions_df['№ кол-во рейтингов элементов'] = predictions_df.iid.apply(get_num_item_ratings)\n",
    "predictions_df['error'] = abs(predictions_df.est - predictions_df.rui)\n",
    "\n",
    "best_predictions = predictions_df.sort_values(by='error')[:10]\n",
    "worst_predictions = predictions_df.sort_values(by='error')[-10:]"
   ]
  },
  {
   "cell_type": "code",
   "execution_count": null,
   "id": "ca77d78d-db5e-44b7-8da0-3bd7c8d34f64",
   "metadata": {
    "colab": {
     "base_uri": "https://localhost:8080/",
     "height": 206
    },
    "id": "ca77d78d-db5e-44b7-8da0-3bd7c8d34f64",
    "outputId": "528038b4-05b5-4e29-8814-5aa101dd5e8b"
   },
   "outputs": [
    {
     "data": {
      "text/html": [
       "\n",
       "  <div id=\"df-a74fefd3-b156-476d-9880-4efbcf4e6cf1\">\n",
       "    <div class=\"colab-df-container\">\n",
       "      <div>\n",
       "<style scoped>\n",
       "    .dataframe tbody tr th:only-of-type {\n",
       "        vertical-align: middle;\n",
       "    }\n",
       "\n",
       "    .dataframe tbody tr th {\n",
       "        vertical-align: top;\n",
       "    }\n",
       "\n",
       "    .dataframe thead th {\n",
       "        text-align: right;\n",
       "    }\n",
       "</style>\n",
       "<table border=\"1\" class=\"dataframe\">\n",
       "  <thead>\n",
       "    <tr style=\"text-align: right;\">\n",
       "      <th></th>\n",
       "      <th>uid</th>\n",
       "      <th>iid</th>\n",
       "      <th>rui</th>\n",
       "      <th>est</th>\n",
       "      <th>details</th>\n",
       "      <th>№ кол-во пользовательских рейтингов</th>\n",
       "      <th>№ кол-во рейтингов элементов</th>\n",
       "      <th>error</th>\n",
       "    </tr>\n",
       "  </thead>\n",
       "  <tbody>\n",
       "    <tr>\n",
       "      <th>19327</th>\n",
       "      <td>2889</td>\n",
       "      <td>78</td>\n",
       "      <td>6.12</td>\n",
       "      <td>6.120016</td>\n",
       "      <td>{'was_impossible': False}</td>\n",
       "      <td>73</td>\n",
       "      <td>7194</td>\n",
       "      <td>0.000016</td>\n",
       "    </tr>\n",
       "    <tr>\n",
       "      <th>19089</th>\n",
       "      <td>15536</td>\n",
       "      <td>26</td>\n",
       "      <td>0.00</td>\n",
       "      <td>-0.000017</td>\n",
       "      <td>{'was_impossible': False}</td>\n",
       "      <td>56</td>\n",
       "      <td>18969</td>\n",
       "      <td>0.000017</td>\n",
       "    </tr>\n",
       "    <tr>\n",
       "      <th>254695</th>\n",
       "      <td>18062</td>\n",
       "      <td>81</td>\n",
       "      <td>-3.74</td>\n",
       "      <td>-3.740034</td>\n",
       "      <td>{'was_impossible': False}</td>\n",
       "      <td>70</td>\n",
       "      <td>7437</td>\n",
       "      <td>0.000034</td>\n",
       "    </tr>\n",
       "    <tr>\n",
       "      <th>62939</th>\n",
       "      <td>21634</td>\n",
       "      <td>62</td>\n",
       "      <td>2.33</td>\n",
       "      <td>2.330067</td>\n",
       "      <td>{'was_impossible': False}</td>\n",
       "      <td>59</td>\n",
       "      <td>19985</td>\n",
       "      <td>0.000067</td>\n",
       "    </tr>\n",
       "    <tr>\n",
       "      <th>156685</th>\n",
       "      <td>7692</td>\n",
       "      <td>47</td>\n",
       "      <td>4.76</td>\n",
       "      <td>4.759929</td>\n",
       "      <td>{'was_impossible': False}</td>\n",
       "      <td>54</td>\n",
       "      <td>17852</td>\n",
       "      <td>0.000071</td>\n",
       "    </tr>\n",
       "  </tbody>\n",
       "</table>\n",
       "</div>\n",
       "      <button class=\"colab-df-convert\" onclick=\"convertToInteractive('df-a74fefd3-b156-476d-9880-4efbcf4e6cf1')\"\n",
       "              title=\"Convert this dataframe to an interactive table.\"\n",
       "              style=\"display:none;\">\n",
       "        \n",
       "  <svg xmlns=\"http://www.w3.org/2000/svg\" height=\"24px\"viewBox=\"0 0 24 24\"\n",
       "       width=\"24px\">\n",
       "    <path d=\"M0 0h24v24H0V0z\" fill=\"none\"/>\n",
       "    <path d=\"M18.56 5.44l.94 2.06.94-2.06 2.06-.94-2.06-.94-.94-2.06-.94 2.06-2.06.94zm-11 1L8.5 8.5l.94-2.06 2.06-.94-2.06-.94L8.5 2.5l-.94 2.06-2.06.94zm10 10l.94 2.06.94-2.06 2.06-.94-2.06-.94-.94-2.06-.94 2.06-2.06.94z\"/><path d=\"M17.41 7.96l-1.37-1.37c-.4-.4-.92-.59-1.43-.59-.52 0-1.04.2-1.43.59L10.3 9.45l-7.72 7.72c-.78.78-.78 2.05 0 2.83L4 21.41c.39.39.9.59 1.41.59.51 0 1.02-.2 1.41-.59l7.78-7.78 2.81-2.81c.8-.78.8-2.07 0-2.86zM5.41 20L4 18.59l7.72-7.72 1.47 1.35L5.41 20z\"/>\n",
       "  </svg>\n",
       "      </button>\n",
       "      \n",
       "  <style>\n",
       "    .colab-df-container {\n",
       "      display:flex;\n",
       "      flex-wrap:wrap;\n",
       "      gap: 12px;\n",
       "    }\n",
       "\n",
       "    .colab-df-convert {\n",
       "      background-color: #E8F0FE;\n",
       "      border: none;\n",
       "      border-radius: 50%;\n",
       "      cursor: pointer;\n",
       "      display: none;\n",
       "      fill: #1967D2;\n",
       "      height: 32px;\n",
       "      padding: 0 0 0 0;\n",
       "      width: 32px;\n",
       "    }\n",
       "\n",
       "    .colab-df-convert:hover {\n",
       "      background-color: #E2EBFA;\n",
       "      box-shadow: 0px 1px 2px rgba(60, 64, 67, 0.3), 0px 1px 3px 1px rgba(60, 64, 67, 0.15);\n",
       "      fill: #174EA6;\n",
       "    }\n",
       "\n",
       "    [theme=dark] .colab-df-convert {\n",
       "      background-color: #3B4455;\n",
       "      fill: #D2E3FC;\n",
       "    }\n",
       "\n",
       "    [theme=dark] .colab-df-convert:hover {\n",
       "      background-color: #434B5C;\n",
       "      box-shadow: 0px 1px 3px 1px rgba(0, 0, 0, 0.15);\n",
       "      filter: drop-shadow(0px 1px 2px rgba(0, 0, 0, 0.3));\n",
       "      fill: #FFFFFF;\n",
       "    }\n",
       "  </style>\n",
       "\n",
       "      <script>\n",
       "        const buttonEl =\n",
       "          document.querySelector('#df-a74fefd3-b156-476d-9880-4efbcf4e6cf1 button.colab-df-convert');\n",
       "        buttonEl.style.display =\n",
       "          google.colab.kernel.accessAllowed ? 'block' : 'none';\n",
       "\n",
       "        async function convertToInteractive(key) {\n",
       "          const element = document.querySelector('#df-a74fefd3-b156-476d-9880-4efbcf4e6cf1');\n",
       "          const dataTable =\n",
       "            await google.colab.kernel.invokeFunction('convertToInteractive',\n",
       "                                                     [key], {});\n",
       "          if (!dataTable) return;\n",
       "\n",
       "          const docLinkHtml = 'Like what you see? Visit the ' +\n",
       "            '<a target=\"_blank\" href=https://colab.research.google.com/notebooks/data_table.ipynb>data table notebook</a>'\n",
       "            + ' to learn more about interactive tables.';\n",
       "          element.innerHTML = '';\n",
       "          dataTable['output_type'] = 'display_data';\n",
       "          await google.colab.output.renderOutput(dataTable, element);\n",
       "          const docLink = document.createElement('div');\n",
       "          docLink.innerHTML = docLinkHtml;\n",
       "          element.appendChild(docLink);\n",
       "        }\n",
       "      </script>\n",
       "    </div>\n",
       "  </div>\n",
       "  "
      ],
      "text/plain": [
       "          uid  iid   rui       est                    details  \\\n",
       "19327    2889   78  6.12  6.120016  {'was_impossible': False}   \n",
       "19089   15536   26  0.00 -0.000017  {'was_impossible': False}   \n",
       "254695  18062   81 -3.74 -3.740034  {'was_impossible': False}   \n",
       "62939   21634   62  2.33  2.330067  {'was_impossible': False}   \n",
       "156685   7692   47  4.76  4.759929  {'was_impossible': False}   \n",
       "\n",
       "        № кол-во пользовательских рейтингов  № кол-во рейтингов элементов  \\\n",
       "19327                                    73                          7194   \n",
       "19089                                    56                         18969   \n",
       "254695                                   70                          7437   \n",
       "62939                                    59                         19985   \n",
       "156685                                   54                         17852   \n",
       "\n",
       "           error  \n",
       "19327   0.000016  \n",
       "19089   0.000017  \n",
       "254695  0.000034  \n",
       "62939   0.000067  \n",
       "156685  0.000071  "
      ]
     },
     "execution_count": 34,
     "metadata": {},
     "output_type": "execute_result"
    }
   ],
   "source": [
    "best_predictions.head(5)"
   ]
  },
  {
   "cell_type": "code",
   "execution_count": null,
   "id": "68a89929-b581-43d9-bfa5-452535641ace",
   "metadata": {
    "colab": {
     "base_uri": "https://localhost:8080/"
    },
    "id": "68a89929-b581-43d9-bfa5-452535641ace",
    "outputId": "fa5af4f2-71b4-4e63-d391-caefb971e67f"
   },
   "outputs": [
    {
     "name": "stdout",
     "output_type": "stream",
     "text": [
      "19208 [54, 55, 29, 78, 89]\n",
      "8671 [8, 83, 77, 32, 72]\n",
      "6037 [78, 81, 89, 77, 87]\n",
      "3233 [50, 36, 27, 31, 42]\n",
      "3449 [100, 80, 6, 73, 53]\n",
      "10032 [35, 94, 32, 53, 49]\n",
      "5774 [89, 47, 32, 68, 29]\n",
      "23392 [36, 48, 29, 53, 21]\n",
      "3039 [62, 53, 94, 91, 96]\n",
      "17395 [27, 88, 50, 35, 85]\n"
     ]
    }
   ],
   "source": [
    "# Предикт для всех, кого нет в выборке для обучения\n",
    "testset = trainset.build_anti_testset()\n",
    "predictions = algo.test(testset)\n",
    "\n",
    "top_n = get_top_n(predictions)\n",
    "\n",
    "# Сделаем вывод рекомендаций\n",
    "a=0\n",
    "for uid, user_ratings in top_n.items():\n",
    "    a+=1\n",
    "    print(uid, [iid for (iid, _) in user_ratings])\n",
    "    \n",
    "    if a==10:\n",
    "        break"
   ]
  },
  {
   "cell_type": "markdown",
   "id": "aa5422a2-7447-489e-b789-5753fa32f2fa",
   "metadata": {
    "id": "aa5422a2-7447-489e-b789-5753fa32f2fa"
   },
   "source": [
    "### Для отправки на тестирование"
   ]
  },
  {
   "cell_type": "code",
   "execution_count": null,
   "id": "d06b634c-c15c-4210-973c-1e4e7f7ccf9b",
   "metadata": {
    "colab": {
     "base_uri": "https://localhost:8080/",
     "height": 237
    },
    "id": "d06b634c-c15c-4210-973c-1e4e7f7ccf9b",
    "outputId": "aaa9bcdd-79e1-40d0-f29c-efb725c60023"
   },
   "outputs": [
    {
     "data": {
      "text/html": [
       "\n",
       "  <div id=\"df-7ed71866-52c8-46e5-97b9-d8dd5a5c6cf9\">\n",
       "    <div class=\"colab-df-container\">\n",
       "      <div>\n",
       "<style scoped>\n",
       "    .dataframe tbody tr th:only-of-type {\n",
       "        vertical-align: middle;\n",
       "    }\n",
       "\n",
       "    .dataframe tbody tr th {\n",
       "        vertical-align: top;\n",
       "    }\n",
       "\n",
       "    .dataframe thead th {\n",
       "        text-align: right;\n",
       "    }\n",
       "</style>\n",
       "<table border=\"1\" class=\"dataframe\">\n",
       "  <thead>\n",
       "    <tr style=\"text-align: right;\">\n",
       "      <th></th>\n",
       "      <th>UID</th>\n",
       "      <th>JID</th>\n",
       "    </tr>\n",
       "    <tr>\n",
       "      <th>InteractionID</th>\n",
       "      <th></th>\n",
       "      <th></th>\n",
       "    </tr>\n",
       "  </thead>\n",
       "  <tbody>\n",
       "    <tr>\n",
       "      <th>0</th>\n",
       "      <td>11228</td>\n",
       "      <td>39</td>\n",
       "    </tr>\n",
       "    <tr>\n",
       "      <th>1</th>\n",
       "      <td>21724</td>\n",
       "      <td>85</td>\n",
       "    </tr>\n",
       "    <tr>\n",
       "      <th>2</th>\n",
       "      <td>16782</td>\n",
       "      <td>56</td>\n",
       "    </tr>\n",
       "    <tr>\n",
       "      <th>3</th>\n",
       "      <td>12105</td>\n",
       "      <td>42</td>\n",
       "    </tr>\n",
       "    <tr>\n",
       "      <th>4</th>\n",
       "      <td>14427</td>\n",
       "      <td>2</td>\n",
       "    </tr>\n",
       "  </tbody>\n",
       "</table>\n",
       "</div>\n",
       "      <button class=\"colab-df-convert\" onclick=\"convertToInteractive('df-7ed71866-52c8-46e5-97b9-d8dd5a5c6cf9')\"\n",
       "              title=\"Convert this dataframe to an interactive table.\"\n",
       "              style=\"display:none;\">\n",
       "        \n",
       "  <svg xmlns=\"http://www.w3.org/2000/svg\" height=\"24px\"viewBox=\"0 0 24 24\"\n",
       "       width=\"24px\">\n",
       "    <path d=\"M0 0h24v24H0V0z\" fill=\"none\"/>\n",
       "    <path d=\"M18.56 5.44l.94 2.06.94-2.06 2.06-.94-2.06-.94-.94-2.06-.94 2.06-2.06.94zm-11 1L8.5 8.5l.94-2.06 2.06-.94-2.06-.94L8.5 2.5l-.94 2.06-2.06.94zm10 10l.94 2.06.94-2.06 2.06-.94-2.06-.94-.94-2.06-.94 2.06-2.06.94z\"/><path d=\"M17.41 7.96l-1.37-1.37c-.4-.4-.92-.59-1.43-.59-.52 0-1.04.2-1.43.59L10.3 9.45l-7.72 7.72c-.78.78-.78 2.05 0 2.83L4 21.41c.39.39.9.59 1.41.59.51 0 1.02-.2 1.41-.59l7.78-7.78 2.81-2.81c.8-.78.8-2.07 0-2.86zM5.41 20L4 18.59l7.72-7.72 1.47 1.35L5.41 20z\"/>\n",
       "  </svg>\n",
       "      </button>\n",
       "      \n",
       "  <style>\n",
       "    .colab-df-container {\n",
       "      display:flex;\n",
       "      flex-wrap:wrap;\n",
       "      gap: 12px;\n",
       "    }\n",
       "\n",
       "    .colab-df-convert {\n",
       "      background-color: #E8F0FE;\n",
       "      border: none;\n",
       "      border-radius: 50%;\n",
       "      cursor: pointer;\n",
       "      display: none;\n",
       "      fill: #1967D2;\n",
       "      height: 32px;\n",
       "      padding: 0 0 0 0;\n",
       "      width: 32px;\n",
       "    }\n",
       "\n",
       "    .colab-df-convert:hover {\n",
       "      background-color: #E2EBFA;\n",
       "      box-shadow: 0px 1px 2px rgba(60, 64, 67, 0.3), 0px 1px 3px 1px rgba(60, 64, 67, 0.15);\n",
       "      fill: #174EA6;\n",
       "    }\n",
       "\n",
       "    [theme=dark] .colab-df-convert {\n",
       "      background-color: #3B4455;\n",
       "      fill: #D2E3FC;\n",
       "    }\n",
       "\n",
       "    [theme=dark] .colab-df-convert:hover {\n",
       "      background-color: #434B5C;\n",
       "      box-shadow: 0px 1px 3px 1px rgba(0, 0, 0, 0.15);\n",
       "      filter: drop-shadow(0px 1px 2px rgba(0, 0, 0, 0.3));\n",
       "      fill: #FFFFFF;\n",
       "    }\n",
       "  </style>\n",
       "\n",
       "      <script>\n",
       "        const buttonEl =\n",
       "          document.querySelector('#df-7ed71866-52c8-46e5-97b9-d8dd5a5c6cf9 button.colab-df-convert');\n",
       "        buttonEl.style.display =\n",
       "          google.colab.kernel.accessAllowed ? 'block' : 'none';\n",
       "\n",
       "        async function convertToInteractive(key) {\n",
       "          const element = document.querySelector('#df-7ed71866-52c8-46e5-97b9-d8dd5a5c6cf9');\n",
       "          const dataTable =\n",
       "            await google.colab.kernel.invokeFunction('convertToInteractive',\n",
       "                                                     [key], {});\n",
       "          if (!dataTable) return;\n",
       "\n",
       "          const docLinkHtml = 'Like what you see? Visit the ' +\n",
       "            '<a target=\"_blank\" href=https://colab.research.google.com/notebooks/data_table.ipynb>data table notebook</a>'\n",
       "            + ' to learn more about interactive tables.';\n",
       "          element.innerHTML = '';\n",
       "          dataTable['output_type'] = 'display_data';\n",
       "          await google.colab.output.renderOutput(dataTable, element);\n",
       "          const docLink = document.createElement('div');\n",
       "          docLink.innerHTML = docLinkHtml;\n",
       "          element.appendChild(docLink);\n",
       "        }\n",
       "      </script>\n",
       "    </div>\n",
       "  </div>\n",
       "  "
      ],
      "text/plain": [
       "                 UID  JID\n",
       "InteractionID            \n",
       "0              11228   39\n",
       "1              21724   85\n",
       "2              16782   56\n",
       "3              12105   42\n",
       "4              14427    2"
      ]
     },
     "execution_count": 23,
     "metadata": {},
     "output_type": "execute_result"
    }
   ],
   "source": [
    "test = pd.read_csv('/content/drive/MyDrive/Bootcamp_Магнит/test_joke_df_nofactrating.csv', index_col=0)\n",
    "test.head(5)"
   ]
  },
  {
   "cell_type": "code",
   "execution_count": null,
   "id": "27bade05-e8a4-4b23-a370-0fc7151ad768",
   "metadata": {
    "id": "27bade05-e8a4-4b23-a370-0fc7151ad768"
   },
   "outputs": [],
   "source": [
    "test['Rating'] = test[['UID', 'JID']].apply(lambda x: algo.predict(x[0], x[1], verbose=False).est,\n",
    "                                                      axis = 1)"
   ]
  },
  {
   "cell_type": "code",
   "execution_count": null,
   "id": "8856cf55-5e63-493c-9b33-69ee76e39ea6",
   "metadata": {
    "colab": {
     "base_uri": "https://localhost:8080/",
     "height": 237
    },
    "id": "8856cf55-5e63-493c-9b33-69ee76e39ea6",
    "outputId": "2a67c218-6d85-418f-c354-6009ba23d3d9"
   },
   "outputs": [
    {
     "data": {
      "text/html": [
       "\n",
       "  <div id=\"df-dceade6b-0953-4f75-830d-9364da9c7a8b\">\n",
       "    <div class=\"colab-df-container\">\n",
       "      <div>\n",
       "<style scoped>\n",
       "    .dataframe tbody tr th:only-of-type {\n",
       "        vertical-align: middle;\n",
       "    }\n",
       "\n",
       "    .dataframe tbody tr th {\n",
       "        vertical-align: top;\n",
       "    }\n",
       "\n",
       "    .dataframe thead th {\n",
       "        text-align: right;\n",
       "    }\n",
       "</style>\n",
       "<table border=\"1\" class=\"dataframe\">\n",
       "  <thead>\n",
       "    <tr style=\"text-align: right;\">\n",
       "      <th></th>\n",
       "      <th>Rating</th>\n",
       "    </tr>\n",
       "    <tr>\n",
       "      <th>InteractionID</th>\n",
       "      <th></th>\n",
       "    </tr>\n",
       "  </thead>\n",
       "  <tbody>\n",
       "    <tr>\n",
       "      <th>0</th>\n",
       "      <td>3.072118</td>\n",
       "    </tr>\n",
       "    <tr>\n",
       "      <th>1</th>\n",
       "      <td>-7.812274</td>\n",
       "    </tr>\n",
       "    <tr>\n",
       "      <th>2</th>\n",
       "      <td>-0.214448</td>\n",
       "    </tr>\n",
       "    <tr>\n",
       "      <th>3</th>\n",
       "      <td>7.111174</td>\n",
       "    </tr>\n",
       "    <tr>\n",
       "      <th>4</th>\n",
       "      <td>6.230477</td>\n",
       "    </tr>\n",
       "  </tbody>\n",
       "</table>\n",
       "</div>\n",
       "      <button class=\"colab-df-convert\" onclick=\"convertToInteractive('df-dceade6b-0953-4f75-830d-9364da9c7a8b')\"\n",
       "              title=\"Convert this dataframe to an interactive table.\"\n",
       "              style=\"display:none;\">\n",
       "        \n",
       "  <svg xmlns=\"http://www.w3.org/2000/svg\" height=\"24px\"viewBox=\"0 0 24 24\"\n",
       "       width=\"24px\">\n",
       "    <path d=\"M0 0h24v24H0V0z\" fill=\"none\"/>\n",
       "    <path d=\"M18.56 5.44l.94 2.06.94-2.06 2.06-.94-2.06-.94-.94-2.06-.94 2.06-2.06.94zm-11 1L8.5 8.5l.94-2.06 2.06-.94-2.06-.94L8.5 2.5l-.94 2.06-2.06.94zm10 10l.94 2.06.94-2.06 2.06-.94-2.06-.94-.94-2.06-.94 2.06-2.06.94z\"/><path d=\"M17.41 7.96l-1.37-1.37c-.4-.4-.92-.59-1.43-.59-.52 0-1.04.2-1.43.59L10.3 9.45l-7.72 7.72c-.78.78-.78 2.05 0 2.83L4 21.41c.39.39.9.59 1.41.59.51 0 1.02-.2 1.41-.59l7.78-7.78 2.81-2.81c.8-.78.8-2.07 0-2.86zM5.41 20L4 18.59l7.72-7.72 1.47 1.35L5.41 20z\"/>\n",
       "  </svg>\n",
       "      </button>\n",
       "      \n",
       "  <style>\n",
       "    .colab-df-container {\n",
       "      display:flex;\n",
       "      flex-wrap:wrap;\n",
       "      gap: 12px;\n",
       "    }\n",
       "\n",
       "    .colab-df-convert {\n",
       "      background-color: #E8F0FE;\n",
       "      border: none;\n",
       "      border-radius: 50%;\n",
       "      cursor: pointer;\n",
       "      display: none;\n",
       "      fill: #1967D2;\n",
       "      height: 32px;\n",
       "      padding: 0 0 0 0;\n",
       "      width: 32px;\n",
       "    }\n",
       "\n",
       "    .colab-df-convert:hover {\n",
       "      background-color: #E2EBFA;\n",
       "      box-shadow: 0px 1px 2px rgba(60, 64, 67, 0.3), 0px 1px 3px 1px rgba(60, 64, 67, 0.15);\n",
       "      fill: #174EA6;\n",
       "    }\n",
       "\n",
       "    [theme=dark] .colab-df-convert {\n",
       "      background-color: #3B4455;\n",
       "      fill: #D2E3FC;\n",
       "    }\n",
       "\n",
       "    [theme=dark] .colab-df-convert:hover {\n",
       "      background-color: #434B5C;\n",
       "      box-shadow: 0px 1px 3px 1px rgba(0, 0, 0, 0.15);\n",
       "      filter: drop-shadow(0px 1px 2px rgba(0, 0, 0, 0.3));\n",
       "      fill: #FFFFFF;\n",
       "    }\n",
       "  </style>\n",
       "\n",
       "      <script>\n",
       "        const buttonEl =\n",
       "          document.querySelector('#df-dceade6b-0953-4f75-830d-9364da9c7a8b button.colab-df-convert');\n",
       "        buttonEl.style.display =\n",
       "          google.colab.kernel.accessAllowed ? 'block' : 'none';\n",
       "\n",
       "        async function convertToInteractive(key) {\n",
       "          const element = document.querySelector('#df-dceade6b-0953-4f75-830d-9364da9c7a8b');\n",
       "          const dataTable =\n",
       "            await google.colab.kernel.invokeFunction('convertToInteractive',\n",
       "                                                     [key], {});\n",
       "          if (!dataTable) return;\n",
       "\n",
       "          const docLinkHtml = 'Like what you see? Visit the ' +\n",
       "            '<a target=\"_blank\" href=https://colab.research.google.com/notebooks/data_table.ipynb>data table notebook</a>'\n",
       "            + ' to learn more about interactive tables.';\n",
       "          element.innerHTML = '';\n",
       "          dataTable['output_type'] = 'display_data';\n",
       "          await google.colab.output.renderOutput(dataTable, element);\n",
       "          const docLink = document.createElement('div');\n",
       "          docLink.innerHTML = docLinkHtml;\n",
       "          element.appendChild(docLink);\n",
       "        }\n",
       "      </script>\n",
       "    </div>\n",
       "  </div>\n",
       "  "
      ],
      "text/plain": [
       "                 Rating\n",
       "InteractionID          \n",
       "0              3.072118\n",
       "1             -7.812274\n",
       "2             -0.214448\n",
       "3              7.111174\n",
       "4              6.230477"
      ]
     },
     "execution_count": 25,
     "metadata": {},
     "output_type": "execute_result"
    }
   ],
   "source": [
    "# вид набора данных, который должен быть отправлен для тестирования\n",
    "test['Rating'].to_frame().head(5)"
   ]
  },
  {
   "cell_type": "code",
   "execution_count": null,
   "id": "yLcjElHPRU1v",
   "metadata": {
    "id": "yLcjElHPRU1v"
   },
   "outputs": [],
   "source": [
    "# формирование файла для отправки в Kaggle\n",
    "test['Rating'].to_frame().to_csv('/content/drive/MyDrive/Bootcamp_Магнит/Chernov_Klim_nn.csv')"
   ]
  }
 ],
 "metadata": {
  "colab": {
   "collapsed_sections": [
    "f4fc3daa-2632-4ad6-b904-752bd2308fc8",
    "0011beb8-385e-4fab-a946-7c5972cd7727",
    "d3f82a04-60f8-4338-8175-84409a9226ae",
    "879fe08d-1317-4028-b797-03baee7f7311",
    "b072635d-739a-48cd-812f-8fd04e3f9d32",
    "09debb1b-0ffa-4dc4-a91b-c06124e0d8b7",
    "aa5422a2-7447-489e-b789-5753fa32f2fa"
   ],
   "provenance": []
  },
  "kernelspec": {
   "display_name": "Python 3 (ipykernel)",
   "language": "python",
   "name": "python3"
  },
  "language_info": {
   "codemirror_mode": {
    "name": "ipython",
    "version": 3
   },
   "file_extension": ".py",
   "mimetype": "text/x-python",
   "name": "python",
   "nbconvert_exporter": "python",
   "pygments_lexer": "ipython3",
   "version": "3.9.12"
  }
 },
 "nbformat": 4,
 "nbformat_minor": 5
}
